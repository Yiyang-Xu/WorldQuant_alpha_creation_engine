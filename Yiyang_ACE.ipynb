{
 "cells": [
  {
   "cell_type": "code",
   "execution_count": 1,
   "metadata": {},
   "outputs": [],
   "source": [
    "import ace_lib as ace\n",
    "import helpful_functions as hf\n",
    "import pandas as pd\n",
    "import requests\n",
    "import plotly.express as px\n",
    "import os\n",
    "import pandas as pd\n",
    "from multiprocessing import Pool\n",
    "import json"
   ]
  },
  {
   "cell_type": "markdown",
   "metadata": {},
   "source": [
    "### Start session\n",
    "Enter credentials once - they will be saved to local folder and loaded each time"
   ]
  },
  {
   "cell_type": "code",
   "execution_count": 2,
   "metadata": {},
   "outputs": [
    {
     "name": "stdout",
     "output_type": "stream",
     "text": [
      "Complete biometrics authentication and press any key to continue: \n",
      "https://api.worldquantbrain.com/authentication/persona?inquiry=inq_7s2ZAfrdbfGPDDQtPucaicPGsP7o\n",
      "\n"
     ]
    }
   ],
   "source": [
    "s = ace.start_session()"
   ]
  },
  {
   "cell_type": "markdown",
   "metadata": {},
   "source": [
    "### Create list of alpha expressions\n",
    "#### Step 1. Download datsets"
   ]
  },
  {
   "cell_type": "code",
   "execution_count": null,
   "metadata": {},
   "outputs": [],
   "source": [
    "# 保存和加载字典的函数\n",
    "def save_progress(progress, filename='progress.json'):\n",
    "    with open(filename, 'w') as f:\n",
    "        json.dump(progress, f)\n",
    "\n",
    "def load_progress(filename='progress.json'):\n",
    "    if os.path.exists(filename):\n",
    "        with open(filename, 'r') as f:\n",
    "            return json.load(f)\n",
    "    return {}"
   ]
  },
  {
   "cell_type": "code",
   "execution_count": null,
   "metadata": {},
   "outputs": [
    {
     "name": "stdout",
     "output_type": "stream",
     "text": [
      "104\n"
     ]
    }
   ],
   "source": [
    "datasets_df = hf.get_datasets(s) # by default we load all datasets USA TOP3000 delay 1\n",
    "# datasets_df.tail() # DataFrame.head() shows first 5 rows of the dataframe \n",
    "# print(len(datasets_df))\n",
    "\n",
    "# 筛选潜在数据集\n",
    "potential_datasets_df = datasets_df[\n",
    "    (datasets_df[\"delay\"] == 1) &\n",
    "    (datasets_df[\"coverage\"] > 0.8) & (datasets_df[\"coverage\"] <= 1) &\n",
    "    (datasets_df[\"fieldCount\"] > 0) & (datasets_df[\"fieldCount\"] < 3000) &\n",
    "    (datasets_df[\"region\"] == 'GLB') &\n",
    "    (datasets_df[\"universe\"] == 'TOP3000')\n",
    "    # (datasets_df[\"userCount\"] > 0) & (datasets_df[\"userCount\"] < 100) &\n",
    "    # (datasets_df[\"valueScore\"] > 1) & (datasets_df[\"valueScore\"] < 10)\n",
    "]\n",
    "\n",
    "print(len(potential_datasets_df))"
   ]
  },
  {
   "cell_type": "markdown",
   "metadata": {},
   "source": [
    "#### Step 2. 对每个潜在数据集挖掘因子"
   ]
  },
  {
   "cell_type": "code",
   "execution_count": null,
   "metadata": {},
   "outputs": [],
   "source": [
    "def simulate_factors(dataset_id, progress):\n",
    "    try:\n",
    "        # 检查是否已经有模拟结果\n",
    "        result_file = f'results_{dataset_id}.csv'\n",
    "        if os.path.exists(result_file):\n",
    "            print(f'Results for dataset {dataset_id} already exist. Skipping...')\n",
    "            progress[dataset_id] = 'completed'\n",
    "            save_progress(progress)\n",
    "            return\n",
    "        \n",
    "        # 下载数据集字段\n",
    "        datafields_df = hf.get_datafields(s, dataset_id=dataset_id)\n",
    "        \n",
    "        # 生成因子表达式\n",
    "        expression_list = [f'ts_skewness(vec_avg({x}),120)' for x in datafields_df.id.values.tolist()]\n",
    "        \n",
    "        # 生成alpha列表\n",
    "        alpha_list = [ace.generate_alpha(x, region= \"USA\", universe = \"TOP3000\",) for x in expression_list]\n",
    "        \n",
    "        # 模拟alpha列表\n",
    "        result = ace.simulate_alpha_list_multi(s, alpha_list)\n",
    "        \n",
    "        # 美化结果\n",
    "        result_st1 = hf.prettify_result(result, clickable_alpha_id=False)\n",
    "        \n",
    "        # 保存结果\n",
    "        result_st1.to_csv(result_file)\n",
    "        print(f'Results for dataset {dataset_id} processed successfully.')\n",
    "        \n",
    "        # 更新进度\n",
    "        progress[dataset_id] = 'completed'\n",
    "        save_progress(progress)\n",
    "        \n",
    "    except Exception as e:\n",
    "        print(f'Error processing dataset {dataset_id}: {e}')\n",
    "        # 更新进度为错误\n",
    "        progress[dataset_id] = 'error'\n",
    "        save_progress(progress)\n"
   ]
  },
  {
   "cell_type": "code",
   "execution_count": null,
   "metadata": {},
   "outputs": [
    {
     "name": "stdout",
     "output_type": "stream",
     "text": [
      "104\n"
     ]
    }
   ],
   "source": [
    "print(len(potential_datasets_df.id.values))"
   ]
  },
  {
   "cell_type": "code",
   "execution_count": null,
   "metadata": {},
   "outputs": [
    {
     "name": "stderr",
     "output_type": "stream",
     "text": [
      "  0%|          | 2/846 [00:29<2:51:10, 12.17s/it]"
     ]
    },
    {
     "name": "stdout",
     "output_type": "stream",
     "text": [
      "An error occurred\n",
      "An error occurred\n"
     ]
    },
    {
     "name": "stderr",
     "output_type": "stream",
     "text": [
      "  0%|          | 3/846 [00:30<1:36:03,  6.84s/it]"
     ]
    },
    {
     "name": "stdout",
     "output_type": "stream",
     "text": [
      "An error occurred\n"
     ]
    },
    {
     "name": "stderr",
     "output_type": "stream",
     "text": [
      "  1%|          | 5/846 [00:53<2:00:36,  8.60s/it]"
     ]
    },
    {
     "name": "stdout",
     "output_type": "stream",
     "text": [
      "An error occurred\n",
      "An error occurred\n"
     ]
    },
    {
     "name": "stderr",
     "output_type": "stream",
     "text": [
      "  1%|          | 6/846 [01:14<3:00:43, 12.91s/it]"
     ]
    },
    {
     "name": "stdout",
     "output_type": "stream",
     "text": [
      "An error occurred\n"
     ]
    },
    {
     "name": "stderr",
     "output_type": "stream",
     "text": [
      "  1%|          | 7/846 [01:17<2:14:06,  9.59s/it]"
     ]
    },
    {
     "name": "stdout",
     "output_type": "stream",
     "text": [
      "An error occurred\n"
     ]
    },
    {
     "name": "stderr",
     "output_type": "stream",
     "text": [
      "  1%|          | 8/846 [01:20<1:44:17,  7.47s/it]"
     ]
    },
    {
     "name": "stdout",
     "output_type": "stream",
     "text": [
      "An error occurred\n"
     ]
    },
    {
     "name": "stderr",
     "output_type": "stream",
     "text": [
      "  1%|          | 9/846 [01:31<1:57:47,  8.44s/it]"
     ]
    },
    {
     "name": "stdout",
     "output_type": "stream",
     "text": [
      "An error occurred\n"
     ]
    },
    {
     "name": "stderr",
     "output_type": "stream",
     "text": [
      "  1%|          | 10/846 [01:36<1:43:05,  7.40s/it]"
     ]
    },
    {
     "name": "stdout",
     "output_type": "stream",
     "text": [
      "An error occurred\n"
     ]
    },
    {
     "name": "stderr",
     "output_type": "stream",
     "text": [
      "  1%|▏         | 11/846 [01:44<1:47:25,  7.72s/it]"
     ]
    },
    {
     "name": "stdout",
     "output_type": "stream",
     "text": [
      "An error occurred\n"
     ]
    },
    {
     "name": "stderr",
     "output_type": "stream",
     "text": [
      "  1%|▏         | 12/846 [01:52<1:47:48,  7.76s/it]"
     ]
    },
    {
     "name": "stdout",
     "output_type": "stream",
     "text": [
      "An error occurred\n"
     ]
    },
    {
     "name": "stderr",
     "output_type": "stream",
     "text": [
      "  2%|▏         | 13/846 [01:55<1:26:42,  6.25s/it]"
     ]
    },
    {
     "name": "stdout",
     "output_type": "stream",
     "text": [
      "An error occurred\n"
     ]
    },
    {
     "name": "stderr",
     "output_type": "stream",
     "text": [
      "  2%|▏         | 14/846 [02:16<2:30:00, 10.82s/it]"
     ]
    },
    {
     "name": "stdout",
     "output_type": "stream",
     "text": [
      "An error occurred\n",
      "An error occurred\n"
     ]
    },
    {
     "name": "stderr",
     "output_type": "stream",
     "text": [
      "  2%|▏         | 16/846 [02:35<2:20:39, 10.17s/it]"
     ]
    },
    {
     "name": "stdout",
     "output_type": "stream",
     "text": [
      "An error occurred\n",
      "An error occurred\n"
     ]
    },
    {
     "name": "stderr",
     "output_type": "stream",
     "text": [
      "  2%|▏         | 18/846 [02:39<1:36:46,  7.01s/it]"
     ]
    },
    {
     "name": "stdout",
     "output_type": "stream",
     "text": [
      "An error occurred\n"
     ]
    },
    {
     "name": "stderr",
     "output_type": "stream",
     "text": [
      "  2%|▏         | 20/846 [02:56<1:36:47,  7.03s/it]"
     ]
    },
    {
     "name": "stdout",
     "output_type": "stream",
     "text": [
      "An error occurred\n",
      "An error occurred\n"
     ]
    },
    {
     "name": "stderr",
     "output_type": "stream",
     "text": [
      "  2%|▏         | 21/846 [03:06<1:45:39,  7.68s/it]"
     ]
    },
    {
     "name": "stdout",
     "output_type": "stream",
     "text": [
      "An error occurred\n"
     ]
    },
    {
     "name": "stderr",
     "output_type": "stream",
     "text": [
      "  3%|▎         | 22/846 [03:13<1:40:59,  7.35s/it]"
     ]
    },
    {
     "name": "stdout",
     "output_type": "stream",
     "text": [
      "An error occurred\n"
     ]
    },
    {
     "name": "stderr",
     "output_type": "stream",
     "text": [
      "  3%|▎         | 23/846 [03:18<1:32:57,  6.78s/it]"
     ]
    },
    {
     "name": "stdout",
     "output_type": "stream",
     "text": [
      "An error occurred\n"
     ]
    },
    {
     "name": "stderr",
     "output_type": "stream",
     "text": [
      "  3%|▎         | 24/846 [03:36<2:19:01, 10.15s/it]"
     ]
    },
    {
     "name": "stdout",
     "output_type": "stream",
     "text": [
      "An error occurred\n"
     ]
    },
    {
     "name": "stderr",
     "output_type": "stream",
     "text": [
      "  3%|▎         | 25/846 [03:37<1:40:50,  7.37s/it]"
     ]
    },
    {
     "name": "stdout",
     "output_type": "stream",
     "text": [
      "An error occurred\n"
     ]
    },
    {
     "name": "stderr",
     "output_type": "stream",
     "text": [
      "  3%|▎         | 26/846 [03:47<1:49:31,  8.01s/it]"
     ]
    },
    {
     "name": "stdout",
     "output_type": "stream",
     "text": [
      "An error occurred\n"
     ]
    },
    {
     "name": "stderr",
     "output_type": "stream",
     "text": [
      "  3%|▎         | 27/846 [03:56<1:54:41,  8.40s/it]"
     ]
    },
    {
     "name": "stdout",
     "output_type": "stream",
     "text": [
      "An error occurred\n"
     ]
    },
    {
     "name": "stderr",
     "output_type": "stream",
     "text": [
      "  3%|▎         | 28/846 [04:01<1:39:46,  7.32s/it]"
     ]
    },
    {
     "name": "stdout",
     "output_type": "stream",
     "text": [
      "An error occurred\n"
     ]
    },
    {
     "name": "stderr",
     "output_type": "stream",
     "text": [
      "  3%|▎         | 29/846 [04:05<1:29:00,  6.54s/it]"
     ]
    },
    {
     "name": "stdout",
     "output_type": "stream",
     "text": [
      "An error occurred\n"
     ]
    },
    {
     "name": "stderr",
     "output_type": "stream",
     "text": [
      "  4%|▎         | 30/846 [04:18<1:52:47,  8.29s/it]"
     ]
    },
    {
     "name": "stdout",
     "output_type": "stream",
     "text": [
      "An error occurred\n"
     ]
    },
    {
     "name": "stderr",
     "output_type": "stream",
     "text": [
      "  4%|▎         | 31/846 [04:27<1:57:55,  8.68s/it]"
     ]
    },
    {
     "name": "stdout",
     "output_type": "stream",
     "text": [
      "An error occurred\n"
     ]
    },
    {
     "name": "stderr",
     "output_type": "stream",
     "text": [
      "  4%|▍         | 32/846 [04:29<1:30:15,  6.65s/it]"
     ]
    },
    {
     "name": "stdout",
     "output_type": "stream",
     "text": [
      "An error occurred\n"
     ]
    },
    {
     "name": "stderr",
     "output_type": "stream",
     "text": [
      "  4%|▍         | 33/846 [04:46<2:11:27,  9.70s/it]"
     ]
    },
    {
     "name": "stdout",
     "output_type": "stream",
     "text": [
      "An error occurred\n"
     ]
    },
    {
     "name": "stderr",
     "output_type": "stream",
     "text": [
      "  4%|▍         | 34/846 [04:56<2:11:39,  9.73s/it]"
     ]
    },
    {
     "name": "stdout",
     "output_type": "stream",
     "text": [
      "An error occurred\n"
     ]
    },
    {
     "name": "stderr",
     "output_type": "stream",
     "text": [
      "  4%|▍         | 35/846 [05:10<2:30:44, 11.15s/it]"
     ]
    },
    {
     "name": "stdout",
     "output_type": "stream",
     "text": [
      "An error occurred\n"
     ]
    },
    {
     "name": "stderr",
     "output_type": "stream",
     "text": [
      "  4%|▍         | 36/846 [05:18<2:14:44,  9.98s/it]"
     ]
    },
    {
     "name": "stdout",
     "output_type": "stream",
     "text": [
      "An error occurred\n"
     ]
    },
    {
     "name": "stderr",
     "output_type": "stream",
     "text": [
      "  4%|▍         | 37/846 [05:29<2:22:14, 10.55s/it]"
     ]
    },
    {
     "name": "stdout",
     "output_type": "stream",
     "text": [
      "An error occurred\n"
     ]
    },
    {
     "name": "stderr",
     "output_type": "stream",
     "text": [
      "  4%|▍         | 38/846 [05:34<1:58:58,  8.83s/it]"
     ]
    },
    {
     "name": "stdout",
     "output_type": "stream",
     "text": [
      "An error occurred\n"
     ]
    },
    {
     "name": "stderr",
     "output_type": "stream",
     "text": [
      "  5%|▍         | 39/846 [05:37<1:32:36,  6.89s/it]"
     ]
    },
    {
     "name": "stdout",
     "output_type": "stream",
     "text": [
      "An error occurred\n"
     ]
    },
    {
     "name": "stderr",
     "output_type": "stream",
     "text": [
      "  5%|▍         | 40/846 [05:56<2:23:13, 10.66s/it]"
     ]
    },
    {
     "name": "stdout",
     "output_type": "stream",
     "text": [
      "An error occurred\n"
     ]
    },
    {
     "name": "stderr",
     "output_type": "stream",
     "text": [
      "  5%|▍         | 41/846 [05:58<1:48:28,  8.08s/it]"
     ]
    },
    {
     "name": "stdout",
     "output_type": "stream",
     "text": [
      "An error occurred\n"
     ]
    },
    {
     "name": "stderr",
     "output_type": "stream",
     "text": [
      "  5%|▍         | 42/846 [06:01<1:28:38,  6.62s/it]"
     ]
    },
    {
     "name": "stdout",
     "output_type": "stream",
     "text": [
      "An error occurred\n"
     ]
    },
    {
     "name": "stderr",
     "output_type": "stream",
     "text": [
      "  5%|▌         | 43/846 [06:18<2:07:18,  9.51s/it]"
     ]
    },
    {
     "name": "stdout",
     "output_type": "stream",
     "text": [
      "An error occurred\n"
     ]
    },
    {
     "name": "stderr",
     "output_type": "stream",
     "text": [
      "  5%|▌         | 44/846 [06:23<1:49:11,  8.17s/it]"
     ]
    },
    {
     "name": "stdout",
     "output_type": "stream",
     "text": [
      "An error occurred\n"
     ]
    },
    {
     "name": "stderr",
     "output_type": "stream",
     "text": [
      "  5%|▌         | 45/846 [06:25<1:27:05,  6.52s/it]"
     ]
    },
    {
     "name": "stdout",
     "output_type": "stream",
     "text": [
      "An error occurred\n"
     ]
    },
    {
     "name": "stderr",
     "output_type": "stream",
     "text": [
      "  5%|▌         | 46/846 [06:45<2:18:56, 10.42s/it]"
     ]
    },
    {
     "name": "stdout",
     "output_type": "stream",
     "text": [
      "An error occurred\n"
     ]
    },
    {
     "name": "stderr",
     "output_type": "stream",
     "text": [
      "  6%|▌         | 47/846 [06:47<1:44:40,  7.86s/it]"
     ]
    },
    {
     "name": "stdout",
     "output_type": "stream",
     "text": [
      "An error occurred\n"
     ]
    },
    {
     "name": "stderr",
     "output_type": "stream",
     "text": [
      "  6%|▌         | 48/846 [06:49<1:23:25,  6.27s/it]"
     ]
    },
    {
     "name": "stdout",
     "output_type": "stream",
     "text": [
      "An error occurred\n"
     ]
    },
    {
     "name": "stderr",
     "output_type": "stream",
     "text": [
      "  6%|▌         | 49/846 [07:06<2:05:53,  9.48s/it]"
     ]
    },
    {
     "name": "stdout",
     "output_type": "stream",
     "text": [
      "An error occurred\n"
     ]
    },
    {
     "name": "stderr",
     "output_type": "stream",
     "text": [
      "  6%|▌         | 50/846 [07:11<1:45:44,  7.97s/it]"
     ]
    },
    {
     "name": "stdout",
     "output_type": "stream",
     "text": [
      "An error occurred\n"
     ]
    },
    {
     "name": "stderr",
     "output_type": "stream",
     "text": [
      "  6%|▌         | 51/846 [07:13<1:24:20,  6.37s/it]"
     ]
    },
    {
     "name": "stdout",
     "output_type": "stream",
     "text": [
      "An error occurred\n"
     ]
    },
    {
     "name": "stderr",
     "output_type": "stream",
     "text": [
      "  6%|▌         | 52/846 [07:28<1:55:43,  8.74s/it]"
     ]
    },
    {
     "name": "stdout",
     "output_type": "stream",
     "text": [
      "An error occurred\n"
     ]
    },
    {
     "name": "stderr",
     "output_type": "stream",
     "text": [
      "  6%|▋         | 53/846 [07:37<1:59:21,  9.03s/it]"
     ]
    },
    {
     "name": "stdout",
     "output_type": "stream",
     "text": [
      "An error occurred\n"
     ]
    },
    {
     "name": "stderr",
     "output_type": "stream",
     "text": [
      "  6%|▋         | 54/846 [07:44<1:49:42,  8.31s/it]"
     ]
    },
    {
     "name": "stdout",
     "output_type": "stream",
     "text": [
      "An error occurred\n"
     ]
    },
    {
     "name": "stderr",
     "output_type": "stream",
     "text": [
      "  7%|▋         | 55/846 [07:53<1:52:40,  8.55s/it]"
     ]
    },
    {
     "name": "stdout",
     "output_type": "stream",
     "text": [
      "An error occurred\n"
     ]
    },
    {
     "name": "stderr",
     "output_type": "stream",
     "text": [
      "  7%|▋         | 56/846 [07:54<1:23:28,  6.34s/it]"
     ]
    },
    {
     "name": "stdout",
     "output_type": "stream",
     "text": [
      "An error occurred\n"
     ]
    },
    {
     "name": "stderr",
     "output_type": "stream",
     "text": [
      "  7%|▋         | 57/846 [08:05<1:41:55,  7.75s/it]"
     ]
    },
    {
     "name": "stdout",
     "output_type": "stream",
     "text": [
      "An error occurred\n"
     ]
    },
    {
     "name": "stderr",
     "output_type": "stream",
     "text": [
      "  7%|▋         | 58/846 [08:16<1:51:50,  8.52s/it]"
     ]
    },
    {
     "name": "stdout",
     "output_type": "stream",
     "text": [
      "An error occurred\n"
     ]
    },
    {
     "name": "stderr",
     "output_type": "stream",
     "text": [
      "  7%|▋         | 59/846 [08:20<1:34:53,  7.23s/it]"
     ]
    },
    {
     "name": "stdout",
     "output_type": "stream",
     "text": [
      "An error occurred\n"
     ]
    },
    {
     "name": "stderr",
     "output_type": "stream",
     "text": [
      "  7%|▋         | 60/846 [08:29<1:43:30,  7.90s/it]"
     ]
    },
    {
     "name": "stdout",
     "output_type": "stream",
     "text": [
      "An error occurred\n"
     ]
    },
    {
     "name": "stderr",
     "output_type": "stream",
     "text": [
      "  7%|▋         | 61/846 [08:37<1:42:21,  7.82s/it]"
     ]
    },
    {
     "name": "stdout",
     "output_type": "stream",
     "text": [
      "An error occurred\n"
     ]
    },
    {
     "name": "stderr",
     "output_type": "stream",
     "text": [
      "  7%|▋         | 62/846 [08:44<1:38:37,  7.55s/it]"
     ]
    },
    {
     "name": "stdout",
     "output_type": "stream",
     "text": [
      "An error occurred\n"
     ]
    },
    {
     "name": "stderr",
     "output_type": "stream",
     "text": [
      "  7%|▋         | 63/846 [08:56<1:55:01,  8.81s/it]"
     ]
    },
    {
     "name": "stdout",
     "output_type": "stream",
     "text": [
      "An error occurred\n"
     ]
    },
    {
     "name": "stderr",
     "output_type": "stream",
     "text": [
      "  8%|▊         | 64/846 [08:56<1:23:28,  6.40s/it]"
     ]
    },
    {
     "name": "stdout",
     "output_type": "stream",
     "text": [
      "An error occurred\n"
     ]
    },
    {
     "name": "stderr",
     "output_type": "stream",
     "text": [
      "  8%|▊         | 65/846 [09:03<1:22:52,  6.37s/it]"
     ]
    },
    {
     "name": "stdout",
     "output_type": "stream",
     "text": [
      "An error occurred\n"
     ]
    },
    {
     "name": "stderr",
     "output_type": "stream",
     "text": [
      "  8%|▊         | 66/846 [09:17<1:53:54,  8.76s/it]"
     ]
    },
    {
     "name": "stdout",
     "output_type": "stream",
     "text": [
      "An error occurred\n"
     ]
    },
    {
     "name": "stderr",
     "output_type": "stream",
     "text": [
      "  8%|▊         | 67/846 [09:20<1:32:31,  7.13s/it]"
     ]
    },
    {
     "name": "stdout",
     "output_type": "stream",
     "text": [
      "An error occurred\n"
     ]
    },
    {
     "name": "stderr",
     "output_type": "stream",
     "text": [
      "  8%|▊         | 68/846 [09:27<1:29:46,  6.92s/it]"
     ]
    },
    {
     "name": "stdout",
     "output_type": "stream",
     "text": [
      "An error occurred\n"
     ]
    },
    {
     "name": "stderr",
     "output_type": "stream",
     "text": [
      "  8%|▊         | 69/846 [09:45<2:12:16, 10.21s/it]"
     ]
    },
    {
     "name": "stdout",
     "output_type": "stream",
     "text": [
      "An error occurred\n"
     ]
    },
    {
     "name": "stderr",
     "output_type": "stream",
     "text": [
      "  8%|▊         | 70/846 [09:52<1:59:31,  9.24s/it]"
     ]
    },
    {
     "name": "stdout",
     "output_type": "stream",
     "text": [
      "An error occurred\n"
     ]
    },
    {
     "name": "stderr",
     "output_type": "stream",
     "text": [
      "  8%|▊         | 71/846 [09:57<1:45:07,  8.14s/it]"
     ]
    },
    {
     "name": "stdout",
     "output_type": "stream",
     "text": [
      "An error occurred\n"
     ]
    },
    {
     "name": "stderr",
     "output_type": "stream",
     "text": [
      "  9%|▊         | 72/846 [10:09<1:57:49,  9.13s/it]"
     ]
    },
    {
     "name": "stdout",
     "output_type": "stream",
     "text": [
      "An error occurred\n"
     ]
    },
    {
     "name": "stderr",
     "output_type": "stream",
     "text": [
      "  9%|▊         | 73/846 [10:13<1:39:21,  7.71s/it]"
     ]
    },
    {
     "name": "stdout",
     "output_type": "stream",
     "text": [
      "An error occurred\n"
     ]
    },
    {
     "name": "stderr",
     "output_type": "stream",
     "text": [
      "  9%|▊         | 74/846 [10:16<1:20:28,  6.25s/it]"
     ]
    },
    {
     "name": "stdout",
     "output_type": "stream",
     "text": [
      "An error occurred\n"
     ]
    },
    {
     "name": "stderr",
     "output_type": "stream",
     "text": [
      "  9%|▉         | 75/846 [10:34<2:07:49,  9.95s/it]"
     ]
    },
    {
     "name": "stdout",
     "output_type": "stream",
     "text": [
      "An error occurred\n"
     ]
    },
    {
     "name": "stderr",
     "output_type": "stream",
     "text": [
      "  9%|▉         | 76/846 [10:35<1:30:55,  7.09s/it]"
     ]
    },
    {
     "name": "stdout",
     "output_type": "stream",
     "text": [
      "An error occurred\n"
     ]
    },
    {
     "name": "stderr",
     "output_type": "stream",
     "text": [
      "  9%|▉         | 77/846 [10:48<1:55:49,  9.04s/it]"
     ]
    },
    {
     "name": "stdout",
     "output_type": "stream",
     "text": [
      "An error occurred\n"
     ]
    },
    {
     "name": "stderr",
     "output_type": "stream",
     "text": [
      "  9%|▉         | 79/846 [11:02<1:32:16,  7.22s/it]"
     ]
    },
    {
     "name": "stdout",
     "output_type": "stream",
     "text": [
      "An error occurred\n",
      "An error occurred\n"
     ]
    },
    {
     "name": "stderr",
     "output_type": "stream",
     "text": [
      "  9%|▉         | 80/846 [11:15<1:57:21,  9.19s/it]"
     ]
    },
    {
     "name": "stdout",
     "output_type": "stream",
     "text": [
      "An error occurred\n"
     ]
    },
    {
     "name": "stderr",
     "output_type": "stream",
     "text": [
      " 10%|▉         | 81/846 [11:33<2:30:38, 11.82s/it]"
     ]
    },
    {
     "name": "stdout",
     "output_type": "stream",
     "text": [
      "An error occurred\n",
      "An error occurred\n"
     ]
    },
    {
     "name": "stderr",
     "output_type": "stream",
     "text": [
      " 10%|▉         | 83/846 [11:37<1:31:05,  7.16s/it]"
     ]
    },
    {
     "name": "stdout",
     "output_type": "stream",
     "text": [
      "An error occurred\n"
     ]
    },
    {
     "name": "stderr",
     "output_type": "stream",
     "text": [
      " 10%|▉         | 84/846 [11:57<2:13:14, 10.49s/it]"
     ]
    },
    {
     "name": "stdout",
     "output_type": "stream",
     "text": [
      "An error occurred\n",
      "An error occurred\n"
     ]
    },
    {
     "name": "stderr",
     "output_type": "stream",
     "text": [
      " 10%|█         | 86/846 [11:58<1:19:54,  6.31s/it]"
     ]
    },
    {
     "name": "stdout",
     "output_type": "stream",
     "text": [
      "An error occurred\n"
     ]
    },
    {
     "name": "stderr",
     "output_type": "stream",
     "text": [
      " 10%|█         | 87/846 [12:17<1:55:27,  9.13s/it]"
     ]
    },
    {
     "name": "stdout",
     "output_type": "stream",
     "text": [
      "An error occurred\n"
     ]
    },
    {
     "name": "stderr",
     "output_type": "stream",
     "text": [
      " 10%|█         | 88/846 [12:17<1:27:40,  6.94s/it]"
     ]
    },
    {
     "name": "stdout",
     "output_type": "stream",
     "text": [
      "An error occurred\n"
     ]
    },
    {
     "name": "stderr",
     "output_type": "stream",
     "text": [
      " 11%|█         | 89/846 [12:19<1:10:45,  5.61s/it]"
     ]
    },
    {
     "name": "stdout",
     "output_type": "stream",
     "text": [
      "An error occurred\n"
     ]
    },
    {
     "name": "stderr",
     "output_type": "stream",
     "text": [
      " 11%|█         | 90/846 [12:36<1:48:26,  8.61s/it]"
     ]
    },
    {
     "name": "stdout",
     "output_type": "stream",
     "text": [
      "An error occurred\n"
     ]
    },
    {
     "name": "stderr",
     "output_type": "stream",
     "text": [
      " 11%|█         | 91/846 [12:39<1:28:27,  7.03s/it]"
     ]
    },
    {
     "name": "stdout",
     "output_type": "stream",
     "text": [
      "An error occurred\n"
     ]
    },
    {
     "name": "stderr",
     "output_type": "stream",
     "text": [
      " 11%|█         | 92/846 [13:05<2:38:58, 12.65s/it]"
     ]
    },
    {
     "name": "stdout",
     "output_type": "stream",
     "text": [
      "An error occurred\n"
     ]
    },
    {
     "name": "stderr",
     "output_type": "stream",
     "text": [
      " 11%|█         | 93/846 [13:27<3:10:49, 15.21s/it]"
     ]
    },
    {
     "name": "stdout",
     "output_type": "stream",
     "text": [
      "An error occurred\n"
     ]
    },
    {
     "name": "stderr",
     "output_type": "stream",
     "text": [
      " 11%|█         | 94/846 [13:30<2:26:23, 11.68s/it]"
     ]
    },
    {
     "name": "stdout",
     "output_type": "stream",
     "text": [
      "An error occurred\n"
     ]
    },
    {
     "name": "stderr",
     "output_type": "stream",
     "text": [
      " 11%|█         | 95/846 [13:30<1:44:05,  8.32s/it]"
     ]
    },
    {
     "name": "stdout",
     "output_type": "stream",
     "text": [
      "An error occurred\n"
     ]
    },
    {
     "name": "stderr",
     "output_type": "stream",
     "text": [
      " 11%|█▏        | 96/846 [13:49<2:22:40, 11.41s/it]"
     ]
    },
    {
     "name": "stdout",
     "output_type": "stream",
     "text": [
      "An error occurred\n"
     ]
    },
    {
     "name": "stderr",
     "output_type": "stream",
     "text": [
      " 11%|█▏        | 97/846 [13:51<1:48:26,  8.69s/it]"
     ]
    },
    {
     "name": "stdout",
     "output_type": "stream",
     "text": [
      "An error occurred\n"
     ]
    },
    {
     "name": "stderr",
     "output_type": "stream",
     "text": [
      " 12%|█▏        | 98/846 [13:54<1:27:04,  6.99s/it]"
     ]
    },
    {
     "name": "stdout",
     "output_type": "stream",
     "text": [
      "An error occurred\n"
     ]
    },
    {
     "name": "stderr",
     "output_type": "stream",
     "text": [
      " 12%|█▏        | 99/846 [14:15<2:19:20, 11.19s/it]"
     ]
    },
    {
     "name": "stdout",
     "output_type": "stream",
     "text": [
      "An error occurred\n"
     ]
    },
    {
     "name": "stderr",
     "output_type": "stream",
     "text": [
      " 12%|█▏        | 100/846 [14:16<1:39:23,  7.99s/it]"
     ]
    },
    {
     "name": "stdout",
     "output_type": "stream",
     "text": [
      "An error occurred\n"
     ]
    },
    {
     "name": "stderr",
     "output_type": "stream",
     "text": [
      " 12%|█▏        | 101/846 [14:17<1:12:07,  5.81s/it]"
     ]
    },
    {
     "name": "stdout",
     "output_type": "stream",
     "text": [
      "An error occurred\n"
     ]
    },
    {
     "name": "stderr",
     "output_type": "stream",
     "text": [
      " 12%|█▏        | 102/846 [14:36<2:03:54,  9.99s/it]"
     ]
    },
    {
     "name": "stdout",
     "output_type": "stream",
     "text": [
      "An error occurred\n"
     ]
    },
    {
     "name": "stderr",
     "output_type": "stream",
     "text": [
      " 12%|█▏        | 103/846 [14:37<1:29:09,  7.20s/it]"
     ]
    },
    {
     "name": "stdout",
     "output_type": "stream",
     "text": [
      "An error occurred\n",
      "An error occurred\n"
     ]
    },
    {
     "name": "stderr",
     "output_type": "stream",
     "text": [
      " 13%|█▎        | 106/846 [14:56<1:17:09,  6.26s/it]"
     ]
    },
    {
     "name": "stdout",
     "output_type": "stream",
     "text": [
      "An error occurred\n",
      "An error occurred\n"
     ]
    },
    {
     "name": "stderr",
     "output_type": "stream",
     "text": [
      " 13%|█▎        | 107/846 [15:01<1:11:24,  5.80s/it]"
     ]
    },
    {
     "name": "stdout",
     "output_type": "stream",
     "text": [
      "An error occurred\n"
     ]
    },
    {
     "name": "stderr",
     "output_type": "stream",
     "text": [
      " 13%|█▎        | 109/846 [15:18<1:18:14,  6.37s/it]"
     ]
    },
    {
     "name": "stdout",
     "output_type": "stream",
     "text": [
      "An error occurred\n",
      "An error occurred\n"
     ]
    },
    {
     "name": "stderr",
     "output_type": "stream",
     "text": [
      " 13%|█▎        | 110/846 [15:25<1:21:13,  6.62s/it]"
     ]
    },
    {
     "name": "stdout",
     "output_type": "stream",
     "text": [
      "An error occurred\n"
     ]
    },
    {
     "name": "stderr",
     "output_type": "stream",
     "text": [
      " 13%|█▎        | 111/846 [15:39<1:47:58,  8.81s/it]"
     ]
    },
    {
     "name": "stdout",
     "output_type": "stream",
     "text": [
      "An error occurred\n"
     ]
    },
    {
     "name": "stderr",
     "output_type": "stream",
     "text": [
      " 13%|█▎        | 112/846 [15:42<1:25:11,  6.96s/it]"
     ]
    },
    {
     "name": "stdout",
     "output_type": "stream",
     "text": [
      "An error occurred\n"
     ]
    },
    {
     "name": "stderr",
     "output_type": "stream",
     "text": [
      " 13%|█▎        | 113/846 [15:54<1:45:40,  8.65s/it]"
     ]
    },
    {
     "name": "stdout",
     "output_type": "stream",
     "text": [
      "An error occurred\n"
     ]
    },
    {
     "name": "stderr",
     "output_type": "stream",
     "text": [
      " 13%|█▎        | 114/846 [15:58<1:27:11,  7.15s/it]"
     ]
    },
    {
     "name": "stdout",
     "output_type": "stream",
     "text": [
      "An error occurred\n"
     ]
    },
    {
     "name": "stderr",
     "output_type": "stream",
     "text": [
      " 14%|█▎        | 115/846 [16:06<1:30:03,  7.39s/it]"
     ]
    },
    {
     "name": "stdout",
     "output_type": "stream",
     "text": [
      "An error occurred\n"
     ]
    },
    {
     "name": "stderr",
     "output_type": "stream",
     "text": [
      " 14%|█▎        | 116/846 [16:16<1:39:05,  8.14s/it]"
     ]
    },
    {
     "name": "stdout",
     "output_type": "stream",
     "text": [
      "An error occurred\n"
     ]
    },
    {
     "name": "stderr",
     "output_type": "stream",
     "text": [
      " 14%|█▍        | 117/846 [16:27<1:50:27,  9.09s/it]"
     ]
    },
    {
     "name": "stdout",
     "output_type": "stream",
     "text": [
      "An error occurred\n"
     ]
    },
    {
     "name": "stderr",
     "output_type": "stream",
     "text": [
      " 14%|█▍        | 118/846 [16:43<2:13:52, 11.03s/it]"
     ]
    },
    {
     "name": "stdout",
     "output_type": "stream",
     "text": [
      "An error occurred\n"
     ]
    },
    {
     "name": "stderr",
     "output_type": "stream",
     "text": [
      " 14%|█▍        | 119/846 [16:49<1:55:14,  9.51s/it]"
     ]
    },
    {
     "name": "stdout",
     "output_type": "stream",
     "text": [
      "An error occurred\n"
     ]
    },
    {
     "name": "stderr",
     "output_type": "stream",
     "text": [
      " 14%|█▍        | 120/846 [16:59<1:58:20,  9.78s/it]"
     ]
    },
    {
     "name": "stdout",
     "output_type": "stream",
     "text": [
      "An error occurred\n"
     ]
    },
    {
     "name": "stderr",
     "output_type": "stream",
     "text": [
      " 14%|█▍        | 121/846 [17:06<1:50:02,  9.11s/it]"
     ]
    },
    {
     "name": "stdout",
     "output_type": "stream",
     "text": [
      "An error occurred\n"
     ]
    },
    {
     "name": "stderr",
     "output_type": "stream",
     "text": [
      " 14%|█▍        | 122/846 [17:12<1:38:45,  8.18s/it]"
     ]
    },
    {
     "name": "stdout",
     "output_type": "stream",
     "text": [
      "An error occurred\n"
     ]
    },
    {
     "name": "stderr",
     "output_type": "stream",
     "text": [
      " 15%|█▍        | 123/846 [17:26<1:56:03,  9.63s/it]"
     ]
    },
    {
     "name": "stdout",
     "output_type": "stream",
     "text": [
      "An error occurred\n"
     ]
    },
    {
     "name": "stderr",
     "output_type": "stream",
     "text": [
      " 15%|█▍        | 124/846 [17:36<1:58:12,  9.82s/it]"
     ]
    },
    {
     "name": "stdout",
     "output_type": "stream",
     "text": [
      "An error occurred\n"
     ]
    },
    {
     "name": "stderr",
     "output_type": "stream",
     "text": [
      " 15%|█▍        | 125/846 [17:39<1:34:35,  7.87s/it]"
     ]
    },
    {
     "name": "stdout",
     "output_type": "stream",
     "text": [
      "An error occurred\n"
     ]
    },
    {
     "name": "stderr",
     "output_type": "stream",
     "text": [
      " 15%|█▍        | 126/846 [17:50<1:45:00,  8.75s/it]"
     ]
    },
    {
     "name": "stdout",
     "output_type": "stream",
     "text": [
      "An error occurred\n"
     ]
    },
    {
     "name": "stderr",
     "output_type": "stream",
     "text": [
      " 15%|█▌        | 127/846 [17:57<1:39:46,  8.33s/it]"
     ]
    },
    {
     "name": "stdout",
     "output_type": "stream",
     "text": [
      "An error occurred\n"
     ]
    },
    {
     "name": "stderr",
     "output_type": "stream",
     "text": [
      " 15%|█▌        | 128/846 [18:06<1:41:28,  8.48s/it]"
     ]
    },
    {
     "name": "stdout",
     "output_type": "stream",
     "text": [
      "An error occurred\n"
     ]
    },
    {
     "name": "stderr",
     "output_type": "stream",
     "text": [
      " 15%|█▌        | 129/846 [18:17<1:48:31,  9.08s/it]"
     ]
    },
    {
     "name": "stdout",
     "output_type": "stream",
     "text": [
      "An error occurred\n"
     ]
    },
    {
     "name": "stderr",
     "output_type": "stream",
     "text": [
      " 15%|█▌        | 130/846 [18:22<1:36:59,  8.13s/it]"
     ]
    },
    {
     "name": "stdout",
     "output_type": "stream",
     "text": [
      "An error occurred\n"
     ]
    },
    {
     "name": "stderr",
     "output_type": "stream",
     "text": [
      " 15%|█▌        | 131/846 [18:34<1:50:28,  9.27s/it]"
     ]
    },
    {
     "name": "stdout",
     "output_type": "stream",
     "text": [
      "An error occurred\n"
     ]
    },
    {
     "name": "stderr",
     "output_type": "stream",
     "text": [
      " 16%|█▌        | 132/846 [18:40<1:38:50,  8.31s/it]"
     ]
    },
    {
     "name": "stdout",
     "output_type": "stream",
     "text": [
      "An error occurred\n"
     ]
    },
    {
     "name": "stderr",
     "output_type": "stream",
     "text": [
      " 16%|█▌        | 133/846 [18:52<1:48:48,  9.16s/it]"
     ]
    },
    {
     "name": "stdout",
     "output_type": "stream",
     "text": [
      "An error occurred\n"
     ]
    },
    {
     "name": "stderr",
     "output_type": "stream",
     "text": [
      " 16%|█▌        | 134/846 [19:05<2:02:54, 10.36s/it]"
     ]
    },
    {
     "name": "stdout",
     "output_type": "stream",
     "text": [
      "An error occurred\n"
     ]
    },
    {
     "name": "stderr",
     "output_type": "stream",
     "text": [
      " 16%|█▌        | 135/846 [19:12<1:53:06,  9.54s/it]"
     ]
    },
    {
     "name": "stdout",
     "output_type": "stream",
     "text": [
      "An error occurred\n"
     ]
    },
    {
     "name": "stderr",
     "output_type": "stream",
     "text": [
      " 16%|█▌        | 136/846 [19:16<1:30:31,  7.65s/it]"
     ]
    },
    {
     "name": "stdout",
     "output_type": "stream",
     "text": [
      "An error occurred\n"
     ]
    },
    {
     "name": "stderr",
     "output_type": "stream",
     "text": [
      " 16%|█▌        | 137/846 [19:26<1:41:10,  8.56s/it]"
     ]
    },
    {
     "name": "stdout",
     "output_type": "stream",
     "text": [
      "An error occurred\n"
     ]
    },
    {
     "name": "stderr",
     "output_type": "stream",
     "text": [
      " 16%|█▋        | 138/846 [19:36<1:46:11,  9.00s/it]"
     ]
    },
    {
     "name": "stdout",
     "output_type": "stream",
     "text": [
      "An error occurred\n"
     ]
    },
    {
     "name": "stderr",
     "output_type": "stream",
     "text": [
      " 16%|█▋        | 139/846 [19:38<1:18:32,  6.67s/it]"
     ]
    },
    {
     "name": "stdout",
     "output_type": "stream",
     "text": [
      "An error occurred\n"
     ]
    },
    {
     "name": "stderr",
     "output_type": "stream",
     "text": [
      " 17%|█▋        | 140/846 [19:48<1:30:44,  7.71s/it]"
     ]
    },
    {
     "name": "stdout",
     "output_type": "stream",
     "text": [
      "An error occurred\n"
     ]
    },
    {
     "name": "stderr",
     "output_type": "stream",
     "text": [
      " 17%|█▋        | 141/846 [19:57<1:35:49,  8.16s/it]"
     ]
    },
    {
     "name": "stdout",
     "output_type": "stream",
     "text": [
      "An error occurred\n"
     ]
    },
    {
     "name": "stderr",
     "output_type": "stream",
     "text": [
      " 17%|█▋        | 142/846 [19:57<1:08:35,  5.85s/it]"
     ]
    },
    {
     "name": "stdout",
     "output_type": "stream",
     "text": [
      "An error occurred\n"
     ]
    },
    {
     "name": "stderr",
     "output_type": "stream",
     "text": [
      " 17%|█▋        | 143/846 [20:04<1:10:39,  6.03s/it]"
     ]
    },
    {
     "name": "stdout",
     "output_type": "stream",
     "text": [
      "An error occurred\n"
     ]
    },
    {
     "name": "stderr",
     "output_type": "stream",
     "text": [
      " 17%|█▋        | 144/846 [20:16<1:32:15,  7.88s/it]"
     ]
    },
    {
     "name": "stdout",
     "output_type": "stream",
     "text": [
      "An error occurred\n"
     ]
    },
    {
     "name": "stderr",
     "output_type": "stream",
     "text": [
      " 17%|█▋        | 145/846 [20:18<1:12:16,  6.19s/it]"
     ]
    },
    {
     "name": "stdout",
     "output_type": "stream",
     "text": [
      "An error occurred\n"
     ]
    },
    {
     "name": "stderr",
     "output_type": "stream",
     "text": [
      " 17%|█▋        | 146/846 [20:28<1:23:56,  7.20s/it]"
     ]
    },
    {
     "name": "stdout",
     "output_type": "stream",
     "text": [
      "An error occurred\n"
     ]
    },
    {
     "name": "stderr",
     "output_type": "stream",
     "text": [
      " 17%|█▋        | 147/846 [20:37<1:32:03,  7.90s/it]"
     ]
    },
    {
     "name": "stdout",
     "output_type": "stream",
     "text": [
      "An error occurred\n"
     ]
    },
    {
     "name": "stderr",
     "output_type": "stream",
     "text": [
      " 17%|█▋        | 148/846 [20:44<1:27:10,  7.49s/it]"
     ]
    },
    {
     "name": "stdout",
     "output_type": "stream",
     "text": [
      "An error occurred\n"
     ]
    },
    {
     "name": "stderr",
     "output_type": "stream",
     "text": [
      " 18%|█▊        | 149/846 [20:57<1:46:42,  9.19s/it]"
     ]
    },
    {
     "name": "stdout",
     "output_type": "stream",
     "text": [
      "An error occurred\n"
     ]
    },
    {
     "name": "stderr",
     "output_type": "stream",
     "text": [
      " 18%|█▊        | 150/846 [21:05<1:43:15,  8.90s/it]"
     ]
    },
    {
     "name": "stdout",
     "output_type": "stream",
     "text": [
      "An error occurred\n"
     ]
    },
    {
     "name": "stderr",
     "output_type": "stream",
     "text": [
      " 18%|█▊        | 151/846 [21:21<2:07:53, 11.04s/it]"
     ]
    },
    {
     "name": "stdout",
     "output_type": "stream",
     "text": [
      "An error occurred\n"
     ]
    },
    {
     "name": "stderr",
     "output_type": "stream",
     "text": [
      " 18%|█▊        | 152/846 [21:27<1:48:29,  9.38s/it]"
     ]
    },
    {
     "name": "stdout",
     "output_type": "stream",
     "text": [
      "An error occurred\n"
     ]
    },
    {
     "name": "stderr",
     "output_type": "stream",
     "text": [
      " 18%|█▊        | 153/846 [21:45<2:19:45, 12.10s/it]"
     ]
    },
    {
     "name": "stdout",
     "output_type": "stream",
     "text": [
      "An error occurred\n"
     ]
    },
    {
     "name": "stderr",
     "output_type": "stream",
     "text": [
      " 18%|█▊        | 154/846 [21:45<1:38:29,  8.54s/it]"
     ]
    },
    {
     "name": "stdout",
     "output_type": "stream",
     "text": [
      "An error occurred\n"
     ]
    },
    {
     "name": "stderr",
     "output_type": "stream",
     "text": [
      " 18%|█▊        | 155/846 [22:04<2:13:28, 11.59s/it]"
     ]
    },
    {
     "name": "stdout",
     "output_type": "stream",
     "text": [
      "An error occurred\n"
     ]
    },
    {
     "name": "stderr",
     "output_type": "stream",
     "text": [
      " 18%|█▊        | 156/846 [22:07<1:42:25,  8.91s/it]"
     ]
    },
    {
     "name": "stdout",
     "output_type": "stream",
     "text": [
      "An error occurred\n"
     ]
    },
    {
     "name": "stderr",
     "output_type": "stream",
     "text": [
      " 19%|█▊        | 157/846 [22:28<2:25:06, 12.64s/it]"
     ]
    },
    {
     "name": "stdout",
     "output_type": "stream",
     "text": [
      "An error occurred\n"
     ]
    },
    {
     "name": "stderr",
     "output_type": "stream",
     "text": [
      " 19%|█▊        | 158/846 [22:29<1:42:41,  8.96s/it]"
     ]
    },
    {
     "name": "stdout",
     "output_type": "stream",
     "text": [
      "An error occurred\n"
     ]
    },
    {
     "name": "stderr",
     "output_type": "stream",
     "text": [
      " 19%|█▉        | 159/846 [22:44<2:06:33, 11.05s/it]"
     ]
    },
    {
     "name": "stdout",
     "output_type": "stream",
     "text": [
      "An error occurred\n"
     ]
    },
    {
     "name": "stderr",
     "output_type": "stream",
     "text": [
      " 19%|█▉        | 160/846 [22:58<2:15:40, 11.87s/it]"
     ]
    },
    {
     "name": "stdout",
     "output_type": "stream",
     "text": [
      "An error occurred\n"
     ]
    },
    {
     "name": "stderr",
     "output_type": "stream",
     "text": [
      " 19%|█▉        | 161/846 [23:06<2:00:45, 10.58s/it]"
     ]
    },
    {
     "name": "stdout",
     "output_type": "stream",
     "text": [
      "An error occurred\n"
     ]
    },
    {
     "name": "stderr",
     "output_type": "stream",
     "text": [
      " 19%|█▉        | 162/846 [23:22<2:21:10, 12.38s/it]"
     ]
    },
    {
     "name": "stdout",
     "output_type": "stream",
     "text": [
      "An error occurred\n"
     ]
    },
    {
     "name": "stderr",
     "output_type": "stream",
     "text": [
      " 19%|█▉        | 163/846 [23:33<2:14:43, 11.84s/it]"
     ]
    },
    {
     "name": "stdout",
     "output_type": "stream",
     "text": [
      "An error occurred\n"
     ]
    },
    {
     "name": "stderr",
     "output_type": "stream",
     "text": [
      " 19%|█▉        | 164/846 [23:37<1:47:26,  9.45s/it]"
     ]
    },
    {
     "name": "stdout",
     "output_type": "stream",
     "text": [
      "An error occurred\n"
     ]
    },
    {
     "name": "stderr",
     "output_type": "stream",
     "text": [
      " 20%|█▉        | 165/846 [23:49<1:57:31, 10.35s/it]"
     ]
    },
    {
     "name": "stdout",
     "output_type": "stream",
     "text": [
      "An error occurred\n"
     ]
    },
    {
     "name": "stderr",
     "output_type": "stream",
     "text": [
      " 20%|█▉        | 166/846 [23:54<1:39:05,  8.74s/it]"
     ]
    },
    {
     "name": "stdout",
     "output_type": "stream",
     "text": [
      "An error occurred\n"
     ]
    },
    {
     "name": "stderr",
     "output_type": "stream",
     "text": [
      " 20%|█▉        | 167/846 [23:58<1:22:46,  7.31s/it]"
     ]
    },
    {
     "name": "stdout",
     "output_type": "stream",
     "text": [
      "An error occurred\n"
     ]
    },
    {
     "name": "stderr",
     "output_type": "stream",
     "text": [
      " 20%|█▉        | 168/846 [24:18<2:05:41, 11.12s/it]"
     ]
    },
    {
     "name": "stdout",
     "output_type": "stream",
     "text": [
      "An error occurred\n"
     ]
    },
    {
     "name": "stderr",
     "output_type": "stream",
     "text": [
      " 20%|█▉        | 169/846 [24:19<1:29:29,  7.93s/it]"
     ]
    },
    {
     "name": "stdout",
     "output_type": "stream",
     "text": [
      "An error occurred\n"
     ]
    },
    {
     "name": "stderr",
     "output_type": "stream",
     "text": [
      " 20%|██        | 170/846 [24:22<1:14:36,  6.62s/it]"
     ]
    },
    {
     "name": "stdout",
     "output_type": "stream",
     "text": [
      "An error occurred\n"
     ]
    },
    {
     "name": "stderr",
     "output_type": "stream",
     "text": [
      " 20%|██        | 171/846 [24:32<1:25:40,  7.62s/it]"
     ]
    },
    {
     "name": "stdout",
     "output_type": "stream",
     "text": [
      "An error occurred\n"
     ]
    },
    {
     "name": "stderr",
     "output_type": "stream",
     "text": [
      " 20%|██        | 172/846 [24:37<1:16:02,  6.77s/it]"
     ]
    },
    {
     "name": "stdout",
     "output_type": "stream",
     "text": [
      "An error occurred\n"
     ]
    },
    {
     "name": "stderr",
     "output_type": "stream",
     "text": [
      " 20%|██        | 173/846 [24:52<1:41:47,  9.08s/it]"
     ]
    },
    {
     "name": "stdout",
     "output_type": "stream",
     "text": [
      "An error occurred\n"
     ]
    },
    {
     "name": "stderr",
     "output_type": "stream",
     "text": [
      " 21%|██        | 174/846 [24:56<1:25:38,  7.65s/it]"
     ]
    },
    {
     "name": "stdout",
     "output_type": "stream",
     "text": [
      "An error occurred\n"
     ]
    },
    {
     "name": "stderr",
     "output_type": "stream",
     "text": [
      " 21%|██        | 175/846 [24:57<1:03:00,  5.63s/it]"
     ]
    },
    {
     "name": "stdout",
     "output_type": "stream",
     "text": [
      "An error occurred\n"
     ]
    },
    {
     "name": "stderr",
     "output_type": "stream",
     "text": [
      " 21%|██        | 176/846 [25:15<1:46:37,  9.55s/it]"
     ]
    },
    {
     "name": "stdout",
     "output_type": "stream",
     "text": [
      "An error occurred\n"
     ]
    },
    {
     "name": "stderr",
     "output_type": "stream",
     "text": [
      " 21%|██        | 177/846 [25:23<1:39:24,  8.92s/it]"
     ]
    },
    {
     "name": "stdout",
     "output_type": "stream",
     "text": [
      "An error occurred\n"
     ]
    },
    {
     "name": "stderr",
     "output_type": "stream",
     "text": [
      " 21%|██        | 178/846 [25:24<1:12:09,  6.48s/it]"
     ]
    },
    {
     "name": "stdout",
     "output_type": "stream",
     "text": [
      "An error occurred\n"
     ]
    },
    {
     "name": "stderr",
     "output_type": "stream",
     "text": [
      " 21%|██        | 179/846 [25:44<1:58:59, 10.70s/it]"
     ]
    },
    {
     "name": "stdout",
     "output_type": "stream",
     "text": [
      "An error occurred\n"
     ]
    },
    {
     "name": "stderr",
     "output_type": "stream",
     "text": [
      " 21%|██▏       | 180/846 [25:48<1:34:16,  8.49s/it]"
     ]
    },
    {
     "name": "stdout",
     "output_type": "stream",
     "text": [
      "An error occurred\n"
     ]
    },
    {
     "name": "stderr",
     "output_type": "stream",
     "text": [
      " 21%|██▏       | 181/846 [25:53<1:22:22,  7.43s/it]"
     ]
    },
    {
     "name": "stdout",
     "output_type": "stream",
     "text": [
      "An error occurred\n"
     ]
    },
    {
     "name": "stderr",
     "output_type": "stream",
     "text": [
      " 22%|██▏       | 182/846 [26:06<1:43:40,  9.37s/it]"
     ]
    },
    {
     "name": "stdout",
     "output_type": "stream",
     "text": [
      "An error occurred\n"
     ]
    },
    {
     "name": "stderr",
     "output_type": "stream",
     "text": [
      " 22%|██▏       | 183/846 [26:14<1:37:17,  8.81s/it]"
     ]
    },
    {
     "name": "stdout",
     "output_type": "stream",
     "text": [
      "An error occurred\n"
     ]
    },
    {
     "name": "stderr",
     "output_type": "stream",
     "text": [
      " 22%|██▏       | 184/846 [26:19<1:24:18,  7.64s/it]"
     ]
    },
    {
     "name": "stdout",
     "output_type": "stream",
     "text": [
      "An error occurred\n"
     ]
    },
    {
     "name": "stderr",
     "output_type": "stream",
     "text": [
      " 22%|██▏       | 185/846 [26:38<2:02:57, 11.16s/it]"
     ]
    },
    {
     "name": "stdout",
     "output_type": "stream",
     "text": [
      "An error occurred\n"
     ]
    },
    {
     "name": "stderr",
     "output_type": "stream",
     "text": [
      " 22%|██▏       | 186/846 [26:41<1:35:46,  8.71s/it]"
     ]
    },
    {
     "name": "stdout",
     "output_type": "stream",
     "text": [
      "An error occurred\n"
     ]
    },
    {
     "name": "stderr",
     "output_type": "stream",
     "text": [
      " 22%|██▏       | 187/846 [26:46<1:21:52,  7.45s/it]"
     ]
    },
    {
     "name": "stdout",
     "output_type": "stream",
     "text": [
      "An error occurred\n"
     ]
    },
    {
     "name": "stderr",
     "output_type": "stream",
     "text": [
      " 22%|██▏       | 188/846 [26:57<1:34:08,  8.58s/it]"
     ]
    },
    {
     "name": "stdout",
     "output_type": "stream",
     "text": [
      "An error occurred\n"
     ]
    },
    {
     "name": "stderr",
     "output_type": "stream",
     "text": [
      " 22%|██▏       | 189/846 [27:08<1:41:32,  9.27s/it]"
     ]
    },
    {
     "name": "stdout",
     "output_type": "stream",
     "text": [
      "An error occurred\n"
     ]
    },
    {
     "name": "stderr",
     "output_type": "stream",
     "text": [
      " 22%|██▏       | 190/846 [27:10<1:17:02,  7.05s/it]"
     ]
    },
    {
     "name": "stdout",
     "output_type": "stream",
     "text": [
      "An error occurred\n"
     ]
    },
    {
     "name": "stderr",
     "output_type": "stream",
     "text": [
      " 23%|██▎       | 191/846 [27:14<1:07:29,  6.18s/it]"
     ]
    },
    {
     "name": "stdout",
     "output_type": "stream",
     "text": [
      "An error occurred\n"
     ]
    },
    {
     "name": "stderr",
     "output_type": "stream",
     "text": [
      " 23%|██▎       | 192/846 [27:27<1:29:05,  8.17s/it]"
     ]
    },
    {
     "name": "stdout",
     "output_type": "stream",
     "text": [
      "An error occurred\n"
     ]
    },
    {
     "name": "stderr",
     "output_type": "stream",
     "text": [
      " 23%|██▎       | 193/846 [27:37<1:34:23,  8.67s/it]"
     ]
    },
    {
     "name": "stdout",
     "output_type": "stream",
     "text": [
      "An error occurred\n"
     ]
    },
    {
     "name": "stderr",
     "output_type": "stream",
     "text": [
      " 23%|██▎       | 194/846 [27:38<1:10:14,  6.46s/it]"
     ]
    },
    {
     "name": "stdout",
     "output_type": "stream",
     "text": [
      "An error occurred\n"
     ]
    },
    {
     "name": "stderr",
     "output_type": "stream",
     "text": [
      " 23%|██▎       | 195/846 [27:51<1:30:56,  8.38s/it]"
     ]
    },
    {
     "name": "stdout",
     "output_type": "stream",
     "text": [
      "An error occurred\n"
     ]
    },
    {
     "name": "stderr",
     "output_type": "stream",
     "text": [
      " 23%|██▎       | 196/846 [27:59<1:31:53,  8.48s/it]"
     ]
    },
    {
     "name": "stdout",
     "output_type": "stream",
     "text": [
      "An error occurred\n"
     ]
    },
    {
     "name": "stderr",
     "output_type": "stream",
     "text": [
      " 23%|██▎       | 197/846 [28:03<1:16:19,  7.06s/it]"
     ]
    },
    {
     "name": "stdout",
     "output_type": "stream",
     "text": [
      "An error occurred\n"
     ]
    },
    {
     "name": "stderr",
     "output_type": "stream",
     "text": [
      " 23%|██▎       | 198/846 [28:15<1:31:45,  8.50s/it]"
     ]
    },
    {
     "name": "stdout",
     "output_type": "stream",
     "text": [
      "An error occurred\n"
     ]
    },
    {
     "name": "stderr",
     "output_type": "stream",
     "text": [
      " 24%|██▎       | 199/846 [28:24<1:32:25,  8.57s/it]"
     ]
    },
    {
     "name": "stdout",
     "output_type": "stream",
     "text": [
      "An error occurred\n"
     ]
    },
    {
     "name": "stderr",
     "output_type": "stream",
     "text": [
      " 24%|██▎       | 200/846 [28:38<1:49:18, 10.15s/it]"
     ]
    },
    {
     "name": "stdout",
     "output_type": "stream",
     "text": [
      "An error occurred\n"
     ]
    },
    {
     "name": "stderr",
     "output_type": "stream",
     "text": [
      " 24%|██▍       | 201/846 [28:39<1:21:05,  7.54s/it]"
     ]
    },
    {
     "name": "stdout",
     "output_type": "stream",
     "text": [
      "An error occurred\n"
     ]
    },
    {
     "name": "stderr",
     "output_type": "stream",
     "text": [
      " 24%|██▍       | 202/846 [28:45<1:16:22,  7.11s/it]"
     ]
    },
    {
     "name": "stdout",
     "output_type": "stream",
     "text": [
      "An error occurred\n"
     ]
    },
    {
     "name": "stderr",
     "output_type": "stream",
     "text": [
      " 24%|██▍       | 203/846 [28:51<1:12:57,  6.81s/it]"
     ]
    },
    {
     "name": "stdout",
     "output_type": "stream",
     "text": [
      "An error occurred\n"
     ]
    },
    {
     "name": "stderr",
     "output_type": "stream",
     "text": [
      " 24%|██▍       | 204/846 [29:06<1:37:30,  9.11s/it]"
     ]
    },
    {
     "name": "stdout",
     "output_type": "stream",
     "text": [
      "An error occurred\n"
     ]
    },
    {
     "name": "stderr",
     "output_type": "stream",
     "text": [
      " 24%|██▍       | 205/846 [29:06<1:10:27,  6.59s/it]"
     ]
    },
    {
     "name": "stdout",
     "output_type": "stream",
     "text": [
      "An error occurred\n"
     ]
    },
    {
     "name": "stderr",
     "output_type": "stream",
     "text": [
      " 24%|██▍       | 206/846 [29:15<1:17:29,  7.26s/it]"
     ]
    },
    {
     "name": "stdout",
     "output_type": "stream",
     "text": [
      "An error occurred\n"
     ]
    },
    {
     "name": "stderr",
     "output_type": "stream",
     "text": [
      " 24%|██▍       | 207/846 [29:27<1:31:47,  8.62s/it]"
     ]
    },
    {
     "name": "stdout",
     "output_type": "stream",
     "text": [
      "An error occurred\n"
     ]
    },
    {
     "name": "stderr",
     "output_type": "stream",
     "text": [
      " 25%|██▍       | 208/846 [29:28<1:06:23,  6.24s/it]"
     ]
    },
    {
     "name": "stdout",
     "output_type": "stream",
     "text": [
      "An error occurred\n"
     ]
    },
    {
     "name": "stderr",
     "output_type": "stream",
     "text": [
      " 25%|██▍       | 209/846 [29:45<1:39:51,  9.41s/it]"
     ]
    },
    {
     "name": "stdout",
     "output_type": "stream",
     "text": [
      "An error occurred\n"
     ]
    },
    {
     "name": "stderr",
     "output_type": "stream",
     "text": [
      " 25%|██▍       | 210/846 [29:51<1:30:29,  8.54s/it]"
     ]
    },
    {
     "name": "stdout",
     "output_type": "stream",
     "text": [
      "An error occurred\n"
     ]
    },
    {
     "name": "stderr",
     "output_type": "stream",
     "text": [
      " 25%|██▍       | 211/846 [29:52<1:05:33,  6.19s/it]"
     ]
    },
    {
     "name": "stdout",
     "output_type": "stream",
     "text": [
      "An error occurred\n"
     ]
    },
    {
     "name": "stderr",
     "output_type": "stream",
     "text": [
      " 25%|██▌       | 212/846 [30:03<1:22:45,  7.83s/it]"
     ]
    },
    {
     "name": "stdout",
     "output_type": "stream",
     "text": [
      "An error occurred\n"
     ]
    },
    {
     "name": "stderr",
     "output_type": "stream",
     "text": [
      " 25%|██▌       | 213/846 [30:15<1:34:32,  8.96s/it]"
     ]
    },
    {
     "name": "stdout",
     "output_type": "stream",
     "text": [
      "An error occurred\n"
     ]
    },
    {
     "name": "stderr",
     "output_type": "stream",
     "text": [
      " 25%|██▌       | 214/846 [30:16<1:08:19,  6.49s/it]"
     ]
    },
    {
     "name": "stdout",
     "output_type": "stream",
     "text": [
      "An error occurred\n"
     ]
    },
    {
     "name": "stderr",
     "output_type": "stream",
     "text": [
      " 25%|██▌       | 215/846 [30:37<1:53:20, 10.78s/it]"
     ]
    },
    {
     "name": "stdout",
     "output_type": "stream",
     "text": [
      "An error occurred\n"
     ]
    },
    {
     "name": "stderr",
     "output_type": "stream",
     "text": [
      " 26%|██▌       | 216/846 [30:37<1:22:09,  7.82s/it]"
     ]
    },
    {
     "name": "stdout",
     "output_type": "stream",
     "text": [
      "An error occurred\n"
     ]
    },
    {
     "name": "stderr",
     "output_type": "stream",
     "text": [
      " 26%|██▌       | 217/846 [30:41<1:06:57,  6.39s/it]"
     ]
    },
    {
     "name": "stdout",
     "output_type": "stream",
     "text": [
      "An error occurred\n"
     ]
    },
    {
     "name": "stderr",
     "output_type": "stream",
     "text": [
      " 26%|██▌       | 218/846 [31:01<1:49:49, 10.49s/it]"
     ]
    },
    {
     "name": "stdout",
     "output_type": "stream",
     "text": [
      "An error occurred\n"
     ]
    },
    {
     "name": "stderr",
     "output_type": "stream",
     "text": [
      " 26%|██▌       | 219/846 [31:01<1:19:24,  7.60s/it]"
     ]
    },
    {
     "name": "stdout",
     "output_type": "stream",
     "text": [
      "An error occurred\n"
     ]
    },
    {
     "name": "stderr",
     "output_type": "stream",
     "text": [
      " 26%|██▌       | 220/846 [31:19<1:49:22, 10.48s/it]"
     ]
    },
    {
     "name": "stdout",
     "output_type": "stream",
     "text": [
      "An error occurred\n"
     ]
    },
    {
     "name": "stderr",
     "output_type": "stream",
     "text": [
      " 26%|██▌       | 221/846 [31:25<1:37:40,  9.38s/it]"
     ]
    },
    {
     "name": "stdout",
     "output_type": "stream",
     "text": [
      "An error occurred\n"
     ]
    },
    {
     "name": "stderr",
     "output_type": "stream",
     "text": [
      " 26%|██▌       | 222/846 [31:37<1:45:48, 10.17s/it]"
     ]
    },
    {
     "name": "stdout",
     "output_type": "stream",
     "text": [
      "An error occurred\n"
     ]
    },
    {
     "name": "stderr",
     "output_type": "stream",
     "text": [
      " 26%|██▋       | 223/846 [31:41<1:25:43,  8.26s/it]"
     ]
    },
    {
     "name": "stdout",
     "output_type": "stream",
     "text": [
      "An error occurred\n"
     ]
    },
    {
     "name": "stderr",
     "output_type": "stream",
     "text": [
      " 26%|██▋       | 224/846 [31:47<1:18:22,  7.56s/it]"
     ]
    },
    {
     "name": "stdout",
     "output_type": "stream",
     "text": [
      "An error occurred\n"
     ]
    },
    {
     "name": "stderr",
     "output_type": "stream",
     "text": [
      " 27%|██▋       | 225/846 [32:03<1:42:54,  9.94s/it]"
     ]
    },
    {
     "name": "stdout",
     "output_type": "stream",
     "text": [
      "An error occurred\n"
     ]
    },
    {
     "name": "stderr",
     "output_type": "stream",
     "text": [
      " 27%|██▋       | 226/846 [32:03<1:12:42,  7.04s/it]"
     ]
    },
    {
     "name": "stdout",
     "output_type": "stream",
     "text": [
      "An error occurred\n"
     ]
    },
    {
     "name": "stderr",
     "output_type": "stream",
     "text": [
      " 27%|██▋       | 227/846 [32:11<1:16:18,  7.40s/it]"
     ]
    },
    {
     "name": "stdout",
     "output_type": "stream",
     "text": [
      "An error occurred\n"
     ]
    },
    {
     "name": "stderr",
     "output_type": "stream",
     "text": [
      " 27%|██▋       | 228/846 [32:27<1:41:42,  9.88s/it]"
     ]
    },
    {
     "name": "stdout",
     "output_type": "stream",
     "text": [
      "An error occurred\n",
      "An error occurred\n"
     ]
    },
    {
     "name": "stderr",
     "output_type": "stream",
     "text": [
      " 27%|██▋       | 230/846 [32:38<1:21:13,  7.91s/it]"
     ]
    },
    {
     "name": "stdout",
     "output_type": "stream",
     "text": [
      "An error occurred\n"
     ]
    },
    {
     "name": "stderr",
     "output_type": "stream",
     "text": [
      " 27%|██▋       | 231/846 [32:46<1:20:31,  7.86s/it]"
     ]
    },
    {
     "name": "stdout",
     "output_type": "stream",
     "text": [
      "An error occurred\n"
     ]
    },
    {
     "name": "stderr",
     "output_type": "stream",
     "text": [
      " 27%|██▋       | 232/846 [32:48<1:05:59,  6.45s/it]"
     ]
    },
    {
     "name": "stdout",
     "output_type": "stream",
     "text": [
      "An error occurred\n"
     ]
    },
    {
     "name": "stderr",
     "output_type": "stream",
     "text": [
      " 28%|██▊       | 233/846 [32:59<1:19:00,  7.73s/it]"
     ]
    },
    {
     "name": "stdout",
     "output_type": "stream",
     "text": [
      "An error occurred\n"
     ]
    },
    {
     "name": "stderr",
     "output_type": "stream",
     "text": [
      " 28%|██▊       | 234/846 [33:05<1:12:18,  7.09s/it]"
     ]
    },
    {
     "name": "stdout",
     "output_type": "stream",
     "text": [
      "An error occurred\n"
     ]
    },
    {
     "name": "stderr",
     "output_type": "stream",
     "text": [
      " 28%|██▊       | 235/846 [33:12<1:13:31,  7.22s/it]"
     ]
    },
    {
     "name": "stdout",
     "output_type": "stream",
     "text": [
      "An error occurred\n"
     ]
    },
    {
     "name": "stderr",
     "output_type": "stream",
     "text": [
      " 28%|██▊       | 236/846 [33:16<1:02:01,  6.10s/it]"
     ]
    },
    {
     "name": "stdout",
     "output_type": "stream",
     "text": [
      "An error occurred\n"
     ]
    },
    {
     "name": "stderr",
     "output_type": "stream",
     "text": [
      " 28%|██▊       | 237/846 [33:34<1:37:55,  9.65s/it]"
     ]
    },
    {
     "name": "stdout",
     "output_type": "stream",
     "text": [
      "An error occurred\n"
     ]
    },
    {
     "name": "stderr",
     "output_type": "stream",
     "text": [
      " 28%|██▊       | 238/846 [33:36<1:16:16,  7.53s/it]"
     ]
    },
    {
     "name": "stdout",
     "output_type": "stream",
     "text": [
      "An error occurred\n"
     ]
    },
    {
     "name": "stderr",
     "output_type": "stream",
     "text": [
      " 28%|██▊       | 239/846 [33:40<1:03:56,  6.32s/it]"
     ]
    },
    {
     "name": "stdout",
     "output_type": "stream",
     "text": [
      "An error occurred\n"
     ]
    },
    {
     "name": "stderr",
     "output_type": "stream",
     "text": [
      " 28%|██▊       | 240/846 [33:58<1:39:11,  9.82s/it]"
     ]
    },
    {
     "name": "stdout",
     "output_type": "stream",
     "text": [
      "An error occurred\n"
     ]
    },
    {
     "name": "stderr",
     "output_type": "stream",
     "text": [
      " 28%|██▊       | 241/846 [34:01<1:17:09,  7.65s/it]"
     ]
    },
    {
     "name": "stdout",
     "output_type": "stream",
     "text": [
      "An error occurred\n"
     ]
    },
    {
     "name": "stderr",
     "output_type": "stream",
     "text": [
      " 29%|██▊       | 242/846 [34:17<1:43:19, 10.26s/it]"
     ]
    },
    {
     "name": "stdout",
     "output_type": "stream",
     "text": [
      "An error occurred\n"
     ]
    },
    {
     "name": "stderr",
     "output_type": "stream",
     "text": [
      " 29%|██▊       | 243/846 [34:19<1:19:46,  7.94s/it]"
     ]
    },
    {
     "name": "stdout",
     "output_type": "stream",
     "text": [
      "An error occurred\n"
     ]
    },
    {
     "name": "stderr",
     "output_type": "stream",
     "text": [
      " 29%|██▉       | 244/846 [34:25<1:11:14,  7.10s/it]"
     ]
    },
    {
     "name": "stdout",
     "output_type": "stream",
     "text": [
      "An error occurred\n"
     ]
    },
    {
     "name": "stderr",
     "output_type": "stream",
     "text": [
      " 29%|██▉       | 245/846 [34:38<1:30:36,  9.05s/it]"
     ]
    },
    {
     "name": "stdout",
     "output_type": "stream",
     "text": [
      "An error occurred\n"
     ]
    },
    {
     "name": "stderr",
     "output_type": "stream",
     "text": [
      " 29%|██▉       | 246/846 [34:39<1:05:19,  6.53s/it]"
     ]
    },
    {
     "name": "stdout",
     "output_type": "stream",
     "text": [
      "An error occurred\n"
     ]
    },
    {
     "name": "stderr",
     "output_type": "stream",
     "text": [
      " 29%|██▉       | 247/846 [34:49<1:15:32,  7.57s/it]"
     ]
    },
    {
     "name": "stdout",
     "output_type": "stream",
     "text": [
      "An error occurred\n"
     ]
    },
    {
     "name": "stderr",
     "output_type": "stream",
     "text": [
      " 29%|██▉       | 248/846 [34:57<1:17:18,  7.76s/it]"
     ]
    },
    {
     "name": "stdout",
     "output_type": "stream",
     "text": [
      "An error occurred\n"
     ]
    },
    {
     "name": "stderr",
     "output_type": "stream",
     "text": [
      " 29%|██▉       | 249/846 [35:06<1:21:04,  8.15s/it]"
     ]
    },
    {
     "name": "stdout",
     "output_type": "stream",
     "text": [
      "An error occurred\n"
     ]
    },
    {
     "name": "stderr",
     "output_type": "stream",
     "text": [
      " 30%|██▉       | 250/846 [35:08<1:01:09,  6.16s/it]"
     ]
    },
    {
     "name": "stdout",
     "output_type": "stream",
     "text": [
      "An error occurred\n"
     ]
    },
    {
     "name": "stderr",
     "output_type": "stream",
     "text": [
      " 30%|██▉       | 251/846 [35:18<1:14:43,  7.54s/it]"
     ]
    },
    {
     "name": "stdout",
     "output_type": "stream",
     "text": [
      "An error occurred\n"
     ]
    },
    {
     "name": "stderr",
     "output_type": "stream",
     "text": [
      " 30%|██▉       | 252/846 [35:22<1:04:33,  6.52s/it]"
     ]
    },
    {
     "name": "stdout",
     "output_type": "stream",
     "text": [
      "An error occurred\n"
     ]
    },
    {
     "name": "stderr",
     "output_type": "stream",
     "text": [
      " 30%|██▉       | 253/846 [35:29<1:04:36,  6.54s/it]"
     ]
    },
    {
     "name": "stdout",
     "output_type": "stream",
     "text": [
      "An error occurred\n"
     ]
    },
    {
     "name": "stderr",
     "output_type": "stream",
     "text": [
      " 30%|███       | 254/846 [35:42<1:24:34,  8.57s/it]"
     ]
    },
    {
     "name": "stdout",
     "output_type": "stream",
     "text": [
      "An error occurred\n"
     ]
    },
    {
     "name": "stderr",
     "output_type": "stream",
     "text": [
      " 30%|███       | 255/846 [35:46<1:09:22,  7.04s/it]"
     ]
    },
    {
     "name": "stdout",
     "output_type": "stream",
     "text": [
      "An error occurred\n"
     ]
    },
    {
     "name": "stderr",
     "output_type": "stream",
     "text": [
      " 30%|███       | 256/846 [35:49<58:04,  5.91s/it]  "
     ]
    },
    {
     "name": "stdout",
     "output_type": "stream",
     "text": [
      "An error occurred\n"
     ]
    },
    {
     "name": "stderr",
     "output_type": "stream",
     "text": [
      " 30%|███       | 257/846 [36:05<1:28:24,  9.01s/it]"
     ]
    },
    {
     "name": "stdout",
     "output_type": "stream",
     "text": [
      "An error occurred\n"
     ]
    },
    {
     "name": "stderr",
     "output_type": "stream",
     "text": [
      " 30%|███       | 258/846 [36:06<1:04:57,  6.63s/it]"
     ]
    },
    {
     "name": "stdout",
     "output_type": "stream",
     "text": [
      "An error occurred\n"
     ]
    },
    {
     "name": "stderr",
     "output_type": "stream",
     "text": [
      " 31%|███       | 259/846 [36:10<55:27,  5.67s/it]  "
     ]
    },
    {
     "name": "stdout",
     "output_type": "stream",
     "text": [
      "An error occurred\n"
     ]
    },
    {
     "name": "stderr",
     "output_type": "stream",
     "text": [
      " 31%|███       | 260/846 [36:26<1:26:13,  8.83s/it]"
     ]
    },
    {
     "name": "stdout",
     "output_type": "stream",
     "text": [
      "An error occurred\n"
     ]
    },
    {
     "name": "stderr",
     "output_type": "stream",
     "text": [
      " 31%|███       | 261/846 [36:30<1:12:43,  7.46s/it]"
     ]
    },
    {
     "name": "stdout",
     "output_type": "stream",
     "text": [
      "An error occurred\n"
     ]
    },
    {
     "name": "stderr",
     "output_type": "stream",
     "text": [
      " 31%|███       | 262/846 [36:32<55:23,  5.69s/it]  "
     ]
    },
    {
     "name": "stdout",
     "output_type": "stream",
     "text": [
      "An error occurred\n"
     ]
    },
    {
     "name": "stderr",
     "output_type": "stream",
     "text": [
      " 31%|███       | 263/846 [36:50<1:31:32,  9.42s/it]"
     ]
    },
    {
     "name": "stdout",
     "output_type": "stream",
     "text": [
      "An error occurred\n"
     ]
    },
    {
     "name": "stderr",
     "output_type": "stream",
     "text": [
      " 31%|███       | 264/846 [36:57<1:24:13,  8.68s/it]"
     ]
    },
    {
     "name": "stdout",
     "output_type": "stream",
     "text": [
      "An error occurred\n"
     ]
    },
    {
     "name": "stderr",
     "output_type": "stream",
     "text": [
      " 31%|███▏      | 265/846 [36:58<1:03:23,  6.55s/it]"
     ]
    },
    {
     "name": "stdout",
     "output_type": "stream",
     "text": [
      "An error occurred\n"
     ]
    },
    {
     "name": "stderr",
     "output_type": "stream",
     "text": [
      " 31%|███▏      | 266/846 [37:11<1:21:40,  8.45s/it]"
     ]
    },
    {
     "name": "stdout",
     "output_type": "stream",
     "text": [
      "An error occurred\n"
     ]
    },
    {
     "name": "stderr",
     "output_type": "stream",
     "text": [
      " 32%|███▏      | 267/846 [37:16<1:10:10,  7.27s/it]"
     ]
    },
    {
     "name": "stdout",
     "output_type": "stream",
     "text": [
      "An error occurred\n"
     ]
    },
    {
     "name": "stderr",
     "output_type": "stream",
     "text": [
      " 32%|███▏      | 268/846 [37:18<53:49,  5.59s/it]  "
     ]
    },
    {
     "name": "stdout",
     "output_type": "stream",
     "text": [
      "An error occurred\n"
     ]
    },
    {
     "name": "stderr",
     "output_type": "stream",
     "text": [
      " 32%|███▏      | 269/846 [37:38<1:35:39,  9.95s/it]"
     ]
    },
    {
     "name": "stdout",
     "output_type": "stream",
     "text": [
      "An error occurred\n"
     ]
    },
    {
     "name": "stderr",
     "output_type": "stream",
     "text": [
      " 32%|███▏      | 270/846 [37:38<1:08:08,  7.10s/it]"
     ]
    },
    {
     "name": "stdout",
     "output_type": "stream",
     "text": [
      "An error occurred\n"
     ]
    },
    {
     "name": "stderr",
     "output_type": "stream",
     "text": [
      " 32%|███▏      | 271/846 [37:39<51:14,  5.35s/it]  "
     ]
    },
    {
     "name": "stdout",
     "output_type": "stream",
     "text": [
      "An error occurred\n"
     ]
    },
    {
     "name": "stderr",
     "output_type": "stream",
     "text": [
      " 32%|███▏      | 272/846 [37:57<1:27:34,  9.15s/it]"
     ]
    },
    {
     "name": "stdout",
     "output_type": "stream",
     "text": [
      "An error occurred\n"
     ]
    },
    {
     "name": "stderr",
     "output_type": "stream",
     "text": [
      " 32%|███▏      | 273/846 [37:59<1:05:46,  6.89s/it]"
     ]
    },
    {
     "name": "stdout",
     "output_type": "stream",
     "text": [
      "An error occurred\n"
     ]
    },
    {
     "name": "stderr",
     "output_type": "stream",
     "text": [
      " 32%|███▏      | 274/846 [38:12<1:21:45,  8.58s/it]"
     ]
    },
    {
     "name": "stdout",
     "output_type": "stream",
     "text": [
      "An error occurred\n"
     ]
    },
    {
     "name": "stderr",
     "output_type": "stream",
     "text": [
      " 33%|███▎      | 275/846 [38:22<1:25:38,  9.00s/it]"
     ]
    },
    {
     "name": "stdout",
     "output_type": "stream",
     "text": [
      "An error occurred\n"
     ]
    },
    {
     "name": "stderr",
     "output_type": "stream",
     "text": [
      " 33%|███▎      | 276/846 [38:26<1:12:24,  7.62s/it]"
     ]
    },
    {
     "name": "stdout",
     "output_type": "stream",
     "text": [
      "An error occurred\n"
     ]
    },
    {
     "name": "stderr",
     "output_type": "stream",
     "text": [
      " 33%|███▎      | 277/846 [38:38<1:25:28,  9.01s/it]"
     ]
    },
    {
     "name": "stdout",
     "output_type": "stream",
     "text": [
      "An error occurred\n"
     ]
    },
    {
     "name": "stderr",
     "output_type": "stream",
     "text": [
      " 33%|███▎      | 278/846 [38:47<1:25:31,  9.03s/it]"
     ]
    },
    {
     "name": "stdout",
     "output_type": "stream",
     "text": [
      "An error occurred\n"
     ]
    },
    {
     "name": "stderr",
     "output_type": "stream",
     "text": [
      " 33%|███▎      | 279/846 [39:06<1:54:08, 12.08s/it]"
     ]
    },
    {
     "name": "stdout",
     "output_type": "stream",
     "text": [
      "An error occurred\n"
     ]
    },
    {
     "name": "stderr",
     "output_type": "stream",
     "text": [
      " 33%|███▎      | 280/846 [39:09<1:26:10,  9.14s/it]"
     ]
    },
    {
     "name": "stdout",
     "output_type": "stream",
     "text": [
      "An error occurred\n"
     ]
    },
    {
     "name": "stderr",
     "output_type": "stream",
     "text": [
      " 33%|███▎      | 281/846 [39:10<1:04:00,  6.80s/it]"
     ]
    },
    {
     "name": "stdout",
     "output_type": "stream",
     "text": [
      "An error occurred\n"
     ]
    },
    {
     "name": "stderr",
     "output_type": "stream",
     "text": [
      " 33%|███▎      | 282/846 [39:26<1:30:41,  9.65s/it]"
     ]
    },
    {
     "name": "stdout",
     "output_type": "stream",
     "text": [
      "An error occurred\n"
     ]
    },
    {
     "name": "stderr",
     "output_type": "stream",
     "text": [
      " 33%|███▎      | 283/846 [39:33<1:22:38,  8.81s/it]"
     ]
    },
    {
     "name": "stdout",
     "output_type": "stream",
     "text": [
      "An error occurred\n"
     ]
    },
    {
     "name": "stderr",
     "output_type": "stream",
     "text": [
      " 34%|███▎      | 284/846 [39:42<1:21:45,  8.73s/it]"
     ]
    },
    {
     "name": "stdout",
     "output_type": "stream",
     "text": [
      "An error occurred\n"
     ]
    },
    {
     "name": "stderr",
     "output_type": "stream",
     "text": [
      " 34%|███▎      | 285/846 [39:50<1:21:08,  8.68s/it]"
     ]
    },
    {
     "name": "stdout",
     "output_type": "stream",
     "text": [
      "An error occurred\n"
     ]
    },
    {
     "name": "stderr",
     "output_type": "stream",
     "text": [
      " 34%|███▍      | 286/846 [39:57<1:16:17,  8.17s/it]"
     ]
    },
    {
     "name": "stdout",
     "output_type": "stream",
     "text": [
      "An error occurred\n"
     ]
    },
    {
     "name": "stderr",
     "output_type": "stream",
     "text": [
      " 34%|███▍      | 287/846 [40:06<1:17:06,  8.28s/it]"
     ]
    },
    {
     "name": "stdout",
     "output_type": "stream",
     "text": [
      "An error occurred\n"
     ]
    },
    {
     "name": "stderr",
     "output_type": "stream",
     "text": [
      " 34%|███▍      | 288/846 [40:20<1:34:13, 10.13s/it]"
     ]
    },
    {
     "name": "stdout",
     "output_type": "stream",
     "text": [
      "An error occurred\n"
     ]
    },
    {
     "name": "stderr",
     "output_type": "stream",
     "text": [
      " 34%|███▍      | 289/846 [40:21<1:09:01,  7.44s/it]"
     ]
    },
    {
     "name": "stdout",
     "output_type": "stream",
     "text": [
      "An error occurred\n"
     ]
    },
    {
     "name": "stderr",
     "output_type": "stream",
     "text": [
      " 34%|███▍      | 290/846 [40:30<1:11:59,  7.77s/it]"
     ]
    },
    {
     "name": "stdout",
     "output_type": "stream",
     "text": [
      "An error occurred\n"
     ]
    },
    {
     "name": "stderr",
     "output_type": "stream",
     "text": [
      " 34%|███▍      | 291/846 [40:44<1:30:02,  9.73s/it]"
     ]
    },
    {
     "name": "stdout",
     "output_type": "stream",
     "text": [
      "An error occurred\n"
     ]
    },
    {
     "name": "stderr",
     "output_type": "stream",
     "text": [
      " 35%|███▍      | 292/846 [40:48<1:13:30,  7.96s/it]"
     ]
    },
    {
     "name": "stdout",
     "output_type": "stream",
     "text": [
      "An error occurred\n"
     ]
    },
    {
     "name": "stderr",
     "output_type": "stream",
     "text": [
      " 35%|███▍      | 293/846 [40:54<1:08:09,  7.39s/it]"
     ]
    },
    {
     "name": "stdout",
     "output_type": "stream",
     "text": [
      "An error occurred\n"
     ]
    },
    {
     "name": "stderr",
     "output_type": "stream",
     "text": [
      " 35%|███▍      | 294/846 [41:08<1:26:33,  9.41s/it]"
     ]
    },
    {
     "name": "stdout",
     "output_type": "stream",
     "text": [
      "An error occurred\n"
     ]
    },
    {
     "name": "stderr",
     "output_type": "stream",
     "text": [
      " 35%|███▍      | 295/846 [41:09<1:03:39,  6.93s/it]"
     ]
    },
    {
     "name": "stdout",
     "output_type": "stream",
     "text": [
      "An error occurred\n"
     ]
    },
    {
     "name": "stderr",
     "output_type": "stream",
     "text": [
      " 35%|███▍      | 296/846 [41:19<1:09:38,  7.60s/it]"
     ]
    },
    {
     "name": "stdout",
     "output_type": "stream",
     "text": [
      "An error occurred\n"
     ]
    },
    {
     "name": "stderr",
     "output_type": "stream",
     "text": [
      " 35%|███▌      | 297/846 [41:26<1:09:27,  7.59s/it]"
     ]
    },
    {
     "name": "stdout",
     "output_type": "stream",
     "text": [
      "An error occurred\n"
     ]
    },
    {
     "name": "stderr",
     "output_type": "stream",
     "text": [
      " 35%|███▌      | 298/846 [41:30<58:08,  6.37s/it]  "
     ]
    },
    {
     "name": "stdout",
     "output_type": "stream",
     "text": [
      "An error occurred\n"
     ]
    },
    {
     "name": "stderr",
     "output_type": "stream",
     "text": [
      " 35%|███▌      | 299/846 [41:37<1:01:33,  6.75s/it]"
     ]
    },
    {
     "name": "stdout",
     "output_type": "stream",
     "text": [
      "An error occurred\n"
     ]
    },
    {
     "name": "stderr",
     "output_type": "stream",
     "text": [
      " 35%|███▌      | 300/846 [41:53<1:25:11,  9.36s/it]"
     ]
    },
    {
     "name": "stdout",
     "output_type": "stream",
     "text": [
      "An error occurred\n"
     ]
    },
    {
     "name": "stderr",
     "output_type": "stream",
     "text": [
      " 36%|███▌      | 301/846 [41:54<1:02:48,  6.91s/it]"
     ]
    },
    {
     "name": "stdout",
     "output_type": "stream",
     "text": [
      "An error occurred\n"
     ]
    },
    {
     "name": "stderr",
     "output_type": "stream",
     "text": [
      " 36%|███▌      | 302/846 [42:02<1:04:22,  7.10s/it]"
     ]
    },
    {
     "name": "stdout",
     "output_type": "stream",
     "text": [
      "An error occurred\n"
     ]
    },
    {
     "name": "stderr",
     "output_type": "stream",
     "text": [
      " 36%|███▌      | 303/846 [42:17<1:26:32,  9.56s/it]"
     ]
    },
    {
     "name": "stdout",
     "output_type": "stream",
     "text": [
      "An error occurred\n"
     ]
    },
    {
     "name": "stderr",
     "output_type": "stream",
     "text": [
      " 36%|███▌      | 304/846 [42:31<1:38:54, 10.95s/it]"
     ]
    },
    {
     "name": "stdout",
     "output_type": "stream",
     "text": [
      "An error occurred\n"
     ]
    },
    {
     "name": "stderr",
     "output_type": "stream",
     "text": [
      " 36%|███▌      | 305/846 [42:34<1:16:59,  8.54s/it]"
     ]
    },
    {
     "name": "stdout",
     "output_type": "stream",
     "text": [
      "An error occurred\n"
     ]
    },
    {
     "name": "stderr",
     "output_type": "stream",
     "text": [
      " 36%|███▌      | 306/846 [42:41<1:12:18,  8.04s/it]"
     ]
    },
    {
     "name": "stdout",
     "output_type": "stream",
     "text": [
      "An error occurred\n"
     ]
    },
    {
     "name": "stderr",
     "output_type": "stream",
     "text": [
      " 36%|███▋      | 307/846 [42:55<1:28:47,  9.88s/it]"
     ]
    },
    {
     "name": "stdout",
     "output_type": "stream",
     "text": [
      "An error occurred\n"
     ]
    },
    {
     "name": "stderr",
     "output_type": "stream",
     "text": [
      " 36%|███▋      | 308/846 [42:56<1:03:49,  7.12s/it]"
     ]
    },
    {
     "name": "stdout",
     "output_type": "stream",
     "text": [
      "An error occurred\n"
     ]
    },
    {
     "name": "stderr",
     "output_type": "stream",
     "text": [
      " 37%|███▋      | 309/846 [43:10<1:23:26,  9.32s/it]"
     ]
    },
    {
     "name": "stdout",
     "output_type": "stream",
     "text": [
      "An error occurred\n"
     ]
    },
    {
     "name": "stderr",
     "output_type": "stream",
     "text": [
      " 37%|███▋      | 310/846 [43:19<1:22:00,  9.18s/it]"
     ]
    },
    {
     "name": "stdout",
     "output_type": "stream",
     "text": [
      "An error occurred\n"
     ]
    },
    {
     "name": "stderr",
     "output_type": "stream",
     "text": [
      " 37%|███▋      | 311/846 [43:20<59:24,  6.66s/it]  "
     ]
    },
    {
     "name": "stdout",
     "output_type": "stream",
     "text": [
      "An error occurred\n"
     ]
    },
    {
     "name": "stderr",
     "output_type": "stream",
     "text": [
      " 37%|███▋      | 312/846 [43:34<1:19:51,  8.97s/it]"
     ]
    },
    {
     "name": "stdout",
     "output_type": "stream",
     "text": [
      "An error occurred\n"
     ]
    },
    {
     "name": "stderr",
     "output_type": "stream",
     "text": [
      " 37%|███▋      | 313/846 [43:40<1:12:22,  8.15s/it]"
     ]
    },
    {
     "name": "stdout",
     "output_type": "stream",
     "text": [
      "An error occurred\n"
     ]
    },
    {
     "name": "stderr",
     "output_type": "stream",
     "text": [
      " 37%|███▋      | 314/846 [43:49<1:14:34,  8.41s/it]"
     ]
    },
    {
     "name": "stdout",
     "output_type": "stream",
     "text": [
      "An error occurred\n"
     ]
    },
    {
     "name": "stderr",
     "output_type": "stream",
     "text": [
      " 37%|███▋      | 315/846 [43:56<1:08:37,  7.75s/it]"
     ]
    },
    {
     "name": "stdout",
     "output_type": "stream",
     "text": [
      "An error occurred\n"
     ]
    },
    {
     "name": "stderr",
     "output_type": "stream",
     "text": [
      " 37%|███▋      | 316/846 [44:02<1:04:04,  7.25s/it]"
     ]
    },
    {
     "name": "stdout",
     "output_type": "stream",
     "text": [
      "An error occurred\n"
     ]
    },
    {
     "name": "stderr",
     "output_type": "stream",
     "text": [
      " 37%|███▋      | 317/846 [44:08<1:01:55,  7.02s/it]"
     ]
    },
    {
     "name": "stdout",
     "output_type": "stream",
     "text": [
      "An error occurred\n"
     ]
    },
    {
     "name": "stderr",
     "output_type": "stream",
     "text": [
      " 38%|███▊      | 318/846 [44:20<1:13:23,  8.34s/it]"
     ]
    },
    {
     "name": "stdout",
     "output_type": "stream",
     "text": [
      "An error occurred\n"
     ]
    },
    {
     "name": "stderr",
     "output_type": "stream",
     "text": [
      " 38%|███▊      | 319/846 [44:31<1:21:02,  9.23s/it]"
     ]
    },
    {
     "name": "stdout",
     "output_type": "stream",
     "text": [
      "An error occurred\n"
     ]
    },
    {
     "name": "stderr",
     "output_type": "stream",
     "text": [
      " 38%|███▊      | 320/846 [44:32<1:00:26,  6.89s/it]"
     ]
    },
    {
     "name": "stdout",
     "output_type": "stream",
     "text": [
      "An error occurred\n"
     ]
    },
    {
     "name": "stderr",
     "output_type": "stream",
     "text": [
      " 38%|███▊      | 321/846 [44:38<58:14,  6.66s/it]  "
     ]
    },
    {
     "name": "stdout",
     "output_type": "stream",
     "text": [
      "An error occurred\n"
     ]
    },
    {
     "name": "stderr",
     "output_type": "stream",
     "text": [
      " 38%|███▊      | 322/846 [44:54<1:20:43,  9.24s/it]"
     ]
    },
    {
     "name": "stdout",
     "output_type": "stream",
     "text": [
      "An error occurred\n"
     ]
    },
    {
     "name": "stderr",
     "output_type": "stream",
     "text": [
      " 38%|███▊      | 323/846 [44:57<1:05:32,  7.52s/it]"
     ]
    },
    {
     "name": "stdout",
     "output_type": "stream",
     "text": [
      "An error occurred\n"
     ]
    },
    {
     "name": "stderr",
     "output_type": "stream",
     "text": [
      " 38%|███▊      | 324/846 [45:01<54:47,  6.30s/it]  "
     ]
    },
    {
     "name": "stdout",
     "output_type": "stream",
     "text": [
      "An error occurred\n"
     ]
    },
    {
     "name": "stderr",
     "output_type": "stream",
     "text": [
      " 38%|███▊      | 325/846 [45:18<1:22:53,  9.55s/it]"
     ]
    },
    {
     "name": "stdout",
     "output_type": "stream",
     "text": [
      "An error occurred\n"
     ]
    },
    {
     "name": "stderr",
     "output_type": "stream",
     "text": [
      " 39%|███▊      | 326/846 [45:21<1:07:27,  7.78s/it]"
     ]
    },
    {
     "name": "stdout",
     "output_type": "stream",
     "text": [
      "An error occurred\n"
     ]
    },
    {
     "name": "stderr",
     "output_type": "stream",
     "text": [
      " 39%|███▊      | 327/846 [45:27<1:02:04,  7.18s/it]"
     ]
    },
    {
     "name": "stdout",
     "output_type": "stream",
     "text": [
      "An error occurred\n"
     ]
    },
    {
     "name": "stderr",
     "output_type": "stream",
     "text": [
      " 39%|███▉      | 328/846 [45:45<1:28:35, 10.26s/it]"
     ]
    },
    {
     "name": "stdout",
     "output_type": "stream",
     "text": [
      "An error occurred\n"
     ]
    },
    {
     "name": "stderr",
     "output_type": "stream",
     "text": [
      " 39%|███▉      | 329/846 [45:48<1:10:47,  8.22s/it]"
     ]
    },
    {
     "name": "stdout",
     "output_type": "stream",
     "text": [
      "An error occurred\n"
     ]
    },
    {
     "name": "stderr",
     "output_type": "stream",
     "text": [
      " 39%|███▉      | 330/846 [45:49<50:29,  5.87s/it]  "
     ]
    },
    {
     "name": "stdout",
     "output_type": "stream",
     "text": [
      "An error occurred\n"
     ]
    },
    {
     "name": "stderr",
     "output_type": "stream",
     "text": [
      " 39%|███▉      | 331/846 [46:03<1:13:37,  8.58s/it]"
     ]
    },
    {
     "name": "stdout",
     "output_type": "stream",
     "text": [
      "An error occurred\n"
     ]
    },
    {
     "name": "stderr",
     "output_type": "stream",
     "text": [
      " 39%|███▉      | 332/846 [46:05<54:49,  6.40s/it]  "
     ]
    },
    {
     "name": "stdout",
     "output_type": "stream",
     "text": [
      "An error occurred\n"
     ]
    },
    {
     "name": "stderr",
     "output_type": "stream",
     "text": [
      " 39%|███▉      | 333/846 [46:10<51:32,  6.03s/it]"
     ]
    },
    {
     "name": "stdout",
     "output_type": "stream",
     "text": [
      "An error occurred\n"
     ]
    },
    {
     "name": "stderr",
     "output_type": "stream",
     "text": [
      " 39%|███▉      | 334/846 [46:27<1:20:50,  9.47s/it]"
     ]
    },
    {
     "name": "stdout",
     "output_type": "stream",
     "text": [
      "An error occurred\n"
     ]
    },
    {
     "name": "stderr",
     "output_type": "stream",
     "text": [
      " 40%|███▉      | 335/846 [46:29<59:45,  7.02s/it]  "
     ]
    },
    {
     "name": "stdout",
     "output_type": "stream",
     "text": [
      "An error occurred\n"
     ]
    },
    {
     "name": "stderr",
     "output_type": "stream",
     "text": [
      " 40%|███▉      | 336/846 [46:31<48:37,  5.72s/it]"
     ]
    },
    {
     "name": "stdout",
     "output_type": "stream",
     "text": [
      "An error occurred\n"
     ]
    },
    {
     "name": "stderr",
     "output_type": "stream",
     "text": [
      " 40%|███▉      | 337/846 [46:44<1:04:49,  7.64s/it]"
     ]
    },
    {
     "name": "stdout",
     "output_type": "stream",
     "text": [
      "An error occurred\n"
     ]
    },
    {
     "name": "stderr",
     "output_type": "stream",
     "text": [
      " 40%|███▉      | 338/846 [46:50<1:01:53,  7.31s/it]"
     ]
    },
    {
     "name": "stdout",
     "output_type": "stream",
     "text": [
      "An error occurred\n"
     ]
    },
    {
     "name": "stderr",
     "output_type": "stream",
     "text": [
      " 40%|████      | 339/846 [47:01<1:10:14,  8.31s/it]"
     ]
    },
    {
     "name": "stdout",
     "output_type": "stream",
     "text": [
      "An error occurred\n"
     ]
    },
    {
     "name": "stderr",
     "output_type": "stream",
     "text": [
      " 40%|████      | 340/846 [47:25<1:49:47, 13.02s/it]"
     ]
    },
    {
     "name": "stdout",
     "output_type": "stream",
     "text": [
      "An error occurred\n"
     ]
    },
    {
     "name": "stderr",
     "output_type": "stream",
     "text": [
      " 40%|████      | 341/846 [47:28<1:25:23, 10.15s/it]"
     ]
    },
    {
     "name": "stdout",
     "output_type": "stream",
     "text": [
      "An error occurred\n"
     ]
    },
    {
     "name": "stderr",
     "output_type": "stream",
     "text": [
      " 40%|████      | 342/846 [47:49<1:51:23, 13.26s/it]"
     ]
    },
    {
     "name": "stdout",
     "output_type": "stream",
     "text": [
      "An error occurred\n"
     ]
    },
    {
     "name": "stderr",
     "output_type": "stream",
     "text": [
      " 41%|████      | 343/846 [48:03<1:53:54, 13.59s/it]"
     ]
    },
    {
     "name": "stdout",
     "output_type": "stream",
     "text": [
      "An error occurred\n"
     ]
    },
    {
     "name": "stderr",
     "output_type": "stream",
     "text": [
      " 41%|████      | 344/846 [48:08<1:33:03, 11.12s/it]"
     ]
    },
    {
     "name": "stdout",
     "output_type": "stream",
     "text": [
      "An error occurred\n"
     ]
    },
    {
     "name": "stderr",
     "output_type": "stream",
     "text": [
      " 41%|████      | 345/846 [48:10<1:09:13,  8.29s/it]"
     ]
    },
    {
     "name": "stdout",
     "output_type": "stream",
     "text": [
      "An error occurred\n"
     ]
    },
    {
     "name": "stderr",
     "output_type": "stream",
     "text": [
      " 41%|████      | 346/846 [48:30<1:37:24, 11.69s/it]"
     ]
    },
    {
     "name": "stdout",
     "output_type": "stream",
     "text": [
      "An error occurred\n"
     ]
    },
    {
     "name": "stderr",
     "output_type": "stream",
     "text": [
      " 41%|████      | 347/846 [48:34<1:19:07,  9.51s/it]"
     ]
    },
    {
     "name": "stdout",
     "output_type": "stream",
     "text": [
      "An error occurred\n"
     ]
    },
    {
     "name": "stderr",
     "output_type": "stream",
     "text": [
      " 41%|████      | 348/846 [48:38<1:05:13,  7.86s/it]"
     ]
    },
    {
     "name": "stdout",
     "output_type": "stream",
     "text": [
      "An error occurred\n"
     ]
    },
    {
     "name": "stderr",
     "output_type": "stream",
     "text": [
      " 41%|████▏     | 349/846 [48:56<1:29:31, 10.81s/it]"
     ]
    },
    {
     "name": "stdout",
     "output_type": "stream",
     "text": [
      "An error occurred\n"
     ]
    },
    {
     "name": "stderr",
     "output_type": "stream",
     "text": [
      " 41%|████▏     | 350/846 [48:57<1:05:03,  7.87s/it]"
     ]
    },
    {
     "name": "stdout",
     "output_type": "stream",
     "text": [
      "An error occurred\n"
     ]
    },
    {
     "name": "stderr",
     "output_type": "stream",
     "text": [
      " 41%|████▏     | 351/846 [49:15<1:30:47, 11.00s/it]"
     ]
    },
    {
     "name": "stdout",
     "output_type": "stream",
     "text": [
      "An error occurred\n"
     ]
    },
    {
     "name": "stderr",
     "output_type": "stream",
     "text": [
      " 42%|████▏     | 352/846 [49:22<1:21:19,  9.88s/it]"
     ]
    },
    {
     "name": "stdout",
     "output_type": "stream",
     "text": [
      "An error occurred\n"
     ]
    },
    {
     "name": "stderr",
     "output_type": "stream",
     "text": [
      " 42%|████▏     | 353/846 [49:24<59:49,  7.28s/it]  "
     ]
    },
    {
     "name": "stdout",
     "output_type": "stream",
     "text": [
      "An error occurred\n"
     ]
    },
    {
     "name": "stderr",
     "output_type": "stream",
     "text": [
      " 42%|████▏     | 354/846 [49:39<1:19:56,  9.75s/it]"
     ]
    },
    {
     "name": "stdout",
     "output_type": "stream",
     "text": [
      "An error occurred\n"
     ]
    },
    {
     "name": "stderr",
     "output_type": "stream",
     "text": [
      " 42%|████▏     | 355/846 [49:58<1:42:47, 12.56s/it]"
     ]
    },
    {
     "name": "stdout",
     "output_type": "stream",
     "text": [
      "An error occurred\n"
     ]
    },
    {
     "name": "stderr",
     "output_type": "stream",
     "text": [
      " 42%|████▏     | 356/846 [50:00<1:14:57,  9.18s/it]"
     ]
    },
    {
     "name": "stdout",
     "output_type": "stream",
     "text": [
      "An error occurred\n"
     ]
    },
    {
     "name": "stderr",
     "output_type": "stream",
     "text": [
      " 42%|████▏     | 357/846 [50:03<1:01:09,  7.50s/it]"
     ]
    },
    {
     "name": "stdout",
     "output_type": "stream",
     "text": [
      "An error occurred\n"
     ]
    },
    {
     "name": "stderr",
     "output_type": "stream",
     "text": [
      " 42%|████▏     | 358/846 [50:16<1:14:58,  9.22s/it]"
     ]
    },
    {
     "name": "stdout",
     "output_type": "stream",
     "text": [
      "An error occurred\n"
     ]
    },
    {
     "name": "stderr",
     "output_type": "stream",
     "text": [
      " 42%|████▏     | 359/846 [50:20<1:00:14,  7.42s/it]"
     ]
    },
    {
     "name": "stdout",
     "output_type": "stream",
     "text": [
      "An error occurred\n"
     ]
    },
    {
     "name": "stderr",
     "output_type": "stream",
     "text": [
      " 43%|████▎     | 360/846 [50:27<1:01:02,  7.54s/it]"
     ]
    },
    {
     "name": "stdout",
     "output_type": "stream",
     "text": [
      "An error occurred\n"
     ]
    },
    {
     "name": "stderr",
     "output_type": "stream",
     "text": [
      " 43%|████▎     | 361/846 [50:36<1:02:49,  7.77s/it]"
     ]
    },
    {
     "name": "stdout",
     "output_type": "stream",
     "text": [
      "An error occurred\n"
     ]
    },
    {
     "name": "stderr",
     "output_type": "stream",
     "text": [
      " 43%|████▎     | 362/846 [50:40<55:02,  6.82s/it]  "
     ]
    },
    {
     "name": "stdout",
     "output_type": "stream",
     "text": [
      "An error occurred\n"
     ]
    },
    {
     "name": "stderr",
     "output_type": "stream",
     "text": [
      " 43%|████▎     | 363/846 [50:49<59:15,  7.36s/it]"
     ]
    },
    {
     "name": "stdout",
     "output_type": "stream",
     "text": [
      "An error occurred\n"
     ]
    },
    {
     "name": "stderr",
     "output_type": "stream",
     "text": [
      " 43%|████▎     | 364/846 [50:59<1:05:52,  8.20s/it]"
     ]
    },
    {
     "name": "stdout",
     "output_type": "stream",
     "text": [
      "An error occurred\n"
     ]
    },
    {
     "name": "stderr",
     "output_type": "stream",
     "text": [
      " 43%|████▎     | 365/846 [51:00<47:28,  5.92s/it]  "
     ]
    },
    {
     "name": "stdout",
     "output_type": "stream",
     "text": [
      "An error occurred\n"
     ]
    },
    {
     "name": "stderr",
     "output_type": "stream",
     "text": [
      " 43%|████▎     | 366/846 [51:11<59:59,  7.50s/it]"
     ]
    },
    {
     "name": "stdout",
     "output_type": "stream",
     "text": [
      "An error occurred\n"
     ]
    },
    {
     "name": "stderr",
     "output_type": "stream",
     "text": [
      " 43%|████▎     | 367/846 [51:26<1:19:16,  9.93s/it]"
     ]
    },
    {
     "name": "stdout",
     "output_type": "stream",
     "text": [
      "An error occurred\n"
     ]
    },
    {
     "name": "stderr",
     "output_type": "stream",
     "text": [
      " 43%|████▎     | 368/846 [51:28<59:52,  7.52s/it]  "
     ]
    },
    {
     "name": "stdout",
     "output_type": "stream",
     "text": [
      "An error occurred\n"
     ]
    },
    {
     "name": "stderr",
     "output_type": "stream",
     "text": [
      " 44%|████▎     | 369/846 [51:43<1:16:22,  9.61s/it]"
     ]
    },
    {
     "name": "stdout",
     "output_type": "stream",
     "text": [
      "An error occurred\n"
     ]
    },
    {
     "name": "stderr",
     "output_type": "stream",
     "text": [
      " 44%|████▎     | 370/846 [51:55<1:22:31, 10.40s/it]"
     ]
    },
    {
     "name": "stdout",
     "output_type": "stream",
     "text": [
      "An error occurred\n"
     ]
    },
    {
     "name": "stderr",
     "output_type": "stream",
     "text": [
      " 44%|████▍     | 371/846 [52:01<1:11:38,  9.05s/it]"
     ]
    },
    {
     "name": "stdout",
     "output_type": "stream",
     "text": [
      "An error occurred\n"
     ]
    },
    {
     "name": "stderr",
     "output_type": "stream",
     "text": [
      " 44%|████▍     | 372/846 [52:04<57:35,  7.29s/it]  "
     ]
    },
    {
     "name": "stdout",
     "output_type": "stream",
     "text": [
      "An error occurred\n"
     ]
    },
    {
     "name": "stderr",
     "output_type": "stream",
     "text": [
      " 44%|████▍     | 373/846 [52:22<1:23:14, 10.56s/it]"
     ]
    },
    {
     "name": "stdout",
     "output_type": "stream",
     "text": [
      "An error occurred\n"
     ]
    },
    {
     "name": "stderr",
     "output_type": "stream",
     "text": [
      " 44%|████▍     | 374/846 [52:32<1:22:00, 10.42s/it]"
     ]
    },
    {
     "name": "stdout",
     "output_type": "stream",
     "text": [
      "An error occurred\n"
     ]
    },
    {
     "name": "stderr",
     "output_type": "stream",
     "text": [
      " 44%|████▍     | 375/846 [52:44<1:25:16, 10.86s/it]"
     ]
    },
    {
     "name": "stdout",
     "output_type": "stream",
     "text": [
      "An error occurred\n"
     ]
    },
    {
     "name": "stderr",
     "output_type": "stream",
     "text": [
      " 44%|████▍     | 376/846 [52:47<1:04:38,  8.25s/it]"
     ]
    },
    {
     "name": "stdout",
     "output_type": "stream",
     "text": [
      "An error occurred\n"
     ]
    },
    {
     "name": "stderr",
     "output_type": "stream",
     "text": [
      " 45%|████▍     | 377/846 [53:02<1:21:03, 10.37s/it]"
     ]
    },
    {
     "name": "stdout",
     "output_type": "stream",
     "text": [
      "An error occurred\n"
     ]
    },
    {
     "name": "stderr",
     "output_type": "stream",
     "text": [
      " 45%|████▍     | 378/846 [53:11<1:17:42,  9.96s/it]"
     ]
    },
    {
     "name": "stdout",
     "output_type": "stream",
     "text": [
      "An error occurred\n"
     ]
    },
    {
     "name": "stderr",
     "output_type": "stream",
     "text": [
      " 45%|████▍     | 379/846 [53:14<1:01:42,  7.93s/it]"
     ]
    },
    {
     "name": "stdout",
     "output_type": "stream",
     "text": [
      "An error occurred\n"
     ]
    },
    {
     "name": "stderr",
     "output_type": "stream",
     "text": [
      " 45%|████▍     | 380/846 [53:28<1:16:35,  9.86s/it]"
     ]
    },
    {
     "name": "stdout",
     "output_type": "stream",
     "text": [
      "An error occurred\n"
     ]
    },
    {
     "name": "stderr",
     "output_type": "stream",
     "text": [
      " 45%|████▌     | 381/846 [53:35<1:08:50,  8.88s/it]"
     ]
    },
    {
     "name": "stdout",
     "output_type": "stream",
     "text": [
      "An error occurred\n"
     ]
    },
    {
     "name": "stderr",
     "output_type": "stream",
     "text": [
      " 45%|████▌     | 382/846 [53:38<55:11,  7.14s/it]  "
     ]
    },
    {
     "name": "stdout",
     "output_type": "stream",
     "text": [
      "An error occurred\n"
     ]
    },
    {
     "name": "stderr",
     "output_type": "stream",
     "text": [
      " 45%|████▌     | 383/846 [53:50<1:05:54,  8.54s/it]"
     ]
    },
    {
     "name": "stdout",
     "output_type": "stream",
     "text": [
      "An error occurred\n"
     ]
    },
    {
     "name": "stderr",
     "output_type": "stream",
     "text": [
      " 45%|████▌     | 384/846 [53:54<56:03,  7.28s/it]  "
     ]
    },
    {
     "name": "stdout",
     "output_type": "stream",
     "text": [
      "An error occurred\n"
     ]
    },
    {
     "name": "stderr",
     "output_type": "stream",
     "text": [
      " 46%|████▌     | 385/846 [53:59<50:14,  6.54s/it]"
     ]
    },
    {
     "name": "stdout",
     "output_type": "stream",
     "text": [
      "An error occurred\n"
     ]
    },
    {
     "name": "stderr",
     "output_type": "stream",
     "text": [
      " 46%|████▌     | 386/846 [54:09<57:18,  7.47s/it]"
     ]
    },
    {
     "name": "stdout",
     "output_type": "stream",
     "text": [
      "An error occurred\n"
     ]
    },
    {
     "name": "stderr",
     "output_type": "stream",
     "text": [
      " 46%|████▌     | 387/846 [54:19<1:02:45,  8.20s/it]"
     ]
    },
    {
     "name": "stdout",
     "output_type": "stream",
     "text": [
      "An error occurred\n"
     ]
    },
    {
     "name": "stderr",
     "output_type": "stream",
     "text": [
      " 46%|████▌     | 388/846 [54:21<48:42,  6.38s/it]  "
     ]
    },
    {
     "name": "stdout",
     "output_type": "stream",
     "text": [
      "An error occurred\n"
     ]
    },
    {
     "name": "stderr",
     "output_type": "stream",
     "text": [
      " 46%|████▌     | 389/846 [54:27<49:23,  6.48s/it]"
     ]
    },
    {
     "name": "stdout",
     "output_type": "stream",
     "text": [
      "An error occurred\n"
     ]
    },
    {
     "name": "stderr",
     "output_type": "stream",
     "text": [
      " 46%|████▌     | 390/846 [54:48<1:20:38, 10.61s/it]"
     ]
    },
    {
     "name": "stdout",
     "output_type": "stream",
     "text": [
      "An error occurred\n"
     ]
    },
    {
     "name": "stderr",
     "output_type": "stream",
     "text": [
      " 46%|████▌     | 391/846 [54:51<1:04:02,  8.44s/it]"
     ]
    },
    {
     "name": "stdout",
     "output_type": "stream",
     "text": [
      "An error occurred\n"
     ]
    },
    {
     "name": "stderr",
     "output_type": "stream",
     "text": [
      " 46%|████▋     | 392/846 [54:54<52:12,  6.90s/it]  "
     ]
    },
    {
     "name": "stdout",
     "output_type": "stream",
     "text": [
      "An error occurred\n"
     ]
    },
    {
     "name": "stderr",
     "output_type": "stream",
     "text": [
      " 46%|████▋     | 393/846 [55:09<1:10:12,  9.30s/it]"
     ]
    },
    {
     "name": "stdout",
     "output_type": "stream",
     "text": [
      "An error occurred\n"
     ]
    },
    {
     "name": "stderr",
     "output_type": "stream",
     "text": [
      " 47%|████▋     | 394/846 [55:18<1:08:05,  9.04s/it]"
     ]
    },
    {
     "name": "stdout",
     "output_type": "stream",
     "text": [
      "An error occurred\n"
     ]
    },
    {
     "name": "stderr",
     "output_type": "stream",
     "text": [
      " 47%|████▋     | 395/846 [55:21<55:00,  7.32s/it]  "
     ]
    },
    {
     "name": "stdout",
     "output_type": "stream",
     "text": [
      "An error occurred\n"
     ]
    },
    {
     "name": "stderr",
     "output_type": "stream",
     "text": [
      " 47%|████▋     | 396/846 [55:36<1:12:16,  9.64s/it]"
     ]
    },
    {
     "name": "stdout",
     "output_type": "stream",
     "text": [
      "An error occurred\n"
     ]
    },
    {
     "name": "stderr",
     "output_type": "stream",
     "text": [
      " 47%|████▋     | 397/846 [55:42<1:03:28,  8.48s/it]"
     ]
    },
    {
     "name": "stdout",
     "output_type": "stream",
     "text": [
      "An error occurred\n"
     ]
    },
    {
     "name": "stderr",
     "output_type": "stream",
     "text": [
      " 47%|████▋     | 398/846 [55:48<57:12,  7.66s/it]  "
     ]
    },
    {
     "name": "stdout",
     "output_type": "stream",
     "text": [
      "An error occurred\n"
     ]
    },
    {
     "name": "stderr",
     "output_type": "stream",
     "text": [
      " 47%|████▋     | 399/846 [56:08<1:24:35, 11.35s/it]"
     ]
    },
    {
     "name": "stdout",
     "output_type": "stream",
     "text": [
      "An error occurred\n"
     ]
    },
    {
     "name": "stderr",
     "output_type": "stream",
     "text": [
      " 47%|████▋     | 401/846 [56:08<42:37,  5.75s/it]  "
     ]
    },
    {
     "name": "stdout",
     "output_type": "stream",
     "text": [
      "An error occurred\n",
      "An error occurred\n"
     ]
    },
    {
     "name": "stderr",
     "output_type": "stream",
     "text": [
      " 48%|████▊     | 402/846 [56:30<1:17:04, 10.42s/it]"
     ]
    },
    {
     "name": "stdout",
     "output_type": "stream",
     "text": [
      "An error occurred\n"
     ]
    },
    {
     "name": "stderr",
     "output_type": "stream",
     "text": [
      " 48%|████▊     | 403/846 [56:32<58:42,  7.95s/it]  "
     ]
    },
    {
     "name": "stdout",
     "output_type": "stream",
     "text": [
      "An error occurred\n"
     ]
    },
    {
     "name": "stderr",
     "output_type": "stream",
     "text": [
      " 48%|████▊     | 404/846 [56:32<42:18,  5.74s/it]"
     ]
    },
    {
     "name": "stdout",
     "output_type": "stream",
     "text": [
      "An error occurred\n"
     ]
    },
    {
     "name": "stderr",
     "output_type": "stream",
     "text": [
      " 48%|████▊     | 405/846 [56:57<1:22:37, 11.24s/it]"
     ]
    },
    {
     "name": "stdout",
     "output_type": "stream",
     "text": [
      "An error occurred\n"
     ]
    },
    {
     "name": "stderr",
     "output_type": "stream",
     "text": [
      " 48%|████▊     | 406/846 [57:01<1:08:10,  9.30s/it]"
     ]
    },
    {
     "name": "stdout",
     "output_type": "stream",
     "text": [
      "An error occurred\n"
     ]
    },
    {
     "name": "stderr",
     "output_type": "stream",
     "text": [
      " 48%|████▊     | 407/846 [57:04<54:13,  7.41s/it]  "
     ]
    },
    {
     "name": "stdout",
     "output_type": "stream",
     "text": [
      "An error occurred\n"
     ]
    },
    {
     "name": "stderr",
     "output_type": "stream",
     "text": [
      " 48%|████▊     | 408/846 [57:18<1:07:02,  9.18s/it]"
     ]
    },
    {
     "name": "stdout",
     "output_type": "stream",
     "text": [
      "An error occurred\n"
     ]
    },
    {
     "name": "stderr",
     "output_type": "stream",
     "text": [
      " 48%|████▊     | 409/846 [57:18<48:39,  6.68s/it]  "
     ]
    },
    {
     "name": "stdout",
     "output_type": "stream",
     "text": [
      "An error occurred\n"
     ]
    },
    {
     "name": "stderr",
     "output_type": "stream",
     "text": [
      " 48%|████▊     | 410/846 [57:31<1:01:34,  8.47s/it]"
     ]
    },
    {
     "name": "stdout",
     "output_type": "stream",
     "text": [
      "An error occurred\n"
     ]
    },
    {
     "name": "stderr",
     "output_type": "stream",
     "text": [
      " 49%|████▊     | 411/846 [57:39<1:00:11,  8.30s/it]"
     ]
    },
    {
     "name": "stdout",
     "output_type": "stream",
     "text": [
      "An error occurred\n"
     ]
    },
    {
     "name": "stderr",
     "output_type": "stream",
     "text": [
      " 49%|████▊     | 412/846 [57:41<46:14,  6.39s/it]  "
     ]
    },
    {
     "name": "stdout",
     "output_type": "stream",
     "text": [
      "An error occurred\n"
     ]
    },
    {
     "name": "stderr",
     "output_type": "stream",
     "text": [
      " 49%|████▉     | 413/846 [57:58<1:09:08,  9.58s/it]"
     ]
    },
    {
     "name": "stdout",
     "output_type": "stream",
     "text": [
      "An error occurred\n"
     ]
    },
    {
     "name": "stderr",
     "output_type": "stream",
     "text": [
      " 49%|████▉     | 414/846 [58:06<1:04:51,  9.01s/it]"
     ]
    },
    {
     "name": "stdout",
     "output_type": "stream",
     "text": [
      "An error occurred\n"
     ]
    },
    {
     "name": "stderr",
     "output_type": "stream",
     "text": [
      " 49%|████▉     | 415/846 [58:10<55:10,  7.68s/it]  "
     ]
    },
    {
     "name": "stdout",
     "output_type": "stream",
     "text": [
      "An error occurred\n"
     ]
    },
    {
     "name": "stderr",
     "output_type": "stream",
     "text": [
      " 49%|████▉     | 416/846 [58:19<58:09,  8.12s/it]"
     ]
    },
    {
     "name": "stdout",
     "output_type": "stream",
     "text": [
      "An error occurred\n"
     ]
    },
    {
     "name": "stderr",
     "output_type": "stream",
     "text": [
      " 49%|████▉     | 417/846 [58:29<1:01:37,  8.62s/it]"
     ]
    },
    {
     "name": "stdout",
     "output_type": "stream",
     "text": [
      "An error occurred\n"
     ]
    },
    {
     "name": "stderr",
     "output_type": "stream",
     "text": [
      " 49%|████▉     | 418/846 [58:30<44:30,  6.24s/it]  "
     ]
    },
    {
     "name": "stdout",
     "output_type": "stream",
     "text": [
      "An error occurred\n"
     ]
    },
    {
     "name": "stderr",
     "output_type": "stream",
     "text": [
      " 50%|████▉     | 419/846 [58:38<48:49,  6.86s/it]"
     ]
    },
    {
     "name": "stdout",
     "output_type": "stream",
     "text": [
      "An error occurred\n"
     ]
    },
    {
     "name": "stderr",
     "output_type": "stream",
     "text": [
      " 50%|████▉     | 420/846 [58:51<1:00:45,  8.56s/it]"
     ]
    },
    {
     "name": "stdout",
     "output_type": "stream",
     "text": [
      "An error occurred\n"
     ]
    },
    {
     "name": "stderr",
     "output_type": "stream",
     "text": [
      " 50%|████▉     | 421/846 [58:52<44:12,  6.24s/it]  "
     ]
    },
    {
     "name": "stdout",
     "output_type": "stream",
     "text": [
      "An error occurred\n"
     ]
    },
    {
     "name": "stderr",
     "output_type": "stream",
     "text": [
      " 50%|████▉     | 422/846 [59:00<47:52,  6.78s/it]"
     ]
    },
    {
     "name": "stdout",
     "output_type": "stream",
     "text": [
      "An error occurred\n"
     ]
    },
    {
     "name": "stderr",
     "output_type": "stream",
     "text": [
      " 50%|█████     | 423/846 [59:18<1:12:36, 10.30s/it]"
     ]
    },
    {
     "name": "stdout",
     "output_type": "stream",
     "text": [
      "An error occurred\n"
     ]
    },
    {
     "name": "stderr",
     "output_type": "stream",
     "text": [
      " 50%|█████     | 424/846 [59:21<56:30,  8.03s/it]  "
     ]
    },
    {
     "name": "stdout",
     "output_type": "stream",
     "text": [
      "An error occurred\n"
     ]
    },
    {
     "name": "stderr",
     "output_type": "stream",
     "text": [
      " 50%|█████     | 425/846 [59:23<43:28,  6.20s/it]"
     ]
    },
    {
     "name": "stdout",
     "output_type": "stream",
     "text": [
      "An error occurred\n"
     ]
    },
    {
     "name": "stderr",
     "output_type": "stream",
     "text": [
      " 50%|█████     | 426/846 [59:39<1:05:32,  9.36s/it]"
     ]
    },
    {
     "name": "stdout",
     "output_type": "stream",
     "text": [
      "An error occurred\n"
     ]
    },
    {
     "name": "stderr",
     "output_type": "stream",
     "text": [
      " 50%|█████     | 427/846 [59:47<1:01:26,  8.80s/it]"
     ]
    },
    {
     "name": "stdout",
     "output_type": "stream",
     "text": [
      "An error occurred\n"
     ]
    },
    {
     "name": "stderr",
     "output_type": "stream",
     "text": [
      " 51%|█████     | 428/846 [59:47<43:50,  6.29s/it]  "
     ]
    },
    {
     "name": "stdout",
     "output_type": "stream",
     "text": [
      "An error occurred\n"
     ]
    },
    {
     "name": "stderr",
     "output_type": "stream",
     "text": [
      " 51%|█████     | 429/846 [1:00:01<59:17,  8.53s/it]"
     ]
    },
    {
     "name": "stdout",
     "output_type": "stream",
     "text": [
      "An error occurred\n"
     ]
    },
    {
     "name": "stderr",
     "output_type": "stream",
     "text": [
      " 51%|█████     | 430/846 [1:00:24<1:29:06, 12.85s/it]"
     ]
    },
    {
     "name": "stdout",
     "output_type": "stream",
     "text": [
      "An error occurred\n"
     ]
    },
    {
     "name": "stderr",
     "output_type": "stream",
     "text": [
      " 51%|█████     | 431/846 [1:00:25<1:04:03,  9.26s/it]"
     ]
    },
    {
     "name": "stdout",
     "output_type": "stream",
     "text": [
      "An error occurred\n"
     ]
    },
    {
     "name": "stderr",
     "output_type": "stream",
     "text": [
      " 51%|█████     | 432/846 [1:00:30<56:00,  8.12s/it]  "
     ]
    },
    {
     "name": "stdout",
     "output_type": "stream",
     "text": [
      "An error occurred\n"
     ]
    },
    {
     "name": "stderr",
     "output_type": "stream",
     "text": [
      " 51%|█████     | 433/846 [1:00:49<1:18:00, 11.33s/it]"
     ]
    },
    {
     "name": "stdout",
     "output_type": "stream",
     "text": [
      "An error occurred\n"
     ]
    },
    {
     "name": "stderr",
     "output_type": "stream",
     "text": [
      " 51%|█████▏    | 434/846 [1:00:51<57:27,  8.37s/it]  "
     ]
    },
    {
     "name": "stdout",
     "output_type": "stream",
     "text": [
      "An error occurred\n"
     ]
    },
    {
     "name": "stderr",
     "output_type": "stream",
     "text": [
      " 51%|█████▏    | 435/846 [1:00:52<42:38,  6.22s/it]"
     ]
    },
    {
     "name": "stdout",
     "output_type": "stream",
     "text": [
      "An error occurred\n"
     ]
    },
    {
     "name": "stderr",
     "output_type": "stream",
     "text": [
      " 52%|█████▏    | 436/846 [1:01:11<1:08:19, 10.00s/it]"
     ]
    },
    {
     "name": "stdout",
     "output_type": "stream",
     "text": [
      "An error occurred\n"
     ]
    },
    {
     "name": "stderr",
     "output_type": "stream",
     "text": [
      " 52%|█████▏    | 437/846 [1:01:17<1:01:07,  8.97s/it]"
     ]
    },
    {
     "name": "stdout",
     "output_type": "stream",
     "text": [
      "An error occurred\n"
     ]
    },
    {
     "name": "stderr",
     "output_type": "stream",
     "text": [
      " 52%|█████▏    | 438/846 [1:01:30<1:07:38,  9.95s/it]"
     ]
    },
    {
     "name": "stdout",
     "output_type": "stream",
     "text": [
      "An error occurred\n"
     ]
    },
    {
     "name": "stderr",
     "output_type": "stream",
     "text": [
      " 52%|█████▏    | 439/846 [1:01:39<1:06:03,  9.74s/it]"
     ]
    },
    {
     "name": "stdout",
     "output_type": "stream",
     "text": [
      "An error occurred\n"
     ]
    },
    {
     "name": "stderr",
     "output_type": "stream",
     "text": [
      " 52%|█████▏    | 440/846 [1:01:51<1:11:00, 10.49s/it]"
     ]
    },
    {
     "name": "stdout",
     "output_type": "stream",
     "text": [
      "An error occurred\n"
     ]
    },
    {
     "name": "stderr",
     "output_type": "stream",
     "text": [
      " 52%|█████▏    | 441/846 [1:01:58<1:03:31,  9.41s/it]"
     ]
    },
    {
     "name": "stdout",
     "output_type": "stream",
     "text": [
      "An error occurred\n"
     ]
    },
    {
     "name": "stderr",
     "output_type": "stream",
     "text": [
      " 52%|█████▏    | 442/846 [1:02:03<54:13,  8.05s/it]  "
     ]
    },
    {
     "name": "stdout",
     "output_type": "stream",
     "text": [
      "An error occurred\n"
     ]
    },
    {
     "name": "stderr",
     "output_type": "stream",
     "text": [
      " 52%|█████▏    | 443/846 [1:02:18<1:07:48, 10.09s/it]"
     ]
    },
    {
     "name": "stdout",
     "output_type": "stream",
     "text": [
      "An error occurred\n"
     ]
    },
    {
     "name": "stderr",
     "output_type": "stream",
     "text": [
      " 52%|█████▏    | 444/846 [1:02:27<1:06:12,  9.88s/it]"
     ]
    },
    {
     "name": "stdout",
     "output_type": "stream",
     "text": [
      "An error occurred\n"
     ]
    },
    {
     "name": "stderr",
     "output_type": "stream",
     "text": [
      " 53%|█████▎    | 445/846 [1:02:45<1:21:28, 12.19s/it]"
     ]
    },
    {
     "name": "stdout",
     "output_type": "stream",
     "text": [
      "An error occurred\n"
     ]
    },
    {
     "name": "stderr",
     "output_type": "stream",
     "text": [
      " 53%|█████▎    | 446/846 [1:02:46<59:23,  8.91s/it]  "
     ]
    },
    {
     "name": "stdout",
     "output_type": "stream",
     "text": [
      "An error occurred\n"
     ]
    },
    {
     "name": "stderr",
     "output_type": "stream",
     "text": [
      " 53%|█████▎    | 447/846 [1:03:06<1:21:59, 12.33s/it]"
     ]
    },
    {
     "name": "stdout",
     "output_type": "stream",
     "text": [
      "An error occurred\n"
     ]
    },
    {
     "name": "stderr",
     "output_type": "stream",
     "text": [
      " 53%|█████▎    | 448/846 [1:03:07<59:47,  9.01s/it]  "
     ]
    },
    {
     "name": "stdout",
     "output_type": "stream",
     "text": [
      "An error occurred\n"
     ]
    },
    {
     "name": "stderr",
     "output_type": "stream",
     "text": [
      " 53%|█████▎    | 449/846 [1:03:15<57:21,  8.67s/it]"
     ]
    },
    {
     "name": "stdout",
     "output_type": "stream",
     "text": [
      "An error occurred\n"
     ]
    },
    {
     "name": "stderr",
     "output_type": "stream",
     "text": [
      " 53%|█████▎    | 450/846 [1:03:39<1:27:50, 13.31s/it]"
     ]
    },
    {
     "name": "stdout",
     "output_type": "stream",
     "text": [
      "An error occurred\n"
     ]
    },
    {
     "name": "stderr",
     "output_type": "stream",
     "text": [
      " 53%|█████▎    | 451/846 [1:03:42<1:06:21, 10.08s/it]"
     ]
    },
    {
     "name": "stdout",
     "output_type": "stream",
     "text": [
      "An error occurred\n"
     ]
    },
    {
     "name": "stderr",
     "output_type": "stream",
     "text": [
      " 53%|█████▎    | 452/846 [1:03:46<54:31,  8.30s/it]  "
     ]
    },
    {
     "name": "stdout",
     "output_type": "stream",
     "text": [
      "An error occurred\n"
     ]
    },
    {
     "name": "stderr",
     "output_type": "stream",
     "text": [
      " 54%|█████▎    | 453/846 [1:04:03<1:12:04, 11.00s/it]"
     ]
    },
    {
     "name": "stdout",
     "output_type": "stream",
     "text": [
      "An error occurred\n"
     ]
    },
    {
     "name": "stderr",
     "output_type": "stream",
     "text": [
      " 54%|█████▎    | 454/846 [1:04:06<55:58,  8.57s/it]  "
     ]
    },
    {
     "name": "stdout",
     "output_type": "stream",
     "text": [
      "An error occurred\n"
     ]
    },
    {
     "name": "stderr",
     "output_type": "stream",
     "text": [
      " 54%|█████▍    | 455/846 [1:04:08<41:26,  6.36s/it]"
     ]
    },
    {
     "name": "stdout",
     "output_type": "stream",
     "text": [
      "An error occurred\n"
     ]
    },
    {
     "name": "stderr",
     "output_type": "stream",
     "text": [
      " 54%|█████▍    | 456/846 [1:04:22<56:38,  8.72s/it]"
     ]
    },
    {
     "name": "stdout",
     "output_type": "stream",
     "text": [
      "An error occurred\n"
     ]
    },
    {
     "name": "stderr",
     "output_type": "stream",
     "text": [
      " 54%|█████▍    | 457/846 [1:04:25<45:39,  7.04s/it]"
     ]
    },
    {
     "name": "stdout",
     "output_type": "stream",
     "text": [
      "An error occurred\n"
     ]
    },
    {
     "name": "stderr",
     "output_type": "stream",
     "text": [
      " 54%|█████▍    | 458/846 [1:04:28<37:20,  5.78s/it]"
     ]
    },
    {
     "name": "stdout",
     "output_type": "stream",
     "text": [
      "An error occurred\n"
     ]
    },
    {
     "name": "stderr",
     "output_type": "stream",
     "text": [
      " 54%|█████▍    | 459/846 [1:04:43<55:54,  8.67s/it]"
     ]
    },
    {
     "name": "stdout",
     "output_type": "stream",
     "text": [
      "An error occurred\n"
     ]
    },
    {
     "name": "stderr",
     "output_type": "stream",
     "text": [
      " 54%|█████▍    | 460/846 [1:04:46<45:30,  7.07s/it]"
     ]
    },
    {
     "name": "stdout",
     "output_type": "stream",
     "text": [
      "An error occurred\n"
     ]
    },
    {
     "name": "stderr",
     "output_type": "stream",
     "text": [
      " 54%|█████▍    | 461/846 [1:04:49<36:20,  5.66s/it]"
     ]
    },
    {
     "name": "stdout",
     "output_type": "stream",
     "text": [
      "An error occurred\n"
     ]
    },
    {
     "name": "stderr",
     "output_type": "stream",
     "text": [
      " 55%|█████▍    | 462/846 [1:05:02<50:31,  7.89s/it]"
     ]
    },
    {
     "name": "stdout",
     "output_type": "stream",
     "text": [
      "An error occurred\n"
     ]
    },
    {
     "name": "stderr",
     "output_type": "stream",
     "text": [
      " 55%|█████▍    | 463/846 [1:05:06<42:07,  6.60s/it]"
     ]
    },
    {
     "name": "stdout",
     "output_type": "stream",
     "text": [
      "An error occurred\n"
     ]
    },
    {
     "name": "stderr",
     "output_type": "stream",
     "text": [
      " 55%|█████▍    | 464/846 [1:05:23<1:03:34,  9.98s/it]"
     ]
    },
    {
     "name": "stdout",
     "output_type": "stream",
     "text": [
      "An error occurred\n"
     ]
    },
    {
     "name": "stderr",
     "output_type": "stream",
     "text": [
      " 55%|█████▍    | 465/846 [1:05:29<54:49,  8.63s/it]  "
     ]
    },
    {
     "name": "stdout",
     "output_type": "stream",
     "text": [
      "An error occurred\n"
     ]
    },
    {
     "name": "stderr",
     "output_type": "stream",
     "text": [
      " 55%|█████▌    | 466/846 [1:05:30<39:29,  6.24s/it]"
     ]
    },
    {
     "name": "stdout",
     "output_type": "stream",
     "text": [
      "An error occurred\n"
     ]
    },
    {
     "name": "stderr",
     "output_type": "stream",
     "text": [
      " 55%|█████▌    | 467/846 [1:05:50<1:06:35, 10.54s/it]"
     ]
    },
    {
     "name": "stdout",
     "output_type": "stream",
     "text": [
      "An error occurred\n"
     ]
    },
    {
     "name": "stderr",
     "output_type": "stream",
     "text": [
      " 55%|█████▌    | 468/846 [1:05:53<51:43,  8.21s/it]  "
     ]
    },
    {
     "name": "stdout",
     "output_type": "stream",
     "text": [
      "An error occurred\n"
     ]
    },
    {
     "name": "stderr",
     "output_type": "stream",
     "text": [
      " 55%|█████▌    | 469/846 [1:05:56<42:51,  6.82s/it]"
     ]
    },
    {
     "name": "stdout",
     "output_type": "stream",
     "text": [
      "An error occurred\n"
     ]
    },
    {
     "name": "stderr",
     "output_type": "stream",
     "text": [
      " 56%|█████▌    | 470/846 [1:06:15<1:05:18, 10.42s/it]"
     ]
    },
    {
     "name": "stdout",
     "output_type": "stream",
     "text": [
      "An error occurred\n"
     ]
    },
    {
     "name": "stderr",
     "output_type": "stream",
     "text": [
      " 56%|█████▌    | 471/846 [1:06:17<48:52,  7.82s/it]  "
     ]
    },
    {
     "name": "stdout",
     "output_type": "stream",
     "text": [
      "An error occurred\n"
     ]
    },
    {
     "name": "stderr",
     "output_type": "stream",
     "text": [
      " 56%|█████▌    | 472/846 [1:06:28<54:10,  8.69s/it]"
     ]
    },
    {
     "name": "stdout",
     "output_type": "stream",
     "text": [
      "An error occurred\n"
     ]
    },
    {
     "name": "stderr",
     "output_type": "stream",
     "text": [
      " 56%|█████▌    | 473/846 [1:06:36<54:00,  8.69s/it]"
     ]
    },
    {
     "name": "stdout",
     "output_type": "stream",
     "text": [
      "An error occurred\n"
     ]
    },
    {
     "name": "stderr",
     "output_type": "stream",
     "text": [
      " 56%|█████▌    | 474/846 [1:06:37<38:13,  6.17s/it]"
     ]
    },
    {
     "name": "stdout",
     "output_type": "stream",
     "text": [
      "An error occurred\n"
     ]
    },
    {
     "name": "stderr",
     "output_type": "stream",
     "text": [
      " 56%|█████▌    | 475/846 [1:06:49<49:43,  8.04s/it]"
     ]
    },
    {
     "name": "stdout",
     "output_type": "stream",
     "text": [
      "An error occurred\n"
     ]
    },
    {
     "name": "stderr",
     "output_type": "stream",
     "text": [
      " 56%|█████▋    | 476/846 [1:06:58<50:52,  8.25s/it]"
     ]
    },
    {
     "name": "stdout",
     "output_type": "stream",
     "text": [
      "An error occurred\n"
     ]
    },
    {
     "name": "stderr",
     "output_type": "stream",
     "text": [
      " 56%|█████▋    | 477/846 [1:07:01<40:58,  6.66s/it]"
     ]
    },
    {
     "name": "stdout",
     "output_type": "stream",
     "text": [
      "An error occurred\n"
     ]
    },
    {
     "name": "stderr",
     "output_type": "stream",
     "text": [
      " 57%|█████▋    | 478/846 [1:07:16<56:07,  9.15s/it]"
     ]
    },
    {
     "name": "stdout",
     "output_type": "stream",
     "text": [
      "An error occurred\n"
     ]
    },
    {
     "name": "stderr",
     "output_type": "stream",
     "text": [
      " 57%|█████▋    | 479/846 [1:07:25<55:13,  9.03s/it]"
     ]
    },
    {
     "name": "stdout",
     "output_type": "stream",
     "text": [
      "An error occurred\n"
     ]
    },
    {
     "name": "stderr",
     "output_type": "stream",
     "text": [
      " 57%|█████▋    | 480/846 [1:07:30<48:59,  8.03s/it]"
     ]
    },
    {
     "name": "stdout",
     "output_type": "stream",
     "text": [
      "An error occurred\n"
     ]
    },
    {
     "name": "stderr",
     "output_type": "stream",
     "text": [
      " 57%|█████▋    | 481/846 [1:07:35<42:41,  7.02s/it]"
     ]
    },
    {
     "name": "stdout",
     "output_type": "stream",
     "text": [
      "An error occurred\n"
     ]
    },
    {
     "name": "stderr",
     "output_type": "stream",
     "text": [
      " 57%|█████▋    | 482/846 [1:07:54<1:04:59, 10.71s/it]"
     ]
    },
    {
     "name": "stdout",
     "output_type": "stream",
     "text": [
      "An error occurred\n"
     ]
    },
    {
     "name": "stderr",
     "output_type": "stream",
     "text": [
      " 57%|█████▋    | 483/846 [1:07:56<49:14,  8.14s/it]  "
     ]
    },
    {
     "name": "stdout",
     "output_type": "stream",
     "text": [
      "An error occurred\n"
     ]
    },
    {
     "name": "stderr",
     "output_type": "stream",
     "text": [
      " 57%|█████▋    | 484/846 [1:07:59<39:06,  6.48s/it]"
     ]
    },
    {
     "name": "stdout",
     "output_type": "stream",
     "text": [
      "An error occurred\n"
     ]
    },
    {
     "name": "stderr",
     "output_type": "stream",
     "text": [
      " 57%|█████▋    | 485/846 [1:08:23<1:10:38, 11.74s/it]"
     ]
    },
    {
     "name": "stdout",
     "output_type": "stream",
     "text": [
      "An error occurred\n"
     ]
    },
    {
     "name": "stderr",
     "output_type": "stream",
     "text": [
      " 57%|█████▋    | 486/846 [1:08:24<50:32,  8.42s/it]  "
     ]
    },
    {
     "name": "stdout",
     "output_type": "stream",
     "text": [
      "An error occurred\n"
     ]
    },
    {
     "name": "stderr",
     "output_type": "stream",
     "text": [
      " 58%|█████▊    | 487/846 [1:08:26<38:46,  6.48s/it]"
     ]
    },
    {
     "name": "stdout",
     "output_type": "stream",
     "text": [
      "An error occurred\n"
     ]
    },
    {
     "name": "stderr",
     "output_type": "stream",
     "text": [
      " 58%|█████▊    | 488/846 [1:08:50<1:10:05, 11.75s/it]"
     ]
    },
    {
     "name": "stdout",
     "output_type": "stream",
     "text": [
      "An error occurred\n"
     ]
    },
    {
     "name": "stderr",
     "output_type": "stream",
     "text": [
      " 58%|█████▊    | 490/846 [1:08:56<41:44,  7.04s/it]  "
     ]
    },
    {
     "name": "stdout",
     "output_type": "stream",
     "text": [
      "An error occurred\n",
      "An error occurred\n"
     ]
    },
    {
     "name": "stderr",
     "output_type": "stream",
     "text": [
      " 58%|█████▊    | 491/846 [1:09:16<1:05:41, 11.10s/it]"
     ]
    },
    {
     "name": "stdout",
     "output_type": "stream",
     "text": [
      "An error occurred\n"
     ]
    },
    {
     "name": "stderr",
     "output_type": "stream",
     "text": [
      " 58%|█████▊    | 493/846 [1:09:22<39:33,  6.72s/it]  "
     ]
    },
    {
     "name": "stdout",
     "output_type": "stream",
     "text": [
      "An error occurred\n",
      "An error occurred\n"
     ]
    },
    {
     "name": "stderr",
     "output_type": "stream",
     "text": [
      " 58%|█████▊    | 494/846 [1:09:47<1:10:22, 11.99s/it]"
     ]
    },
    {
     "name": "stdout",
     "output_type": "stream",
     "text": [
      "An error occurred\n"
     ]
    },
    {
     "name": "stderr",
     "output_type": "stream",
     "text": [
      " 59%|█████▊    | 495/846 [1:09:48<52:09,  8.92s/it]  "
     ]
    },
    {
     "name": "stdout",
     "output_type": "stream",
     "text": [
      "An error occurred\n"
     ]
    },
    {
     "name": "stderr",
     "output_type": "stream",
     "text": [
      " 59%|█████▊    | 496/846 [1:09:49<37:25,  6.41s/it]"
     ]
    },
    {
     "name": "stdout",
     "output_type": "stream",
     "text": [
      "An error occurred\n"
     ]
    },
    {
     "name": "stderr",
     "output_type": "stream",
     "text": [
      " 59%|█████▊    | 497/846 [1:10:03<49:58,  8.59s/it]"
     ]
    },
    {
     "name": "stdout",
     "output_type": "stream",
     "text": [
      "An error occurred\n"
     ]
    },
    {
     "name": "stderr",
     "output_type": "stream",
     "text": [
      " 59%|█████▉    | 498/846 [1:10:07<42:59,  7.41s/it]"
     ]
    },
    {
     "name": "stdout",
     "output_type": "stream",
     "text": [
      "An error occurred\n"
     ]
    },
    {
     "name": "stderr",
     "output_type": "stream",
     "text": [
      " 59%|█████▉    | 499/846 [1:10:08<31:55,  5.52s/it]"
     ]
    },
    {
     "name": "stdout",
     "output_type": "stream",
     "text": [
      "An error occurred\n"
     ]
    },
    {
     "name": "stderr",
     "output_type": "stream",
     "text": [
      " 59%|█████▉    | 500/846 [1:10:24<49:52,  8.65s/it]"
     ]
    },
    {
     "name": "stdout",
     "output_type": "stream",
     "text": [
      "An error occurred\n"
     ]
    },
    {
     "name": "stderr",
     "output_type": "stream",
     "text": [
      " 59%|█████▉    | 501/846 [1:10:27<39:42,  6.91s/it]"
     ]
    },
    {
     "name": "stdout",
     "output_type": "stream",
     "text": [
      "An error occurred\n"
     ]
    },
    {
     "name": "stderr",
     "output_type": "stream",
     "text": [
      " 59%|█████▉    | 502/846 [1:10:29<31:41,  5.53s/it]"
     ]
    },
    {
     "name": "stdout",
     "output_type": "stream",
     "text": [
      "An error occurred\n"
     ]
    },
    {
     "name": "stderr",
     "output_type": "stream",
     "text": [
      " 59%|█████▉    | 503/846 [1:10:48<54:43,  9.57s/it]"
     ]
    },
    {
     "name": "stdout",
     "output_type": "stream",
     "text": [
      "An error occurred\n"
     ]
    },
    {
     "name": "stderr",
     "output_type": "stream",
     "text": [
      " 60%|█████▉    | 504/846 [1:10:49<38:49,  6.81s/it]"
     ]
    },
    {
     "name": "stdout",
     "output_type": "stream",
     "text": [
      "An error occurred\n"
     ]
    },
    {
     "name": "stderr",
     "output_type": "stream",
     "text": [
      " 60%|█████▉    | 505/846 [1:10:56<40:06,  7.06s/it]"
     ]
    },
    {
     "name": "stdout",
     "output_type": "stream",
     "text": [
      "An error occurred\n"
     ]
    },
    {
     "name": "stderr",
     "output_type": "stream",
     "text": [
      " 60%|█████▉    | 506/846 [1:11:07<46:26,  8.20s/it]"
     ]
    },
    {
     "name": "stdout",
     "output_type": "stream",
     "text": [
      "An error occurred\n"
     ]
    },
    {
     "name": "stderr",
     "output_type": "stream",
     "text": [
      " 60%|█████▉    | 507/846 [1:11:10<37:20,  6.61s/it]"
     ]
    },
    {
     "name": "stdout",
     "output_type": "stream",
     "text": [
      "An error occurred\n"
     ]
    },
    {
     "name": "stderr",
     "output_type": "stream",
     "text": [
      " 60%|██████    | 508/846 [1:11:18<39:10,  6.95s/it]"
     ]
    },
    {
     "name": "stdout",
     "output_type": "stream",
     "text": [
      "An error occurred\n"
     ]
    },
    {
     "name": "stderr",
     "output_type": "stream",
     "text": [
      " 60%|██████    | 509/846 [1:11:42<1:07:50, 12.08s/it]"
     ]
    },
    {
     "name": "stdout",
     "output_type": "stream",
     "text": [
      "An error occurred\n"
     ]
    },
    {
     "name": "stderr",
     "output_type": "stream",
     "text": [
      " 60%|██████    | 510/846 [1:11:53<1:05:09, 11.64s/it]"
     ]
    },
    {
     "name": "stdout",
     "output_type": "stream",
     "text": [
      "An error occurred\n"
     ]
    },
    {
     "name": "stderr",
     "output_type": "stream",
     "text": [
      " 60%|██████    | 511/846 [1:11:58<54:01,  9.68s/it]  "
     ]
    },
    {
     "name": "stdout",
     "output_type": "stream",
     "text": [
      "An error occurred\n"
     ]
    },
    {
     "name": "stderr",
     "output_type": "stream",
     "text": [
      " 61%|██████    | 512/846 [1:12:06<51:36,  9.27s/it]"
     ]
    },
    {
     "name": "stdout",
     "output_type": "stream",
     "text": [
      "An error occurred\n"
     ]
    },
    {
     "name": "stderr",
     "output_type": "stream",
     "text": [
      " 61%|██████    | 513/846 [1:12:17<54:12,  9.77s/it]"
     ]
    },
    {
     "name": "stdout",
     "output_type": "stream",
     "text": [
      "An error occurred\n"
     ]
    },
    {
     "name": "stderr",
     "output_type": "stream",
     "text": [
      " 61%|██████    | 514/846 [1:12:19<41:16,  7.46s/it]"
     ]
    },
    {
     "name": "stdout",
     "output_type": "stream",
     "text": [
      "An error occurred\n"
     ]
    },
    {
     "name": "stderr",
     "output_type": "stream",
     "text": [
      " 61%|██████    | 515/846 [1:12:30<47:02,  8.53s/it]"
     ]
    },
    {
     "name": "stdout",
     "output_type": "stream",
     "text": [
      "An error occurred\n"
     ]
    },
    {
     "name": "stderr",
     "output_type": "stream",
     "text": [
      " 61%|██████    | 516/846 [1:12:40<49:53,  9.07s/it]"
     ]
    },
    {
     "name": "stdout",
     "output_type": "stream",
     "text": [
      "An error occurred\n"
     ]
    },
    {
     "name": "stderr",
     "output_type": "stream",
     "text": [
      " 61%|██████    | 517/846 [1:12:41<35:44,  6.52s/it]"
     ]
    },
    {
     "name": "stdout",
     "output_type": "stream",
     "text": [
      "An error occurred\n"
     ]
    },
    {
     "name": "stderr",
     "output_type": "stream",
     "text": [
      " 61%|██████    | 518/846 [1:12:57<50:48,  9.29s/it]"
     ]
    },
    {
     "name": "stdout",
     "output_type": "stream",
     "text": [
      "An error occurred\n"
     ]
    },
    {
     "name": "stderr",
     "output_type": "stream",
     "text": [
      " 61%|██████▏   | 519/846 [1:13:08<53:13,  9.77s/it]"
     ]
    },
    {
     "name": "stdout",
     "output_type": "stream",
     "text": [
      "An error occurred\n"
     ]
    },
    {
     "name": "stderr",
     "output_type": "stream",
     "text": [
      " 61%|██████▏   | 520/846 [1:13:10<40:38,  7.48s/it]"
     ]
    },
    {
     "name": "stdout",
     "output_type": "stream",
     "text": [
      "An error occurred\n"
     ]
    },
    {
     "name": "stderr",
     "output_type": "stream",
     "text": [
      " 62%|██████▏   | 521/846 [1:13:21<46:14,  8.54s/it]"
     ]
    },
    {
     "name": "stdout",
     "output_type": "stream",
     "text": [
      "An error occurred\n"
     ]
    },
    {
     "name": "stderr",
     "output_type": "stream",
     "text": [
      " 62%|██████▏   | 522/846 [1:13:23<36:21,  6.73s/it]"
     ]
    },
    {
     "name": "stdout",
     "output_type": "stream",
     "text": [
      "An error occurred\n"
     ]
    },
    {
     "name": "stderr",
     "output_type": "stream",
     "text": [
      " 62%|██████▏   | 523/846 [1:13:29<34:35,  6.43s/it]"
     ]
    },
    {
     "name": "stdout",
     "output_type": "stream",
     "text": [
      "An error occurred\n"
     ]
    },
    {
     "name": "stderr",
     "output_type": "stream",
     "text": [
      " 62%|██████▏   | 524/846 [1:13:45<50:04,  9.33s/it]"
     ]
    },
    {
     "name": "stdout",
     "output_type": "stream",
     "text": [
      "An error occurred\n"
     ]
    },
    {
     "name": "stderr",
     "output_type": "stream",
     "text": [
      " 62%|██████▏   | 525/846 [1:13:55<51:04,  9.55s/it]"
     ]
    },
    {
     "name": "stdout",
     "output_type": "stream",
     "text": [
      "An error occurred\n"
     ]
    },
    {
     "name": "stderr",
     "output_type": "stream",
     "text": [
      " 62%|██████▏   | 526/846 [1:14:03<48:04,  9.02s/it]"
     ]
    },
    {
     "name": "stdout",
     "output_type": "stream",
     "text": [
      "An error occurred\n"
     ]
    },
    {
     "name": "stderr",
     "output_type": "stream",
     "text": [
      " 62%|██████▏   | 527/846 [1:14:09<43:49,  8.24s/it]"
     ]
    },
    {
     "name": "stdout",
     "output_type": "stream",
     "text": [
      "An error occurred\n"
     ]
    },
    {
     "name": "stderr",
     "output_type": "stream",
     "text": [
      " 62%|██████▏   | 528/846 [1:14:25<54:41, 10.32s/it]"
     ]
    },
    {
     "name": "stdout",
     "output_type": "stream",
     "text": [
      "An error occurred\n"
     ]
    },
    {
     "name": "stderr",
     "output_type": "stream",
     "text": [
      " 63%|██████▎   | 529/846 [1:14:27<42:06,  7.97s/it]"
     ]
    },
    {
     "name": "stdout",
     "output_type": "stream",
     "text": [
      "An error occurred\n"
     ]
    },
    {
     "name": "stderr",
     "output_type": "stream",
     "text": [
      " 63%|██████▎   | 530/846 [1:14:28<31:14,  5.93s/it]"
     ]
    },
    {
     "name": "stdout",
     "output_type": "stream",
     "text": [
      "An error occurred\n"
     ]
    },
    {
     "name": "stderr",
     "output_type": "stream",
     "text": [
      " 63%|██████▎   | 531/846 [1:14:46<49:47,  9.48s/it]"
     ]
    },
    {
     "name": "stdout",
     "output_type": "stream",
     "text": [
      "An error occurred\n"
     ]
    },
    {
     "name": "stderr",
     "output_type": "stream",
     "text": [
      " 63%|██████▎   | 532/846 [1:14:48<38:34,  7.37s/it]"
     ]
    },
    {
     "name": "stdout",
     "output_type": "stream",
     "text": [
      "An error occurred\n"
     ]
    },
    {
     "name": "stderr",
     "output_type": "stream",
     "text": [
      " 63%|██████▎   | 533/846 [1:14:55<37:08,  7.12s/it]"
     ]
    },
    {
     "name": "stdout",
     "output_type": "stream",
     "text": [
      "An error occurred\n"
     ]
    },
    {
     "name": "stderr",
     "output_type": "stream",
     "text": [
      " 63%|██████▎   | 534/846 [1:15:07<45:05,  8.67s/it]"
     ]
    },
    {
     "name": "stdout",
     "output_type": "stream",
     "text": [
      "An error occurred\n"
     ]
    },
    {
     "name": "stderr",
     "output_type": "stream",
     "text": [
      " 63%|██████▎   | 535/846 [1:15:08<32:09,  6.21s/it]"
     ]
    },
    {
     "name": "stdout",
     "output_type": "stream",
     "text": [
      "An error occurred\n"
     ]
    },
    {
     "name": "stderr",
     "output_type": "stream",
     "text": [
      " 63%|██████▎   | 536/846 [1:15:16<36:00,  6.97s/it]"
     ]
    },
    {
     "name": "stdout",
     "output_type": "stream",
     "text": [
      "An error occurred\n"
     ]
    },
    {
     "name": "stderr",
     "output_type": "stream",
     "text": [
      " 63%|██████▎   | 537/846 [1:15:27<40:57,  7.95s/it]"
     ]
    },
    {
     "name": "stdout",
     "output_type": "stream",
     "text": [
      "An error occurred\n"
     ]
    },
    {
     "name": "stderr",
     "output_type": "stream",
     "text": [
      " 64%|██████▎   | 538/846 [1:15:29<31:40,  6.17s/it]"
     ]
    },
    {
     "name": "stdout",
     "output_type": "stream",
     "text": [
      "An error occurred\n"
     ]
    },
    {
     "name": "stderr",
     "output_type": "stream",
     "text": [
      " 64%|██████▎   | 539/846 [1:15:38<36:31,  7.14s/it]"
     ]
    },
    {
     "name": "stdout",
     "output_type": "stream",
     "text": [
      "An error occurred\n"
     ]
    },
    {
     "name": "stderr",
     "output_type": "stream",
     "text": [
      " 64%|██████▍   | 540/846 [1:15:48<40:53,  8.02s/it]"
     ]
    },
    {
     "name": "stdout",
     "output_type": "stream",
     "text": [
      "An error occurred\n"
     ]
    },
    {
     "name": "stderr",
     "output_type": "stream",
     "text": [
      " 64%|██████▍   | 541/846 [1:15:57<42:35,  8.38s/it]"
     ]
    },
    {
     "name": "stdout",
     "output_type": "stream",
     "text": [
      "An error occurred\n"
     ]
    },
    {
     "name": "stderr",
     "output_type": "stream",
     "text": [
      " 64%|██████▍   | 542/846 [1:16:02<36:48,  7.26s/it]"
     ]
    },
    {
     "name": "stdout",
     "output_type": "stream",
     "text": [
      "An error occurred\n"
     ]
    },
    {
     "name": "stderr",
     "output_type": "stream",
     "text": [
      " 64%|██████▍   | 543/846 [1:16:08<34:02,  6.74s/it]"
     ]
    },
    {
     "name": "stdout",
     "output_type": "stream",
     "text": [
      "An error occurred\n"
     ]
    },
    {
     "name": "stderr",
     "output_type": "stream",
     "text": [
      " 64%|██████▍   | 544/846 [1:16:21<44:44,  8.89s/it]"
     ]
    },
    {
     "name": "stdout",
     "output_type": "stream",
     "text": [
      "An error occurred\n"
     ]
    },
    {
     "name": "stderr",
     "output_type": "stream",
     "text": [
      " 65%|██████▍   | 546/846 [1:16:32<32:28,  6.49s/it]"
     ]
    },
    {
     "name": "stdout",
     "output_type": "stream",
     "text": [
      "An error occurred\n",
      "An error occurred\n"
     ]
    },
    {
     "name": "stderr",
     "output_type": "stream",
     "text": [
      " 65%|██████▍   | 547/846 [1:16:48<47:20,  9.50s/it]"
     ]
    },
    {
     "name": "stdout",
     "output_type": "stream",
     "text": [
      "An error occurred\n"
     ]
    },
    {
     "name": "stderr",
     "output_type": "stream",
     "text": [
      " 65%|██████▍   | 548/846 [1:16:58<48:04,  9.68s/it]"
     ]
    },
    {
     "name": "stdout",
     "output_type": "stream",
     "text": [
      "An error occurred\n"
     ]
    },
    {
     "name": "stderr",
     "output_type": "stream",
     "text": [
      " 65%|██████▍   | 549/846 [1:16:58<33:50,  6.84s/it]"
     ]
    },
    {
     "name": "stdout",
     "output_type": "stream",
     "text": [
      "An error occurred\n"
     ]
    },
    {
     "name": "stderr",
     "output_type": "stream",
     "text": [
      " 65%|██████▌   | 550/846 [1:17:12<44:06,  8.94s/it]"
     ]
    },
    {
     "name": "stdout",
     "output_type": "stream",
     "text": [
      "An error occurred\n"
     ]
    },
    {
     "name": "stderr",
     "output_type": "stream",
     "text": [
      " 65%|██████▌   | 551/846 [1:17:25<49:43, 10.11s/it]"
     ]
    },
    {
     "name": "stdout",
     "output_type": "stream",
     "text": [
      "An error occurred\n"
     ]
    },
    {
     "name": "stderr",
     "output_type": "stream",
     "text": [
      " 65%|██████▌   | 552/846 [1:17:28<38:57,  7.95s/it]"
     ]
    },
    {
     "name": "stdout",
     "output_type": "stream",
     "text": [
      "An error occurred\n"
     ]
    },
    {
     "name": "stderr",
     "output_type": "stream",
     "text": [
      " 65%|██████▌   | 553/846 [1:17:36<39:21,  8.06s/it]"
     ]
    },
    {
     "name": "stdout",
     "output_type": "stream",
     "text": [
      "An error occurred\n"
     ]
    },
    {
     "name": "stderr",
     "output_type": "stream",
     "text": [
      " 65%|██████▌   | 554/846 [1:17:50<46:42,  9.60s/it]"
     ]
    },
    {
     "name": "stdout",
     "output_type": "stream",
     "text": [
      "An error occurred\n"
     ]
    },
    {
     "name": "stderr",
     "output_type": "stream",
     "text": [
      " 66%|██████▌   | 555/846 [1:17:57<43:42,  9.01s/it]"
     ]
    },
    {
     "name": "stdout",
     "output_type": "stream",
     "text": [
      "An error occurred\n"
     ]
    },
    {
     "name": "stderr",
     "output_type": "stream",
     "text": [
      " 66%|██████▌   | 556/846 [1:17:58<31:51,  6.59s/it]"
     ]
    },
    {
     "name": "stdout",
     "output_type": "stream",
     "text": [
      "An error occurred\n"
     ]
    },
    {
     "name": "stderr",
     "output_type": "stream",
     "text": [
      " 66%|██████▌   | 557/846 [1:18:08<36:55,  7.67s/it]"
     ]
    },
    {
     "name": "stdout",
     "output_type": "stream",
     "text": [
      "An error occurred\n"
     ]
    },
    {
     "name": "stderr",
     "output_type": "stream",
     "text": [
      " 66%|██████▌   | 558/846 [1:18:19<40:43,  8.49s/it]"
     ]
    },
    {
     "name": "stdout",
     "output_type": "stream",
     "text": [
      "An error occurred\n"
     ]
    },
    {
     "name": "stderr",
     "output_type": "stream",
     "text": [
      " 66%|██████▌   | 559/846 [1:18:26<39:34,  8.27s/it]"
     ]
    },
    {
     "name": "stdout",
     "output_type": "stream",
     "text": [
      "An error occurred\n"
     ]
    },
    {
     "name": "stderr",
     "output_type": "stream",
     "text": [
      " 66%|██████▌   | 560/846 [1:18:38<43:34,  9.14s/it]"
     ]
    },
    {
     "name": "stdout",
     "output_type": "stream",
     "text": [
      "An error occurred\n"
     ]
    },
    {
     "name": "stderr",
     "output_type": "stream",
     "text": [
      " 66%|██████▋   | 561/846 [1:18:43<37:41,  7.94s/it]"
     ]
    },
    {
     "name": "stdout",
     "output_type": "stream",
     "text": [
      "An error occurred\n"
     ]
    },
    {
     "name": "stderr",
     "output_type": "stream",
     "text": [
      " 66%|██████▋   | 562/846 [1:18:58<48:30, 10.25s/it]"
     ]
    },
    {
     "name": "stdout",
     "output_type": "stream",
     "text": [
      "An error occurred\n"
     ]
    },
    {
     "name": "stderr",
     "output_type": "stream",
     "text": [
      " 67%|██████▋   | 563/846 [1:19:07<45:54,  9.73s/it]"
     ]
    },
    {
     "name": "stdout",
     "output_type": "stream",
     "text": [
      "An error occurred\n"
     ]
    },
    {
     "name": "stderr",
     "output_type": "stream",
     "text": [
      " 67%|██████▋   | 564/846 [1:19:10<36:23,  7.74s/it]"
     ]
    },
    {
     "name": "stdout",
     "output_type": "stream",
     "text": [
      "An error occurred\n"
     ]
    },
    {
     "name": "stderr",
     "output_type": "stream",
     "text": [
      " 67%|██████▋   | 565/846 [1:19:25<46:36,  9.95s/it]"
     ]
    },
    {
     "name": "stdout",
     "output_type": "stream",
     "text": [
      "An error occurred\n"
     ]
    },
    {
     "name": "stderr",
     "output_type": "stream",
     "text": [
      " 67%|██████▋   | 566/846 [1:19:28<36:57,  7.92s/it]"
     ]
    },
    {
     "name": "stdout",
     "output_type": "stream",
     "text": [
      "An error occurred\n"
     ]
    },
    {
     "name": "stderr",
     "output_type": "stream",
     "text": [
      " 67%|██████▋   | 567/846 [1:19:37<37:34,  8.08s/it]"
     ]
    },
    {
     "name": "stdout",
     "output_type": "stream",
     "text": [
      "An error occurred\n"
     ]
    },
    {
     "name": "stderr",
     "output_type": "stream",
     "text": [
      " 67%|██████▋   | 568/846 [1:19:46<39:40,  8.56s/it]"
     ]
    },
    {
     "name": "stdout",
     "output_type": "stream",
     "text": [
      "An error occurred\n"
     ]
    },
    {
     "name": "stderr",
     "output_type": "stream",
     "text": [
      " 67%|██████▋   | 569/846 [1:19:50<32:15,  6.99s/it]"
     ]
    },
    {
     "name": "stdout",
     "output_type": "stream",
     "text": [
      "An error occurred\n"
     ]
    },
    {
     "name": "stderr",
     "output_type": "stream",
     "text": [
      " 67%|██████▋   | 570/846 [1:19:58<34:05,  7.41s/it]"
     ]
    },
    {
     "name": "stdout",
     "output_type": "stream",
     "text": [
      "An error occurred\n"
     ]
    },
    {
     "name": "stderr",
     "output_type": "stream",
     "text": [
      " 67%|██████▋   | 571/846 [1:20:08<37:13,  8.12s/it]"
     ]
    },
    {
     "name": "stdout",
     "output_type": "stream",
     "text": [
      "An error occurred\n"
     ]
    },
    {
     "name": "stderr",
     "output_type": "stream",
     "text": [
      " 68%|██████▊   | 572/846 [1:20:15<36:11,  7.92s/it]"
     ]
    },
    {
     "name": "stdout",
     "output_type": "stream",
     "text": [
      "An error occurred\n"
     ]
    },
    {
     "name": "stderr",
     "output_type": "stream",
     "text": [
      " 68%|██████▊   | 573/846 [1:20:17<27:38,  6.08s/it]"
     ]
    },
    {
     "name": "stdout",
     "output_type": "stream",
     "text": [
      "An error occurred\n"
     ]
    },
    {
     "name": "stderr",
     "output_type": "stream",
     "text": [
      " 68%|██████▊   | 574/846 [1:20:29<35:47,  7.89s/it]"
     ]
    },
    {
     "name": "stdout",
     "output_type": "stream",
     "text": [
      "An error occurred\n"
     ]
    },
    {
     "name": "stderr",
     "output_type": "stream",
     "text": [
      " 68%|██████▊   | 575/846 [1:20:39<37:31,  8.31s/it]"
     ]
    },
    {
     "name": "stdout",
     "output_type": "stream",
     "text": [
      "An error occurred\n"
     ]
    },
    {
     "name": "stderr",
     "output_type": "stream",
     "text": [
      " 68%|██████▊   | 576/846 [1:20:42<31:23,  6.98s/it]"
     ]
    },
    {
     "name": "stdout",
     "output_type": "stream",
     "text": [
      "An error occurred\n"
     ]
    },
    {
     "name": "stderr",
     "output_type": "stream",
     "text": [
      " 68%|██████▊   | 577/846 [1:20:59<43:42,  9.75s/it]"
     ]
    },
    {
     "name": "stdout",
     "output_type": "stream",
     "text": [
      "An error occurred\n"
     ]
    },
    {
     "name": "stderr",
     "output_type": "stream",
     "text": [
      " 68%|██████▊   | 578/846 [1:21:25<1:06:13, 14.83s/it]"
     ]
    },
    {
     "name": "stdout",
     "output_type": "stream",
     "text": [
      "An error occurred\n"
     ]
    },
    {
     "name": "stderr",
     "output_type": "stream",
     "text": [
      " 68%|██████▊   | 579/846 [1:21:49<1:18:12, 17.57s/it]"
     ]
    },
    {
     "name": "stdout",
     "output_type": "stream",
     "text": [
      "An error occurred\n"
     ]
    },
    {
     "name": "stderr",
     "output_type": "stream",
     "text": [
      " 69%|██████▊   | 580/846 [1:21:56<1:03:12, 14.26s/it]"
     ]
    },
    {
     "name": "stdout",
     "output_type": "stream",
     "text": [
      "An error occurred\n"
     ]
    },
    {
     "name": "stderr",
     "output_type": "stream",
     "text": [
      " 69%|██████▊   | 581/846 [1:21:57<45:10, 10.23s/it]  "
     ]
    },
    {
     "name": "stdout",
     "output_type": "stream",
     "text": [
      "An error occurred\n"
     ]
    },
    {
     "name": "stderr",
     "output_type": "stream",
     "text": [
      " 69%|██████▉   | 582/846 [1:22:05<43:08,  9.80s/it]"
     ]
    },
    {
     "name": "stdout",
     "output_type": "stream",
     "text": [
      "An error occurred\n"
     ]
    },
    {
     "name": "stderr",
     "output_type": "stream",
     "text": [
      " 69%|██████▉   | 583/846 [1:22:21<50:03, 11.42s/it]"
     ]
    },
    {
     "name": "stdout",
     "output_type": "stream",
     "text": [
      "An error occurred\n"
     ]
    },
    {
     "name": "stderr",
     "output_type": "stream",
     "text": [
      " 69%|██████▉   | 584/846 [1:22:23<37:25,  8.57s/it]"
     ]
    },
    {
     "name": "stdout",
     "output_type": "stream",
     "text": [
      "An error occurred\n"
     ]
    },
    {
     "name": "stderr",
     "output_type": "stream",
     "text": [
      " 69%|██████▉   | 585/846 [1:22:30<35:07,  8.08s/it]"
     ]
    },
    {
     "name": "stdout",
     "output_type": "stream",
     "text": [
      "An error occurred\n"
     ]
    },
    {
     "name": "stderr",
     "output_type": "stream",
     "text": [
      " 69%|██████▉   | 586/846 [1:22:47<47:06, 10.87s/it]"
     ]
    },
    {
     "name": "stdout",
     "output_type": "stream",
     "text": [
      "An error occurred\n"
     ]
    },
    {
     "name": "stderr",
     "output_type": "stream",
     "text": [
      " 69%|██████▉   | 587/846 [1:22:48<33:55,  7.86s/it]"
     ]
    },
    {
     "name": "stdout",
     "output_type": "stream",
     "text": [
      "An error occurred\n"
     ]
    },
    {
     "name": "stderr",
     "output_type": "stream",
     "text": [
      " 70%|██████▉   | 588/846 [1:22:48<24:24,  5.68s/it]"
     ]
    },
    {
     "name": "stdout",
     "output_type": "stream",
     "text": [
      "An error occurred\n"
     ]
    },
    {
     "name": "stderr",
     "output_type": "stream",
     "text": [
      " 70%|██████▉   | 589/846 [1:23:16<53:03, 12.39s/it]"
     ]
    },
    {
     "name": "stdout",
     "output_type": "stream",
     "text": [
      "An error occurred\n"
     ]
    },
    {
     "name": "stderr",
     "output_type": "stream",
     "text": [
      " 70%|██████▉   | 590/846 [1:23:18<38:43,  9.08s/it]"
     ]
    },
    {
     "name": "stdout",
     "output_type": "stream",
     "text": [
      "An error occurred\n"
     ]
    },
    {
     "name": "stderr",
     "output_type": "stream",
     "text": [
      " 70%|██████▉   | 591/846 [1:23:20<29:32,  6.95s/it]"
     ]
    },
    {
     "name": "stdout",
     "output_type": "stream",
     "text": [
      "An error occurred\n"
     ]
    },
    {
     "name": "stderr",
     "output_type": "stream",
     "text": [
      " 70%|██████▉   | 592/846 [1:23:35<40:16,  9.51s/it]"
     ]
    },
    {
     "name": "stdout",
     "output_type": "stream",
     "text": [
      "An error occurred\n"
     ]
    },
    {
     "name": "stderr",
     "output_type": "stream",
     "text": [
      " 70%|███████   | 593/846 [1:23:37<29:43,  7.05s/it]"
     ]
    },
    {
     "name": "stdout",
     "output_type": "stream",
     "text": [
      "An error occurred\n"
     ]
    },
    {
     "name": "stderr",
     "output_type": "stream",
     "text": [
      " 70%|███████   | 594/846 [1:23:39<23:14,  5.53s/it]"
     ]
    },
    {
     "name": "stdout",
     "output_type": "stream",
     "text": [
      "An error occurred\n"
     ]
    },
    {
     "name": "stderr",
     "output_type": "stream",
     "text": [
      " 70%|███████   | 595/846 [1:23:57<39:01,  9.33s/it]"
     ]
    },
    {
     "name": "stdout",
     "output_type": "stream",
     "text": [
      "An error occurred\n"
     ]
    },
    {
     "name": "stderr",
     "output_type": "stream",
     "text": [
      " 70%|███████   | 596/846 [1:23:58<28:59,  6.96s/it]"
     ]
    },
    {
     "name": "stdout",
     "output_type": "stream",
     "text": [
      "An error occurred\n"
     ]
    },
    {
     "name": "stderr",
     "output_type": "stream",
     "text": [
      " 71%|███████   | 597/846 [1:24:03<25:53,  6.24s/it]"
     ]
    },
    {
     "name": "stdout",
     "output_type": "stream",
     "text": [
      "An error occurred\n"
     ]
    },
    {
     "name": "stderr",
     "output_type": "stream",
     "text": [
      " 71%|███████   | 598/846 [1:24:23<43:47, 10.59s/it]"
     ]
    },
    {
     "name": "stdout",
     "output_type": "stream",
     "text": [
      "An error occurred\n"
     ]
    },
    {
     "name": "stderr",
     "output_type": "stream",
     "text": [
      " 71%|███████   | 599/846 [1:24:28<35:33,  8.64s/it]"
     ]
    },
    {
     "name": "stdout",
     "output_type": "stream",
     "text": [
      "An error occurred\n"
     ]
    },
    {
     "name": "stderr",
     "output_type": "stream",
     "text": [
      " 71%|███████   | 600/846 [1:24:29<27:10,  6.63s/it]"
     ]
    },
    {
     "name": "stdout",
     "output_type": "stream",
     "text": [
      "An error occurred\n"
     ]
    },
    {
     "name": "stderr",
     "output_type": "stream",
     "text": [
      " 71%|███████   | 601/846 [1:24:48<41:55, 10.27s/it]"
     ]
    },
    {
     "name": "stdout",
     "output_type": "stream",
     "text": [
      "An error occurred\n"
     ]
    },
    {
     "name": "stderr",
     "output_type": "stream",
     "text": [
      " 71%|███████   | 602/846 [1:24:50<31:35,  7.77s/it]"
     ]
    },
    {
     "name": "stdout",
     "output_type": "stream",
     "text": [
      "An error occurred\n"
     ]
    },
    {
     "name": "stderr",
     "output_type": "stream",
     "text": [
      " 71%|███████▏  | 603/846 [1:24:52<23:45,  5.87s/it]"
     ]
    },
    {
     "name": "stdout",
     "output_type": "stream",
     "text": [
      "An error occurred\n"
     ]
    },
    {
     "name": "stderr",
     "output_type": "stream",
     "text": [
      " 71%|███████▏  | 604/846 [1:25:07<35:13,  8.74s/it]"
     ]
    },
    {
     "name": "stdout",
     "output_type": "stream",
     "text": [
      "An error occurred\n"
     ]
    },
    {
     "name": "stderr",
     "output_type": "stream",
     "text": [
      " 72%|███████▏  | 605/846 [1:25:16<34:51,  8.68s/it]"
     ]
    },
    {
     "name": "stdout",
     "output_type": "stream",
     "text": [
      "An error occurred\n"
     ]
    },
    {
     "name": "stderr",
     "output_type": "stream",
     "text": [
      " 72%|███████▏  | 606/846 [1:25:17<25:51,  6.47s/it]"
     ]
    },
    {
     "name": "stdout",
     "output_type": "stream",
     "text": [
      "An error occurred\n"
     ]
    },
    {
     "name": "stderr",
     "output_type": "stream",
     "text": [
      " 72%|███████▏  | 607/846 [1:25:28<31:54,  8.01s/it]"
     ]
    },
    {
     "name": "stdout",
     "output_type": "stream",
     "text": [
      "An error occurred\n"
     ]
    },
    {
     "name": "stderr",
     "output_type": "stream",
     "text": [
      " 72%|███████▏  | 608/846 [1:25:34<29:14,  7.37s/it]"
     ]
    },
    {
     "name": "stdout",
     "output_type": "stream",
     "text": [
      "An error occurred\n"
     ]
    },
    {
     "name": "stderr",
     "output_type": "stream",
     "text": [
      " 72%|███████▏  | 609/846 [1:25:41<28:00,  7.09s/it]"
     ]
    },
    {
     "name": "stdout",
     "output_type": "stream",
     "text": [
      "An error occurred\n"
     ]
    },
    {
     "name": "stderr",
     "output_type": "stream",
     "text": [
      " 72%|███████▏  | 610/846 [1:25:50<30:24,  7.73s/it]"
     ]
    },
    {
     "name": "stdout",
     "output_type": "stream",
     "text": [
      "An error occurred\n"
     ]
    },
    {
     "name": "stderr",
     "output_type": "stream",
     "text": [
      " 72%|███████▏  | 611/846 [1:25:57<29:18,  7.48s/it]"
     ]
    },
    {
     "name": "stdout",
     "output_type": "stream",
     "text": [
      "An error occurred\n"
     ]
    },
    {
     "name": "stderr",
     "output_type": "stream",
     "text": [
      " 72%|███████▏  | 612/846 [1:25:59<22:32,  5.78s/it]"
     ]
    },
    {
     "name": "stdout",
     "output_type": "stream",
     "text": [
      "An error occurred\n"
     ]
    },
    {
     "name": "stderr",
     "output_type": "stream",
     "text": [
      " 72%|███████▏  | 613/846 [1:26:14<33:35,  8.65s/it]"
     ]
    },
    {
     "name": "stdout",
     "output_type": "stream",
     "text": [
      "An error occurred\n"
     ]
    },
    {
     "name": "stderr",
     "output_type": "stream",
     "text": [
      " 73%|███████▎  | 614/846 [1:26:18<27:55,  7.22s/it]"
     ]
    },
    {
     "name": "stdout",
     "output_type": "stream",
     "text": [
      "An error occurred\n"
     ]
    },
    {
     "name": "stderr",
     "output_type": "stream",
     "text": [
      " 73%|███████▎  | 615/846 [1:26:21<23:30,  6.11s/it]"
     ]
    },
    {
     "name": "stdout",
     "output_type": "stream",
     "text": [
      "An error occurred\n"
     ]
    },
    {
     "name": "stderr",
     "output_type": "stream",
     "text": [
      " 73%|███████▎  | 616/846 [1:26:34<31:09,  8.13s/it]"
     ]
    },
    {
     "name": "stdout",
     "output_type": "stream",
     "text": [
      "An error occurred\n"
     ]
    },
    {
     "name": "stderr",
     "output_type": "stream",
     "text": [
      " 73%|███████▎  | 617/846 [1:26:35<23:03,  6.04s/it]"
     ]
    },
    {
     "name": "stdout",
     "output_type": "stream",
     "text": [
      "An error occurred\n"
     ]
    },
    {
     "name": "stderr",
     "output_type": "stream",
     "text": [
      " 73%|███████▎  | 618/846 [1:26:48<30:28,  8.02s/it]"
     ]
    },
    {
     "name": "stdout",
     "output_type": "stream",
     "text": [
      "An error occurred\n"
     ]
    },
    {
     "name": "stderr",
     "output_type": "stream",
     "text": [
      " 73%|███████▎  | 619/846 [1:26:56<30:01,  7.93s/it]"
     ]
    },
    {
     "name": "stdout",
     "output_type": "stream",
     "text": [
      "An error occurred\n"
     ]
    },
    {
     "name": "stderr",
     "output_type": "stream",
     "text": [
      " 73%|███████▎  | 620/846 [1:26:57<22:16,  5.91s/it]"
     ]
    },
    {
     "name": "stdout",
     "output_type": "stream",
     "text": [
      "An error occurred\n"
     ]
    },
    {
     "name": "stderr",
     "output_type": "stream",
     "text": [
      " 73%|███████▎  | 621/846 [1:27:16<36:45,  9.80s/it]"
     ]
    },
    {
     "name": "stdout",
     "output_type": "stream",
     "text": [
      "An error occurred\n"
     ]
    },
    {
     "name": "stderr",
     "output_type": "stream",
     "text": [
      " 74%|███████▎  | 622/846 [1:27:18<27:41,  7.42s/it]"
     ]
    },
    {
     "name": "stdout",
     "output_type": "stream",
     "text": [
      "An error occurred\n"
     ]
    },
    {
     "name": "stderr",
     "output_type": "stream",
     "text": [
      " 74%|███████▎  | 623/846 [1:27:20<21:39,  5.83s/it]"
     ]
    },
    {
     "name": "stdout",
     "output_type": "stream",
     "text": [
      "An error occurred\n"
     ]
    },
    {
     "name": "stderr",
     "output_type": "stream",
     "text": [
      " 74%|███████▍  | 624/846 [1:27:40<37:16, 10.08s/it]"
     ]
    },
    {
     "name": "stdout",
     "output_type": "stream",
     "text": [
      "An error occurred\n"
     ]
    },
    {
     "name": "stderr",
     "output_type": "stream",
     "text": [
      " 74%|███████▍  | 625/846 [1:27:42<28:28,  7.73s/it]"
     ]
    },
    {
     "name": "stdout",
     "output_type": "stream",
     "text": [
      "An error occurred\n"
     ]
    },
    {
     "name": "stderr",
     "output_type": "stream",
     "text": [
      " 74%|███████▍  | 626/846 [1:27:56<35:19,  9.64s/it]"
     ]
    },
    {
     "name": "stdout",
     "output_type": "stream",
     "text": [
      "An error occurred\n"
     ]
    },
    {
     "name": "stderr",
     "output_type": "stream",
     "text": [
      " 74%|███████▍  | 627/846 [1:28:04<32:41,  8.96s/it]"
     ]
    },
    {
     "name": "stdout",
     "output_type": "stream",
     "text": [
      "An error occurred\n"
     ]
    },
    {
     "name": "stderr",
     "output_type": "stream",
     "text": [
      " 74%|███████▍  | 628/846 [1:28:11<30:23,  8.37s/it]"
     ]
    },
    {
     "name": "stdout",
     "output_type": "stream",
     "text": [
      "An error occurred\n"
     ]
    },
    {
     "name": "stderr",
     "output_type": "stream",
     "text": [
      " 74%|███████▍  | 629/846 [1:28:20<31:53,  8.82s/it]"
     ]
    },
    {
     "name": "stdout",
     "output_type": "stream",
     "text": [
      "An error occurred\n"
     ]
    },
    {
     "name": "stderr",
     "output_type": "stream",
     "text": [
      " 74%|███████▍  | 630/846 [1:28:30<32:47,  9.11s/it]"
     ]
    },
    {
     "name": "stdout",
     "output_type": "stream",
     "text": [
      "An error occurred\n"
     ]
    },
    {
     "name": "stderr",
     "output_type": "stream",
     "text": [
      " 75%|███████▍  | 631/846 [1:28:32<24:44,  6.90s/it]"
     ]
    },
    {
     "name": "stdout",
     "output_type": "stream",
     "text": [
      "An error occurred\n"
     ]
    },
    {
     "name": "stderr",
     "output_type": "stream",
     "text": [
      " 75%|███████▍  | 632/846 [1:28:47<33:40,  9.44s/it]"
     ]
    },
    {
     "name": "stdout",
     "output_type": "stream",
     "text": [
      "An error occurred\n"
     ]
    },
    {
     "name": "stderr",
     "output_type": "stream",
     "text": [
      " 75%|███████▍  | 633/846 [1:28:54<30:51,  8.69s/it]"
     ]
    },
    {
     "name": "stdout",
     "output_type": "stream",
     "text": [
      "An error occurred\n"
     ]
    },
    {
     "name": "stderr",
     "output_type": "stream",
     "text": [
      " 75%|███████▍  | 634/846 [1:28:59<26:47,  7.58s/it]"
     ]
    },
    {
     "name": "stdout",
     "output_type": "stream",
     "text": [
      "An error occurred\n"
     ]
    },
    {
     "name": "stderr",
     "output_type": "stream",
     "text": [
      " 75%|███████▌  | 635/846 [1:29:14<34:18,  9.76s/it]"
     ]
    },
    {
     "name": "stdout",
     "output_type": "stream",
     "text": [
      "An error occurred\n"
     ]
    },
    {
     "name": "stderr",
     "output_type": "stream",
     "text": [
      " 75%|███████▌  | 636/846 [1:29:16<25:33,  7.30s/it]"
     ]
    },
    {
     "name": "stdout",
     "output_type": "stream",
     "text": [
      "An error occurred\n"
     ]
    },
    {
     "name": "stderr",
     "output_type": "stream",
     "text": [
      " 75%|███████▌  | 637/846 [1:29:35<37:28, 10.76s/it]"
     ]
    },
    {
     "name": "stdout",
     "output_type": "stream",
     "text": [
      "An error occurred\n"
     ]
    },
    {
     "name": "stderr",
     "output_type": "stream",
     "text": [
      " 75%|███████▌  | 638/846 [1:29:45<37:01, 10.68s/it]"
     ]
    },
    {
     "name": "stdout",
     "output_type": "stream",
     "text": [
      "An error occurred\n"
     ]
    },
    {
     "name": "stderr",
     "output_type": "stream",
     "text": [
      " 76%|███████▌  | 639/846 [1:29:56<37:05, 10.75s/it]"
     ]
    },
    {
     "name": "stdout",
     "output_type": "stream",
     "text": [
      "An error occurred\n"
     ]
    },
    {
     "name": "stderr",
     "output_type": "stream",
     "text": [
      " 76%|███████▌  | 640/846 [1:30:04<33:55,  9.88s/it]"
     ]
    },
    {
     "name": "stdout",
     "output_type": "stream",
     "text": [
      "An error occurred\n"
     ]
    },
    {
     "name": "stderr",
     "output_type": "stream",
     "text": [
      " 76%|███████▌  | 641/846 [1:30:17<37:36, 11.00s/it]"
     ]
    },
    {
     "name": "stdout",
     "output_type": "stream",
     "text": [
      "An error occurred\n"
     ]
    },
    {
     "name": "stderr",
     "output_type": "stream",
     "text": [
      " 76%|███████▌  | 642/846 [1:30:28<36:40, 10.79s/it]"
     ]
    },
    {
     "name": "stdout",
     "output_type": "stream",
     "text": [
      "An error occurred\n"
     ]
    },
    {
     "name": "stderr",
     "output_type": "stream",
     "text": [
      " 76%|███████▌  | 643/846 [1:30:36<34:10, 10.10s/it]"
     ]
    },
    {
     "name": "stdout",
     "output_type": "stream",
     "text": [
      "An error occurred\n"
     ]
    },
    {
     "name": "stderr",
     "output_type": "stream",
     "text": [
      " 76%|███████▌  | 644/846 [1:30:41<28:46,  8.55s/it]"
     ]
    },
    {
     "name": "stdout",
     "output_type": "stream",
     "text": [
      "An error occurred\n"
     ]
    },
    {
     "name": "stderr",
     "output_type": "stream",
     "text": [
      " 76%|███████▌  | 645/846 [1:30:47<25:27,  7.60s/it]"
     ]
    },
    {
     "name": "stdout",
     "output_type": "stream",
     "text": [
      "An error occurred\n"
     ]
    },
    {
     "name": "stderr",
     "output_type": "stream",
     "text": [
      " 76%|███████▋  | 646/846 [1:30:58<28:55,  8.68s/it]"
     ]
    },
    {
     "name": "stdout",
     "output_type": "stream",
     "text": [
      "An error occurred\n"
     ]
    },
    {
     "name": "stderr",
     "output_type": "stream",
     "text": [
      " 76%|███████▋  | 647/846 [1:31:16<38:47, 11.70s/it]"
     ]
    },
    {
     "name": "stdout",
     "output_type": "stream",
     "text": [
      "An error occurred\n"
     ]
    },
    {
     "name": "stderr",
     "output_type": "stream",
     "text": [
      " 77%|███████▋  | 648/846 [1:31:21<31:25,  9.52s/it]"
     ]
    },
    {
     "name": "stdout",
     "output_type": "stream",
     "text": [
      "An error occurred\n"
     ]
    },
    {
     "name": "stderr",
     "output_type": "stream",
     "text": [
      " 77%|███████▋  | 649/846 [1:31:23<24:24,  7.43s/it]"
     ]
    },
    {
     "name": "stdout",
     "output_type": "stream",
     "text": [
      "An error occurred\n"
     ]
    },
    {
     "name": "stderr",
     "output_type": "stream",
     "text": [
      " 77%|███████▋  | 650/846 [1:31:35<28:30,  8.73s/it]"
     ]
    },
    {
     "name": "stdout",
     "output_type": "stream",
     "text": [
      "An error occurred\n"
     ]
    },
    {
     "name": "stderr",
     "output_type": "stream",
     "text": [
      " 77%|███████▋  | 651/846 [1:31:48<32:24,  9.97s/it]"
     ]
    },
    {
     "name": "stdout",
     "output_type": "stream",
     "text": [
      "An error occurred\n"
     ]
    },
    {
     "name": "stderr",
     "output_type": "stream",
     "text": [
      " 77%|███████▋  | 652/846 [1:31:50<24:29,  7.58s/it]"
     ]
    },
    {
     "name": "stdout",
     "output_type": "stream",
     "text": [
      "An error occurred\n"
     ]
    },
    {
     "name": "stderr",
     "output_type": "stream",
     "text": [
      " 77%|███████▋  | 653/846 [1:32:06<32:50, 10.21s/it]"
     ]
    },
    {
     "name": "stdout",
     "output_type": "stream",
     "text": [
      "An error occurred\n"
     ]
    },
    {
     "name": "stderr",
     "output_type": "stream",
     "text": [
      " 77%|███████▋  | 654/846 [1:32:12<28:40,  8.96s/it]"
     ]
    },
    {
     "name": "stdout",
     "output_type": "stream",
     "text": [
      "An error occurred\n"
     ]
    },
    {
     "name": "stderr",
     "output_type": "stream",
     "text": [
      " 77%|███████▋  | 655/846 [1:32:39<45:26, 14.28s/it]"
     ]
    },
    {
     "name": "stdout",
     "output_type": "stream",
     "text": [
      "An error occurred\n"
     ]
    },
    {
     "name": "stderr",
     "output_type": "stream",
     "text": [
      " 78%|███████▊  | 656/846 [1:32:41<33:29, 10.57s/it]"
     ]
    },
    {
     "name": "stdout",
     "output_type": "stream",
     "text": [
      "An error occurred\n"
     ]
    },
    {
     "name": "stderr",
     "output_type": "stream",
     "text": [
      " 78%|███████▊  | 657/846 [1:32:44<25:47,  8.19s/it]"
     ]
    },
    {
     "name": "stdout",
     "output_type": "stream",
     "text": [
      "An error occurred\n"
     ]
    },
    {
     "name": "stderr",
     "output_type": "stream",
     "text": [
      " 78%|███████▊  | 658/846 [1:32:58<31:29, 10.05s/it]"
     ]
    },
    {
     "name": "stdout",
     "output_type": "stream",
     "text": [
      "An error occurred\n"
     ]
    },
    {
     "name": "stderr",
     "output_type": "stream",
     "text": [
      " 78%|███████▊  | 659/846 [1:33:03<26:08,  8.39s/it]"
     ]
    },
    {
     "name": "stdout",
     "output_type": "stream",
     "text": [
      "An error occurred\n",
      "An error occurred\n"
     ]
    },
    {
     "name": "stderr",
     "output_type": "stream",
     "text": [
      " 78%|███████▊  | 661/846 [1:33:22<27:52,  9.04s/it]"
     ]
    },
    {
     "name": "stdout",
     "output_type": "stream",
     "text": [
      "An error occurred\n"
     ]
    },
    {
     "name": "stderr",
     "output_type": "stream",
     "text": [
      " 78%|███████▊  | 662/846 [1:33:27<24:24,  7.96s/it]"
     ]
    },
    {
     "name": "stdout",
     "output_type": "stream",
     "text": [
      "An error occurred\n"
     ]
    },
    {
     "name": "stderr",
     "output_type": "stream",
     "text": [
      " 78%|███████▊  | 663/846 [1:33:29<19:52,  6.52s/it]"
     ]
    },
    {
     "name": "stdout",
     "output_type": "stream",
     "text": [
      "An error occurred\n"
     ]
    },
    {
     "name": "stderr",
     "output_type": "stream",
     "text": [
      " 78%|███████▊  | 664/846 [1:33:46<27:52,  9.19s/it]"
     ]
    },
    {
     "name": "stdout",
     "output_type": "stream",
     "text": [
      "An error occurred\n"
     ]
    },
    {
     "name": "stderr",
     "output_type": "stream",
     "text": [
      " 79%|███████▊  | 665/846 [1:33:49<22:48,  7.56s/it]"
     ]
    },
    {
     "name": "stdout",
     "output_type": "stream",
     "text": [
      "An error occurred\n"
     ]
    },
    {
     "name": "stderr",
     "output_type": "stream",
     "text": [
      " 79%|███████▊  | 666/846 [1:33:53<19:52,  6.62s/it]"
     ]
    },
    {
     "name": "stdout",
     "output_type": "stream",
     "text": [
      "An error occurred\n"
     ]
    },
    {
     "name": "stderr",
     "output_type": "stream",
     "text": [
      " 79%|███████▉  | 667/846 [1:34:02<21:32,  7.22s/it]"
     ]
    },
    {
     "name": "stdout",
     "output_type": "stream",
     "text": [
      "An error occurred\n"
     ]
    },
    {
     "name": "stderr",
     "output_type": "stream",
     "text": [
      " 79%|███████▉  | 668/846 [1:34:05<18:00,  6.07s/it]"
     ]
    },
    {
     "name": "stdout",
     "output_type": "stream",
     "text": [
      "An error occurred\n"
     ]
    },
    {
     "name": "stderr",
     "output_type": "stream",
     "text": [
      " 79%|███████▉  | 669/846 [1:34:20<25:28,  8.63s/it]"
     ]
    },
    {
     "name": "stdout",
     "output_type": "stream",
     "text": [
      "An error occurred\n"
     ]
    },
    {
     "name": "stderr",
     "output_type": "stream",
     "text": [
      " 79%|███████▉  | 670/846 [1:34:29<25:16,  8.62s/it]"
     ]
    },
    {
     "name": "stdout",
     "output_type": "stream",
     "text": [
      "An error occurred\n"
     ]
    },
    {
     "name": "stderr",
     "output_type": "stream",
     "text": [
      " 79%|███████▉  | 671/846 [1:34:37<25:06,  8.61s/it]"
     ]
    },
    {
     "name": "stdout",
     "output_type": "stream",
     "text": [
      "An error occurred\n"
     ]
    },
    {
     "name": "stderr",
     "output_type": "stream",
     "text": [
      " 79%|███████▉  | 672/846 [1:34:44<23:28,  8.09s/it]"
     ]
    },
    {
     "name": "stdout",
     "output_type": "stream",
     "text": [
      "An error occurred\n"
     ]
    },
    {
     "name": "stderr",
     "output_type": "stream",
     "text": [
      " 80%|███████▉  | 673/846 [1:34:50<21:29,  7.45s/it]"
     ]
    },
    {
     "name": "stdout",
     "output_type": "stream",
     "text": [
      "An error occurred\n"
     ]
    },
    {
     "name": "stderr",
     "output_type": "stream",
     "text": [
      " 80%|███████▉  | 674/846 [1:34:59<22:17,  7.77s/it]"
     ]
    },
    {
     "name": "stdout",
     "output_type": "stream",
     "text": [
      "An error occurred\n"
     ]
    },
    {
     "name": "stderr",
     "output_type": "stream",
     "text": [
      " 80%|███████▉  | 675/846 [1:35:11<25:52,  9.08s/it]"
     ]
    },
    {
     "name": "stdout",
     "output_type": "stream",
     "text": [
      "An error occurred\n"
     ]
    },
    {
     "name": "stderr",
     "output_type": "stream",
     "text": [
      " 80%|███████▉  | 676/846 [1:35:17<23:02,  8.13s/it]"
     ]
    },
    {
     "name": "stdout",
     "output_type": "stream",
     "text": [
      "An error occurred\n"
     ]
    },
    {
     "name": "stderr",
     "output_type": "stream",
     "text": [
      " 80%|████████  | 677/846 [1:35:25<23:11,  8.23s/it]"
     ]
    },
    {
     "name": "stdout",
     "output_type": "stream",
     "text": [
      "An error occurred\n"
     ]
    },
    {
     "name": "stderr",
     "output_type": "stream",
     "text": [
      " 80%|████████  | 678/846 [1:35:35<24:21,  8.70s/it]"
     ]
    },
    {
     "name": "stdout",
     "output_type": "stream",
     "text": [
      "An error occurred\n"
     ]
    },
    {
     "name": "stderr",
     "output_type": "stream",
     "text": [
      " 80%|████████  | 679/846 [1:35:38<19:41,  7.07s/it]"
     ]
    },
    {
     "name": "stdout",
     "output_type": "stream",
     "text": [
      "An error occurred\n"
     ]
    },
    {
     "name": "stderr",
     "output_type": "stream",
     "text": [
      " 80%|████████  | 680/846 [1:35:42<16:32,  5.98s/it]"
     ]
    },
    {
     "name": "stdout",
     "output_type": "stream",
     "text": [
      "An error occurred\n"
     ]
    },
    {
     "name": "stderr",
     "output_type": "stream",
     "text": [
      " 80%|████████  | 681/846 [1:35:59<25:54,  9.42s/it]"
     ]
    },
    {
     "name": "stdout",
     "output_type": "stream",
     "text": [
      "An error occurred\n"
     ]
    },
    {
     "name": "stderr",
     "output_type": "stream",
     "text": [
      " 81%|████████  | 682/846 [1:36:02<20:40,  7.57s/it]"
     ]
    },
    {
     "name": "stdout",
     "output_type": "stream",
     "text": [
      "An error occurred\n"
     ]
    },
    {
     "name": "stderr",
     "output_type": "stream",
     "text": [
      " 81%|████████  | 683/846 [1:36:06<17:06,  6.30s/it]"
     ]
    },
    {
     "name": "stdout",
     "output_type": "stream",
     "text": [
      "An error occurred\n"
     ]
    },
    {
     "name": "stderr",
     "output_type": "stream",
     "text": [
      " 81%|████████  | 684/846 [1:36:23<26:01,  9.64s/it]"
     ]
    },
    {
     "name": "stdout",
     "output_type": "stream",
     "text": [
      "An error occurred\n"
     ]
    },
    {
     "name": "stderr",
     "output_type": "stream",
     "text": [
      " 81%|████████  | 685/846 [1:36:29<22:49,  8.51s/it]"
     ]
    },
    {
     "name": "stdout",
     "output_type": "stream",
     "text": [
      "An error occurred\n"
     ]
    },
    {
     "name": "stderr",
     "output_type": "stream",
     "text": [
      " 81%|████████  | 686/846 [1:36:30<16:38,  6.24s/it]"
     ]
    },
    {
     "name": "stdout",
     "output_type": "stream",
     "text": [
      "An error occurred\n"
     ]
    },
    {
     "name": "stderr",
     "output_type": "stream",
     "text": [
      " 81%|████████  | 687/846 [1:36:42<21:04,  7.96s/it]"
     ]
    },
    {
     "name": "stdout",
     "output_type": "stream",
     "text": [
      "An error occurred\n"
     ]
    },
    {
     "name": "stderr",
     "output_type": "stream",
     "text": [
      " 81%|████████▏ | 688/846 [1:36:53<23:39,  8.98s/it]"
     ]
    },
    {
     "name": "stdout",
     "output_type": "stream",
     "text": [
      "An error occurred\n"
     ]
    },
    {
     "name": "stderr",
     "output_type": "stream",
     "text": [
      " 81%|████████▏ | 689/846 [1:36:54<17:07,  6.54s/it]"
     ]
    },
    {
     "name": "stdout",
     "output_type": "stream",
     "text": [
      "An error occurred\n"
     ]
    },
    {
     "name": "stderr",
     "output_type": "stream",
     "text": [
      " 82%|████████▏ | 690/846 [1:37:09<23:17,  8.96s/it]"
     ]
    },
    {
     "name": "stdout",
     "output_type": "stream",
     "text": [
      "An error occurred\n"
     ]
    },
    {
     "name": "stderr",
     "output_type": "stream",
     "text": [
      " 82%|████████▏ | 691/846 [1:37:15<21:26,  8.30s/it]"
     ]
    },
    {
     "name": "stdout",
     "output_type": "stream",
     "text": [
      "An error occurred\n"
     ]
    },
    {
     "name": "stderr",
     "output_type": "stream",
     "text": [
      " 82%|████████▏ | 692/846 [1:37:17<16:25,  6.40s/it]"
     ]
    },
    {
     "name": "stdout",
     "output_type": "stream",
     "text": [
      "An error occurred\n"
     ]
    },
    {
     "name": "stderr",
     "output_type": "stream",
     "text": [
      " 82%|████████▏ | 693/846 [1:37:25<17:14,  6.76s/it]"
     ]
    },
    {
     "name": "stdout",
     "output_type": "stream",
     "text": [
      "An error occurred\n"
     ]
    },
    {
     "name": "stderr",
     "output_type": "stream",
     "text": [
      " 82%|████████▏ | 694/846 [1:37:37<20:52,  8.24s/it]"
     ]
    },
    {
     "name": "stdout",
     "output_type": "stream",
     "text": [
      "An error occurred\n",
      "An error occurred\n"
     ]
    },
    {
     "name": "stderr",
     "output_type": "stream",
     "text": [
      " 82%|████████▏ | 696/846 [1:37:47<16:55,  6.77s/it]"
     ]
    },
    {
     "name": "stdout",
     "output_type": "stream",
     "text": [
      "An error occurred\n"
     ]
    },
    {
     "name": "stderr",
     "output_type": "stream",
     "text": [
      " 82%|████████▏ | 697/846 [1:38:03<22:47,  9.18s/it]"
     ]
    },
    {
     "name": "stdout",
     "output_type": "stream",
     "text": [
      "An error occurred\n",
      "An error occurred\n"
     ]
    },
    {
     "name": "stderr",
     "output_type": "stream",
     "text": [
      " 83%|████████▎ | 699/846 [1:38:11<17:05,  6.98s/it]"
     ]
    },
    {
     "name": "stdout",
     "output_type": "stream",
     "text": [
      "An error occurred\n"
     ]
    },
    {
     "name": "stderr",
     "output_type": "stream",
     "text": [
      " 83%|████████▎ | 700/846 [1:38:27<22:14,  9.14s/it]"
     ]
    },
    {
     "name": "stdout",
     "output_type": "stream",
     "text": [
      "An error occurred\n"
     ]
    },
    {
     "name": "stderr",
     "output_type": "stream",
     "text": [
      " 83%|████████▎ | 701/846 [1:38:28<16:50,  6.97s/it]"
     ]
    },
    {
     "name": "stdout",
     "output_type": "stream",
     "text": [
      "An error occurred\n"
     ]
    },
    {
     "name": "stderr",
     "output_type": "stream",
     "text": [
      " 83%|████████▎ | 702/846 [1:38:35<16:54,  7.05s/it]"
     ]
    },
    {
     "name": "stdout",
     "output_type": "stream",
     "text": [
      "An error occurred\n"
     ]
    },
    {
     "name": "stderr",
     "output_type": "stream",
     "text": [
      " 83%|████████▎ | 703/846 [1:38:52<23:02,  9.67s/it]"
     ]
    },
    {
     "name": "stdout",
     "output_type": "stream",
     "text": [
      "An error occurred\n"
     ]
    },
    {
     "name": "stderr",
     "output_type": "stream",
     "text": [
      " 83%|████████▎ | 704/846 [1:38:54<17:57,  7.59s/it]"
     ]
    },
    {
     "name": "stdout",
     "output_type": "stream",
     "text": [
      "An error occurred\n"
     ]
    },
    {
     "name": "stderr",
     "output_type": "stream",
     "text": [
      " 83%|████████▎ | 705/846 [1:39:02<17:53,  7.62s/it]"
     ]
    },
    {
     "name": "stdout",
     "output_type": "stream",
     "text": [
      "An error occurred\n"
     ]
    },
    {
     "name": "stderr",
     "output_type": "stream",
     "text": [
      " 83%|████████▎ | 706/846 [1:39:21<25:25, 10.90s/it]"
     ]
    },
    {
     "name": "stdout",
     "output_type": "stream",
     "text": [
      "An error occurred\n"
     ]
    },
    {
     "name": "stderr",
     "output_type": "stream",
     "text": [
      " 84%|████████▎ | 707/846 [1:39:28<23:04,  9.96s/it]"
     ]
    },
    {
     "name": "stdout",
     "output_type": "stream",
     "text": [
      "An error occurred\n"
     ]
    },
    {
     "name": "stderr",
     "output_type": "stream",
     "text": [
      " 84%|████████▎ | 708/846 [1:39:32<18:33,  8.07s/it]"
     ]
    },
    {
     "name": "stdout",
     "output_type": "stream",
     "text": [
      "An error occurred\n"
     ]
    },
    {
     "name": "stderr",
     "output_type": "stream",
     "text": [
      " 84%|████████▍ | 709/846 [1:39:50<24:59, 10.95s/it]"
     ]
    },
    {
     "name": "stdout",
     "output_type": "stream",
     "text": [
      "An error occurred\n"
     ]
    },
    {
     "name": "stderr",
     "output_type": "stream",
     "text": [
      " 84%|████████▍ | 710/846 [1:39:50<17:35,  7.76s/it]"
     ]
    },
    {
     "name": "stdout",
     "output_type": "stream",
     "text": [
      "An error occurred\n"
     ]
    },
    {
     "name": "stderr",
     "output_type": "stream",
     "text": [
      " 84%|████████▍ | 711/846 [1:39:56<16:20,  7.27s/it]"
     ]
    },
    {
     "name": "stdout",
     "output_type": "stream",
     "text": [
      "An error occurred\n"
     ]
    },
    {
     "name": "stderr",
     "output_type": "stream",
     "text": [
      " 84%|████████▍ | 712/846 [1:40:20<27:23, 12.26s/it]"
     ]
    },
    {
     "name": "stdout",
     "output_type": "stream",
     "text": [
      "An error occurred\n"
     ]
    },
    {
     "name": "stderr",
     "output_type": "stream",
     "text": [
      " 84%|████████▍ | 713/846 [1:40:27<23:34, 10.64s/it]"
     ]
    },
    {
     "name": "stdout",
     "output_type": "stream",
     "text": [
      "An error occurred\n"
     ]
    },
    {
     "name": "stderr",
     "output_type": "stream",
     "text": [
      " 84%|████████▍ | 714/846 [1:40:27<16:41,  7.59s/it]"
     ]
    },
    {
     "name": "stdout",
     "output_type": "stream",
     "text": [
      "An error occurred\n"
     ]
    },
    {
     "name": "stderr",
     "output_type": "stream",
     "text": [
      " 85%|████████▍ | 715/846 [1:40:46<23:55, 10.96s/it]"
     ]
    },
    {
     "name": "stdout",
     "output_type": "stream",
     "text": [
      "An error occurred\n"
     ]
    },
    {
     "name": "stderr",
     "output_type": "stream",
     "text": [
      " 85%|████████▍ | 716/846 [1:40:48<17:56,  8.28s/it]"
     ]
    },
    {
     "name": "stdout",
     "output_type": "stream",
     "text": [
      "An error occurred\n"
     ]
    },
    {
     "name": "stderr",
     "output_type": "stream",
     "text": [
      " 85%|████████▍ | 717/846 [1:40:52<14:51,  6.91s/it]"
     ]
    },
    {
     "name": "stdout",
     "output_type": "stream",
     "text": [
      "An error occurred\n"
     ]
    },
    {
     "name": "stderr",
     "output_type": "stream",
     "text": [
      " 85%|████████▍ | 718/846 [1:41:13<23:42, 11.12s/it]"
     ]
    },
    {
     "name": "stdout",
     "output_type": "stream",
     "text": [
      "An error occurred\n"
     ]
    },
    {
     "name": "stderr",
     "output_type": "stream",
     "text": [
      " 85%|████████▍ | 719/846 [1:41:15<17:40,  8.35s/it]"
     ]
    },
    {
     "name": "stdout",
     "output_type": "stream",
     "text": [
      "An error occurred\n"
     ]
    },
    {
     "name": "stderr",
     "output_type": "stream",
     "text": [
      " 85%|████████▌ | 720/846 [1:41:16<13:11,  6.28s/it]"
     ]
    },
    {
     "name": "stdout",
     "output_type": "stream",
     "text": [
      "An error occurred\n"
     ]
    },
    {
     "name": "stderr",
     "output_type": "stream",
     "text": [
      " 85%|████████▌ | 721/846 [1:41:37<22:26, 10.77s/it]"
     ]
    },
    {
     "name": "stdout",
     "output_type": "stream",
     "text": [
      "An error occurred\n"
     ]
    },
    {
     "name": "stderr",
     "output_type": "stream",
     "text": [
      " 85%|████████▌ | 722/846 [1:41:40<17:16,  8.36s/it]"
     ]
    },
    {
     "name": "stdout",
     "output_type": "stream",
     "text": [
      "An error occurred\n"
     ]
    },
    {
     "name": "stderr",
     "output_type": "stream",
     "text": [
      " 85%|████████▌ | 723/846 [1:41:59<23:34, 11.50s/it]"
     ]
    },
    {
     "name": "stdout",
     "output_type": "stream",
     "text": [
      "An error occurred\n"
     ]
    },
    {
     "name": "stderr",
     "output_type": "stream",
     "text": [
      " 86%|████████▌ | 724/846 [1:42:04<19:33,  9.62s/it]"
     ]
    },
    {
     "name": "stdout",
     "output_type": "stream",
     "text": [
      "An error occurred\n"
     ]
    },
    {
     "name": "stderr",
     "output_type": "stream",
     "text": [
      " 86%|████████▌ | 725/846 [1:42:08<16:01,  7.95s/it]"
     ]
    },
    {
     "name": "stdout",
     "output_type": "stream",
     "text": [
      "An error occurred\n"
     ]
    },
    {
     "name": "stderr",
     "output_type": "stream",
     "text": [
      " 86%|████████▌ | 726/846 [1:42:15<15:14,  7.62s/it]"
     ]
    },
    {
     "name": "stdout",
     "output_type": "stream",
     "text": [
      "An error occurred\n"
     ]
    },
    {
     "name": "stderr",
     "output_type": "stream",
     "text": [
      " 86%|████████▌ | 727/846 [1:42:27<17:46,  8.96s/it]"
     ]
    },
    {
     "name": "stdout",
     "output_type": "stream",
     "text": [
      "An error occurred\n"
     ]
    },
    {
     "name": "stderr",
     "output_type": "stream",
     "text": [
      " 86%|████████▌ | 728/846 [1:42:32<15:11,  7.73s/it]"
     ]
    },
    {
     "name": "stdout",
     "output_type": "stream",
     "text": [
      "An error occurred\n"
     ]
    },
    {
     "name": "stderr",
     "output_type": "stream",
     "text": [
      " 86%|████████▌ | 729/846 [1:42:39<14:42,  7.55s/it]"
     ]
    },
    {
     "name": "stdout",
     "output_type": "stream",
     "text": [
      "An error occurred\n"
     ]
    },
    {
     "name": "stderr",
     "output_type": "stream",
     "text": [
      " 86%|████████▋ | 730/846 [1:42:49<15:41,  8.12s/it]"
     ]
    },
    {
     "name": "stdout",
     "output_type": "stream",
     "text": [
      "An error occurred\n"
     ]
    },
    {
     "name": "stderr",
     "output_type": "stream",
     "text": [
      " 86%|████████▋ | 731/846 [1:42:59<16:39,  8.69s/it]"
     ]
    },
    {
     "name": "stdout",
     "output_type": "stream",
     "text": [
      "An error occurred\n"
     ]
    },
    {
     "name": "stderr",
     "output_type": "stream",
     "text": [
      " 87%|████████▋ | 732/846 [1:43:03<14:10,  7.46s/it]"
     ]
    },
    {
     "name": "stdout",
     "output_type": "stream",
     "text": [
      "An error occurred\n"
     ]
    },
    {
     "name": "stderr",
     "output_type": "stream",
     "text": [
      " 87%|████████▋ | 733/846 [1:43:08<12:23,  6.58s/it]"
     ]
    },
    {
     "name": "stdout",
     "output_type": "stream",
     "text": [
      "An error occurred\n"
     ]
    },
    {
     "name": "stderr",
     "output_type": "stream",
     "text": [
      " 87%|████████▋ | 734/846 [1:43:20<15:30,  8.31s/it]"
     ]
    },
    {
     "name": "stdout",
     "output_type": "stream",
     "text": [
      "An error occurred\n"
     ]
    },
    {
     "name": "stderr",
     "output_type": "stream",
     "text": [
      " 87%|████████▋ | 735/846 [1:43:30<16:17,  8.81s/it]"
     ]
    },
    {
     "name": "stdout",
     "output_type": "stream",
     "text": [
      "An error occurred\n"
     ]
    },
    {
     "name": "stderr",
     "output_type": "stream",
     "text": [
      " 87%|████████▋ | 736/846 [1:43:32<12:17,  6.70s/it]"
     ]
    },
    {
     "name": "stdout",
     "output_type": "stream",
     "text": [
      "An error occurred\n"
     ]
    },
    {
     "name": "stderr",
     "output_type": "stream",
     "text": [
      " 87%|████████▋ | 737/846 [1:43:56<21:43, 11.96s/it]"
     ]
    },
    {
     "name": "stdout",
     "output_type": "stream",
     "text": [
      "An error occurred\n"
     ]
    },
    {
     "name": "stderr",
     "output_type": "stream",
     "text": [
      " 87%|████████▋ | 738/846 [1:43:57<15:30,  8.62s/it]"
     ]
    },
    {
     "name": "stdout",
     "output_type": "stream",
     "text": [
      "An error occurred\n"
     ]
    },
    {
     "name": "stderr",
     "output_type": "stream",
     "text": [
      " 87%|████████▋ | 739/846 [1:44:00<12:28,  6.99s/it]"
     ]
    },
    {
     "name": "stdout",
     "output_type": "stream",
     "text": [
      "An error occurred\n"
     ]
    },
    {
     "name": "stderr",
     "output_type": "stream",
     "text": [
      " 87%|████████▋ | 740/846 [1:44:17<17:51, 10.11s/it]"
     ]
    },
    {
     "name": "stdout",
     "output_type": "stream",
     "text": [
      "An error occurred\n"
     ]
    },
    {
     "name": "stderr",
     "output_type": "stream",
     "text": [
      " 88%|████████▊ | 741/846 [1:44:18<12:52,  7.36s/it]"
     ]
    },
    {
     "name": "stdout",
     "output_type": "stream",
     "text": [
      "An error occurred\n"
     ]
    },
    {
     "name": "stderr",
     "output_type": "stream",
     "text": [
      " 88%|████████▊ | 742/846 [1:44:27<13:15,  7.65s/it]"
     ]
    },
    {
     "name": "stdout",
     "output_type": "stream",
     "text": [
      "An error occurred\n"
     ]
    },
    {
     "name": "stderr",
     "output_type": "stream",
     "text": [
      " 88%|████████▊ | 743/846 [1:44:37<14:37,  8.52s/it]"
     ]
    },
    {
     "name": "stdout",
     "output_type": "stream",
     "text": [
      "An error occurred\n"
     ]
    },
    {
     "name": "stderr",
     "output_type": "stream",
     "text": [
      " 88%|████████▊ | 744/846 [1:44:42<12:19,  7.25s/it]"
     ]
    },
    {
     "name": "stdout",
     "output_type": "stream",
     "text": [
      "An error occurred\n"
     ]
    },
    {
     "name": "stderr",
     "output_type": "stream",
     "text": [
      " 88%|████████▊ | 745/846 [1:44:48<11:56,  7.10s/it]"
     ]
    },
    {
     "name": "stdout",
     "output_type": "stream",
     "text": [
      "An error occurred\n"
     ]
    },
    {
     "name": "stderr",
     "output_type": "stream",
     "text": [
      " 88%|████████▊ | 746/846 [1:44:59<13:26,  8.06s/it]"
     ]
    },
    {
     "name": "stdout",
     "output_type": "stream",
     "text": [
      "An error occurred\n"
     ]
    },
    {
     "name": "stderr",
     "output_type": "stream",
     "text": [
      " 88%|████████▊ | 747/846 [1:45:06<12:44,  7.73s/it]"
     ]
    },
    {
     "name": "stdout",
     "output_type": "stream",
     "text": [
      "An error occurred\n"
     ]
    },
    {
     "name": "stderr",
     "output_type": "stream",
     "text": [
      " 88%|████████▊ | 748/846 [1:45:07<09:35,  5.87s/it]"
     ]
    },
    {
     "name": "stdout",
     "output_type": "stream",
     "text": [
      "An error occurred\n"
     ]
    },
    {
     "name": "stderr",
     "output_type": "stream",
     "text": [
      " 89%|████████▊ | 749/846 [1:45:17<11:39,  7.21s/it]"
     ]
    },
    {
     "name": "stdout",
     "output_type": "stream",
     "text": [
      "An error occurred\n"
     ]
    },
    {
     "name": "stderr",
     "output_type": "stream",
     "text": [
      " 89%|████████▊ | 750/846 [1:45:29<13:31,  8.46s/it]"
     ]
    },
    {
     "name": "stdout",
     "output_type": "stream",
     "text": [
      "An error occurred\n"
     ]
    },
    {
     "name": "stderr",
     "output_type": "stream",
     "text": [
      " 89%|████████▉ | 751/846 [1:45:36<12:55,  8.16s/it]"
     ]
    },
    {
     "name": "stdout",
     "output_type": "stream",
     "text": [
      "An error occurred\n"
     ]
    },
    {
     "name": "stderr",
     "output_type": "stream",
     "text": [
      " 89%|████████▉ | 752/846 [1:45:50<15:32,  9.92s/it]"
     ]
    },
    {
     "name": "stdout",
     "output_type": "stream",
     "text": [
      "An error occurred\n"
     ]
    },
    {
     "name": "stderr",
     "output_type": "stream",
     "text": [
      " 89%|████████▉ | 753/846 [1:45:51<10:58,  7.08s/it]"
     ]
    },
    {
     "name": "stdout",
     "output_type": "stream",
     "text": [
      "An error occurred\n"
     ]
    },
    {
     "name": "stderr",
     "output_type": "stream",
     "text": [
      " 89%|████████▉ | 754/846 [1:46:08<15:34, 10.16s/it]"
     ]
    },
    {
     "name": "stdout",
     "output_type": "stream",
     "text": [
      "An error occurred\n"
     ]
    },
    {
     "name": "stderr",
     "output_type": "stream",
     "text": [
      " 89%|████████▉ | 755/846 [1:46:14<13:39,  9.01s/it]"
     ]
    },
    {
     "name": "stdout",
     "output_type": "stream",
     "text": [
      "An error occurred\n"
     ]
    },
    {
     "name": "stderr",
     "output_type": "stream",
     "text": [
      " 89%|████████▉ | 756/846 [1:46:15<09:50,  6.56s/it]"
     ]
    },
    {
     "name": "stdout",
     "output_type": "stream",
     "text": [
      "An error occurred\n"
     ]
    },
    {
     "name": "stderr",
     "output_type": "stream",
     "text": [
      " 89%|████████▉ | 757/846 [1:46:56<24:58, 16.84s/it]"
     ]
    },
    {
     "name": "stdout",
     "output_type": "stream",
     "text": [
      "An error occurred\n"
     ]
    },
    {
     "name": "stderr",
     "output_type": "stream",
     "text": [
      " 90%|████████▉ | 758/846 [1:46:58<18:09, 12.38s/it]"
     ]
    },
    {
     "name": "stdout",
     "output_type": "stream",
     "text": [
      "An error occurred\n"
     ]
    },
    {
     "name": "stderr",
     "output_type": "stream",
     "text": [
      " 90%|████████▉ | 759/846 [1:46:59<12:49,  8.85s/it]"
     ]
    },
    {
     "name": "stdout",
     "output_type": "stream",
     "text": [
      "An error occurred\n"
     ]
    },
    {
     "name": "stderr",
     "output_type": "stream",
     "text": [
      " 90%|████████▉ | 760/846 [1:47:18<16:59, 11.85s/it]"
     ]
    },
    {
     "name": "stdout",
     "output_type": "stream",
     "text": [
      "An error occurred\n"
     ]
    },
    {
     "name": "stderr",
     "output_type": "stream",
     "text": [
      " 90%|████████▉ | 761/846 [1:47:20<12:37,  8.91s/it]"
     ]
    },
    {
     "name": "stdout",
     "output_type": "stream",
     "text": [
      "An error occurred\n"
     ]
    },
    {
     "name": "stderr",
     "output_type": "stream",
     "text": [
      " 90%|█████████ | 762/846 [1:47:31<13:24,  9.58s/it]"
     ]
    },
    {
     "name": "stdout",
     "output_type": "stream",
     "text": [
      "An error occurred\n"
     ]
    },
    {
     "name": "stderr",
     "output_type": "stream",
     "text": [
      " 90%|█████████ | 763/846 [1:47:36<11:24,  8.25s/it]"
     ]
    },
    {
     "name": "stdout",
     "output_type": "stream",
     "text": [
      "An error occurred\n"
     ]
    },
    {
     "name": "stderr",
     "output_type": "stream",
     "text": [
      " 90%|█████████ | 764/846 [1:47:39<09:13,  6.75s/it]"
     ]
    },
    {
     "name": "stdout",
     "output_type": "stream",
     "text": [
      "An error occurred\n"
     ]
    },
    {
     "name": "stderr",
     "output_type": "stream",
     "text": [
      " 90%|█████████ | 765/846 [1:47:55<12:55,  9.57s/it]"
     ]
    },
    {
     "name": "stdout",
     "output_type": "stream",
     "text": [
      "An error occurred\n"
     ]
    },
    {
     "name": "stderr",
     "output_type": "stream",
     "text": [
      " 91%|█████████ | 766/846 [1:47:57<09:46,  7.33s/it]"
     ]
    },
    {
     "name": "stdout",
     "output_type": "stream",
     "text": [
      "An error occurred\n"
     ]
    },
    {
     "name": "stderr",
     "output_type": "stream",
     "text": [
      " 91%|█████████ | 767/846 [1:48:00<07:45,  5.89s/it]"
     ]
    },
    {
     "name": "stdout",
     "output_type": "stream",
     "text": [
      "An error occurred\n"
     ]
    },
    {
     "name": "stderr",
     "output_type": "stream",
     "text": [
      " 91%|█████████ | 768/846 [1:48:16<11:42,  9.01s/it]"
     ]
    },
    {
     "name": "stdout",
     "output_type": "stream",
     "text": [
      "An error occurred\n"
     ]
    },
    {
     "name": "stderr",
     "output_type": "stream",
     "text": [
      " 91%|█████████ | 769/846 [1:48:20<09:24,  7.33s/it]"
     ]
    },
    {
     "name": "stdout",
     "output_type": "stream",
     "text": [
      "An error occurred\n"
     ]
    },
    {
     "name": "stderr",
     "output_type": "stream",
     "text": [
      " 91%|█████████ | 770/846 [1:48:27<09:29,  7.49s/it]"
     ]
    },
    {
     "name": "stdout",
     "output_type": "stream",
     "text": [
      "An error occurred\n"
     ]
    },
    {
     "name": "stderr",
     "output_type": "stream",
     "text": [
      " 91%|█████████ | 771/846 [1:48:38<10:39,  8.53s/it]"
     ]
    },
    {
     "name": "stdout",
     "output_type": "stream",
     "text": [
      "An error occurred\n"
     ]
    },
    {
     "name": "stderr",
     "output_type": "stream",
     "text": [
      " 91%|█████████▏| 772/846 [1:48:48<10:55,  8.86s/it]"
     ]
    },
    {
     "name": "stdout",
     "output_type": "stream",
     "text": [
      "An error occurred\n"
     ]
    },
    {
     "name": "stderr",
     "output_type": "stream",
     "text": [
      " 91%|█████████▏| 773/846 [1:48:49<08:02,  6.60s/it]"
     ]
    },
    {
     "name": "stdout",
     "output_type": "stream",
     "text": [
      "An error occurred\n"
     ]
    },
    {
     "name": "stderr",
     "output_type": "stream",
     "text": [
      " 91%|█████████▏| 774/846 [1:48:55<07:23,  6.16s/it]"
     ]
    },
    {
     "name": "stdout",
     "output_type": "stream",
     "text": [
      "An error occurred\n"
     ]
    },
    {
     "name": "stderr",
     "output_type": "stream",
     "text": [
      " 92%|█████████▏| 775/846 [1:49:08<09:57,  8.41s/it]"
     ]
    },
    {
     "name": "stdout",
     "output_type": "stream",
     "text": [
      "An error occurred\n"
     ]
    },
    {
     "name": "stderr",
     "output_type": "stream",
     "text": [
      " 92%|█████████▏| 776/846 [1:49:10<07:20,  6.29s/it]"
     ]
    },
    {
     "name": "stdout",
     "output_type": "stream",
     "text": [
      "An error occurred\n"
     ]
    },
    {
     "name": "stderr",
     "output_type": "stream",
     "text": [
      " 92%|█████████▏| 777/846 [1:49:16<07:15,  6.31s/it]"
     ]
    },
    {
     "name": "stdout",
     "output_type": "stream",
     "text": [
      "An error occurred\n"
     ]
    },
    {
     "name": "stderr",
     "output_type": "stream",
     "text": [
      " 92%|█████████▏| 778/846 [1:49:27<08:47,  7.76s/it]"
     ]
    },
    {
     "name": "stdout",
     "output_type": "stream",
     "text": [
      "An error occurred\n"
     ]
    },
    {
     "name": "stderr",
     "output_type": "stream",
     "text": [
      " 92%|█████████▏| 779/846 [1:49:28<06:28,  5.80s/it]"
     ]
    },
    {
     "name": "stdout",
     "output_type": "stream",
     "text": [
      "An error occurred\n"
     ]
    },
    {
     "name": "stderr",
     "output_type": "stream",
     "text": [
      " 92%|█████████▏| 780/846 [1:49:37<07:26,  6.77s/it]"
     ]
    },
    {
     "name": "stdout",
     "output_type": "stream",
     "text": [
      "An error occurred\n"
     ]
    },
    {
     "name": "stderr",
     "output_type": "stream",
     "text": [
      " 92%|█████████▏| 781/846 [1:49:46<08:00,  7.40s/it]"
     ]
    },
    {
     "name": "stdout",
     "output_type": "stream",
     "text": [
      "An error occurred\n"
     ]
    },
    {
     "name": "stderr",
     "output_type": "stream",
     "text": [
      " 92%|█████████▏| 782/846 [1:49:50<06:39,  6.23s/it]"
     ]
    },
    {
     "name": "stdout",
     "output_type": "stream",
     "text": [
      "An error occurred\n"
     ]
    },
    {
     "name": "stderr",
     "output_type": "stream",
     "text": [
      " 93%|█████████▎| 783/846 [1:49:56<06:37,  6.31s/it]"
     ]
    },
    {
     "name": "stdout",
     "output_type": "stream",
     "text": [
      "An error occurred\n"
     ]
    },
    {
     "name": "stderr",
     "output_type": "stream",
     "text": [
      " 93%|█████████▎| 784/846 [1:50:09<08:24,  8.13s/it]"
     ]
    },
    {
     "name": "stdout",
     "output_type": "stream",
     "text": [
      "An error occurred\n"
     ]
    },
    {
     "name": "stderr",
     "output_type": "stream",
     "text": [
      " 93%|█████████▎| 785/846 [1:50:10<06:17,  6.19s/it]"
     ]
    },
    {
     "name": "stdout",
     "output_type": "stream",
     "text": [
      "An error occurred\n"
     ]
    },
    {
     "name": "stderr",
     "output_type": "stream",
     "text": [
      " 93%|█████████▎| 786/846 [1:50:20<07:18,  7.31s/it]"
     ]
    },
    {
     "name": "stdout",
     "output_type": "stream",
     "text": [
      "An error occurred\n"
     ]
    },
    {
     "name": "stderr",
     "output_type": "stream",
     "text": [
      " 93%|█████████▎| 787/846 [1:50:30<07:55,  8.06s/it]"
     ]
    },
    {
     "name": "stdout",
     "output_type": "stream",
     "text": [
      "An error occurred\n"
     ]
    },
    {
     "name": "stderr",
     "output_type": "stream",
     "text": [
      " 93%|█████████▎| 788/846 [1:50:37<07:27,  7.72s/it]"
     ]
    },
    {
     "name": "stdout",
     "output_type": "stream",
     "text": [
      "An error occurred\n"
     ]
    },
    {
     "name": "stderr",
     "output_type": "stream",
     "text": [
      " 93%|█████████▎| 789/846 [1:50:50<08:45,  9.22s/it]"
     ]
    },
    {
     "name": "stdout",
     "output_type": "stream",
     "text": [
      "An error occurred\n"
     ]
    },
    {
     "name": "stderr",
     "output_type": "stream",
     "text": [
      " 93%|█████████▎| 790/846 [1:50:57<08:10,  8.75s/it]"
     ]
    },
    {
     "name": "stdout",
     "output_type": "stream",
     "text": [
      "An error occurred\n"
     ]
    },
    {
     "name": "stderr",
     "output_type": "stream",
     "text": [
      " 93%|█████████▎| 791/846 [1:51:09<08:45,  9.55s/it]"
     ]
    },
    {
     "name": "stdout",
     "output_type": "stream",
     "text": [
      "An error occurred\n"
     ]
    },
    {
     "name": "stderr",
     "output_type": "stream",
     "text": [
      " 94%|█████████▎| 792/846 [1:51:11<06:36,  7.35s/it]"
     ]
    },
    {
     "name": "stdout",
     "output_type": "stream",
     "text": [
      "An error occurred\n"
     ]
    },
    {
     "name": "stderr",
     "output_type": "stream",
     "text": [
      " 94%|█████████▎| 793/846 [1:51:21<07:19,  8.29s/it]"
     ]
    },
    {
     "name": "stdout",
     "output_type": "stream",
     "text": [
      "An error occurred\n"
     ]
    },
    {
     "name": "stderr",
     "output_type": "stream",
     "text": [
      " 94%|█████████▍| 794/846 [1:51:27<06:36,  7.62s/it]"
     ]
    },
    {
     "name": "stdout",
     "output_type": "stream",
     "text": [
      "An error occurred\n"
     ]
    },
    {
     "name": "stderr",
     "output_type": "stream",
     "text": [
      " 94%|█████████▍| 795/846 [1:51:37<07:06,  8.36s/it]"
     ]
    },
    {
     "name": "stdout",
     "output_type": "stream",
     "text": [
      "An error occurred\n"
     ]
    },
    {
     "name": "stderr",
     "output_type": "stream",
     "text": [
      " 94%|█████████▍| 796/846 [1:51:45<06:50,  8.20s/it]"
     ]
    },
    {
     "name": "stdout",
     "output_type": "stream",
     "text": [
      "An error occurred\n"
     ]
    },
    {
     "name": "stderr",
     "output_type": "stream",
     "text": [
      " 94%|█████████▍| 797/846 [1:51:46<04:54,  6.01s/it]"
     ]
    },
    {
     "name": "stdout",
     "output_type": "stream",
     "text": [
      "An error occurred\n"
     ]
    },
    {
     "name": "stderr",
     "output_type": "stream",
     "text": [
      " 94%|█████████▍| 798/846 [1:51:59<06:27,  8.08s/it]"
     ]
    },
    {
     "name": "stdout",
     "output_type": "stream",
     "text": [
      "An error occurred\n"
     ]
    },
    {
     "name": "stderr",
     "output_type": "stream",
     "text": [
      " 94%|█████████▍| 799/846 [1:52:13<07:41,  9.82s/it]"
     ]
    },
    {
     "name": "stdout",
     "output_type": "stream",
     "text": [
      "An error occurred\n"
     ]
    },
    {
     "name": "stderr",
     "output_type": "stream",
     "text": [
      " 95%|█████████▍| 800/846 [1:52:15<05:38,  7.35s/it]"
     ]
    },
    {
     "name": "stdout",
     "output_type": "stream",
     "text": [
      "An error occurred\n"
     ]
    },
    {
     "name": "stderr",
     "output_type": "stream",
     "text": [
      " 95%|█████████▍| 801/846 [1:52:23<05:46,  7.71s/it]"
     ]
    },
    {
     "name": "stdout",
     "output_type": "stream",
     "text": [
      "An error occurred\n"
     ]
    },
    {
     "name": "stderr",
     "output_type": "stream",
     "text": [
      " 95%|█████████▍| 802/846 [1:52:35<06:27,  8.81s/it]"
     ]
    },
    {
     "name": "stdout",
     "output_type": "stream",
     "text": [
      "An error occurred\n"
     ]
    },
    {
     "name": "stderr",
     "output_type": "stream",
     "text": [
      " 95%|█████████▍| 803/846 [1:52:39<05:17,  7.39s/it]"
     ]
    },
    {
     "name": "stdout",
     "output_type": "stream",
     "text": [
      "An error occurred\n"
     ]
    },
    {
     "name": "stderr",
     "output_type": "stream",
     "text": [
      " 95%|█████████▌| 804/846 [1:52:42<04:22,  6.24s/it]"
     ]
    },
    {
     "name": "stdout",
     "output_type": "stream",
     "text": [
      "An error occurred\n"
     ]
    },
    {
     "name": "stderr",
     "output_type": "stream",
     "text": [
      " 95%|█████████▌| 805/846 [1:52:55<05:35,  8.17s/it]"
     ]
    },
    {
     "name": "stdout",
     "output_type": "stream",
     "text": [
      "An error occurred\n"
     ]
    },
    {
     "name": "stderr",
     "output_type": "stream",
     "text": [
      " 95%|█████████▌| 806/846 [1:53:01<05:06,  7.66s/it]"
     ]
    },
    {
     "name": "stdout",
     "output_type": "stream",
     "text": [
      "An error occurred\n"
     ]
    },
    {
     "name": "stderr",
     "output_type": "stream",
     "text": [
      " 95%|█████████▌| 807/846 [1:53:09<04:56,  7.60s/it]"
     ]
    },
    {
     "name": "stdout",
     "output_type": "stream",
     "text": [
      "An error occurred\n"
     ]
    },
    {
     "name": "stderr",
     "output_type": "stream",
     "text": [
      " 96%|█████████▌| 808/846 [1:53:19<05:16,  8.33s/it]"
     ]
    },
    {
     "name": "stdout",
     "output_type": "stream",
     "text": [
      "An error occurred\n"
     ]
    },
    {
     "name": "stderr",
     "output_type": "stream",
     "text": [
      " 96%|█████████▌| 809/846 [1:53:25<04:48,  7.80s/it]"
     ]
    },
    {
     "name": "stdout",
     "output_type": "stream",
     "text": [
      "An error occurred\n"
     ]
    },
    {
     "name": "stderr",
     "output_type": "stream",
     "text": [
      " 96%|█████████▌| 810/846 [1:53:28<03:40,  6.12s/it]"
     ]
    },
    {
     "name": "stdout",
     "output_type": "stream",
     "text": [
      "An error occurred\n"
     ]
    },
    {
     "name": "stderr",
     "output_type": "stream",
     "text": [
      " 96%|█████████▌| 811/846 [1:53:38<04:15,  7.31s/it]"
     ]
    },
    {
     "name": "stdout",
     "output_type": "stream",
     "text": [
      "An error occurred\n"
     ]
    },
    {
     "name": "stderr",
     "output_type": "stream",
     "text": [
      " 96%|█████████▌| 812/846 [1:53:47<04:26,  7.84s/it]"
     ]
    },
    {
     "name": "stdout",
     "output_type": "stream",
     "text": [
      "An error occurred\n"
     ]
    },
    {
     "name": "stderr",
     "output_type": "stream",
     "text": [
      " 96%|█████████▌| 813/846 [1:53:49<03:23,  6.16s/it]"
     ]
    },
    {
     "name": "stdout",
     "output_type": "stream",
     "text": [
      "An error occurred\n"
     ]
    },
    {
     "name": "stderr",
     "output_type": "stream",
     "text": [
      " 96%|█████████▌| 814/846 [1:53:57<03:31,  6.60s/it]"
     ]
    },
    {
     "name": "stdout",
     "output_type": "stream",
     "text": [
      "An error occurred\n"
     ]
    },
    {
     "name": "stderr",
     "output_type": "stream",
     "text": [
      " 96%|█████████▋| 815/846 [1:54:06<03:49,  7.42s/it]"
     ]
    },
    {
     "name": "stdout",
     "output_type": "stream",
     "text": [
      "An error occurred\n"
     ]
    },
    {
     "name": "stderr",
     "output_type": "stream",
     "text": [
      " 96%|█████████▋| 816/846 [1:54:15<03:53,  7.77s/it]"
     ]
    },
    {
     "name": "stdout",
     "output_type": "stream",
     "text": [
      "An error occurred\n"
     ]
    },
    {
     "name": "stderr",
     "output_type": "stream",
     "text": [
      " 97%|█████████▋| 817/846 [1:54:27<04:28,  9.27s/it]"
     ]
    },
    {
     "name": "stdout",
     "output_type": "stream",
     "text": [
      "An error occurred\n"
     ]
    },
    {
     "name": "stderr",
     "output_type": "stream",
     "text": [
      " 97%|█████████▋| 818/846 [1:54:31<03:33,  7.62s/it]"
     ]
    },
    {
     "name": "stdout",
     "output_type": "stream",
     "text": [
      "An error occurred\n"
     ]
    },
    {
     "name": "stderr",
     "output_type": "stream",
     "text": [
      " 97%|█████████▋| 819/846 [1:54:46<04:25,  9.84s/it]"
     ]
    },
    {
     "name": "stdout",
     "output_type": "stream",
     "text": [
      "An error occurred\n"
     ]
    },
    {
     "name": "stderr",
     "output_type": "stream",
     "text": [
      " 97%|█████████▋| 820/846 [1:55:00<04:50, 11.17s/it]"
     ]
    },
    {
     "name": "stdout",
     "output_type": "stream",
     "text": [
      "An error occurred\n"
     ]
    },
    {
     "name": "stderr",
     "output_type": "stream",
     "text": [
      " 97%|█████████▋| 821/846 [1:55:13<04:49, 11.59s/it]"
     ]
    },
    {
     "name": "stdout",
     "output_type": "stream",
     "text": [
      "An error occurred\n"
     ]
    },
    {
     "name": "stderr",
     "output_type": "stream",
     "text": [
      " 97%|█████████▋| 822/846 [1:55:15<03:32,  8.85s/it]"
     ]
    },
    {
     "name": "stdout",
     "output_type": "stream",
     "text": [
      "An error occurred\n"
     ]
    },
    {
     "name": "stderr",
     "output_type": "stream",
     "text": [
      " 97%|█████████▋| 823/846 [1:55:27<03:42,  9.68s/it]"
     ]
    },
    {
     "name": "stdout",
     "output_type": "stream",
     "text": [
      "An error occurred\n"
     ]
    },
    {
     "name": "stderr",
     "output_type": "stream",
     "text": [
      " 97%|█████████▋| 824/846 [1:55:37<03:36,  9.83s/it]"
     ]
    },
    {
     "name": "stdout",
     "output_type": "stream",
     "text": [
      "An error occurred\n"
     ]
    },
    {
     "name": "stderr",
     "output_type": "stream",
     "text": [
      " 98%|█████████▊| 825/846 [1:55:45<03:14,  9.25s/it]"
     ]
    },
    {
     "name": "stdout",
     "output_type": "stream",
     "text": [
      "An error occurred\n"
     ]
    },
    {
     "name": "stderr",
     "output_type": "stream",
     "text": [
      " 98%|█████████▊| 826/846 [1:55:47<02:19,  6.95s/it]"
     ]
    },
    {
     "name": "stdout",
     "output_type": "stream",
     "text": [
      "An error occurred\n"
     ]
    },
    {
     "name": "stderr",
     "output_type": "stream",
     "text": [
      " 98%|█████████▊| 827/846 [1:55:59<02:40,  8.43s/it]"
     ]
    },
    {
     "name": "stdout",
     "output_type": "stream",
     "text": [
      "An error occurred\n"
     ]
    },
    {
     "name": "stderr",
     "output_type": "stream",
     "text": [
      " 98%|█████████▊| 828/846 [1:56:12<02:58,  9.93s/it]"
     ]
    },
    {
     "name": "stdout",
     "output_type": "stream",
     "text": [
      "An error occurred\n"
     ]
    },
    {
     "name": "stderr",
     "output_type": "stream",
     "text": [
      " 98%|█████████▊| 829/846 [1:56:23<02:51, 10.11s/it]"
     ]
    },
    {
     "name": "stdout",
     "output_type": "stream",
     "text": [
      "An error occurred\n"
     ]
    },
    {
     "name": "stderr",
     "output_type": "stream",
     "text": [
      " 98%|█████████▊| 830/846 [1:56:24<01:59,  7.47s/it]"
     ]
    },
    {
     "name": "stdout",
     "output_type": "stream",
     "text": [
      "An error occurred\n"
     ]
    },
    {
     "name": "stderr",
     "output_type": "stream",
     "text": [
      " 98%|█████████▊| 831/846 [1:56:39<02:24,  9.66s/it]"
     ]
    },
    {
     "name": "stdout",
     "output_type": "stream",
     "text": [
      "An error occurred\n"
     ]
    },
    {
     "name": "stderr",
     "output_type": "stream",
     "text": [
      " 98%|█████████▊| 832/846 [1:56:43<01:51,  7.97s/it]"
     ]
    },
    {
     "name": "stdout",
     "output_type": "stream",
     "text": [
      "An error occurred\n"
     ]
    },
    {
     "name": "stderr",
     "output_type": "stream",
     "text": [
      " 98%|█████████▊| 833/846 [1:56:49<01:38,  7.57s/it]"
     ]
    },
    {
     "name": "stdout",
     "output_type": "stream",
     "text": [
      "An error occurred\n"
     ]
    },
    {
     "name": "stderr",
     "output_type": "stream",
     "text": [
      " 99%|█████████▊| 834/846 [1:56:57<01:32,  7.72s/it]"
     ]
    },
    {
     "name": "stdout",
     "output_type": "stream",
     "text": [
      "An error occurred\n"
     ]
    },
    {
     "name": "stderr",
     "output_type": "stream",
     "text": [
      " 99%|█████████▊| 835/846 [1:57:08<01:34,  8.63s/it]"
     ]
    },
    {
     "name": "stdout",
     "output_type": "stream",
     "text": [
      "An error occurred\n"
     ]
    },
    {
     "name": "stderr",
     "output_type": "stream",
     "text": [
      " 99%|█████████▉| 836/846 [1:57:17<01:27,  8.74s/it]"
     ]
    },
    {
     "name": "stdout",
     "output_type": "stream",
     "text": [
      "An error occurred\n"
     ]
    },
    {
     "name": "stderr",
     "output_type": "stream",
     "text": [
      " 99%|█████████▉| 837/846 [1:57:19<01:00,  6.67s/it]"
     ]
    },
    {
     "name": "stdout",
     "output_type": "stream",
     "text": [
      "An error occurred\n"
     ]
    },
    {
     "name": "stderr",
     "output_type": "stream",
     "text": [
      " 99%|█████████▉| 838/846 [1:57:40<01:28, 11.08s/it]"
     ]
    },
    {
     "name": "stdout",
     "output_type": "stream",
     "text": [
      "An error occurred\n"
     ]
    },
    {
     "name": "stderr",
     "output_type": "stream",
     "text": [
      " 99%|█████████▉| 839/846 [1:57:41<00:56,  8.04s/it]"
     ]
    },
    {
     "name": "stdout",
     "output_type": "stream",
     "text": [
      "An error occurred\n"
     ]
    },
    {
     "name": "stderr",
     "output_type": "stream",
     "text": [
      " 99%|█████████▉| 840/846 [1:58:11<01:26, 14.42s/it]"
     ]
    },
    {
     "name": "stdout",
     "output_type": "stream",
     "text": [
      "An error occurred\n"
     ]
    },
    {
     "name": "stderr",
     "output_type": "stream",
     "text": [
      " 99%|█████████▉| 841/846 [1:58:17<01:00, 12.17s/it]"
     ]
    },
    {
     "name": "stdout",
     "output_type": "stream",
     "text": [
      "An error occurred\n"
     ]
    },
    {
     "name": "stderr",
     "output_type": "stream",
     "text": [
      "100%|█████████▉| 842/846 [1:58:35<00:55, 13.81s/it]"
     ]
    },
    {
     "name": "stdout",
     "output_type": "stream",
     "text": [
      "An error occurred\n"
     ]
    },
    {
     "name": "stderr",
     "output_type": "stream",
     "text": [
      "100%|█████████▉| 843/846 [1:58:36<00:30, 10.04s/it]"
     ]
    },
    {
     "name": "stdout",
     "output_type": "stream",
     "text": [
      "An error occurred\n"
     ]
    },
    {
     "name": "stderr",
     "output_type": "stream",
     "text": [
      "100%|█████████▉| 844/846 [1:58:57<00:26, 13.20s/it]"
     ]
    },
    {
     "name": "stdout",
     "output_type": "stream",
     "text": [
      "An error occurred\n"
     ]
    },
    {
     "name": "stderr",
     "output_type": "stream",
     "text": [
      "100%|█████████▉| 845/846 [1:59:02<00:10, 10.78s/it]"
     ]
    },
    {
     "name": "stdout",
     "output_type": "stream",
     "text": [
      "An error occurred\n"
     ]
    },
    {
     "name": "stderr",
     "output_type": "stream",
     "text": [
      "100%|██████████| 846/846 [1:59:03<00:00,  8.44s/it]"
     ]
    },
    {
     "name": "stdout",
     "output_type": "stream",
     "text": [
      "An error occurred\n",
      "Error processing dataset analyst15: No objects to concatenate\n"
     ]
    },
    {
     "name": "stderr",
     "output_type": "stream",
     "text": [
      "\n",
      "100%|██████████| 36/36 [15:02<00:00, 25.07s/it]\n",
      "/Users/michaelxu/My_Document/Michael/金融/量化/WorldQuant/alpha_creation_engine-main/helpful_functions.py:31: FutureWarning: The behavior of DataFrame concatenation with empty or all-NA entries is deprecated. In a future version, this will no longer exclude empty or all-NA columns when determining the result dtypes. To retain the old behavior, exclude the relevant entries before the concat operation.\n",
      "  is_stats_df = pd.concat(list_of_is_stats).reset_index(drop=True)\n"
     ]
    },
    {
     "name": "stdout",
     "output_type": "stream",
     "text": [
      "Results for dataset analyst16 processed successfully.\n"
     ]
    },
    {
     "name": "stderr",
     "output_type": "stream",
     "text": [
      "100%|██████████| 34/34 [12:20<00:00, 21.79s/it]\n",
      "/Users/michaelxu/My_Document/Michael/金融/量化/WorldQuant/alpha_creation_engine-main/helpful_functions.py:31: FutureWarning: The behavior of DataFrame concatenation with empty or all-NA entries is deprecated. In a future version, this will no longer exclude empty or all-NA columns when determining the result dtypes. To retain the old behavior, exclude the relevant entries before the concat operation.\n",
      "  is_stats_df = pd.concat(list_of_is_stats).reset_index(drop=True)\n"
     ]
    },
    {
     "name": "stdout",
     "output_type": "stream",
     "text": [
      "Results for dataset analyst27 processed successfully.\n"
     ]
    },
    {
     "name": "stderr",
     "output_type": "stream",
     "text": [
      "  0%|          | 1/204 [00:13<46:08, 13.64s/it]"
     ]
    },
    {
     "name": "stdout",
     "output_type": "stream",
     "text": [
      "An error occurred\n"
     ]
    },
    {
     "name": "stderr",
     "output_type": "stream",
     "text": [
      "  1%|▏         | 3/204 [00:21<18:40,  5.58s/it]"
     ]
    },
    {
     "name": "stdout",
     "output_type": "stream",
     "text": [
      "An error occurred\n",
      "An error occurred\n"
     ]
    },
    {
     "name": "stderr",
     "output_type": "stream",
     "text": [
      "  2%|▏         | 4/204 [00:40<36:00, 10.80s/it]"
     ]
    },
    {
     "name": "stdout",
     "output_type": "stream",
     "text": [
      "An error occurred\n"
     ]
    },
    {
     "name": "stderr",
     "output_type": "stream",
     "text": [
      "  2%|▏         | 5/204 [00:45<29:01,  8.75s/it]"
     ]
    },
    {
     "name": "stdout",
     "output_type": "stream",
     "text": [
      "An error occurred\n"
     ]
    },
    {
     "name": "stderr",
     "output_type": "stream",
     "text": [
      "  3%|▎         | 6/204 [00:53<28:10,  8.54s/it]"
     ]
    },
    {
     "name": "stdout",
     "output_type": "stream",
     "text": [
      "An error occurred\n"
     ]
    },
    {
     "name": "stderr",
     "output_type": "stream",
     "text": [
      "  3%|▎         | 7/204 [01:04<30:45,  9.37s/it]"
     ]
    },
    {
     "name": "stdout",
     "output_type": "stream",
     "text": [
      "An error occurred\n"
     ]
    },
    {
     "name": "stderr",
     "output_type": "stream",
     "text": [
      "  4%|▍         | 8/204 [01:06<23:13,  7.11s/it]"
     ]
    },
    {
     "name": "stdout",
     "output_type": "stream",
     "text": [
      "An error occurred\n"
     ]
    },
    {
     "name": "stderr",
     "output_type": "stream",
     "text": [
      "  4%|▍         | 9/204 [01:28<38:02, 11.70s/it]"
     ]
    },
    {
     "name": "stdout",
     "output_type": "stream",
     "text": [
      "An error occurred\n"
     ]
    },
    {
     "name": "stderr",
     "output_type": "stream",
     "text": [
      "  8%|▊         | 16/204 [03:41<54:10, 17.29s/it]  "
     ]
    },
    {
     "name": "stdout",
     "output_type": "stream",
     "text": [
      "An error occurred\n"
     ]
    },
    {
     "name": "stderr",
     "output_type": "stream",
     "text": [
      "  8%|▊         | 17/204 [03:42<37:54, 12.16s/it]"
     ]
    },
    {
     "name": "stdout",
     "output_type": "stream",
     "text": [
      "An error occurred\n"
     ]
    },
    {
     "name": "stderr",
     "output_type": "stream",
     "text": [
      " 12%|█▏        | 25/204 [06:41<1:03:09, 21.17s/it]"
     ]
    },
    {
     "name": "stdout",
     "output_type": "stream",
     "text": [
      "An error occurred\n"
     ]
    },
    {
     "name": "stderr",
     "output_type": "stream",
     "text": [
      " 13%|█▎        | 26/204 [07:02<1:03:05, 21.27s/it]"
     ]
    },
    {
     "name": "stdout",
     "output_type": "stream",
     "text": [
      "An error occurred\n"
     ]
    },
    {
     "name": "stderr",
     "output_type": "stream",
     "text": [
      " 33%|███▎      | 67/204 [21:37<33:10, 14.53s/it]  "
     ]
    },
    {
     "name": "stdout",
     "output_type": "stream",
     "text": [
      "An error occurred\n"
     ]
    },
    {
     "name": "stderr",
     "output_type": "stream",
     "text": [
      " 33%|███▎      | 68/204 [21:56<35:49, 15.80s/it]"
     ]
    },
    {
     "name": "stdout",
     "output_type": "stream",
     "text": [
      "An error occurred\n"
     ]
    },
    {
     "name": "stderr",
     "output_type": "stream",
     "text": [
      " 34%|███▍      | 69/204 [21:56<25:04, 11.14s/it]"
     ]
    },
    {
     "name": "stdout",
     "output_type": "stream",
     "text": [
      "An error occurred\n"
     ]
    },
    {
     "name": "stderr",
     "output_type": "stream",
     "text": [
      " 34%|███▍      | 70/204 [21:56<17:43,  7.94s/it]"
     ]
    },
    {
     "name": "stdout",
     "output_type": "stream",
     "text": [
      "An error occurred\n"
     ]
    },
    {
     "name": "stderr",
     "output_type": "stream",
     "text": [
      " 35%|███▍      | 71/204 [22:25<31:19, 14.13s/it]"
     ]
    },
    {
     "name": "stdout",
     "output_type": "stream",
     "text": [
      "An error occurred\n"
     ]
    },
    {
     "name": "stderr",
     "output_type": "stream",
     "text": [
      " 35%|███▌      | 72/204 [22:25<21:57,  9.98s/it]"
     ]
    },
    {
     "name": "stdout",
     "output_type": "stream",
     "text": [
      "An error occurred\n"
     ]
    },
    {
     "name": "stderr",
     "output_type": "stream",
     "text": [
      " 36%|███▌      | 73/204 [22:26<15:34,  7.13s/it]"
     ]
    },
    {
     "name": "stdout",
     "output_type": "stream",
     "text": [
      "An error occurred\n"
     ]
    },
    {
     "name": "stderr",
     "output_type": "stream",
     "text": [
      " 36%|███▋      | 74/204 [22:46<24:17, 11.21s/it]"
     ]
    },
    {
     "name": "stdout",
     "output_type": "stream",
     "text": [
      "An error occurred\n"
     ]
    },
    {
     "name": "stderr",
     "output_type": "stream",
     "text": [
      " 37%|███▋      | 75/204 [22:50<18:59,  8.83s/it]"
     ]
    },
    {
     "name": "stdout",
     "output_type": "stream",
     "text": [
      "An error occurred\n"
     ]
    },
    {
     "name": "stderr",
     "output_type": "stream",
     "text": [
      " 37%|███▋      | 76/204 [22:52<14:34,  6.84s/it]"
     ]
    },
    {
     "name": "stdout",
     "output_type": "stream",
     "text": [
      "An error occurred\n"
     ]
    },
    {
     "name": "stderr",
     "output_type": "stream",
     "text": [
      " 38%|███▊      | 77/204 [23:10<21:53, 10.34s/it]"
     ]
    },
    {
     "name": "stdout",
     "output_type": "stream",
     "text": [
      "An error occurred\n"
     ]
    },
    {
     "name": "stderr",
     "output_type": "stream",
     "text": [
      " 38%|███▊      | 78/204 [23:19<20:41,  9.86s/it]"
     ]
    },
    {
     "name": "stdout",
     "output_type": "stream",
     "text": [
      "An error occurred\n"
     ]
    },
    {
     "name": "stderr",
     "output_type": "stream",
     "text": [
      " 39%|███▊      | 79/204 [23:34<23:57, 11.50s/it]"
     ]
    },
    {
     "name": "stdout",
     "output_type": "stream",
     "text": [
      "An error occurred\n"
     ]
    },
    {
     "name": "stderr",
     "output_type": "stream",
     "text": [
      " 39%|███▉      | 80/204 [23:35<17:10,  8.31s/it]"
     ]
    },
    {
     "name": "stdout",
     "output_type": "stream",
     "text": [
      "An error occurred\n"
     ]
    },
    {
     "name": "stderr",
     "output_type": "stream",
     "text": [
      " 40%|████      | 82/204 [24:05<22:44, 11.19s/it]"
     ]
    },
    {
     "name": "stdout",
     "output_type": "stream",
     "text": [
      "An error occurred\n"
     ]
    },
    {
     "name": "stderr",
     "output_type": "stream",
     "text": [
      " 41%|████      | 83/204 [24:06<16:38,  8.25s/it]"
     ]
    },
    {
     "name": "stdout",
     "output_type": "stream",
     "text": [
      "An error occurred\n"
     ]
    },
    {
     "name": "stderr",
     "output_type": "stream",
     "text": [
      " 41%|████      | 84/204 [24:19<19:07,  9.56s/it]"
     ]
    },
    {
     "name": "stdout",
     "output_type": "stream",
     "text": [
      "An error occurred\n"
     ]
    },
    {
     "name": "stderr",
     "output_type": "stream",
     "text": [
      " 42%|████▏     | 85/204 [24:29<19:10,  9.67s/it]"
     ]
    },
    {
     "name": "stdout",
     "output_type": "stream",
     "text": [
      "An error occurred\n"
     ]
    },
    {
     "name": "stderr",
     "output_type": "stream",
     "text": [
      " 42%|████▏     | 86/204 [24:31<14:31,  7.38s/it]"
     ]
    },
    {
     "name": "stdout",
     "output_type": "stream",
     "text": [
      "An error occurred\n"
     ]
    },
    {
     "name": "stderr",
     "output_type": "stream",
     "text": [
      " 43%|████▎     | 87/204 [24:32<10:56,  5.61s/it]"
     ]
    },
    {
     "name": "stdout",
     "output_type": "stream",
     "text": [
      "An error occurred\n"
     ]
    },
    {
     "name": "stderr",
     "output_type": "stream",
     "text": [
      " 43%|████▎     | 88/204 [24:53<19:28, 10.07s/it]"
     ]
    },
    {
     "name": "stdout",
     "output_type": "stream",
     "text": [
      "An error occurred\n"
     ]
    },
    {
     "name": "stderr",
     "output_type": "stream",
     "text": [
      " 44%|████▎     | 89/204 [24:59<17:07,  8.93s/it]"
     ]
    },
    {
     "name": "stdout",
     "output_type": "stream",
     "text": [
      "An error occurred\n"
     ]
    },
    {
     "name": "stderr",
     "output_type": "stream",
     "text": [
      " 44%|████▍     | 90/204 [25:00<12:27,  6.56s/it]"
     ]
    },
    {
     "name": "stdout",
     "output_type": "stream",
     "text": [
      "An error occurred\n"
     ]
    },
    {
     "name": "stderr",
     "output_type": "stream",
     "text": [
      " 45%|████▍     | 91/204 [25:15<17:16,  9.17s/it]"
     ]
    },
    {
     "name": "stdout",
     "output_type": "stream",
     "text": [
      "An error occurred\n"
     ]
    },
    {
     "name": "stderr",
     "output_type": "stream",
     "text": [
      " 45%|████▌     | 92/204 [25:27<18:20,  9.82s/it]"
     ]
    },
    {
     "name": "stdout",
     "output_type": "stream",
     "text": [
      "An error occurred\n"
     ]
    },
    {
     "name": "stderr",
     "output_type": "stream",
     "text": [
      " 46%|████▌     | 93/204 [25:34<16:52,  9.12s/it]"
     ]
    },
    {
     "name": "stdout",
     "output_type": "stream",
     "text": [
      "An error occurred\n"
     ]
    },
    {
     "name": "stderr",
     "output_type": "stream",
     "text": [
      " 46%|████▌     | 94/204 [25:35<12:23,  6.76s/it]"
     ]
    },
    {
     "name": "stdout",
     "output_type": "stream",
     "text": [
      "An error occurred\n"
     ]
    },
    {
     "name": "stderr",
     "output_type": "stream",
     "text": [
      " 47%|████▋     | 95/204 [25:51<17:02,  9.38s/it]"
     ]
    },
    {
     "name": "stdout",
     "output_type": "stream",
     "text": [
      "An error occurred\n"
     ]
    },
    {
     "name": "stderr",
     "output_type": "stream",
     "text": [
      " 47%|████▋     | 96/204 [25:58<15:52,  8.82s/it]"
     ]
    },
    {
     "name": "stdout",
     "output_type": "stream",
     "text": [
      "An error occurred\n"
     ]
    },
    {
     "name": "stderr",
     "output_type": "stream",
     "text": [
      " 48%|████▊     | 97/204 [26:10<17:12,  9.65s/it]"
     ]
    },
    {
     "name": "stdout",
     "output_type": "stream",
     "text": [
      "An error occurred\n"
     ]
    },
    {
     "name": "stderr",
     "output_type": "stream",
     "text": [
      " 48%|████▊     | 98/204 [26:17<15:45,  8.92s/it]"
     ]
    },
    {
     "name": "stdout",
     "output_type": "stream",
     "text": [
      "An error occurred\n"
     ]
    },
    {
     "name": "stderr",
     "output_type": "stream",
     "text": [
      " 49%|████▊     | 99/204 [26:18<11:23,  6.51s/it]"
     ]
    },
    {
     "name": "stdout",
     "output_type": "stream",
     "text": [
      "An error occurred\n"
     ]
    },
    {
     "name": "stderr",
     "output_type": "stream",
     "text": [
      " 49%|████▉     | 100/204 [26:39<18:59, 10.96s/it]"
     ]
    },
    {
     "name": "stdout",
     "output_type": "stream",
     "text": [
      "An error occurred\n"
     ]
    },
    {
     "name": "stderr",
     "output_type": "stream",
     "text": [
      " 50%|████▉     | 101/204 [26:41<14:06,  8.22s/it]"
     ]
    },
    {
     "name": "stdout",
     "output_type": "stream",
     "text": [
      "An error occurred\n"
     ]
    },
    {
     "name": "stderr",
     "output_type": "stream",
     "text": [
      " 50%|█████     | 102/204 [26:42<10:14,  6.03s/it]"
     ]
    },
    {
     "name": "stdout",
     "output_type": "stream",
     "text": [
      "An error occurred\n"
     ]
    },
    {
     "name": "stderr",
     "output_type": "stream",
     "text": [
      " 50%|█████     | 103/204 [27:07<19:22, 11.51s/it]"
     ]
    },
    {
     "name": "stdout",
     "output_type": "stream",
     "text": [
      "An error occurred\n"
     ]
    },
    {
     "name": "stderr",
     "output_type": "stream",
     "text": [
      " 51%|█████     | 104/204 [27:09<14:32,  8.73s/it]"
     ]
    },
    {
     "name": "stdout",
     "output_type": "stream",
     "text": [
      "An error occurred\n"
     ]
    },
    {
     "name": "stderr",
     "output_type": "stream",
     "text": [
      " 51%|█████▏    | 105/204 [27:13<12:18,  7.46s/it]"
     ]
    },
    {
     "name": "stdout",
     "output_type": "stream",
     "text": [
      "An error occurred\n"
     ]
    },
    {
     "name": "stderr",
     "output_type": "stream",
     "text": [
      " 52%|█████▏    | 106/204 [27:20<11:54,  7.29s/it]"
     ]
    },
    {
     "name": "stdout",
     "output_type": "stream",
     "text": [
      "An error occurred\n"
     ]
    },
    {
     "name": "stderr",
     "output_type": "stream",
     "text": [
      " 52%|█████▏    | 107/204 [27:33<14:25,  8.93s/it]"
     ]
    },
    {
     "name": "stdout",
     "output_type": "stream",
     "text": [
      "An error occurred\n"
     ]
    },
    {
     "name": "stderr",
     "output_type": "stream",
     "text": [
      " 54%|█████▍    | 110/204 [28:40<23:44, 15.15s/it]"
     ]
    },
    {
     "name": "stdout",
     "output_type": "stream",
     "text": [
      "An error occurred\n"
     ]
    },
    {
     "name": "stderr",
     "output_type": "stream",
     "text": [
      " 54%|█████▍    | 111/204 [29:02<26:54, 17.36s/it]"
     ]
    },
    {
     "name": "stdout",
     "output_type": "stream",
     "text": [
      "An error occurred\n"
     ]
    },
    {
     "name": "stderr",
     "output_type": "stream",
     "text": [
      " 55%|█████▍    | 112/204 [29:04<19:21, 12.62s/it]"
     ]
    },
    {
     "name": "stdout",
     "output_type": "stream",
     "text": [
      "An error occurred\n"
     ]
    },
    {
     "name": "stderr",
     "output_type": "stream",
     "text": [
      " 56%|█████▌    | 114/204 [29:28<19:39, 13.11s/it]"
     ]
    },
    {
     "name": "stdout",
     "output_type": "stream",
     "text": [
      "An error occurred\n"
     ]
    },
    {
     "name": "stderr",
     "output_type": "stream",
     "text": [
      " 56%|█████▋    | 115/204 [29:29<14:03,  9.48s/it]"
     ]
    },
    {
     "name": "stdout",
     "output_type": "stream",
     "text": [
      "An error occurred\n"
     ]
    },
    {
     "name": "stderr",
     "output_type": "stream",
     "text": [
      " 57%|█████▋    | 116/204 [29:37<13:02,  8.89s/it]"
     ]
    },
    {
     "name": "stdout",
     "output_type": "stream",
     "text": [
      "An error occurred\n"
     ]
    },
    {
     "name": "stderr",
     "output_type": "stream",
     "text": [
      " 57%|█████▋    | 117/204 [30:06<21:51, 15.07s/it]"
     ]
    },
    {
     "name": "stdout",
     "output_type": "stream",
     "text": [
      "An error occurred\n"
     ]
    },
    {
     "name": "stderr",
     "output_type": "stream",
     "text": [
      " 58%|█████▊    | 119/204 [30:31<17:45, 12.53s/it]"
     ]
    },
    {
     "name": "stdout",
     "output_type": "stream",
     "text": [
      "An error occurred\n"
     ]
    },
    {
     "name": "stderr",
     "output_type": "stream",
     "text": [
      " 59%|█████▉    | 121/204 [30:54<17:09, 12.40s/it]"
     ]
    },
    {
     "name": "stdout",
     "output_type": "stream",
     "text": [
      "An error occurred\n"
     ]
    },
    {
     "name": "stderr",
     "output_type": "stream",
     "text": [
      " 60%|█████▉    | 122/204 [30:57<13:00,  9.52s/it]"
     ]
    },
    {
     "name": "stdout",
     "output_type": "stream",
     "text": [
      "An error occurred\n"
     ]
    },
    {
     "name": "stderr",
     "output_type": "stream",
     "text": [
      " 60%|██████    | 123/204 [31:08<13:12,  9.78s/it]"
     ]
    },
    {
     "name": "stdout",
     "output_type": "stream",
     "text": [
      "An error occurred\n"
     ]
    },
    {
     "name": "stderr",
     "output_type": "stream",
     "text": [
      " 61%|██████    | 124/204 [31:18<13:27, 10.09s/it]"
     ]
    },
    {
     "name": "stdout",
     "output_type": "stream",
     "text": [
      "An error occurred\n"
     ]
    },
    {
     "name": "stderr",
     "output_type": "stream",
     "text": [
      " 61%|██████▏   | 125/204 [31:19<09:28,  7.20s/it]"
     ]
    },
    {
     "name": "stdout",
     "output_type": "stream",
     "text": [
      "An error occurred\n"
     ]
    },
    {
     "name": "stderr",
     "output_type": "stream",
     "text": [
      " 62%|██████▏   | 126/204 [31:26<09:28,  7.29s/it]"
     ]
    },
    {
     "name": "stdout",
     "output_type": "stream",
     "text": [
      "An error occurred\n"
     ]
    },
    {
     "name": "stderr",
     "output_type": "stream",
     "text": [
      " 62%|██████▏   | 127/204 [31:35<09:51,  7.68s/it]"
     ]
    },
    {
     "name": "stdout",
     "output_type": "stream",
     "text": [
      "An error occurred\n"
     ]
    },
    {
     "name": "stderr",
     "output_type": "stream",
     "text": [
      " 63%|██████▎   | 128/204 [31:37<07:39,  6.04s/it]"
     ]
    },
    {
     "name": "stdout",
     "output_type": "stream",
     "text": [
      "An error occurred\n"
     ]
    },
    {
     "name": "stderr",
     "output_type": "stream",
     "text": [
      " 63%|██████▎   | 129/204 [31:56<12:10,  9.74s/it]"
     ]
    },
    {
     "name": "stdout",
     "output_type": "stream",
     "text": [
      "An error occurred\n"
     ]
    },
    {
     "name": "stderr",
     "output_type": "stream",
     "text": [
      " 64%|██████▎   | 130/204 [31:59<09:38,  7.82s/it]"
     ]
    },
    {
     "name": "stdout",
     "output_type": "stream",
     "text": [
      "An error occurred\n"
     ]
    },
    {
     "name": "stderr",
     "output_type": "stream",
     "text": [
      " 64%|██████▍   | 131/204 [32:01<07:30,  6.16s/it]"
     ]
    },
    {
     "name": "stdout",
     "output_type": "stream",
     "text": [
      "An error occurred\n"
     ]
    },
    {
     "name": "stderr",
     "output_type": "stream",
     "text": [
      " 65%|██████▍   | 132/204 [32:20<12:02, 10.03s/it]"
     ]
    },
    {
     "name": "stdout",
     "output_type": "stream",
     "text": [
      "An error occurred\n"
     ]
    },
    {
     "name": "stderr",
     "output_type": "stream",
     "text": [
      " 65%|██████▌   | 133/204 [32:23<09:07,  7.72s/it]"
     ]
    },
    {
     "name": "stdout",
     "output_type": "stream",
     "text": [
      "An error occurred\n"
     ]
    },
    {
     "name": "stderr",
     "output_type": "stream",
     "text": [
      " 66%|██████▌   | 134/204 [32:26<07:21,  6.30s/it]"
     ]
    },
    {
     "name": "stdout",
     "output_type": "stream",
     "text": [
      "An error occurred\n"
     ]
    },
    {
     "name": "stderr",
     "output_type": "stream",
     "text": [
      " 66%|██████▌   | 135/204 [32:47<12:20, 10.73s/it]"
     ]
    },
    {
     "name": "stdout",
     "output_type": "stream",
     "text": [
      "An error occurred\n"
     ]
    },
    {
     "name": "stderr",
     "output_type": "stream",
     "text": [
      " 67%|██████▋   | 136/204 [32:52<10:15,  9.06s/it]"
     ]
    },
    {
     "name": "stdout",
     "output_type": "stream",
     "text": [
      "An error occurred\n"
     ]
    },
    {
     "name": "stderr",
     "output_type": "stream",
     "text": [
      " 67%|██████▋   | 137/204 [32:52<07:13,  6.47s/it]"
     ]
    },
    {
     "name": "stdout",
     "output_type": "stream",
     "text": [
      "An error occurred\n"
     ]
    },
    {
     "name": "stderr",
     "output_type": "stream",
     "text": [
      " 68%|██████▊   | 138/204 [33:11<11:03, 10.05s/it]"
     ]
    },
    {
     "name": "stdout",
     "output_type": "stream",
     "text": [
      "An error occurred\n"
     ]
    },
    {
     "name": "stderr",
     "output_type": "stream",
     "text": [
      " 68%|██████▊   | 139/204 [33:14<08:35,  7.93s/it]"
     ]
    },
    {
     "name": "stdout",
     "output_type": "stream",
     "text": [
      "An error occurred\n"
     ]
    },
    {
     "name": "stderr",
     "output_type": "stream",
     "text": [
      " 69%|██████▊   | 140/204 [33:21<08:20,  7.82s/it]"
     ]
    },
    {
     "name": "stdout",
     "output_type": "stream",
     "text": [
      "An error occurred\n"
     ]
    },
    {
     "name": "stderr",
     "output_type": "stream",
     "text": [
      " 69%|██████▉   | 141/204 [33:35<10:12,  9.72s/it]"
     ]
    },
    {
     "name": "stdout",
     "output_type": "stream",
     "text": [
      "An error occurred\n"
     ]
    },
    {
     "name": "stderr",
     "output_type": "stream",
     "text": [
      " 70%|██████▉   | 142/204 [33:45<10:05,  9.76s/it]"
     ]
    },
    {
     "name": "stdout",
     "output_type": "stream",
     "text": [
      "An error occurred\n"
     ]
    },
    {
     "name": "stderr",
     "output_type": "stream",
     "text": [
      " 70%|███████   | 143/204 [33:57<10:28, 10.31s/it]"
     ]
    },
    {
     "name": "stdout",
     "output_type": "stream",
     "text": [
      "An error occurred\n"
     ]
    },
    {
     "name": "stderr",
     "output_type": "stream",
     "text": [
      " 71%|███████   | 144/204 [34:11<11:37, 11.63s/it]"
     ]
    },
    {
     "name": "stdout",
     "output_type": "stream",
     "text": [
      "An error occurred\n"
     ]
    },
    {
     "name": "stderr",
     "output_type": "stream",
     "text": [
      " 71%|███████   | 145/204 [34:12<08:07,  8.27s/it]"
     ]
    },
    {
     "name": "stdout",
     "output_type": "stream",
     "text": [
      "An error occurred\n"
     ]
    },
    {
     "name": "stderr",
     "output_type": "stream",
     "text": [
      " 72%|███████▏  | 146/204 [34:16<06:40,  6.90s/it]"
     ]
    },
    {
     "name": "stdout",
     "output_type": "stream",
     "text": [
      "An error occurred\n"
     ]
    },
    {
     "name": "stderr",
     "output_type": "stream",
     "text": [
      " 72%|███████▏  | 147/204 [34:37<10:40, 11.23s/it]"
     ]
    },
    {
     "name": "stdout",
     "output_type": "stream",
     "text": [
      "An error occurred\n"
     ]
    },
    {
     "name": "stderr",
     "output_type": "stream",
     "text": [
      " 73%|███████▎  | 148/204 [34:38<07:40,  8.22s/it]"
     ]
    },
    {
     "name": "stdout",
     "output_type": "stream",
     "text": [
      "An error occurred\n"
     ]
    },
    {
     "name": "stderr",
     "output_type": "stream",
     "text": [
      " 73%|███████▎  | 149/204 [34:39<05:24,  5.91s/it]"
     ]
    },
    {
     "name": "stdout",
     "output_type": "stream",
     "text": [
      "An error occurred\n"
     ]
    },
    {
     "name": "stderr",
     "output_type": "stream",
     "text": [
      " 74%|███████▎  | 150/204 [34:58<09:01, 10.03s/it]"
     ]
    },
    {
     "name": "stdout",
     "output_type": "stream",
     "text": [
      "An error occurred\n"
     ]
    },
    {
     "name": "stderr",
     "output_type": "stream",
     "text": [
      " 74%|███████▍  | 151/204 [35:00<06:39,  7.54s/it]"
     ]
    },
    {
     "name": "stdout",
     "output_type": "stream",
     "text": [
      "An error occurred\n"
     ]
    },
    {
     "name": "stderr",
     "output_type": "stream",
     "text": [
      " 75%|███████▍  | 152/204 [35:02<05:08,  5.93s/it]"
     ]
    },
    {
     "name": "stdout",
     "output_type": "stream",
     "text": [
      "An error occurred\n"
     ]
    },
    {
     "name": "stderr",
     "output_type": "stream",
     "text": [
      " 75%|███████▌  | 153/204 [35:12<05:58,  7.03s/it]"
     ]
    },
    {
     "name": "stdout",
     "output_type": "stream",
     "text": [
      "An error occurred\n"
     ]
    },
    {
     "name": "stderr",
     "output_type": "stream",
     "text": [
      " 75%|███████▌  | 154/204 [35:26<07:44,  9.29s/it]"
     ]
    },
    {
     "name": "stdout",
     "output_type": "stream",
     "text": [
      "An error occurred\n"
     ]
    },
    {
     "name": "stderr",
     "output_type": "stream",
     "text": [
      " 76%|███████▌  | 155/204 [35:30<06:07,  7.50s/it]"
     ]
    },
    {
     "name": "stdout",
     "output_type": "stream",
     "text": [
      "An error occurred\n"
     ]
    },
    {
     "name": "stderr",
     "output_type": "stream",
     "text": [
      " 76%|███████▋  | 156/204 [35:44<07:32,  9.43s/it]"
     ]
    },
    {
     "name": "stdout",
     "output_type": "stream",
     "text": [
      "An error occurred\n"
     ]
    },
    {
     "name": "stderr",
     "output_type": "stream",
     "text": [
      " 77%|███████▋  | 157/204 [35:45<05:36,  7.17s/it]"
     ]
    },
    {
     "name": "stdout",
     "output_type": "stream",
     "text": [
      "An error occurred\n"
     ]
    },
    {
     "name": "stderr",
     "output_type": "stream",
     "text": [
      " 77%|███████▋  | 158/204 [35:46<03:58,  5.19s/it]"
     ]
    },
    {
     "name": "stdout",
     "output_type": "stream",
     "text": [
      "An error occurred\n"
     ]
    },
    {
     "name": "stderr",
     "output_type": "stream",
     "text": [
      " 78%|███████▊  | 159/204 [36:09<07:59, 10.66s/it]"
     ]
    },
    {
     "name": "stdout",
     "output_type": "stream",
     "text": [
      "An error occurred\n"
     ]
    },
    {
     "name": "stderr",
     "output_type": "stream",
     "text": [
      " 78%|███████▊  | 160/204 [36:10<05:37,  7.67s/it]"
     ]
    },
    {
     "name": "stdout",
     "output_type": "stream",
     "text": [
      "An error occurred\n"
     ]
    },
    {
     "name": "stderr",
     "output_type": "stream",
     "text": [
      " 79%|███████▉  | 161/204 [36:11<03:55,  5.48s/it]"
     ]
    },
    {
     "name": "stdout",
     "output_type": "stream",
     "text": [
      "An error occurred\n"
     ]
    },
    {
     "name": "stderr",
     "output_type": "stream",
     "text": [
      " 79%|███████▉  | 162/204 [36:40<08:49, 12.61s/it]"
     ]
    },
    {
     "name": "stdout",
     "output_type": "stream",
     "text": [
      "An error occurred\n"
     ]
    },
    {
     "name": "stderr",
     "output_type": "stream",
     "text": [
      " 80%|███████▉  | 163/204 [36:59<09:53, 14.47s/it]"
     ]
    },
    {
     "name": "stdout",
     "output_type": "stream",
     "text": [
      "An error occurred\n"
     ]
    },
    {
     "name": "stderr",
     "output_type": "stream",
     "text": [
      " 81%|████████  | 165/204 [37:20<07:59, 12.30s/it]"
     ]
    },
    {
     "name": "stdout",
     "output_type": "stream",
     "text": [
      "An error occurred\n"
     ]
    },
    {
     "name": "stderr",
     "output_type": "stream",
     "text": [
      " 82%|████████▏ | 167/204 [37:47<08:39, 14.04s/it]"
     ]
    },
    {
     "name": "stdout",
     "output_type": "stream",
     "text": [
      "An error occurred\n"
     ]
    },
    {
     "name": "stderr",
     "output_type": "stream",
     "text": [
      " 82%|████████▏ | 168/204 [37:51<06:30, 10.86s/it]"
     ]
    },
    {
     "name": "stdout",
     "output_type": "stream",
     "text": [
      "An error occurred\n"
     ]
    },
    {
     "name": "stderr",
     "output_type": "stream",
     "text": [
      " 83%|████████▎ | 169/204 [37:52<04:44,  8.12s/it]"
     ]
    },
    {
     "name": "stdout",
     "output_type": "stream",
     "text": [
      "An error occurred\n"
     ]
    },
    {
     "name": "stderr",
     "output_type": "stream",
     "text": [
      " 83%|████████▎ | 170/204 [38:06<05:31,  9.76s/it]"
     ]
    },
    {
     "name": "stdout",
     "output_type": "stream",
     "text": [
      "An error occurred\n"
     ]
    },
    {
     "name": "stderr",
     "output_type": "stream",
     "text": [
      " 84%|████████▍ | 171/204 [38:16<05:29,  9.97s/it]"
     ]
    },
    {
     "name": "stdout",
     "output_type": "stream",
     "text": [
      "An error occurred\n"
     ]
    },
    {
     "name": "stderr",
     "output_type": "stream",
     "text": [
      " 84%|████████▍ | 172/204 [38:20<04:17,  8.05s/it]"
     ]
    },
    {
     "name": "stdout",
     "output_type": "stream",
     "text": [
      "An error occurred\n"
     ]
    },
    {
     "name": "stderr",
     "output_type": "stream",
     "text": [
      " 85%|████████▍ | 173/204 [38:28<04:06,  7.94s/it]"
     ]
    },
    {
     "name": "stdout",
     "output_type": "stream",
     "text": [
      "An error occurred\n"
     ]
    },
    {
     "name": "stderr",
     "output_type": "stream",
     "text": [
      " 85%|████████▌ | 174/204 [38:43<05:05, 10.17s/it]"
     ]
    },
    {
     "name": "stdout",
     "output_type": "stream",
     "text": [
      "An error occurred\n"
     ]
    },
    {
     "name": "stderr",
     "output_type": "stream",
     "text": [
      " 86%|████████▌ | 175/204 [38:47<04:04,  8.43s/it]"
     ]
    },
    {
     "name": "stdout",
     "output_type": "stream",
     "text": [
      "An error occurred\n"
     ]
    },
    {
     "name": "stderr",
     "output_type": "stream",
     "text": [
      " 86%|████████▋ | 176/204 [38:52<03:20,  7.16s/it]"
     ]
    },
    {
     "name": "stdout",
     "output_type": "stream",
     "text": [
      "An error occurred\n"
     ]
    },
    {
     "name": "stderr",
     "output_type": "stream",
     "text": [
      " 87%|████████▋ | 177/204 [39:10<04:41, 10.44s/it]"
     ]
    },
    {
     "name": "stdout",
     "output_type": "stream",
     "text": [
      "An error occurred\n"
     ]
    },
    {
     "name": "stderr",
     "output_type": "stream",
     "text": [
      " 87%|████████▋ | 178/204 [39:11<03:23,  7.82s/it]"
     ]
    },
    {
     "name": "stdout",
     "output_type": "stream",
     "text": [
      "An error occurred\n"
     ]
    },
    {
     "name": "stderr",
     "output_type": "stream",
     "text": [
      " 88%|████████▊ | 179/204 [39:18<03:09,  7.58s/it]"
     ]
    },
    {
     "name": "stdout",
     "output_type": "stream",
     "text": [
      "An error occurred\n"
     ]
    },
    {
     "name": "stderr",
     "output_type": "stream",
     "text": [
      " 88%|████████▊ | 180/204 [39:37<04:24, 11.03s/it]"
     ]
    },
    {
     "name": "stdout",
     "output_type": "stream",
     "text": [
      "An error occurred\n"
     ]
    },
    {
     "name": "stderr",
     "output_type": "stream",
     "text": [
      " 89%|████████▊ | 181/204 [39:44<03:43,  9.73s/it]"
     ]
    },
    {
     "name": "stdout",
     "output_type": "stream",
     "text": [
      "An error occurred\n"
     ]
    },
    {
     "name": "stderr",
     "output_type": "stream",
     "text": [
      " 89%|████████▉ | 182/204 [39:54<03:34,  9.76s/it]"
     ]
    },
    {
     "name": "stdout",
     "output_type": "stream",
     "text": [
      "An error occurred\n"
     ]
    },
    {
     "name": "stderr",
     "output_type": "stream",
     "text": [
      " 90%|████████▉ | 183/204 [40:15<04:38, 13.25s/it]"
     ]
    },
    {
     "name": "stdout",
     "output_type": "stream",
     "text": [
      "An error occurred\n"
     ]
    },
    {
     "name": "stderr",
     "output_type": "stream",
     "text": [
      " 90%|█████████ | 184/204 [40:34<04:58, 14.95s/it]"
     ]
    },
    {
     "name": "stdout",
     "output_type": "stream",
     "text": [
      "An error occurred\n"
     ]
    },
    {
     "name": "stderr",
     "output_type": "stream",
     "text": [
      " 91%|█████████ | 186/204 [40:42<02:50,  9.45s/it]"
     ]
    },
    {
     "name": "stdout",
     "output_type": "stream",
     "text": [
      "An error occurred\n"
     ]
    },
    {
     "name": "stderr",
     "output_type": "stream",
     "text": [
      " 92%|█████████▏| 187/204 [40:58<03:14, 11.44s/it]"
     ]
    },
    {
     "name": "stdout",
     "output_type": "stream",
     "text": [
      "An error occurred\n"
     ]
    },
    {
     "name": "stderr",
     "output_type": "stream",
     "text": [
      " 92%|█████████▏| 188/204 [40:58<02:09,  8.07s/it]"
     ]
    },
    {
     "name": "stdout",
     "output_type": "stream",
     "text": [
      "An error occurred\n"
     ]
    },
    {
     "name": "stderr",
     "output_type": "stream",
     "text": [
      " 93%|█████████▎| 189/204 [41:07<02:01,  8.13s/it]"
     ]
    },
    {
     "name": "stdout",
     "output_type": "stream",
     "text": [
      "An error occurred\n"
     ]
    },
    {
     "name": "stderr",
     "output_type": "stream",
     "text": [
      " 93%|█████████▎| 190/204 [41:14<01:51,  8.00s/it]"
     ]
    },
    {
     "name": "stdout",
     "output_type": "stream",
     "text": [
      "An error occurred\n"
     ]
    },
    {
     "name": "stderr",
     "output_type": "stream",
     "text": [
      " 94%|█████████▎| 191/204 [41:23<01:45,  8.13s/it]"
     ]
    },
    {
     "name": "stdout",
     "output_type": "stream",
     "text": [
      "An error occurred\n"
     ]
    },
    {
     "name": "stderr",
     "output_type": "stream",
     "text": [
      " 94%|█████████▍| 192/204 [41:33<01:45,  8.81s/it]"
     ]
    },
    {
     "name": "stdout",
     "output_type": "stream",
     "text": [
      "An error occurred\n"
     ]
    },
    {
     "name": "stderr",
     "output_type": "stream",
     "text": [
      " 95%|█████████▍| 193/204 [41:38<01:24,  7.72s/it]"
     ]
    },
    {
     "name": "stdout",
     "output_type": "stream",
     "text": [
      "An error occurred\n"
     ]
    },
    {
     "name": "stderr",
     "output_type": "stream",
     "text": [
      " 95%|█████████▌| 194/204 [41:50<01:27,  8.78s/it]"
     ]
    },
    {
     "name": "stdout",
     "output_type": "stream",
     "text": [
      "An error occurred\n"
     ]
    },
    {
     "name": "stderr",
     "output_type": "stream",
     "text": [
      " 96%|█████████▌| 195/204 [42:00<01:22,  9.20s/it]"
     ]
    },
    {
     "name": "stdout",
     "output_type": "stream",
     "text": [
      "An error occurred\n"
     ]
    },
    {
     "name": "stderr",
     "output_type": "stream",
     "text": [
      " 96%|█████████▌| 196/204 [42:16<01:31, 11.40s/it]"
     ]
    },
    {
     "name": "stdout",
     "output_type": "stream",
     "text": [
      "An error occurred\n"
     ]
    },
    {
     "name": "stderr",
     "output_type": "stream",
     "text": [
      " 97%|█████████▋| 197/204 [42:27<01:18, 11.19s/it]"
     ]
    },
    {
     "name": "stdout",
     "output_type": "stream",
     "text": [
      "An error occurred\n"
     ]
    },
    {
     "name": "stderr",
     "output_type": "stream",
     "text": [
      " 97%|█████████▋| 198/204 [42:38<01:06, 11.06s/it]"
     ]
    },
    {
     "name": "stdout",
     "output_type": "stream",
     "text": [
      "An error occurred\n"
     ]
    },
    {
     "name": "stderr",
     "output_type": "stream",
     "text": [
      " 98%|█████████▊| 200/204 [42:51<00:36,  9.15s/it]"
     ]
    },
    {
     "name": "stdout",
     "output_type": "stream",
     "text": [
      "An error occurred\n"
     ]
    },
    {
     "name": "stderr",
     "output_type": "stream",
     "text": [
      " 99%|█████████▊| 201/204 [43:05<00:31, 10.58s/it]"
     ]
    },
    {
     "name": "stdout",
     "output_type": "stream",
     "text": [
      "An error occurred\n"
     ]
    },
    {
     "name": "stderr",
     "output_type": "stream",
     "text": [
      " 99%|█████████▉| 202/204 [43:15<00:20, 10.44s/it]"
     ]
    },
    {
     "name": "stdout",
     "output_type": "stream",
     "text": [
      "An error occurred\n"
     ]
    },
    {
     "name": "stderr",
     "output_type": "stream",
     "text": [
      "100%|██████████| 204/204 [43:37<00:00, 12.83s/it]\n",
      "/Users/michaelxu/My_Document/Michael/金融/量化/WorldQuant/alpha_creation_engine-main/helpful_functions.py:31: FutureWarning: The behavior of DataFrame concatenation with empty or all-NA entries is deprecated. In a future version, this will no longer exclude empty or all-NA columns when determining the result dtypes. To retain the old behavior, exclude the relevant entries before the concat operation.\n",
      "  is_stats_df = pd.concat(list_of_is_stats).reset_index(drop=True)\n"
     ]
    },
    {
     "name": "stdout",
     "output_type": "stream",
     "text": [
      "Results for dataset analyst69 processed successfully.\n",
      "Warning, list of alphas too short, single concurrent simulations will be used instead of multisimulations\n"
     ]
    },
    {
     "name": "stderr",
     "output_type": "stream",
     "text": [
      "100%|██████████| 5/5 [00:45<00:00,  9.08s/it]\n"
     ]
    },
    {
     "name": "stdout",
     "output_type": "stream",
     "text": [
      "Results for dataset earnings3 processed successfully.\n"
     ]
    },
    {
     "name": "stderr",
     "output_type": "stream",
     "text": [
      "  1%|          | 1/124 [00:50<1:43:17, 50.38s/it]"
     ]
    },
    {
     "name": "stdout",
     "output_type": "stream",
     "text": [
      "An error occurred\n",
      "An error occurred\n"
     ]
    },
    {
     "name": "stderr",
     "output_type": "stream",
     "text": [
      "  2%|▏         | 3/124 [00:55<30:10, 14.96s/it]  "
     ]
    },
    {
     "name": "stdout",
     "output_type": "stream",
     "text": [
      "An error occurred\n"
     ]
    },
    {
     "name": "stderr",
     "output_type": "stream",
     "text": [
      "  3%|▎         | 4/124 [01:11<30:48, 15.41s/it]"
     ]
    },
    {
     "name": "stdout",
     "output_type": "stream",
     "text": [
      "An error occurred\n"
     ]
    },
    {
     "name": "stderr",
     "output_type": "stream",
     "text": [
      "  4%|▍         | 5/124 [01:16<23:51, 12.03s/it]"
     ]
    },
    {
     "name": "stdout",
     "output_type": "stream",
     "text": [
      "An error occurred\n"
     ]
    },
    {
     "name": "stderr",
     "output_type": "stream",
     "text": [
      "  5%|▍         | 6/124 [01:19<17:44,  9.02s/it]"
     ]
    },
    {
     "name": "stdout",
     "output_type": "stream",
     "text": [
      "An error occurred\n"
     ]
    },
    {
     "name": "stderr",
     "output_type": "stream",
     "text": [
      "  6%|▌         | 7/124 [01:38<23:38, 12.12s/it]"
     ]
    },
    {
     "name": "stdout",
     "output_type": "stream",
     "text": [
      "An error occurred\n"
     ]
    },
    {
     "name": "stderr",
     "output_type": "stream",
     "text": [
      "  6%|▋         | 8/124 [01:41<17:44,  9.18s/it]"
     ]
    },
    {
     "name": "stdout",
     "output_type": "stream",
     "text": [
      "An error occurred\n"
     ]
    },
    {
     "name": "stderr",
     "output_type": "stream",
     "text": [
      "  7%|▋         | 9/124 [01:46<15:22,  8.02s/it]"
     ]
    },
    {
     "name": "stdout",
     "output_type": "stream",
     "text": [
      "An error occurred\n"
     ]
    },
    {
     "name": "stderr",
     "output_type": "stream",
     "text": [
      "  8%|▊         | 10/124 [01:57<16:45,  8.82s/it]"
     ]
    },
    {
     "name": "stdout",
     "output_type": "stream",
     "text": [
      "An error occurred\n"
     ]
    },
    {
     "name": "stderr",
     "output_type": "stream",
     "text": [
      "  9%|▉         | 11/124 [02:02<14:39,  7.78s/it]"
     ]
    },
    {
     "name": "stdout",
     "output_type": "stream",
     "text": [
      "An error occurred\n"
     ]
    },
    {
     "name": "stderr",
     "output_type": "stream",
     "text": [
      " 10%|▉         | 12/124 [02:08<13:23,  7.17s/it]"
     ]
    },
    {
     "name": "stdout",
     "output_type": "stream",
     "text": [
      "An error occurred\n"
     ]
    },
    {
     "name": "stderr",
     "output_type": "stream",
     "text": [
      " 10%|█         | 13/124 [02:21<16:26,  8.88s/it]"
     ]
    },
    {
     "name": "stdout",
     "output_type": "stream",
     "text": [
      "An error occurred\n"
     ]
    },
    {
     "name": "stderr",
     "output_type": "stream",
     "text": [
      " 11%|█▏        | 14/124 [02:26<14:30,  7.91s/it]"
     ]
    },
    {
     "name": "stdout",
     "output_type": "stream",
     "text": [
      "An error occurred\n"
     ]
    },
    {
     "name": "stderr",
     "output_type": "stream",
     "text": [
      " 12%|█▏        | 15/124 [02:27<10:10,  5.60s/it]"
     ]
    },
    {
     "name": "stdout",
     "output_type": "stream",
     "text": [
      "An error occurred\n"
     ]
    },
    {
     "name": "stderr",
     "output_type": "stream",
     "text": [
      " 13%|█▎        | 16/124 [02:46<17:18,  9.61s/it]"
     ]
    },
    {
     "name": "stdout",
     "output_type": "stream",
     "text": [
      "An error occurred\n"
     ]
    },
    {
     "name": "stderr",
     "output_type": "stream",
     "text": [
      " 14%|█▎        | 17/124 [02:50<14:23,  8.07s/it]"
     ]
    },
    {
     "name": "stdout",
     "output_type": "stream",
     "text": [
      "An error occurred\n"
     ]
    },
    {
     "name": "stderr",
     "output_type": "stream",
     "text": [
      " 15%|█▍        | 18/124 [02:50<10:07,  5.73s/it]"
     ]
    },
    {
     "name": "stdout",
     "output_type": "stream",
     "text": [
      "An error occurred\n"
     ]
    },
    {
     "name": "stderr",
     "output_type": "stream",
     "text": [
      " 15%|█▌        | 19/124 [03:25<25:28, 14.56s/it]"
     ]
    },
    {
     "name": "stdout",
     "output_type": "stream",
     "text": [
      "An error occurred\n"
     ]
    },
    {
     "name": "stderr",
     "output_type": "stream",
     "text": [
      " 16%|█▌        | 20/124 [03:27<18:35, 10.73s/it]"
     ]
    },
    {
     "name": "stdout",
     "output_type": "stream",
     "text": [
      "An error occurred\n"
     ]
    },
    {
     "name": "stderr",
     "output_type": "stream",
     "text": [
      " 17%|█▋        | 21/124 [03:33<15:55,  9.28s/it]"
     ]
    },
    {
     "name": "stdout",
     "output_type": "stream",
     "text": [
      "An error occurred\n"
     ]
    },
    {
     "name": "stderr",
     "output_type": "stream",
     "text": [
      " 18%|█▊        | 22/124 [03:58<23:29, 13.82s/it]"
     ]
    },
    {
     "name": "stdout",
     "output_type": "stream",
     "text": [
      "An error occurred\n"
     ]
    },
    {
     "name": "stderr",
     "output_type": "stream",
     "text": [
      " 19%|█▊        | 23/124 [04:05<20:10, 11.98s/it]"
     ]
    },
    {
     "name": "stdout",
     "output_type": "stream",
     "text": [
      "An error occurred\n"
     ]
    },
    {
     "name": "stderr",
     "output_type": "stream",
     "text": [
      " 19%|█▉        | 24/124 [04:24<23:25, 14.05s/it]"
     ]
    },
    {
     "name": "stdout",
     "output_type": "stream",
     "text": [
      "An error occurred\n"
     ]
    },
    {
     "name": "stderr",
     "output_type": "stream",
     "text": [
      " 20%|██        | 25/124 [04:43<25:20, 15.36s/it]"
     ]
    },
    {
     "name": "stdout",
     "output_type": "stream",
     "text": [
      "An error occurred\n"
     ]
    },
    {
     "name": "stderr",
     "output_type": "stream",
     "text": [
      " 21%|██        | 26/124 [04:44<18:15, 11.18s/it]"
     ]
    },
    {
     "name": "stdout",
     "output_type": "stream",
     "text": [
      "An error occurred\n"
     ]
    },
    {
     "name": "stderr",
     "output_type": "stream",
     "text": [
      " 22%|██▏       | 27/124 [04:51<15:57,  9.87s/it]"
     ]
    },
    {
     "name": "stdout",
     "output_type": "stream",
     "text": [
      "An error occurred\n"
     ]
    },
    {
     "name": "stderr",
     "output_type": "stream",
     "text": [
      " 23%|██▎       | 28/124 [05:08<19:20, 12.08s/it]"
     ]
    },
    {
     "name": "stdout",
     "output_type": "stream",
     "text": [
      "An error occurred\n"
     ]
    },
    {
     "name": "stderr",
     "output_type": "stream",
     "text": [
      " 23%|██▎       | 29/124 [05:09<13:56,  8.81s/it]"
     ]
    },
    {
     "name": "stdout",
     "output_type": "stream",
     "text": [
      "An error occurred\n"
     ]
    },
    {
     "name": "stderr",
     "output_type": "stream",
     "text": [
      " 24%|██▍       | 30/124 [05:13<11:21,  7.25s/it]"
     ]
    },
    {
     "name": "stdout",
     "output_type": "stream",
     "text": [
      "An error occurred\n"
     ]
    },
    {
     "name": "stderr",
     "output_type": "stream",
     "text": [
      " 25%|██▌       | 31/124 [05:35<18:06, 11.69s/it]"
     ]
    },
    {
     "name": "stdout",
     "output_type": "stream",
     "text": [
      "An error occurred\n"
     ]
    },
    {
     "name": "stderr",
     "output_type": "stream",
     "text": [
      " 26%|██▌       | 32/124 [05:36<13:04,  8.53s/it]"
     ]
    },
    {
     "name": "stdout",
     "output_type": "stream",
     "text": [
      "An error occurred\n"
     ]
    },
    {
     "name": "stderr",
     "output_type": "stream",
     "text": [
      " 27%|██▋       | 33/124 [05:40<10:41,  7.05s/it]"
     ]
    },
    {
     "name": "stdout",
     "output_type": "stream",
     "text": [
      "An error occurred\n"
     ]
    },
    {
     "name": "stderr",
     "output_type": "stream",
     "text": [
      " 27%|██▋       | 34/124 [05:54<13:43,  9.15s/it]"
     ]
    },
    {
     "name": "stdout",
     "output_type": "stream",
     "text": [
      "An error occurred\n"
     ]
    },
    {
     "name": "stderr",
     "output_type": "stream",
     "text": [
      " 28%|██▊       | 35/124 [05:58<11:16,  7.60s/it]"
     ]
    },
    {
     "name": "stdout",
     "output_type": "stream",
     "text": [
      "An error occurred\n"
     ]
    },
    {
     "name": "stderr",
     "output_type": "stream",
     "text": [
      " 29%|██▉       | 36/124 [06:09<13:01,  8.88s/it]"
     ]
    },
    {
     "name": "stdout",
     "output_type": "stream",
     "text": [
      "An error occurred\n"
     ]
    },
    {
     "name": "stderr",
     "output_type": "stream",
     "text": [
      " 30%|██▉       | 37/124 [06:15<11:28,  7.92s/it]"
     ]
    },
    {
     "name": "stdout",
     "output_type": "stream",
     "text": [
      "An error occurred\n"
     ]
    },
    {
     "name": "stderr",
     "output_type": "stream",
     "text": [
      " 31%|███       | 38/124 [06:25<12:07,  8.46s/it]"
     ]
    },
    {
     "name": "stdout",
     "output_type": "stream",
     "text": [
      "An error occurred\n"
     ]
    },
    {
     "name": "stderr",
     "output_type": "stream",
     "text": [
      " 31%|███▏      | 39/124 [06:34<12:24,  8.76s/it]"
     ]
    },
    {
     "name": "stdout",
     "output_type": "stream",
     "text": [
      "An error occurred\n"
     ]
    },
    {
     "name": "stderr",
     "output_type": "stream",
     "text": [
      " 32%|███▏      | 40/124 [06:39<10:31,  7.51s/it]"
     ]
    },
    {
     "name": "stdout",
     "output_type": "stream",
     "text": [
      "An error occurred\n"
     ]
    },
    {
     "name": "stderr",
     "output_type": "stream",
     "text": [
      " 33%|███▎      | 41/124 [06:49<11:23,  8.23s/it]"
     ]
    },
    {
     "name": "stdout",
     "output_type": "stream",
     "text": [
      "An error occurred\n"
     ]
    },
    {
     "name": "stderr",
     "output_type": "stream",
     "text": [
      " 34%|███▍      | 42/124 [07:05<14:41, 10.75s/it]"
     ]
    },
    {
     "name": "stdout",
     "output_type": "stream",
     "text": [
      "An error occurred\n"
     ]
    },
    {
     "name": "stderr",
     "output_type": "stream",
     "text": [
      " 35%|███▍      | 43/124 [07:18<15:15, 11.30s/it]"
     ]
    },
    {
     "name": "stdout",
     "output_type": "stream",
     "text": [
      "An error occurred\n"
     ]
    },
    {
     "name": "stderr",
     "output_type": "stream",
     "text": [
      " 35%|███▌      | 44/124 [07:25<13:07,  9.85s/it]"
     ]
    },
    {
     "name": "stdout",
     "output_type": "stream",
     "text": [
      "An error occurred\n"
     ]
    },
    {
     "name": "stderr",
     "output_type": "stream",
     "text": [
      " 36%|███▋      | 45/124 [07:28<10:17,  7.81s/it]"
     ]
    },
    {
     "name": "stdout",
     "output_type": "stream",
     "text": [
      "An error occurred\n"
     ]
    },
    {
     "name": "stderr",
     "output_type": "stream",
     "text": [
      " 37%|███▋      | 46/124 [07:52<16:49, 12.94s/it]"
     ]
    },
    {
     "name": "stdout",
     "output_type": "stream",
     "text": [
      "An error occurred\n"
     ]
    },
    {
     "name": "stderr",
     "output_type": "stream",
     "text": [
      " 38%|███▊      | 47/124 [07:55<12:25,  9.69s/it]"
     ]
    },
    {
     "name": "stdout",
     "output_type": "stream",
     "text": [
      "An error occurred\n"
     ]
    },
    {
     "name": "stderr",
     "output_type": "stream",
     "text": [
      " 39%|███▊      | 48/124 [08:16<16:52, 13.33s/it]"
     ]
    },
    {
     "name": "stdout",
     "output_type": "stream",
     "text": [
      "An error occurred\n"
     ]
    },
    {
     "name": "stderr",
     "output_type": "stream",
     "text": [
      " 40%|███▉      | 49/124 [08:19<12:30, 10.01s/it]"
     ]
    },
    {
     "name": "stdout",
     "output_type": "stream",
     "text": [
      "An error occurred\n"
     ]
    },
    {
     "name": "stderr",
     "output_type": "stream",
     "text": [
      " 40%|████      | 50/124 [08:31<13:01, 10.56s/it]"
     ]
    },
    {
     "name": "stdout",
     "output_type": "stream",
     "text": [
      "An error occurred\n"
     ]
    },
    {
     "name": "stderr",
     "output_type": "stream",
     "text": [
      " 41%|████      | 51/124 [08:40<12:35, 10.35s/it]"
     ]
    },
    {
     "name": "stdout",
     "output_type": "stream",
     "text": [
      "An error occurred\n"
     ]
    },
    {
     "name": "stderr",
     "output_type": "stream",
     "text": [
      " 42%|████▏     | 52/124 [08:45<10:31,  8.76s/it]"
     ]
    },
    {
     "name": "stdout",
     "output_type": "stream",
     "text": [
      "An error occurred\n"
     ]
    },
    {
     "name": "stderr",
     "output_type": "stream",
     "text": [
      " 43%|████▎     | 53/124 [08:55<10:34,  8.94s/it]"
     ]
    },
    {
     "name": "stdout",
     "output_type": "stream",
     "text": [
      "An error occurred\n"
     ]
    },
    {
     "name": "stderr",
     "output_type": "stream",
     "text": [
      " 44%|████▎     | 54/124 [09:04<10:35,  9.08s/it]"
     ]
    },
    {
     "name": "stdout",
     "output_type": "stream",
     "text": [
      "An error occurred\n"
     ]
    },
    {
     "name": "stderr",
     "output_type": "stream",
     "text": [
      " 44%|████▍     | 55/124 [09:05<07:35,  6.60s/it]"
     ]
    },
    {
     "name": "stdout",
     "output_type": "stream",
     "text": [
      "An error occurred\n"
     ]
    },
    {
     "name": "stderr",
     "output_type": "stream",
     "text": [
      " 45%|████▌     | 56/124 [09:14<08:09,  7.20s/it]"
     ]
    },
    {
     "name": "stdout",
     "output_type": "stream",
     "text": [
      "An error occurred\n"
     ]
    },
    {
     "name": "stderr",
     "output_type": "stream",
     "text": [
      " 46%|████▌     | 57/124 [09:23<08:48,  7.89s/it]"
     ]
    },
    {
     "name": "stdout",
     "output_type": "stream",
     "text": [
      "An error occurred\n"
     ]
    },
    {
     "name": "stderr",
     "output_type": "stream",
     "text": [
      " 47%|████▋     | 58/124 [09:29<08:05,  7.36s/it]"
     ]
    },
    {
     "name": "stdout",
     "output_type": "stream",
     "text": [
      "An error occurred\n"
     ]
    },
    {
     "name": "stderr",
     "output_type": "stream",
     "text": [
      " 48%|████▊     | 59/124 [09:38<08:24,  7.77s/it]"
     ]
    },
    {
     "name": "stdout",
     "output_type": "stream",
     "text": [
      "An error occurred\n"
     ]
    },
    {
     "name": "stderr",
     "output_type": "stream",
     "text": [
      " 48%|████▊     | 60/124 [09:44<07:53,  7.39s/it]"
     ]
    },
    {
     "name": "stdout",
     "output_type": "stream",
     "text": [
      "An error occurred\n"
     ]
    },
    {
     "name": "stderr",
     "output_type": "stream",
     "text": [
      " 49%|████▉     | 61/124 [09:53<08:14,  7.85s/it]"
     ]
    },
    {
     "name": "stdout",
     "output_type": "stream",
     "text": [
      "An error occurred\n"
     ]
    },
    {
     "name": "stderr",
     "output_type": "stream",
     "text": [
      " 50%|█████     | 62/124 [10:05<09:09,  8.87s/it]"
     ]
    },
    {
     "name": "stdout",
     "output_type": "stream",
     "text": [
      "An error occurred\n"
     ]
    },
    {
     "name": "stderr",
     "output_type": "stream",
     "text": [
      " 51%|█████     | 63/124 [10:08<07:28,  7.35s/it]"
     ]
    },
    {
     "name": "stdout",
     "output_type": "stream",
     "text": [
      "An error occurred\n"
     ]
    },
    {
     "name": "stderr",
     "output_type": "stream",
     "text": [
      " 52%|█████▏    | 64/124 [10:17<07:49,  7.82s/it]"
     ]
    },
    {
     "name": "stdout",
     "output_type": "stream",
     "text": [
      "An error occurred\n"
     ]
    },
    {
     "name": "stderr",
     "output_type": "stream",
     "text": [
      " 52%|█████▏    | 65/124 [10:29<08:42,  8.86s/it]"
     ]
    },
    {
     "name": "stdout",
     "output_type": "stream",
     "text": [
      "An error occurred\n"
     ]
    },
    {
     "name": "stderr",
     "output_type": "stream",
     "text": [
      " 53%|█████▎    | 66/124 [10:32<07:06,  7.36s/it]"
     ]
    },
    {
     "name": "stdout",
     "output_type": "stream",
     "text": [
      "An error occurred\n"
     ]
    },
    {
     "name": "stderr",
     "output_type": "stream",
     "text": [
      " 54%|█████▍    | 67/124 [10:36<05:57,  6.27s/it]"
     ]
    },
    {
     "name": "stdout",
     "output_type": "stream",
     "text": [
      "An error occurred\n"
     ]
    },
    {
     "name": "stderr",
     "output_type": "stream",
     "text": [
      " 55%|█████▍    | 68/124 [10:56<09:30, 10.19s/it]"
     ]
    },
    {
     "name": "stdout",
     "output_type": "stream",
     "text": [
      "An error occurred\n"
     ]
    },
    {
     "name": "stderr",
     "output_type": "stream",
     "text": [
      " 56%|█████▌    | 69/124 [10:56<06:46,  7.40s/it]"
     ]
    },
    {
     "name": "stdout",
     "output_type": "stream",
     "text": [
      "An error occurred\n"
     ]
    },
    {
     "name": "stderr",
     "output_type": "stream",
     "text": [
      " 56%|█████▋    | 70/124 [11:06<07:21,  8.17s/it]"
     ]
    },
    {
     "name": "stdout",
     "output_type": "stream",
     "text": [
      "An error occurred\n"
     ]
    },
    {
     "name": "stderr",
     "output_type": "stream",
     "text": [
      " 57%|█████▋    | 71/124 [11:17<07:50,  8.89s/it]"
     ]
    },
    {
     "name": "stdout",
     "output_type": "stream",
     "text": [
      "An error occurred\n"
     ]
    },
    {
     "name": "stderr",
     "output_type": "stream",
     "text": [
      " 58%|█████▊    | 72/124 [11:18<05:37,  6.48s/it]"
     ]
    },
    {
     "name": "stdout",
     "output_type": "stream",
     "text": [
      "An error occurred\n"
     ]
    },
    {
     "name": "stderr",
     "output_type": "stream",
     "text": [
      " 59%|█████▉    | 73/124 [11:25<05:42,  6.72s/it]"
     ]
    },
    {
     "name": "stdout",
     "output_type": "stream",
     "text": [
      "An error occurred\n"
     ]
    },
    {
     "name": "stderr",
     "output_type": "stream",
     "text": [
      " 60%|█████▉    | 74/124 [11:38<07:14,  8.69s/it]"
     ]
    },
    {
     "name": "stdout",
     "output_type": "stream",
     "text": [
      "An error occurred\n"
     ]
    },
    {
     "name": "stderr",
     "output_type": "stream",
     "text": [
      " 60%|██████    | 75/124 [11:39<05:13,  6.39s/it]"
     ]
    },
    {
     "name": "stdout",
     "output_type": "stream",
     "text": [
      "An error occurred\n"
     ]
    },
    {
     "name": "stderr",
     "output_type": "stream",
     "text": [
      " 61%|██████▏   | 76/124 [11:50<06:03,  7.58s/it]"
     ]
    },
    {
     "name": "stdout",
     "output_type": "stream",
     "text": [
      "An error occurred\n"
     ]
    },
    {
     "name": "stderr",
     "output_type": "stream",
     "text": [
      " 62%|██████▏   | 77/124 [12:06<07:58, 10.18s/it]"
     ]
    },
    {
     "name": "stdout",
     "output_type": "stream",
     "text": [
      "An error occurred\n"
     ]
    },
    {
     "name": "stderr",
     "output_type": "stream",
     "text": [
      " 63%|██████▎   | 78/124 [12:08<05:51,  7.63s/it]"
     ]
    },
    {
     "name": "stdout",
     "output_type": "stream",
     "text": [
      "An error occurred\n"
     ]
    },
    {
     "name": "stderr",
     "output_type": "stream",
     "text": [
      " 64%|██████▎   | 79/124 [12:27<08:22, 11.17s/it]"
     ]
    },
    {
     "name": "stdout",
     "output_type": "stream",
     "text": [
      "An error occurred\n"
     ]
    },
    {
     "name": "stderr",
     "output_type": "stream",
     "text": [
      " 65%|██████▍   | 80/124 [12:27<05:47,  7.91s/it]"
     ]
    },
    {
     "name": "stdout",
     "output_type": "stream",
     "text": [
      "An error occurred\n"
     ]
    },
    {
     "name": "stderr",
     "output_type": "stream",
     "text": [
      " 65%|██████▌   | 81/124 [12:32<04:54,  6.85s/it]"
     ]
    },
    {
     "name": "stdout",
     "output_type": "stream",
     "text": [
      "An error occurred\n"
     ]
    },
    {
     "name": "stderr",
     "output_type": "stream",
     "text": [
      " 66%|██████▌   | 82/124 [12:49<06:52,  9.83s/it]"
     ]
    },
    {
     "name": "stdout",
     "output_type": "stream",
     "text": [
      "An error occurred\n"
     ]
    },
    {
     "name": "stderr",
     "output_type": "stream",
     "text": [
      " 67%|██████▋   | 83/124 [12:49<04:49,  7.07s/it]"
     ]
    },
    {
     "name": "stdout",
     "output_type": "stream",
     "text": [
      "An error occurred\n"
     ]
    },
    {
     "name": "stderr",
     "output_type": "stream",
     "text": [
      " 68%|██████▊   | 84/124 [12:58<05:09,  7.73s/it]"
     ]
    },
    {
     "name": "stdout",
     "output_type": "stream",
     "text": [
      "An error occurred\n"
     ]
    },
    {
     "name": "stderr",
     "output_type": "stream",
     "text": [
      " 69%|██████▊   | 85/124 [13:15<06:46, 10.42s/it]"
     ]
    },
    {
     "name": "stdout",
     "output_type": "stream",
     "text": [
      "An error occurred\n"
     ]
    },
    {
     "name": "stderr",
     "output_type": "stream",
     "text": [
      " 69%|██████▉   | 86/124 [13:16<04:45,  7.50s/it]"
     ]
    },
    {
     "name": "stdout",
     "output_type": "stream",
     "text": [
      "An error occurred\n"
     ]
    },
    {
     "name": "stderr",
     "output_type": "stream",
     "text": [
      " 70%|███████   | 87/124 [13:31<06:05,  9.88s/it]"
     ]
    },
    {
     "name": "stdout",
     "output_type": "stream",
     "text": [
      "An error occurred\n"
     ]
    },
    {
     "name": "stderr",
     "output_type": "stream",
     "text": [
      " 71%|███████   | 88/124 [13:33<04:30,  7.52s/it]"
     ]
    },
    {
     "name": "stdout",
     "output_type": "stream",
     "text": [
      "An error occurred\n"
     ]
    },
    {
     "name": "stderr",
     "output_type": "stream",
     "text": [
      " 72%|███████▏  | 89/124 [13:35<03:18,  5.69s/it]"
     ]
    },
    {
     "name": "stdout",
     "output_type": "stream",
     "text": [
      "An error occurred\n"
     ]
    },
    {
     "name": "stderr",
     "output_type": "stream",
     "text": [
      " 73%|███████▎  | 90/124 [14:01<06:39, 11.74s/it]"
     ]
    },
    {
     "name": "stdout",
     "output_type": "stream",
     "text": [
      "An error occurred\n"
     ]
    },
    {
     "name": "stderr",
     "output_type": "stream",
     "text": [
      " 73%|███████▎  | 91/124 [14:10<06:08, 11.15s/it]"
     ]
    },
    {
     "name": "stdout",
     "output_type": "stream",
     "text": [
      "An error occurred\n"
     ]
    },
    {
     "name": "stderr",
     "output_type": "stream",
     "text": [
      " 74%|███████▍  | 92/124 [14:17<05:15,  9.85s/it]"
     ]
    },
    {
     "name": "stdout",
     "output_type": "stream",
     "text": [
      "An error occurred\n"
     ]
    },
    {
     "name": "stderr",
     "output_type": "stream",
     "text": [
      " 75%|███████▌  | 93/124 [14:40<07:02, 13.63s/it]"
     ]
    },
    {
     "name": "stdout",
     "output_type": "stream",
     "text": [
      "An error occurred\n"
     ]
    },
    {
     "name": "stderr",
     "output_type": "stream",
     "text": [
      " 76%|███████▌  | 94/124 [14:43<05:16, 10.54s/it]"
     ]
    },
    {
     "name": "stdout",
     "output_type": "stream",
     "text": [
      "An error occurred\n"
     ]
    },
    {
     "name": "stderr",
     "output_type": "stream",
     "text": [
      " 77%|███████▋  | 95/124 [14:49<04:28,  9.25s/it]"
     ]
    },
    {
     "name": "stdout",
     "output_type": "stream",
     "text": [
      "An error occurred\n"
     ]
    },
    {
     "name": "stderr",
     "output_type": "stream",
     "text": [
      " 77%|███████▋  | 96/124 [15:07<05:28, 11.75s/it]"
     ]
    },
    {
     "name": "stdout",
     "output_type": "stream",
     "text": [
      "An error occurred\n"
     ]
    },
    {
     "name": "stderr",
     "output_type": "stream",
     "text": [
      " 78%|███████▊  | 97/124 [15:07<03:47,  8.44s/it]"
     ]
    },
    {
     "name": "stdout",
     "output_type": "stream",
     "text": [
      "An error occurred\n"
     ]
    },
    {
     "name": "stderr",
     "output_type": "stream",
     "text": [
      " 79%|███████▉  | 98/124 [15:18<03:59,  9.19s/it]"
     ]
    },
    {
     "name": "stdout",
     "output_type": "stream",
     "text": [
      "An error occurred\n"
     ]
    },
    {
     "name": "stderr",
     "output_type": "stream",
     "text": [
      " 80%|███████▉  | 99/124 [15:24<03:20,  8.01s/it]"
     ]
    },
    {
     "name": "stdout",
     "output_type": "stream",
     "text": [
      "An error occurred\n"
     ]
    },
    {
     "name": "stderr",
     "output_type": "stream",
     "text": [
      " 81%|████████  | 100/124 [15:26<02:27,  6.16s/it]"
     ]
    },
    {
     "name": "stdout",
     "output_type": "stream",
     "text": [
      "An error occurred\n"
     ]
    },
    {
     "name": "stderr",
     "output_type": "stream",
     "text": [
      " 81%|████████▏ | 101/124 [15:44<03:49,  9.97s/it]"
     ]
    },
    {
     "name": "stdout",
     "output_type": "stream",
     "text": [
      "An error occurred\n"
     ]
    },
    {
     "name": "stderr",
     "output_type": "stream",
     "text": [
      " 82%|████████▏ | 102/124 [15:45<02:39,  7.23s/it]"
     ]
    },
    {
     "name": "stdout",
     "output_type": "stream",
     "text": [
      "An error occurred\n"
     ]
    },
    {
     "name": "stderr",
     "output_type": "stream",
     "text": [
      " 83%|████████▎ | 103/124 [15:50<02:18,  6.57s/it]"
     ]
    },
    {
     "name": "stdout",
     "output_type": "stream",
     "text": [
      "An error occurred\n"
     ]
    },
    {
     "name": "stderr",
     "output_type": "stream",
     "text": [
      " 84%|████████▍ | 104/124 [16:08<03:21, 10.06s/it]"
     ]
    },
    {
     "name": "stdout",
     "output_type": "stream",
     "text": [
      "An error occurred\n"
     ]
    },
    {
     "name": "stderr",
     "output_type": "stream",
     "text": [
      " 85%|████████▍ | 105/124 [16:10<02:19,  7.36s/it]"
     ]
    },
    {
     "name": "stdout",
     "output_type": "stream",
     "text": [
      "An error occurred\n"
     ]
    },
    {
     "name": "stderr",
     "output_type": "stream",
     "text": [
      " 85%|████████▌ | 106/124 [16:17<02:12,  7.37s/it]"
     ]
    },
    {
     "name": "stdout",
     "output_type": "stream",
     "text": [
      "An error occurred\n"
     ]
    },
    {
     "name": "stderr",
     "output_type": "stream",
     "text": [
      " 86%|████████▋ | 107/124 [16:35<03:00, 10.61s/it]"
     ]
    },
    {
     "name": "stdout",
     "output_type": "stream",
     "text": [
      "An error occurred\n"
     ]
    },
    {
     "name": "stderr",
     "output_type": "stream",
     "text": [
      " 87%|████████▋ | 108/124 [16:39<02:16,  8.55s/it]"
     ]
    },
    {
     "name": "stdout",
     "output_type": "stream",
     "text": [
      "An error occurred\n"
     ]
    },
    {
     "name": "stderr",
     "output_type": "stream",
     "text": [
      " 88%|████████▊ | 109/124 [16:50<02:18,  9.25s/it]"
     ]
    },
    {
     "name": "stdout",
     "output_type": "stream",
     "text": [
      "An error occurred\n"
     ]
    },
    {
     "name": "stderr",
     "output_type": "stream",
     "text": [
      " 89%|████████▊ | 110/124 [17:03<02:26, 10.43s/it]"
     ]
    },
    {
     "name": "stdout",
     "output_type": "stream",
     "text": [
      "An error occurred\n"
     ]
    },
    {
     "name": "stderr",
     "output_type": "stream",
     "text": [
      " 90%|████████▉ | 111/124 [17:07<01:51,  8.59s/it]"
     ]
    },
    {
     "name": "stdout",
     "output_type": "stream",
     "text": [
      "An error occurred\n"
     ]
    },
    {
     "name": "stderr",
     "output_type": "stream",
     "text": [
      " 90%|█████████ | 112/124 [17:19<01:54,  9.57s/it]"
     ]
    },
    {
     "name": "stdout",
     "output_type": "stream",
     "text": [
      "An error occurred\n"
     ]
    },
    {
     "name": "stderr",
     "output_type": "stream",
     "text": [
      " 91%|█████████ | 113/124 [17:27<01:40,  9.10s/it]"
     ]
    },
    {
     "name": "stdout",
     "output_type": "stream",
     "text": [
      "An error occurred\n"
     ]
    },
    {
     "name": "stderr",
     "output_type": "stream",
     "text": [
      " 92%|█████████▏| 114/124 [17:29<01:08,  6.84s/it]"
     ]
    },
    {
     "name": "stdout",
     "output_type": "stream",
     "text": [
      "An error occurred\n"
     ]
    },
    {
     "name": "stderr",
     "output_type": "stream",
     "text": [
      " 93%|█████████▎| 115/124 [17:43<01:22,  9.14s/it]"
     ]
    },
    {
     "name": "stdout",
     "output_type": "stream",
     "text": [
      "An error occurred\n"
     ]
    },
    {
     "name": "stderr",
     "output_type": "stream",
     "text": [
      " 94%|█████████▎| 116/124 [17:46<00:58,  7.28s/it]"
     ]
    },
    {
     "name": "stdout",
     "output_type": "stream",
     "text": [
      "An error occurred\n"
     ]
    },
    {
     "name": "stderr",
     "output_type": "stream",
     "text": [
      " 94%|█████████▍| 117/124 [17:53<00:49,  7.06s/it]"
     ]
    },
    {
     "name": "stdout",
     "output_type": "stream",
     "text": [
      "An error occurred\n"
     ]
    },
    {
     "name": "stderr",
     "output_type": "stream",
     "text": [
      " 95%|█████████▌| 118/124 [18:05<00:52,  8.78s/it]"
     ]
    },
    {
     "name": "stdout",
     "output_type": "stream",
     "text": [
      "An error occurred\n"
     ]
    },
    {
     "name": "stderr",
     "output_type": "stream",
     "text": [
      " 96%|█████████▌| 119/124 [18:07<00:33,  6.67s/it]"
     ]
    },
    {
     "name": "stdout",
     "output_type": "stream",
     "text": [
      "An error occurred\n"
     ]
    },
    {
     "name": "stderr",
     "output_type": "stream",
     "text": [
      " 97%|█████████▋| 120/124 [18:14<00:26,  6.72s/it]"
     ]
    },
    {
     "name": "stdout",
     "output_type": "stream",
     "text": [
      "An error occurred\n"
     ]
    },
    {
     "name": "stderr",
     "output_type": "stream",
     "text": [
      " 98%|█████████▊| 121/124 [18:26<00:25,  8.43s/it]"
     ]
    },
    {
     "name": "stdout",
     "output_type": "stream",
     "text": [
      "An error occurred\n"
     ]
    },
    {
     "name": "stderr",
     "output_type": "stream",
     "text": [
      " 98%|█████████▊| 122/124 [18:30<00:13,  6.88s/it]"
     ]
    },
    {
     "name": "stdout",
     "output_type": "stream",
     "text": [
      "An error occurred\n"
     ]
    },
    {
     "name": "stderr",
     "output_type": "stream",
     "text": [
      " 99%|█████████▉| 123/124 [18:38<00:07,  7.32s/it]"
     ]
    },
    {
     "name": "stdout",
     "output_type": "stream",
     "text": [
      "An error occurred\n"
     ]
    },
    {
     "name": "stderr",
     "output_type": "stream",
     "text": [
      "100%|██████████| 124/124 [18:50<00:00,  9.12s/it]"
     ]
    },
    {
     "name": "stdout",
     "output_type": "stream",
     "text": [
      "An error occurred\n",
      "Error processing dataset fundamental17: No objects to concatenate\n"
     ]
    },
    {
     "name": "stderr",
     "output_type": "stream",
     "text": [
      "\n",
      "  0%|          | 1/385 [00:21<2:18:52, 21.70s/it]"
     ]
    },
    {
     "name": "stdout",
     "output_type": "stream",
     "text": [
      "An error occurred\n",
      "An error occurred\n"
     ]
    },
    {
     "name": "stderr",
     "output_type": "stream",
     "text": [
      "  1%|          | 3/385 [00:24<41:25,  6.51s/it]  "
     ]
    },
    {
     "name": "stdout",
     "output_type": "stream",
     "text": [
      "An error occurred\n"
     ]
    },
    {
     "name": "stderr",
     "output_type": "stream",
     "text": [
      "  1%|          | 4/385 [00:40<1:02:54,  9.91s/it]"
     ]
    },
    {
     "name": "stdout",
     "output_type": "stream",
     "text": [
      "An error occurred\n",
      "An error occurred\n"
     ]
    },
    {
     "name": "stderr",
     "output_type": "stream",
     "text": [
      "  2%|▏         | 6/385 [00:50<47:43,  7.55s/it]  "
     ]
    },
    {
     "name": "stdout",
     "output_type": "stream",
     "text": [
      "An error occurred\n"
     ]
    },
    {
     "name": "stderr",
     "output_type": "stream",
     "text": [
      "  2%|▏         | 7/385 [00:59<49:07,  7.80s/it]"
     ]
    },
    {
     "name": "stdout",
     "output_type": "stream",
     "text": [
      "An error occurred\n"
     ]
    },
    {
     "name": "stderr",
     "output_type": "stream",
     "text": [
      "  2%|▏         | 8/385 [01:01<39:57,  6.36s/it]"
     ]
    },
    {
     "name": "stdout",
     "output_type": "stream",
     "text": [
      "An error occurred\n"
     ]
    },
    {
     "name": "stderr",
     "output_type": "stream",
     "text": [
      "  2%|▏         | 9/385 [01:17<56:12,  8.97s/it]"
     ]
    },
    {
     "name": "stdout",
     "output_type": "stream",
     "text": [
      "An error occurred\n"
     ]
    },
    {
     "name": "stderr",
     "output_type": "stream",
     "text": [
      "  3%|▎         | 11/385 [01:23<35:46,  5.74s/it]"
     ]
    },
    {
     "name": "stdout",
     "output_type": "stream",
     "text": [
      "An error occurred\n",
      "An error occurred\n"
     ]
    },
    {
     "name": "stderr",
     "output_type": "stream",
     "text": [
      "  3%|▎         | 13/385 [01:39<38:31,  6.21s/it]"
     ]
    },
    {
     "name": "stdout",
     "output_type": "stream",
     "text": [
      "An error occurred\n",
      "An error occurred\n"
     ]
    },
    {
     "name": "stderr",
     "output_type": "stream",
     "text": [
      "  4%|▎         | 14/385 [01:44<35:28,  5.74s/it]"
     ]
    },
    {
     "name": "stdout",
     "output_type": "stream",
     "text": [
      "An error occurred\n"
     ]
    },
    {
     "name": "stderr",
     "output_type": "stream",
     "text": [
      "  4%|▍         | 15/385 [02:00<55:29,  9.00s/it]"
     ]
    },
    {
     "name": "stdout",
     "output_type": "stream",
     "text": [
      "An error occurred\n"
     ]
    },
    {
     "name": "stderr",
     "output_type": "stream",
     "text": [
      "  4%|▍         | 16/385 [02:08<53:32,  8.71s/it]"
     ]
    },
    {
     "name": "stdout",
     "output_type": "stream",
     "text": [
      "An error occurred\n"
     ]
    },
    {
     "name": "stderr",
     "output_type": "stream",
     "text": [
      "  4%|▍         | 17/385 [02:10<40:58,  6.68s/it]"
     ]
    },
    {
     "name": "stdout",
     "output_type": "stream",
     "text": [
      "An error occurred\n"
     ]
    },
    {
     "name": "stderr",
     "output_type": "stream",
     "text": [
      "  5%|▍         | 18/385 [02:19<44:47,  7.32s/it]"
     ]
    },
    {
     "name": "stdout",
     "output_type": "stream",
     "text": [
      "An error occurred\n"
     ]
    },
    {
     "name": "stderr",
     "output_type": "stream",
     "text": [
      "  5%|▍         | 19/385 [02:30<50:53,  8.34s/it]"
     ]
    },
    {
     "name": "stdout",
     "output_type": "stream",
     "text": [
      "An error occurred\n"
     ]
    },
    {
     "name": "stderr",
     "output_type": "stream",
     "text": [
      "  5%|▌         | 20/385 [02:32<39:22,  6.47s/it]"
     ]
    },
    {
     "name": "stdout",
     "output_type": "stream",
     "text": [
      "An error occurred\n"
     ]
    },
    {
     "name": "stderr",
     "output_type": "stream",
     "text": [
      "  5%|▌         | 21/385 [02:46<52:33,  8.66s/it]"
     ]
    },
    {
     "name": "stdout",
     "output_type": "stream",
     "text": [
      "An error occurred\n"
     ]
    },
    {
     "name": "stderr",
     "output_type": "stream",
     "text": [
      "  6%|▌         | 22/385 [02:53<50:20,  8.32s/it]"
     ]
    },
    {
     "name": "stdout",
     "output_type": "stream",
     "text": [
      "An error occurred\n"
     ]
    },
    {
     "name": "stderr",
     "output_type": "stream",
     "text": [
      "  6%|▌         | 23/385 [03:12<1:09:46, 11.56s/it]"
     ]
    },
    {
     "name": "stdout",
     "output_type": "stream",
     "text": [
      "An error occurred\n",
      "An error occurred\n"
     ]
    },
    {
     "name": "stderr",
     "output_type": "stream",
     "text": [
      "  6%|▋         | 25/385 [03:31<1:03:16, 10.55s/it]"
     ]
    },
    {
     "name": "stdout",
     "output_type": "stream",
     "text": [
      "An error occurred\n"
     ]
    },
    {
     "name": "stderr",
     "output_type": "stream",
     "text": [
      "  7%|▋         | 26/385 [03:31<47:48,  7.99s/it]  "
     ]
    },
    {
     "name": "stdout",
     "output_type": "stream",
     "text": [
      "An error occurred\n"
     ]
    },
    {
     "name": "stderr",
     "output_type": "stream",
     "text": [
      "  7%|▋         | 27/385 [03:50<1:04:32, 10.82s/it]"
     ]
    },
    {
     "name": "stdout",
     "output_type": "stream",
     "text": [
      "An error occurred\n"
     ]
    },
    {
     "name": "stderr",
     "output_type": "stream",
     "text": [
      "  7%|▋         | 28/385 [03:52<50:41,  8.52s/it]  "
     ]
    },
    {
     "name": "stdout",
     "output_type": "stream",
     "text": [
      "An error occurred\n"
     ]
    },
    {
     "name": "stderr",
     "output_type": "stream",
     "text": [
      "  8%|▊         | 29/385 [03:56<43:05,  7.26s/it]"
     ]
    },
    {
     "name": "stdout",
     "output_type": "stream",
     "text": [
      "An error occurred\n"
     ]
    },
    {
     "name": "stderr",
     "output_type": "stream",
     "text": [
      "  8%|▊         | 30/385 [04:11<55:35,  9.40s/it]"
     ]
    },
    {
     "name": "stdout",
     "output_type": "stream",
     "text": [
      "An error occurred\n"
     ]
    },
    {
     "name": "stderr",
     "output_type": "stream",
     "text": [
      "  8%|▊         | 31/385 [04:12<40:12,  6.82s/it]"
     ]
    },
    {
     "name": "stdout",
     "output_type": "stream",
     "text": [
      "An error occurred\n"
     ]
    },
    {
     "name": "stderr",
     "output_type": "stream",
     "text": [
      "  8%|▊         | 32/385 [04:28<57:16,  9.74s/it]"
     ]
    },
    {
     "name": "stdout",
     "output_type": "stream",
     "text": [
      "An error occurred\n"
     ]
    },
    {
     "name": "stderr",
     "output_type": "stream",
     "text": [
      "  9%|▊         | 33/385 [04:33<47:32,  8.10s/it]"
     ]
    },
    {
     "name": "stdout",
     "output_type": "stream",
     "text": [
      "An error occurred\n"
     ]
    },
    {
     "name": "stderr",
     "output_type": "stream",
     "text": [
      "  9%|▉         | 34/385 [04:33<34:06,  5.83s/it]"
     ]
    },
    {
     "name": "stdout",
     "output_type": "stream",
     "text": [
      "An error occurred\n"
     ]
    },
    {
     "name": "stderr",
     "output_type": "stream",
     "text": [
      "  9%|▉         | 35/385 [04:51<55:48,  9.57s/it]"
     ]
    },
    {
     "name": "stdout",
     "output_type": "stream",
     "text": [
      "An error occurred\n"
     ]
    },
    {
     "name": "stderr",
     "output_type": "stream",
     "text": [
      "  9%|▉         | 36/385 [04:52<40:39,  6.99s/it]"
     ]
    },
    {
     "name": "stdout",
     "output_type": "stream",
     "text": [
      "An error occurred\n"
     ]
    },
    {
     "name": "stderr",
     "output_type": "stream",
     "text": [
      " 10%|▉         | 37/385 [05:00<41:17,  7.12s/it]"
     ]
    },
    {
     "name": "stdout",
     "output_type": "stream",
     "text": [
      "An error occurred\n"
     ]
    },
    {
     "name": "stderr",
     "output_type": "stream",
     "text": [
      " 10%|▉         | 38/385 [05:13<51:27,  8.90s/it]"
     ]
    },
    {
     "name": "stdout",
     "output_type": "stream",
     "text": [
      "An error occurred\n"
     ]
    },
    {
     "name": "stderr",
     "output_type": "stream",
     "text": [
      " 10%|█         | 39/385 [05:19<46:41,  8.10s/it]"
     ]
    },
    {
     "name": "stdout",
     "output_type": "stream",
     "text": [
      "An error occurred\n"
     ]
    },
    {
     "name": "stderr",
     "output_type": "stream",
     "text": [
      " 10%|█         | 40/385 [05:29<49:42,  8.65s/it]"
     ]
    },
    {
     "name": "stdout",
     "output_type": "stream",
     "text": [
      "An error occurred\n"
     ]
    },
    {
     "name": "stderr",
     "output_type": "stream",
     "text": [
      " 11%|█         | 41/385 [05:40<52:50,  9.22s/it]"
     ]
    },
    {
     "name": "stdout",
     "output_type": "stream",
     "text": [
      "An error occurred\n"
     ]
    },
    {
     "name": "stderr",
     "output_type": "stream",
     "text": [
      " 11%|█         | 42/385 [05:43<43:05,  7.54s/it]"
     ]
    },
    {
     "name": "stdout",
     "output_type": "stream",
     "text": [
      "An error occurred\n"
     ]
    },
    {
     "name": "stderr",
     "output_type": "stream",
     "text": [
      " 11%|█         | 43/385 [05:51<42:42,  7.49s/it]"
     ]
    },
    {
     "name": "stdout",
     "output_type": "stream",
     "text": [
      "An error occurred\n"
     ]
    },
    {
     "name": "stderr",
     "output_type": "stream",
     "text": [
      " 11%|█▏        | 44/385 [06:01<47:27,  8.35s/it]"
     ]
    },
    {
     "name": "stdout",
     "output_type": "stream",
     "text": [
      "An error occurred\n"
     ]
    },
    {
     "name": "stderr",
     "output_type": "stream",
     "text": [
      " 12%|█▏        | 45/385 [06:10<48:21,  8.53s/it]"
     ]
    },
    {
     "name": "stdout",
     "output_type": "stream",
     "text": [
      "An error occurred\n"
     ]
    },
    {
     "name": "stderr",
     "output_type": "stream",
     "text": [
      " 12%|█▏        | 46/385 [06:12<37:43,  6.68s/it]"
     ]
    },
    {
     "name": "stdout",
     "output_type": "stream",
     "text": [
      "An error occurred\n"
     ]
    },
    {
     "name": "stderr",
     "output_type": "stream",
     "text": [
      " 12%|█▏        | 47/385 [06:20<38:56,  6.91s/it]"
     ]
    },
    {
     "name": "stdout",
     "output_type": "stream",
     "text": [
      "An error occurred\n"
     ]
    },
    {
     "name": "stderr",
     "output_type": "stream",
     "text": [
      " 12%|█▏        | 48/385 [06:31<46:47,  8.33s/it]"
     ]
    },
    {
     "name": "stdout",
     "output_type": "stream",
     "text": [
      "An error occurred\n"
     ]
    },
    {
     "name": "stderr",
     "output_type": "stream",
     "text": [
      " 13%|█▎        | 49/385 [06:36<41:00,  7.32s/it]"
     ]
    },
    {
     "name": "stdout",
     "output_type": "stream",
     "text": [
      "An error occurred\n"
     ]
    },
    {
     "name": "stderr",
     "output_type": "stream",
     "text": [
      " 13%|█▎        | 50/385 [06:39<32:40,  5.85s/it]"
     ]
    },
    {
     "name": "stdout",
     "output_type": "stream",
     "text": [
      "An error occurred\n"
     ]
    },
    {
     "name": "stderr",
     "output_type": "stream",
     "text": [
      " 13%|█▎        | 51/385 [06:50<41:48,  7.51s/it]"
     ]
    },
    {
     "name": "stdout",
     "output_type": "stream",
     "text": [
      "An error occurred\n"
     ]
    },
    {
     "name": "stderr",
     "output_type": "stream",
     "text": [
      " 14%|█▍        | 53/385 [07:00<32:21,  5.85s/it]"
     ]
    },
    {
     "name": "stdout",
     "output_type": "stream",
     "text": [
      "An error occurred\n",
      "An error occurred\n"
     ]
    },
    {
     "name": "stderr",
     "output_type": "stream",
     "text": [
      " 14%|█▍        | 54/385 [07:14<45:21,  8.22s/it]"
     ]
    },
    {
     "name": "stdout",
     "output_type": "stream",
     "text": [
      "An error occurred\n"
     ]
    },
    {
     "name": "stderr",
     "output_type": "stream",
     "text": [
      " 14%|█▍        | 55/385 [07:19<40:16,  7.32s/it]"
     ]
    },
    {
     "name": "stdout",
     "output_type": "stream",
     "text": [
      "An error occurred\n",
      "Complete biometrics authentication and press any key to continue: \n",
      "https://api.worldquantbrain.com/authentication/persona?inquiry=inq_JryQQUcztYiWrgASMUP9KkbDfCRD\n",
      "\n"
     ]
    },
    {
     "ename": "",
     "evalue": "",
     "output_type": "error",
     "traceback": [
      "\u001b[1;31m在当前单元格或上一个单元格中执行代码时 Kernel 崩溃。\n",
      "\u001b[1;31m请查看单元格中的代码，以确定故障的可能原因。\n",
      "\u001b[1;31m单击<a href='https://aka.ms/vscodeJupyterKernelCrash'>此处</a>了解详细信息。\n",
      "\u001b[1;31m有关更多详细信息，请查看 Jupyter <a href='command:jupyter.viewOutput'>log</a>。"
     ]
    }
   ],
   "source": [
    "# 加载进度字典\n",
    "progress = load_progress()\n",
    "\n",
    "# 过滤掉已经处理过的数据集\n",
    "dataset_ids = [dataset_id for dataset_id in potential_datasets_df.id.values.tolist() if dataset_id not in progress]\n",
    "batch_size = 10  # 每批处理的数据集数量\n",
    "batches = [dataset_ids[i:i + batch_size] for i in range(0, len(dataset_ids), batch_size)]\n",
    "\n",
    "# 逐批处理数据集\n",
    "def run_simulation():\n",
    "    for batch in batches:\n",
    "        for dataset_id in batch:\n",
    "            simulate_factors(dataset_id, progress=progress)\n",
    "\n",
    "# 运行模拟\n",
    "run_simulation()\n",
    " "
   ]
  },
  {
   "cell_type": "markdown",
   "metadata": {},
   "source": [
    "#### Step 3. 合并和分析结果"
   ]
  },
  {
   "cell_type": "code",
   "execution_count": null,
   "metadata": {},
   "outputs": [
    {
     "data": {
      "text/html": [
       "<div>\n",
       "<style scoped>\n",
       "    .dataframe tbody tr th:only-of-type {\n",
       "        vertical-align: middle;\n",
       "    }\n",
       "\n",
       "    .dataframe tbody tr th {\n",
       "        vertical-align: top;\n",
       "    }\n",
       "\n",
       "    .dataframe thead th {\n",
       "        text-align: right;\n",
       "    }\n",
       "</style>\n",
       "<table border=\"1\" class=\"dataframe\">\n",
       "  <thead>\n",
       "    <tr style=\"text-align: right;\">\n",
       "      <th></th>\n",
       "      <th>Unnamed: 0</th>\n",
       "      <th>pnl</th>\n",
       "      <th>book_size</th>\n",
       "      <th>long_count</th>\n",
       "      <th>short_count</th>\n",
       "      <th>turnover</th>\n",
       "      <th>returns</th>\n",
       "      <th>drawdown</th>\n",
       "      <th>margin</th>\n",
       "      <th>fitness</th>\n",
       "      <th>...</th>\n",
       "      <th>expression</th>\n",
       "      <th>concentrated_weight</th>\n",
       "      <th>high_turnover</th>\n",
       "      <th>is_ladder_sharpe</th>\n",
       "      <th>low_fitness</th>\n",
       "      <th>low_sharpe</th>\n",
       "      <th>low_sub_universe_sharpe</th>\n",
       "      <th>low_turnover</th>\n",
       "      <th>matches_competition</th>\n",
       "      <th>matches_themes</th>\n",
       "    </tr>\n",
       "  </thead>\n",
       "  <tbody>\n",
       "    <tr>\n",
       "      <th>0</th>\n",
       "      <td>0</td>\n",
       "      <td>408142</td>\n",
       "      <td>20000000</td>\n",
       "      <td>107</td>\n",
       "      <td>0</td>\n",
       "      <td>0.5000</td>\n",
       "      <td>2.5509</td>\n",
       "      <td>0.0254</td>\n",
       "      <td>0.010204</td>\n",
       "      <td>11.23</td>\n",
       "      <td>...</td>\n",
       "      <td>ts_skewness(vec_avg(nws17_d1_event_text),120)</td>\n",
       "      <td>FAIL</td>\n",
       "      <td>PASS</td>\n",
       "      <td>FAIL</td>\n",
       "      <td>PASS</td>\n",
       "      <td>PASS</td>\n",
       "      <td>FAIL</td>\n",
       "      <td>PASS</td>\n",
       "      <td>WARNING</td>\n",
       "      <td>WARNING</td>\n",
       "    </tr>\n",
       "    <tr>\n",
       "      <th>0</th>\n",
       "      <td>0</td>\n",
       "      <td>420984</td>\n",
       "      <td>20000000</td>\n",
       "      <td>0</td>\n",
       "      <td>1</td>\n",
       "      <td>0.1667</td>\n",
       "      <td>0.8771</td>\n",
       "      <td>0.0219</td>\n",
       "      <td>0.010525</td>\n",
       "      <td>9.82</td>\n",
       "      <td>...</td>\n",
       "      <td>ts_skewness(vec_avg(fnd14_td_nve_cns_tda_rpr_t...</td>\n",
       "      <td>FAIL</td>\n",
       "      <td>PASS</td>\n",
       "      <td>NaN</td>\n",
       "      <td>PASS</td>\n",
       "      <td>PASS</td>\n",
       "      <td>ERROR</td>\n",
       "      <td>PASS</td>\n",
       "      <td>WARNING</td>\n",
       "      <td>WARNING</td>\n",
       "    </tr>\n",
       "    <tr>\n",
       "      <th>1</th>\n",
       "      <td>1</td>\n",
       "      <td>20672148</td>\n",
       "      <td>20000000</td>\n",
       "      <td>11</td>\n",
       "      <td>12</td>\n",
       "      <td>0.1197</td>\n",
       "      <td>0.5933</td>\n",
       "      <td>0.2776</td>\n",
       "      <td>0.009917</td>\n",
       "      <td>3.42</td>\n",
       "      <td>...</td>\n",
       "      <td>ts_skewness(vec_avg(fnd14_bus_state),120)</td>\n",
       "      <td>FAIL</td>\n",
       "      <td>PASS</td>\n",
       "      <td>NaN</td>\n",
       "      <td>PASS</td>\n",
       "      <td>FAIL</td>\n",
       "      <td>PASS</td>\n",
       "      <td>PASS</td>\n",
       "      <td>WARNING</td>\n",
       "      <td>WARNING</td>\n",
       "    </tr>\n",
       "    <tr>\n",
       "      <th>2</th>\n",
       "      <td>2</td>\n",
       "      <td>20500490</td>\n",
       "      <td>20000000</td>\n",
       "      <td>11</td>\n",
       "      <td>11</td>\n",
       "      <td>0.1192</td>\n",
       "      <td>0.5884</td>\n",
       "      <td>0.2776</td>\n",
       "      <td>0.009872</td>\n",
       "      <td>3.38</td>\n",
       "      <td>...</td>\n",
       "      <td>ts_skewness(vec_avg(fnd14_loc_state),120)</td>\n",
       "      <td>FAIL</td>\n",
       "      <td>PASS</td>\n",
       "      <td>NaN</td>\n",
       "      <td>PASS</td>\n",
       "      <td>FAIL</td>\n",
       "      <td>PASS</td>\n",
       "      <td>PASS</td>\n",
       "      <td>WARNING</td>\n",
       "      <td>WARNING</td>\n",
       "    </tr>\n",
       "    <tr>\n",
       "      <th>1</th>\n",
       "      <td>1</td>\n",
       "      <td>2482578</td>\n",
       "      <td>20000000</td>\n",
       "      <td>711</td>\n",
       "      <td>628</td>\n",
       "      <td>0.0839</td>\n",
       "      <td>0.0678</td>\n",
       "      <td>0.0486</td>\n",
       "      <td>0.001616</td>\n",
       "      <td>1.15</td>\n",
       "      <td>...</td>\n",
       "      <td>ts_skewness(vec_avg(pv64_cins_dif_rcode),120)</td>\n",
       "      <td>FAIL</td>\n",
       "      <td>PASS</td>\n",
       "      <td>NaN</td>\n",
       "      <td>PASS</td>\n",
       "      <td>FAIL</td>\n",
       "      <td>PASS</td>\n",
       "      <td>PASS</td>\n",
       "      <td>WARNING</td>\n",
       "      <td>WARNING</td>\n",
       "    </tr>\n",
       "    <tr>\n",
       "      <th>...</th>\n",
       "      <td>...</td>\n",
       "      <td>...</td>\n",
       "      <td>...</td>\n",
       "      <td>...</td>\n",
       "      <td>...</td>\n",
       "      <td>...</td>\n",
       "      <td>...</td>\n",
       "      <td>...</td>\n",
       "      <td>...</td>\n",
       "      <td>...</td>\n",
       "      <td>...</td>\n",
       "      <td>...</td>\n",
       "      <td>...</td>\n",
       "      <td>...</td>\n",
       "      <td>...</td>\n",
       "      <td>...</td>\n",
       "      <td>...</td>\n",
       "      <td>...</td>\n",
       "      <td>...</td>\n",
       "      <td>...</td>\n",
       "      <td>...</td>\n",
       "    </tr>\n",
       "    <tr>\n",
       "      <th>179</th>\n",
       "      <td>179</td>\n",
       "      <td>-14967246</td>\n",
       "      <td>20000000</td>\n",
       "      <td>33</td>\n",
       "      <td>35</td>\n",
       "      <td>0.1300</td>\n",
       "      <td>-0.4223</td>\n",
       "      <td>1.7037</td>\n",
       "      <td>-0.006499</td>\n",
       "      <td>-2.07</td>\n",
       "      <td>...</td>\n",
       "      <td>ts_skewness(vec_avg(fnd14_last_reported_audito...</td>\n",
       "      <td>FAIL</td>\n",
       "      <td>PASS</td>\n",
       "      <td>NaN</td>\n",
       "      <td>FAIL</td>\n",
       "      <td>FAIL</td>\n",
       "      <td>PASS</td>\n",
       "      <td>PASS</td>\n",
       "      <td>WARNING</td>\n",
       "      <td>WARNING</td>\n",
       "    </tr>\n",
       "    <tr>\n",
       "      <th>174</th>\n",
       "      <td>174</td>\n",
       "      <td>-9625188</td>\n",
       "      <td>20000000</td>\n",
       "      <td>31</td>\n",
       "      <td>32</td>\n",
       "      <td>0.1871</td>\n",
       "      <td>-0.2716</td>\n",
       "      <td>1.0206</td>\n",
       "      <td>-0.002904</td>\n",
       "      <td>-1.40</td>\n",
       "      <td>...</td>\n",
       "      <td>ts_skewness(vec_avg(fnd14_last_known_auditor_f...</td>\n",
       "      <td>FAIL</td>\n",
       "      <td>PASS</td>\n",
       "      <td>NaN</td>\n",
       "      <td>FAIL</td>\n",
       "      <td>FAIL</td>\n",
       "      <td>FAIL</td>\n",
       "      <td>PASS</td>\n",
       "      <td>WARNING</td>\n",
       "      <td>WARNING</td>\n",
       "    </tr>\n",
       "    <tr>\n",
       "      <th>180</th>\n",
       "      <td>180</td>\n",
       "      <td>-15467294</td>\n",
       "      <td>20000000</td>\n",
       "      <td>33</td>\n",
       "      <td>34</td>\n",
       "      <td>0.1299</td>\n",
       "      <td>-0.4364</td>\n",
       "      <td>1.7812</td>\n",
       "      <td>-0.006720</td>\n",
       "      <td>-2.18</td>\n",
       "      <td>...</td>\n",
       "      <td>ts_skewness(vec_avg(fnd14_last_known_auditor_n...</td>\n",
       "      <td>FAIL</td>\n",
       "      <td>PASS</td>\n",
       "      <td>NaN</td>\n",
       "      <td>FAIL</td>\n",
       "      <td>FAIL</td>\n",
       "      <td>PASS</td>\n",
       "      <td>PASS</td>\n",
       "      <td>WARNING</td>\n",
       "      <td>WARNING</td>\n",
       "    </tr>\n",
       "    <tr>\n",
       "      <th>177</th>\n",
       "      <td>177</td>\n",
       "      <td>-9036344</td>\n",
       "      <td>20000000</td>\n",
       "      <td>848</td>\n",
       "      <td>760</td>\n",
       "      <td>0.1406</td>\n",
       "      <td>-0.2558</td>\n",
       "      <td>1.1000</td>\n",
       "      <td>-0.003639</td>\n",
       "      <td>-1.67</td>\n",
       "      <td>...</td>\n",
       "      <td>ts_skewness(vec_avg(fnd14_latestfy_filing_type...</td>\n",
       "      <td>FAIL</td>\n",
       "      <td>PASS</td>\n",
       "      <td>NaN</td>\n",
       "      <td>FAIL</td>\n",
       "      <td>FAIL</td>\n",
       "      <td>FAIL</td>\n",
       "      <td>PASS</td>\n",
       "      <td>WARNING</td>\n",
       "      <td>WARNING</td>\n",
       "    </tr>\n",
       "    <tr>\n",
       "      <th>181</th>\n",
       "      <td>181</td>\n",
       "      <td>-15250625</td>\n",
       "      <td>20000000</td>\n",
       "      <td>1203</td>\n",
       "      <td>1202</td>\n",
       "      <td>0.1592</td>\n",
       "      <td>-0.4303</td>\n",
       "      <td>1.6907</td>\n",
       "      <td>-0.005405</td>\n",
       "      <td>-2.37</td>\n",
       "      <td>...</td>\n",
       "      <td>ts_skewness(vec_avg(fnd14_lts_csh_csh_fnn_act_...</td>\n",
       "      <td>FAIL</td>\n",
       "      <td>PASS</td>\n",
       "      <td>NaN</td>\n",
       "      <td>FAIL</td>\n",
       "      <td>FAIL</td>\n",
       "      <td>PASS</td>\n",
       "      <td>PASS</td>\n",
       "      <td>WARNING</td>\n",
       "      <td>WARNING</td>\n",
       "    </tr>\n",
       "  </tbody>\n",
       "</table>\n",
       "<p>911 rows × 23 columns</p>\n",
       "</div>"
      ],
      "text/plain": [
       "     Unnamed: 0       pnl  book_size  long_count  short_count  turnover  \\\n",
       "0             0    408142   20000000         107            0    0.5000   \n",
       "0             0    420984   20000000           0            1    0.1667   \n",
       "1             1  20672148   20000000          11           12    0.1197   \n",
       "2             2  20500490   20000000          11           11    0.1192   \n",
       "1             1   2482578   20000000         711          628    0.0839   \n",
       "..          ...       ...        ...         ...          ...       ...   \n",
       "179         179 -14967246   20000000          33           35    0.1300   \n",
       "174         174  -9625188   20000000          31           32    0.1871   \n",
       "180         180 -15467294   20000000          33           34    0.1299   \n",
       "177         177  -9036344   20000000         848          760    0.1406   \n",
       "181         181 -15250625   20000000        1203         1202    0.1592   \n",
       "\n",
       "     returns  drawdown    margin  fitness  ...  \\\n",
       "0     2.5509    0.0254  0.010204    11.23  ...   \n",
       "0     0.8771    0.0219  0.010525     9.82  ...   \n",
       "1     0.5933    0.2776  0.009917     3.42  ...   \n",
       "2     0.5884    0.2776  0.009872     3.38  ...   \n",
       "1     0.0678    0.0486  0.001616     1.15  ...   \n",
       "..       ...       ...       ...      ...  ...   \n",
       "179  -0.4223    1.7037 -0.006499    -2.07  ...   \n",
       "174  -0.2716    1.0206 -0.002904    -1.40  ...   \n",
       "180  -0.4364    1.7812 -0.006720    -2.18  ...   \n",
       "177  -0.2558    1.1000 -0.003639    -1.67  ...   \n",
       "181  -0.4303    1.6907 -0.005405    -2.37  ...   \n",
       "\n",
       "                                            expression concentrated_weight  \\\n",
       "0        ts_skewness(vec_avg(nws17_d1_event_text),120)                FAIL   \n",
       "0    ts_skewness(vec_avg(fnd14_td_nve_cns_tda_rpr_t...                FAIL   \n",
       "1            ts_skewness(vec_avg(fnd14_bus_state),120)                FAIL   \n",
       "2            ts_skewness(vec_avg(fnd14_loc_state),120)                FAIL   \n",
       "1        ts_skewness(vec_avg(pv64_cins_dif_rcode),120)                FAIL   \n",
       "..                                                 ...                 ...   \n",
       "179  ts_skewness(vec_avg(fnd14_last_reported_audito...                FAIL   \n",
       "174  ts_skewness(vec_avg(fnd14_last_known_auditor_f...                FAIL   \n",
       "180  ts_skewness(vec_avg(fnd14_last_known_auditor_n...                FAIL   \n",
       "177  ts_skewness(vec_avg(fnd14_latestfy_filing_type...                FAIL   \n",
       "181  ts_skewness(vec_avg(fnd14_lts_csh_csh_fnn_act_...                FAIL   \n",
       "\n",
       "    high_turnover is_ladder_sharpe low_fitness low_sharpe  \\\n",
       "0            PASS             FAIL        PASS       PASS   \n",
       "0            PASS              NaN        PASS       PASS   \n",
       "1            PASS              NaN        PASS       FAIL   \n",
       "2            PASS              NaN        PASS       FAIL   \n",
       "1            PASS              NaN        PASS       FAIL   \n",
       "..            ...              ...         ...        ...   \n",
       "179          PASS              NaN        FAIL       FAIL   \n",
       "174          PASS              NaN        FAIL       FAIL   \n",
       "180          PASS              NaN        FAIL       FAIL   \n",
       "177          PASS              NaN        FAIL       FAIL   \n",
       "181          PASS              NaN        FAIL       FAIL   \n",
       "\n",
       "    low_sub_universe_sharpe low_turnover matches_competition matches_themes  \n",
       "0                      FAIL         PASS             WARNING        WARNING  \n",
       "0                     ERROR         PASS             WARNING        WARNING  \n",
       "1                      PASS         PASS             WARNING        WARNING  \n",
       "2                      PASS         PASS             WARNING        WARNING  \n",
       "1                      PASS         PASS             WARNING        WARNING  \n",
       "..                      ...          ...                 ...            ...  \n",
       "179                    PASS         PASS             WARNING        WARNING  \n",
       "174                    FAIL         PASS             WARNING        WARNING  \n",
       "180                    PASS         PASS             WARNING        WARNING  \n",
       "177                    FAIL         PASS             WARNING        WARNING  \n",
       "181                    PASS         PASS             WARNING        WARNING  \n",
       "\n",
       "[911 rows x 23 columns]"
      ]
     },
     "execution_count": 43,
     "metadata": {},
     "output_type": "execute_result"
    }
   ],
   "source": [
    "import glob\n",
    "\n",
    "# 读取所有结果文件\n",
    "all_results = pd.concat([pd.read_csv(f) for f in glob.glob('results_*.csv')])\n",
    "\n",
    "# 进一步分析合并后的结果\n",
    "# 例如筛选出表现最好的因子\n",
    "top_factors = all_results.sort_values(by='sharpe', ascending=False)\n",
    "top_factors\n"
   ]
  },
  {
   "cell_type": "markdown",
   "metadata": {},
   "source": [
    "### Change the expression - what would you do to improve alpha's results?\n",
    "<br>Use your own logic to improve the alphas.</br>\n",
    "<br>Here we will apply **group_rank** to overcome poor weight distribution.</br>"
   ]
  },
  {
   "cell_type": "code",
   "execution_count": null,
   "metadata": {},
   "outputs": [
    {
     "data": {
      "text/plain": [
       "['group_rank(ts_skewness(vec_avg(nws17_d1_event_text),120),sector)',\n",
       " 'group_rank(ts_skewness(vec_avg(fnd14_td_nve_cns_tda_rpr_tsl),120),sector)',\n",
       " 'group_rank(ts_skewness(vec_avg(fnd14_bus_state),120),sector)',\n",
       " 'group_rank(ts_skewness(vec_avg(fnd14_loc_state),120),sector)',\n",
       " 'group_rank(ts_skewness(vec_avg(pv64_cins_dif_rcode),120),sector)',\n",
       " 'group_rank(ts_skewness(vec_avg(fnd14_bus_state_name),120),sector)',\n",
       " 'group_rank(ts_skewness(vec_avg(fnd14_loc_state_name),120),sector)',\n",
       " 'group_rank(ts_skewness(vec_avg(pv64_out_stal_fund_ira_invest),120),sector)',\n",
       " 'group_rank(ts_skewness(vec_avg(fnd14_bus_county_name),120),sector)',\n",
       " 'group_rank(ts_skewness(vec_avg(fnd14_mail_city),120),sector)',\n",
       " 'group_rank(ts_skewness(vec_avg(pv64_px_stal_px_ask),120),sector)',\n",
       " 'group_rank(ts_skewness(vec_avg(mws50_ghc_lna),120),sector)',\n",
       " 'group_rank(ts_skewness(vec_avg(fnd14_latest_tax_fees_sum),120),sector)',\n",
       " 'group_rank(ts_skewness(vec_avg(fnd14_mail_state),120),sector)',\n",
       " 'group_rank(ts_skewness(vec_avg(fnd14_bus_city),120),sector)',\n",
       " 'group_rank(ts_skewness(vec_avg(fnd14_mail_state_name),120),sector)',\n",
       " 'group_rank(ts_skewness(vec_avg(fnd14_ykf_ffa_tda_rpr_tsl),120),sector)',\n",
       " 'group_rank(ts_skewness(vec_avg(pv64_px_stal_px_eval),120),sector)',\n",
       " 'group_rank(ts_skewness(vec_avg(mws50_g_ens_similarity_gap),120),sector)',\n",
       " 'group_rank(ts_skewness(vec_avg(mws50_ens_similarity_gap),120),sector)',\n",
       " 'group_rank(ts_skewness(vec_avg(fnd14_mail_county_name),120),sector)',\n",
       " 'group_rank(ts_skewness(vec_avg(nws3_scores_finhypenormscr),120),sector)',\n",
       " 'group_rank(ts_skewness(vec_avg(pv64_px_stal_px_last),120),sector)',\n",
       " 'group_rank(ts_skewness(vec_avg(pv64_rpx_stal_px_ask),120),sector)',\n",
       " 'group_rank(ts_skewness(vec_avg(nws17_d1_headline),120),sector)',\n",
       " 'group_rank(ts_skewness(vec_avg(ern5_total_days_changed),120),sector)',\n",
       " 'group_rank(ts_skewness(vec_avg(pv64_dif_max_redemp_fee),120),sector)',\n",
       " 'group_rank(ts_skewness(vec_avg(pv64_dif_fund_early_withdraw_fee),120),sector)',\n",
       " 'group_rank(ts_skewness(vec_avg(fnd14_accel_filer_is_shell_company),120),sector)',\n",
       " 'group_rank(ts_skewness(vec_avg(fnd14_bus_street1),120),sector)',\n",
       " 'group_rank(ts_skewness(vec_avg(pv64_dif_fund_asset_alloc_muni),120),sector)',\n",
       " 'group_rank(ts_skewness(vec_avg(nws48_g_ens_elapsed),120),sector)',\n",
       " 'group_rank(ts_skewness(vec_avg(mws36_relevance),120),sector)',\n",
       " 'group_rank(ts_skewness(vec_avg(pv64_dif_stal_front_load),120),sector)',\n",
       " 'group_rank(ts_skewness(vec_avg(fnd14_ykf_mrf_rlf_lmt_nn_ncr),120),sector)',\n",
       " 'group_rank(ts_skewness(vec_avg(fnd14_mail_street1),120),sector)',\n",
       " 'group_rank(ts_skewness(vec_avg(pv64_px_stal_fund_net_asset_val),120),sector)',\n",
       " 'group_rank(ts_skewness(vec_avg(mws92_djnews_score_m4),120),sector)',\n",
       " 'group_rank(ts_skewness(vec_avg(mws92_mt_news_score_m2),120),sector)',\n",
       " 'group_rank(ts_skewness(vec_avg(mws59_event_fiscal_year),120),sector)',\n",
       " 'group_rank(ts_skewness(vec_avg(pv64_trr_stal_px_last),120),sector)',\n",
       " 'group_rank(ts_skewness(vec_avg(pv64_out_stal_min_subsequent_invest),120),sector)',\n",
       " 'group_rank(ts_skewness(vec_avg(oth100_top5_people_also_watch_ticker_ii),120),sector)',\n",
       " 'group_rank(ts_skewness(vec_avg(pv64_dif_fund_asset_alloc_equity),120),sector)',\n",
       " 'group_rank(ts_skewness(vec_avg(fnd14_bus_street2),120),sector)',\n",
       " 'group_rank(ts_skewness(vec_avg(mws36_sentiment_positive_confidence),120),sector)',\n",
       " 'group_rank(ts_skewness(vec_avg(mws36_novelty),120),sector)',\n",
       " 'group_rank(ts_skewness(vec_avg(pv64_trr_stal_fund_net_asset_val),120),sector)',\n",
       " 'group_rank(ts_skewness(vec_avg(fnd14_curr_auditor_affiliate_fkey),120),sector)',\n",
       " 'group_rank(ts_skewness(vec_avg(oth15_constituent_market_value),120),sector)',\n",
       " 'group_rank(ts_skewness(vec_avg(oth7_1_prob_ntr),120),sector)',\n",
       " 'group_rank(ts_skewness(vec_avg(pv64_rpx_stal_fund_net_asset_val),120),sector)',\n",
       " 'group_rank(ts_skewness(vec_avg(mws50_ssc),120),sector)',\n",
       " 'group_rank(ts_skewness(vec_avg(pv64_dif_fund_min_invest),120),sector)',\n",
       " 'group_rank(ts_skewness(vec_avg(mws92_djnews_score_m1),120),sector)',\n",
       " 'group_rank(ts_skewness(vec_avg(shrt3_bar),120),sector)',\n",
       " 'group_rank(ts_skewness(vec_avg(fnd14_flr_ass_drc_off_nm),120),sector)',\n",
       " 'group_rank(ts_skewness(vec_avg(nws48_qcm),120),sector)',\n",
       " 'group_rank(ts_skewness(vec_avg(nws17_d1_relevance),120),sector)',\n",
       " 'group_rank(ts_skewness(vec_avg(fnd14_ykf_ffa_tda_wnk_tsl),120),sector)',\n",
       " 'group_rank(ts_skewness(vec_avg(mws54_futureeventmkt_situation),120),sector)',\n",
       " 'group_rank(ts_skewness(vec_avg(fnd14_latestfy_price_close),120),sector)',\n",
       " 'group_rank(ts_skewness(vec_avg(fnd14_pmc_rpr_lms_rlf_cca),120),sector)',\n",
       " 'group_rank(ts_skewness(vec_avg(fnd14_lts_ann_qrt_ind_1),120),sector)',\n",
       " 'group_rank(ts_skewness(vec_avg(mws92_djnews_score_m2),120),sector)',\n",
       " 'group_rank(ts_skewness(vec_avg(mws38_storyanalytics_type),120),sector)',\n",
       " 'group_rank(ts_skewness(vec_avg(mws92_tr_trna_eq_score_m2),120),sector)',\n",
       " 'group_rank(ts_skewness(vec_avg(fnd14_lts_csh_csh_opr_act_qtr_2),120),sector)',\n",
       " 'group_rank(ts_skewness(vec_avg(oth78_fiscalquarter),120),sector)',\n",
       " 'group_rank(ts_skewness(vec_avg(fnd14_former_name2),120),sector)',\n",
       " 'group_rank(ts_skewness(vec_avg(pv64_rpx_stal_px_low),120),sector)',\n",
       " 'group_rank(ts_skewness(vec_avg(nws48_relevance),120),sector)',\n",
       " 'group_rank(ts_skewness(vec_avg(pv64_rpx_stal_fund_pct_premium),120),sector)',\n",
       " 'group_rank(ts_skewness(vec_avg(oth78_fullyearflag),120),sector)',\n",
       " 'group_rank(ts_skewness(vec_avg(fnd14_former_name1),120),sector)',\n",
       " 'group_rank(ts_skewness(vec_avg(oth84_1_wshactualeps),120),sector)',\n",
       " 'group_rank(ts_skewness(vec_avg(fnd14_lts_csh_csh_inv_act_qtr_2),120),sector)',\n",
       " 'group_rank(ts_skewness(vec_avg(mws38_negative_freq),120),sector)',\n",
       " 'group_rank(ts_skewness(vec_avg(oth323_pxtls),120),sector)',\n",
       " 'group_rank(ts_skewness(vec_avg(mws54_keydevelopments_headline),120),sector)',\n",
       " 'group_rank(ts_skewness(vec_avg(shrt3_utilizationpercent_units),120),sector)',\n",
       " 'group_rank(ts_skewness(vec_avg(mws50_vea),120),sector)',\n",
       " 'group_rank(ts_skewness(vec_avg(fnd14_naics_code_description),120),sector)',\n",
       " 'group_rank(ts_skewness(vec_avg(pv64_dif_min_subsequent_invest),120),sector)',\n",
       " 'group_rank(ts_skewness(vec_avg(nws20_d1_ber),120),sector)',\n",
       " 'group_rank(ts_skewness(vec_avg(pv64_stal_hist_trr_prev_5yr),120),sector)',\n",
       " 'group_rank(ts_skewness(vec_avg(mws92_inferess_v2_score_m2),120),sector)',\n",
       " 'group_rank(ts_skewness(vec_avg(fnd14_hiwater_incmst_revenue_fy),120),sector)',\n",
       " 'group_rank(ts_skewness(vec_avg(mws54_eventerinfo_calendarmonth),120),sector)',\n",
       " 'group_rank(ts_skewness(vec_avg(fnd14_hiwater_incmst_net_income_ttm),120),sector)',\n",
       " 'group_rank(ts_skewness(vec_avg(pv64_stal_hist_trr_prev_4yr),120),sector)',\n",
       " 'group_rank(ts_skewness(vec_avg(fnd14_russell_2000),120),sector)',\n",
       " 'group_rank(ts_skewness(vec_avg(fnd14_hiwater_incmst_revenue_ttm),120),sector)',\n",
       " 'group_rank(ts_skewness(vec_avg(pv64_rpx_stal_px_open),120),sector)',\n",
       " 'group_rank(ts_skewness(vec_avg(pv64_fund_class_assets),120),sector)',\n",
       " 'group_rank(ts_skewness(vec_avg(nws3_scores_finvolatilenormscr),120),sector)',\n",
       " 'group_rank(ts_skewness(vec_avg(pv64_out_stal_id_bb_parent_co),120),sector)',\n",
       " 'group_rank(ts_skewness(vec_avg(fnd14_mn_ffa_tda_wnk_tsl),120),sector)',\n",
       " 'group_rank(ts_skewness(vec_avg(mws36_novelty_oldest_span),120),sector)',\n",
       " 'group_rank(ts_skewness(vec_avg(mws92_newsquantified_score_m4),120),sector)',\n",
       " 'group_rank(ts_skewness(vec_avg(fnd14_bus_phone),120),sector)',\n",
       " 'group_rank(ts_skewness(vec_avg(pv64_out_stal_fund_asset_alloc_muni),120),sector)',\n",
       " 'group_rank(ts_skewness(vec_avg(nws17_d1_qep),120),sector)',\n",
       " 'group_rank(ts_skewness(vec_avg(pv64_out_stal_fund_asset_alloc_pfd),120),sector)',\n",
       " 'group_rank(ts_skewness(vec_avg(mws92_mt_news_score_m4),120),sector)',\n",
       " 'group_rank(ts_skewness(vec_avg(fnd14_latestqu_incmst_net_income_ttm),120),sector)',\n",
       " 'group_rank(ts_skewness(vec_avg(nws17_d1_reporting_end_time_utc),120),sector)',\n",
       " 'group_rank(ts_skewness(vec_avg(mws36_sentiment_phrase_positive),120),sector)',\n",
       " 'group_rank(ts_skewness(vec_avg(nws17_d1_bee),120),sector)',\n",
       " 'group_rank(ts_skewness(vec_avg(oth15_total_shares_held),120),sector)',\n",
       " 'group_rank(ts_skewness(vec_avg(pv64_out_stal_fund_asset_alloc_equity),120),sector)',\n",
       " 'group_rank(ts_skewness(vec_avg(fnd14_mail_street2),120),sector)',\n",
       " 'group_rank(ts_skewness(vec_avg(fnd14_latest_other_fees_sum),120),sector)',\n",
       " 'group_rank(ts_skewness(vec_avg(nws17_d1_country_code),120),sector)',\n",
       " 'group_rank(ts_skewness(vec_avg(mws50_g_ens_elapsed),120),sector)',\n",
       " 'group_rank(ts_skewness(vec_avg(nws20_d1_headline),120),sector)',\n",
       " 'group_rank(ts_skewness(vec_avg(mws46_storyid_g_ens_elapsed),120),sector)',\n",
       " 'group_rank(ts_skewness(vec_avg(pv64_dif_stal_fund_mgr_stated_fee),120),sector)',\n",
       " 'group_rank(ts_skewness(vec_avg(mws50_evaluation_method),120),sector)',\n",
       " 'group_rank(ts_skewness(vec_avg(mws38_tc_negative_freq),120),sector)',\n",
       " 'group_rank(ts_skewness(vec_avg(mws36_novelty_newest_span),120),sector)',\n",
       " 'group_rank(ts_skewness(vec_avg(fnd14_inc_state_region),120),sector)',\n",
       " 'group_rank(ts_skewness(vec_avg(fnd14_egc_is_emerging_company),120),sector)']"
      ]
     },
     "execution_count": 44,
     "metadata": {},
     "output_type": "execute_result"
    }
   ],
   "source": [
    "prospect_alphas = top_factors.loc[lambda x: x.fitness>0.2]['expression'].values\n",
    "prospect_alphas\n",
    "new_expression_list = ['group_rank(' + a + ',sector)' for a in prospect_alphas]\n",
    "new_expression_list"
   ]
  },
  {
   "cell_type": "code",
   "execution_count": null,
   "metadata": {},
   "outputs": [
    {
     "name": "stderr",
     "output_type": "stream",
     "text": [
      "  5%|▍         | 2/41 [01:34<30:34, 47.03s/it]\n"
     ]
    },
    {
     "ename": "KeyboardInterrupt",
     "evalue": "",
     "output_type": "error",
     "traceback": [
      "\u001b[0;31m---------------------------------------------------------------------------\u001b[0m",
      "\u001b[0;31mIndexError\u001b[0m                                Traceback (most recent call last)",
      "File \u001b[0;32m/Library/Frameworks/Python.framework/Versions/3.9/lib/python3.9/multiprocessing/pool.py:853\u001b[0m, in \u001b[0;36mIMapIterator.next\u001b[0;34m(self, timeout)\u001b[0m\n\u001b[1;32m    852\u001b[0m \u001b[38;5;28;01mtry\u001b[39;00m:\n\u001b[0;32m--> 853\u001b[0m     item \u001b[38;5;241m=\u001b[39m \u001b[38;5;28;43mself\u001b[39;49m\u001b[38;5;241;43m.\u001b[39;49m\u001b[43m_items\u001b[49m\u001b[38;5;241;43m.\u001b[39;49m\u001b[43mpopleft\u001b[49m\u001b[43m(\u001b[49m\u001b[43m)\u001b[49m\n\u001b[1;32m    854\u001b[0m \u001b[38;5;28;01mexcept\u001b[39;00m \u001b[38;5;167;01mIndexError\u001b[39;00m:\n",
      "\u001b[0;31mIndexError\u001b[0m: pop from an empty deque",
      "\nDuring handling of the above exception, another exception occurred:\n",
      "\u001b[0;31mKeyboardInterrupt\u001b[0m                         Traceback (most recent call last)",
      "Cell \u001b[0;32mIn[45], line 5\u001b[0m\n\u001b[1;32m      1\u001b[0m \u001b[38;5;66;03m#generating new simulation data for new expressions\u001b[39;00m\n\u001b[1;32m      3\u001b[0m new_alpha_list \u001b[38;5;241m=\u001b[39m [ace\u001b[38;5;241m.\u001b[39mgenerate_alpha(x, region\u001b[38;5;241m=\u001b[39m \u001b[38;5;124m\"\u001b[39m\u001b[38;5;124mUSA\u001b[39m\u001b[38;5;124m\"\u001b[39m, universe \u001b[38;5;241m=\u001b[39m \u001b[38;5;124m\"\u001b[39m\u001b[38;5;124mTOP3000\u001b[39m\u001b[38;5;124m\"\u001b[39m,) \u001b[38;5;28;01mfor\u001b[39;00m x \u001b[38;5;129;01min\u001b[39;00m new_expression_list]\n\u001b[0;32m----> 5\u001b[0m new_result \u001b[38;5;241m=\u001b[39m \u001b[43mace\u001b[49m\u001b[38;5;241;43m.\u001b[39;49m\u001b[43msimulate_alpha_list_multi\u001b[49m\u001b[43m(\u001b[49m\u001b[43ms\u001b[49m\u001b[43m,\u001b[49m\u001b[43m \u001b[49m\u001b[43mnew_alpha_list\u001b[49m\u001b[43m)\u001b[49m\n",
      "File \u001b[0;32m~/My_Document/Michael/金融/量化/WorldQuant/alpha_creation_engine-main/ace_lib.py:613\u001b[0m, in \u001b[0;36msimulate_alpha_list_multi\u001b[0;34m(s, alpha_list, limit_of_concurrent_simulations, limit_of_multi_simulations, simulation_config)\u001b[0m\n\u001b[1;32m    609\u001b[0m \u001b[38;5;28;01mwith\u001b[39;00m ThreadPool(limit_of_concurrent_simulations) \u001b[38;5;28;01mas\u001b[39;00m pool:\n\u001b[1;32m    611\u001b[0m     \u001b[38;5;28;01mwith\u001b[39;00m tqdm\u001b[38;5;241m.\u001b[39mtqdm(total\u001b[38;5;241m=\u001b[39m\u001b[38;5;28mlen\u001b[39m(tasks)) \u001b[38;5;28;01mas\u001b[39;00m pbar:\n\u001b[0;32m--> 613\u001b[0m         \u001b[38;5;28;01mfor\u001b[39;00m result \u001b[38;5;129;01min\u001b[39;00m pool\u001b[38;5;241m.\u001b[39mimap_unordered(\n\u001b[1;32m    614\u001b[0m             partial(simulate_multi_alpha, s), tasks\n\u001b[1;32m    615\u001b[0m         ):\n\u001b[1;32m    616\u001b[0m             result_list\u001b[38;5;241m.\u001b[39mappend(result)\n\u001b[1;32m    617\u001b[0m             pbar\u001b[38;5;241m.\u001b[39mupdate()\n",
      "File \u001b[0;32m/Library/Frameworks/Python.framework/Versions/3.9/lib/python3.9/multiprocessing/pool.py:858\u001b[0m, in \u001b[0;36mIMapIterator.next\u001b[0;34m(self, timeout)\u001b[0m\n\u001b[1;32m    856\u001b[0m     \u001b[38;5;28mself\u001b[39m\u001b[38;5;241m.\u001b[39m_pool \u001b[38;5;241m=\u001b[39m \u001b[38;5;28;01mNone\u001b[39;00m\n\u001b[1;32m    857\u001b[0m     \u001b[38;5;28;01mraise\u001b[39;00m \u001b[38;5;167;01mStopIteration\u001b[39;00m \u001b[38;5;28;01mfrom\u001b[39;00m \u001b[38;5;28;01mNone\u001b[39;00m\n\u001b[0;32m--> 858\u001b[0m \u001b[38;5;28;43mself\u001b[39;49m\u001b[38;5;241;43m.\u001b[39;49m\u001b[43m_cond\u001b[49m\u001b[38;5;241;43m.\u001b[39;49m\u001b[43mwait\u001b[49m\u001b[43m(\u001b[49m\u001b[43mtimeout\u001b[49m\u001b[43m)\u001b[49m\n\u001b[1;32m    859\u001b[0m \u001b[38;5;28;01mtry\u001b[39;00m:\n\u001b[1;32m    860\u001b[0m     item \u001b[38;5;241m=\u001b[39m \u001b[38;5;28mself\u001b[39m\u001b[38;5;241m.\u001b[39m_items\u001b[38;5;241m.\u001b[39mpopleft()\n",
      "File \u001b[0;32m/Library/Frameworks/Python.framework/Versions/3.9/lib/python3.9/threading.py:312\u001b[0m, in \u001b[0;36mCondition.wait\u001b[0;34m(self, timeout)\u001b[0m\n\u001b[1;32m    310\u001b[0m \u001b[38;5;28;01mtry\u001b[39;00m:    \u001b[38;5;66;03m# restore state no matter what (e.g., KeyboardInterrupt)\u001b[39;00m\n\u001b[1;32m    311\u001b[0m     \u001b[38;5;28;01mif\u001b[39;00m timeout \u001b[38;5;129;01mis\u001b[39;00m \u001b[38;5;28;01mNone\u001b[39;00m:\n\u001b[0;32m--> 312\u001b[0m         \u001b[43mwaiter\u001b[49m\u001b[38;5;241;43m.\u001b[39;49m\u001b[43macquire\u001b[49m\u001b[43m(\u001b[49m\u001b[43m)\u001b[49m\n\u001b[1;32m    313\u001b[0m         gotit \u001b[38;5;241m=\u001b[39m \u001b[38;5;28;01mTrue\u001b[39;00m\n\u001b[1;32m    314\u001b[0m     \u001b[38;5;28;01melse\u001b[39;00m:\n",
      "\u001b[0;31mKeyboardInterrupt\u001b[0m: "
     ]
    }
   ],
   "source": [
    "#generating new simulation data for new expressions\n",
    "\n",
    "new_alpha_list = [ace.generate_alpha(x, region= \"USA\", universe = \"TOP3000\",) for x in new_expression_list]\n",
    "\n",
    "new_result = ace.simulate_alpha_list_multi(s, new_alpha_list)"
   ]
  },
  {
   "cell_type": "code",
   "execution_count": null,
   "metadata": {},
   "outputs": [
    {
     "data": {
      "text/html": [
       "<div>\n",
       "<style scoped>\n",
       "    .dataframe tbody tr th:only-of-type {\n",
       "        vertical-align: middle;\n",
       "    }\n",
       "\n",
       "    .dataframe tbody tr th {\n",
       "        vertical-align: top;\n",
       "    }\n",
       "\n",
       "    .dataframe thead th {\n",
       "        text-align: right;\n",
       "    }\n",
       "</style>\n",
       "<table border=\"1\" class=\"dataframe\">\n",
       "  <thead>\n",
       "    <tr style=\"text-align: right;\">\n",
       "      <th></th>\n",
       "      <th>pnl</th>\n",
       "      <th>book_size</th>\n",
       "      <th>long_count</th>\n",
       "      <th>short_count</th>\n",
       "      <th>turnover</th>\n",
       "      <th>returns</th>\n",
       "      <th>drawdown</th>\n",
       "      <th>margin</th>\n",
       "      <th>fitness</th>\n",
       "      <th>sharpe</th>\n",
       "      <th>...</th>\n",
       "      <th>expression</th>\n",
       "      <th>concentrated_weight</th>\n",
       "      <th>high_turnover</th>\n",
       "      <th>is_ladder_sharpe</th>\n",
       "      <th>low_fitness</th>\n",
       "      <th>low_sharpe</th>\n",
       "      <th>low_sub_universe_sharpe</th>\n",
       "      <th>low_turnover</th>\n",
       "      <th>matches_competition</th>\n",
       "      <th>matches_themes</th>\n",
       "    </tr>\n",
       "  </thead>\n",
       "  <tbody>\n",
       "    <tr>\n",
       "      <th>0</th>\n",
       "      <td>408140</td>\n",
       "      <td>20000000</td>\n",
       "      <td>107</td>\n",
       "      <td>0</td>\n",
       "      <td>0.5000</td>\n",
       "      <td>2.5509</td>\n",
       "      <td>0.0254</td>\n",
       "      <td>0.010204</td>\n",
       "      <td>11.23</td>\n",
       "      <td>4.97</td>\n",
       "      <td>...</td>\n",
       "      <td>group_rank(ts_skewness(vec_avg(nws17_d1_event_...</td>\n",
       "      <td>FAIL</td>\n",
       "      <td>PASS</td>\n",
       "      <td>FAIL</td>\n",
       "      <td>PASS</td>\n",
       "      <td>PASS</td>\n",
       "      <td>FAIL</td>\n",
       "      <td>PASS</td>\n",
       "      <td>WARNING</td>\n",
       "      <td>WARNING</td>\n",
       "    </tr>\n",
       "    <tr>\n",
       "      <th>1</th>\n",
       "      <td>420984</td>\n",
       "      <td>20000000</td>\n",
       "      <td>0</td>\n",
       "      <td>1</td>\n",
       "      <td>0.1667</td>\n",
       "      <td>0.8771</td>\n",
       "      <td>0.0219</td>\n",
       "      <td>0.010525</td>\n",
       "      <td>9.82</td>\n",
       "      <td>4.28</td>\n",
       "      <td>...</td>\n",
       "      <td>group_rank(ts_skewness(vec_avg(fnd14_td_nve_cn...</td>\n",
       "      <td>FAIL</td>\n",
       "      <td>PASS</td>\n",
       "      <td>FAIL</td>\n",
       "      <td>PASS</td>\n",
       "      <td>PASS</td>\n",
       "      <td>ERROR</td>\n",
       "      <td>PASS</td>\n",
       "      <td>WARNING</td>\n",
       "      <td>WARNING</td>\n",
       "    </tr>\n",
       "    <tr>\n",
       "      <th>2</th>\n",
       "      <td>8829271</td>\n",
       "      <td>20000000</td>\n",
       "      <td>31</td>\n",
       "      <td>31</td>\n",
       "      <td>0.1211</td>\n",
       "      <td>0.2520</td>\n",
       "      <td>0.1800</td>\n",
       "      <td>0.004160</td>\n",
       "      <td>1.86</td>\n",
       "      <td>1.31</td>\n",
       "      <td>...</td>\n",
       "      <td>group_rank(ts_skewness(vec_avg(fnd14_mail_city...</td>\n",
       "      <td>FAIL</td>\n",
       "      <td>PASS</td>\n",
       "      <td>FAIL</td>\n",
       "      <td>PASS</td>\n",
       "      <td>FAIL</td>\n",
       "      <td>FAIL</td>\n",
       "      <td>PASS</td>\n",
       "      <td>WARNING</td>\n",
       "      <td>WARNING</td>\n",
       "    </tr>\n",
       "    <tr>\n",
       "      <th>3</th>\n",
       "      <td>10271130</td>\n",
       "      <td>20000000</td>\n",
       "      <td>16</td>\n",
       "      <td>15</td>\n",
       "      <td>0.1189</td>\n",
       "      <td>0.2935</td>\n",
       "      <td>0.2545</td>\n",
       "      <td>0.004938</td>\n",
       "      <td>1.81</td>\n",
       "      <td>1.18</td>\n",
       "      <td>...</td>\n",
       "      <td>group_rank(ts_skewness(vec_avg(fnd14_bus_count...</td>\n",
       "      <td>FAIL</td>\n",
       "      <td>PASS</td>\n",
       "      <td>FAIL</td>\n",
       "      <td>PASS</td>\n",
       "      <td>FAIL</td>\n",
       "      <td>FAIL</td>\n",
       "      <td>PASS</td>\n",
       "      <td>WARNING</td>\n",
       "      <td>WARNING</td>\n",
       "    </tr>\n",
       "    <tr>\n",
       "      <th>4</th>\n",
       "      <td>8562851</td>\n",
       "      <td>20000000</td>\n",
       "      <td>26</td>\n",
       "      <td>26</td>\n",
       "      <td>0.1191</td>\n",
       "      <td>0.2444</td>\n",
       "      <td>0.1651</td>\n",
       "      <td>0.004102</td>\n",
       "      <td>1.72</td>\n",
       "      <td>1.23</td>\n",
       "      <td>...</td>\n",
       "      <td>group_rank(ts_skewness(vec_avg(fnd14_bus_city)...</td>\n",
       "      <td>FAIL</td>\n",
       "      <td>PASS</td>\n",
       "      <td>FAIL</td>\n",
       "      <td>PASS</td>\n",
       "      <td>FAIL</td>\n",
       "      <td>FAIL</td>\n",
       "      <td>PASS</td>\n",
       "      <td>WARNING</td>\n",
       "      <td>WARNING</td>\n",
       "    </tr>\n",
       "    <tr>\n",
       "      <th>...</th>\n",
       "      <td>...</td>\n",
       "      <td>...</td>\n",
       "      <td>...</td>\n",
       "      <td>...</td>\n",
       "      <td>...</td>\n",
       "      <td>...</td>\n",
       "      <td>...</td>\n",
       "      <td>...</td>\n",
       "      <td>...</td>\n",
       "      <td>...</td>\n",
       "      <td>...</td>\n",
       "      <td>...</td>\n",
       "      <td>...</td>\n",
       "      <td>...</td>\n",
       "      <td>...</td>\n",
       "      <td>...</td>\n",
       "      <td>...</td>\n",
       "      <td>...</td>\n",
       "      <td>...</td>\n",
       "      <td>...</td>\n",
       "      <td>...</td>\n",
       "    </tr>\n",
       "    <tr>\n",
       "      <th>118</th>\n",
       "      <td>-1131232</td>\n",
       "      <td>20000000</td>\n",
       "      <td>1127</td>\n",
       "      <td>1121</td>\n",
       "      <td>0.0633</td>\n",
       "      <td>-0.0113</td>\n",
       "      <td>0.1456</td>\n",
       "      <td>-0.000358</td>\n",
       "      <td>-0.13</td>\n",
       "      <td>-0.42</td>\n",
       "      <td>...</td>\n",
       "      <td>group_rank(ts_skewness(vec_avg(nws17_d1_bee),1...</td>\n",
       "      <td>PASS</td>\n",
       "      <td>PASS</td>\n",
       "      <td>FAIL</td>\n",
       "      <td>FAIL</td>\n",
       "      <td>FAIL</td>\n",
       "      <td>FAIL</td>\n",
       "      <td>PASS</td>\n",
       "      <td>WARNING</td>\n",
       "      <td>WARNING</td>\n",
       "    </tr>\n",
       "    <tr>\n",
       "      <th>119</th>\n",
       "      <td>-1576360</td>\n",
       "      <td>20000000</td>\n",
       "      <td>1131</td>\n",
       "      <td>1123</td>\n",
       "      <td>0.0550</td>\n",
       "      <td>-0.0186</td>\n",
       "      <td>0.3112</td>\n",
       "      <td>-0.000678</td>\n",
       "      <td>-0.17</td>\n",
       "      <td>-0.45</td>\n",
       "      <td>...</td>\n",
       "      <td>group_rank(ts_skewness(vec_avg(pv64_dif_min_su...</td>\n",
       "      <td>PASS</td>\n",
       "      <td>PASS</td>\n",
       "      <td>FAIL</td>\n",
       "      <td>FAIL</td>\n",
       "      <td>FAIL</td>\n",
       "      <td>FAIL</td>\n",
       "      <td>PASS</td>\n",
       "      <td>WARNING</td>\n",
       "      <td>WARNING</td>\n",
       "    </tr>\n",
       "    <tr>\n",
       "      <th>120</th>\n",
       "      <td>-774695</td>\n",
       "      <td>20000000</td>\n",
       "      <td>957</td>\n",
       "      <td>939</td>\n",
       "      <td>0.0961</td>\n",
       "      <td>-0.0219</td>\n",
       "      <td>0.2095</td>\n",
       "      <td>-0.000455</td>\n",
       "      <td>-0.17</td>\n",
       "      <td>-0.40</td>\n",
       "      <td>...</td>\n",
       "      <td>group_rank(ts_skewness(vec_avg(fnd14_latestfy_...</td>\n",
       "      <td>PASS</td>\n",
       "      <td>PASS</td>\n",
       "      <td>FAIL</td>\n",
       "      <td>FAIL</td>\n",
       "      <td>FAIL</td>\n",
       "      <td>FAIL</td>\n",
       "      <td>PASS</td>\n",
       "      <td>WARNING</td>\n",
       "      <td>WARNING</td>\n",
       "    </tr>\n",
       "    <tr>\n",
       "      <th>121</th>\n",
       "      <td>-1607923</td>\n",
       "      <td>20000000</td>\n",
       "      <td>407</td>\n",
       "      <td>493</td>\n",
       "      <td>0.0639</td>\n",
       "      <td>-0.0186</td>\n",
       "      <td>0.1757</td>\n",
       "      <td>-0.000582</td>\n",
       "      <td>-0.22</td>\n",
       "      <td>-0.58</td>\n",
       "      <td>...</td>\n",
       "      <td>group_rank(ts_skewness(vec_avg(pv64_out_stal_f...</td>\n",
       "      <td>PASS</td>\n",
       "      <td>PASS</td>\n",
       "      <td>FAIL</td>\n",
       "      <td>FAIL</td>\n",
       "      <td>FAIL</td>\n",
       "      <td>FAIL</td>\n",
       "      <td>PASS</td>\n",
       "      <td>WARNING</td>\n",
       "      <td>WARNING</td>\n",
       "    </tr>\n",
       "    <tr>\n",
       "      <th>122</th>\n",
       "      <td>-2513008</td>\n",
       "      <td>20000000</td>\n",
       "      <td>544</td>\n",
       "      <td>810</td>\n",
       "      <td>0.0634</td>\n",
       "      <td>-0.0291</td>\n",
       "      <td>0.2932</td>\n",
       "      <td>-0.000917</td>\n",
       "      <td>-0.40</td>\n",
       "      <td>-0.83</td>\n",
       "      <td>...</td>\n",
       "      <td>group_rank(ts_skewness(vec_avg(pv64_out_stal_f...</td>\n",
       "      <td>FAIL</td>\n",
       "      <td>PASS</td>\n",
       "      <td>FAIL</td>\n",
       "      <td>FAIL</td>\n",
       "      <td>FAIL</td>\n",
       "      <td>FAIL</td>\n",
       "      <td>PASS</td>\n",
       "      <td>WARNING</td>\n",
       "      <td>WARNING</td>\n",
       "    </tr>\n",
       "  </tbody>\n",
       "</table>\n",
       "<p>123 rows × 22 columns</p>\n",
       "</div>"
      ],
      "text/plain": [
       "          pnl  book_size  long_count  short_count  turnover  returns  \\\n",
       "0      408140   20000000         107            0    0.5000   2.5509   \n",
       "1      420984   20000000           0            1    0.1667   0.8771   \n",
       "2     8829271   20000000          31           31    0.1211   0.2520   \n",
       "3    10271130   20000000          16           15    0.1189   0.2935   \n",
       "4     8562851   20000000          26           26    0.1191   0.2444   \n",
       "..        ...        ...         ...          ...       ...      ...   \n",
       "118  -1131232   20000000        1127         1121    0.0633  -0.0113   \n",
       "119  -1576360   20000000        1131         1123    0.0550  -0.0186   \n",
       "120   -774695   20000000         957          939    0.0961  -0.0219   \n",
       "121  -1607923   20000000         407          493    0.0639  -0.0186   \n",
       "122  -2513008   20000000         544          810    0.0634  -0.0291   \n",
       "\n",
       "     drawdown    margin  fitness  sharpe  ...  \\\n",
       "0      0.0254  0.010204    11.23    4.97  ...   \n",
       "1      0.0219  0.010525     9.82    4.28  ...   \n",
       "2      0.1800  0.004160     1.86    1.31  ...   \n",
       "3      0.2545  0.004938     1.81    1.18  ...   \n",
       "4      0.1651  0.004102     1.72    1.23  ...   \n",
       "..        ...       ...      ...     ...  ...   \n",
       "118    0.1456 -0.000358    -0.13   -0.42  ...   \n",
       "119    0.3112 -0.000678    -0.17   -0.45  ...   \n",
       "120    0.2095 -0.000455    -0.17   -0.40  ...   \n",
       "121    0.1757 -0.000582    -0.22   -0.58  ...   \n",
       "122    0.2932 -0.000917    -0.40   -0.83  ...   \n",
       "\n",
       "                                            expression concentrated_weight  \\\n",
       "0    group_rank(ts_skewness(vec_avg(nws17_d1_event_...                FAIL   \n",
       "1    group_rank(ts_skewness(vec_avg(fnd14_td_nve_cn...                FAIL   \n",
       "2    group_rank(ts_skewness(vec_avg(fnd14_mail_city...                FAIL   \n",
       "3    group_rank(ts_skewness(vec_avg(fnd14_bus_count...                FAIL   \n",
       "4    group_rank(ts_skewness(vec_avg(fnd14_bus_city)...                FAIL   \n",
       "..                                                 ...                 ...   \n",
       "118  group_rank(ts_skewness(vec_avg(nws17_d1_bee),1...                PASS   \n",
       "119  group_rank(ts_skewness(vec_avg(pv64_dif_min_su...                PASS   \n",
       "120  group_rank(ts_skewness(vec_avg(fnd14_latestfy_...                PASS   \n",
       "121  group_rank(ts_skewness(vec_avg(pv64_out_stal_f...                PASS   \n",
       "122  group_rank(ts_skewness(vec_avg(pv64_out_stal_f...                FAIL   \n",
       "\n",
       "    high_turnover is_ladder_sharpe low_fitness low_sharpe  \\\n",
       "0            PASS             FAIL        PASS       PASS   \n",
       "1            PASS             FAIL        PASS       PASS   \n",
       "2            PASS             FAIL        PASS       FAIL   \n",
       "3            PASS             FAIL        PASS       FAIL   \n",
       "4            PASS             FAIL        PASS       FAIL   \n",
       "..            ...              ...         ...        ...   \n",
       "118          PASS             FAIL        FAIL       FAIL   \n",
       "119          PASS             FAIL        FAIL       FAIL   \n",
       "120          PASS             FAIL        FAIL       FAIL   \n",
       "121          PASS             FAIL        FAIL       FAIL   \n",
       "122          PASS             FAIL        FAIL       FAIL   \n",
       "\n",
       "    low_sub_universe_sharpe low_turnover matches_competition matches_themes  \n",
       "0                      FAIL         PASS             WARNING        WARNING  \n",
       "1                     ERROR         PASS             WARNING        WARNING  \n",
       "2                      FAIL         PASS             WARNING        WARNING  \n",
       "3                      FAIL         PASS             WARNING        WARNING  \n",
       "4                      FAIL         PASS             WARNING        WARNING  \n",
       "..                      ...          ...                 ...            ...  \n",
       "118                    FAIL         PASS             WARNING        WARNING  \n",
       "119                    FAIL         PASS             WARNING        WARNING  \n",
       "120                    FAIL         PASS             WARNING        WARNING  \n",
       "121                    FAIL         PASS             WARNING        WARNING  \n",
       "122                    FAIL         PASS             WARNING        WARNING  \n",
       "\n",
       "[123 rows x 22 columns]"
      ]
     },
     "execution_count": 19,
     "metadata": {},
     "output_type": "execute_result"
    }
   ],
   "source": [
    "result_st2 = hf.prettify_result(new_result, clickable_alpha_id=False)\n",
    "result_st2"
   ]
  },
  {
   "cell_type": "code",
   "execution_count": null,
   "metadata": {},
   "outputs": [
    {
     "data": {
      "text/html": [
       "<style type=\"text/css\">\n",
       "</style>\n",
       "<table id=\"T_da20f\">\n",
       "  <thead>\n",
       "    <tr>\n",
       "      <th class=\"blank level0\" >&nbsp;</th>\n",
       "      <th id=\"T_da20f_level0_col0\" class=\"col_heading level0 col0\" >fitness_before</th>\n",
       "      <th id=\"T_da20f_level0_col1\" class=\"col_heading level0 col1\" >fitness_after</th>\n",
       "      <th id=\"T_da20f_level0_col2\" class=\"col_heading level0 col2\" >sharpe_before</th>\n",
       "      <th id=\"T_da20f_level0_col3\" class=\"col_heading level0 col3\" >sharpe_after</th>\n",
       "      <th id=\"T_da20f_level0_col4\" class=\"col_heading level0 col4\" >alpha_id_before</th>\n",
       "      <th id=\"T_da20f_level0_col5\" class=\"col_heading level0 col5\" >alpha_id_after</th>\n",
       "      <th id=\"T_da20f_level0_col6\" class=\"col_heading level0 col6\" >expression_before</th>\n",
       "      <th id=\"T_da20f_level0_col7\" class=\"col_heading level0 col7\" >expression_after</th>\n",
       "    </tr>\n",
       "  </thead>\n",
       "  <tbody>\n",
       "    <tr>\n",
       "      <th id=\"T_da20f_level0_row0\" class=\"row_heading level0 row0\" >0</th>\n",
       "      <td id=\"T_da20f_row0_col0\" class=\"data row0 col0\" >11.230000</td>\n",
       "      <td id=\"T_da20f_row0_col1\" class=\"data row0 col1\" >11.230000</td>\n",
       "      <td id=\"T_da20f_row0_col2\" class=\"data row0 col2\" >4.970000</td>\n",
       "      <td id=\"T_da20f_row0_col3\" class=\"data row0 col3\" >4.970000</td>\n",
       "      <td id=\"T_da20f_row0_col4\" class=\"data row0 col4\" ><a href=\"https://platform.worldquantbrain.com/alpha/g1YNX0l\">g1YNX0l</a></td>\n",
       "      <td id=\"T_da20f_row0_col5\" class=\"data row0 col5\" ><a href=\"https://platform.worldquantbrain.com/alpha/lVdV9RO\">lVdV9RO</a></td>\n",
       "      <td id=\"T_da20f_row0_col6\" class=\"data row0 col6\" >ts_skewness(vec_avg(nws17_d1_event_text),120)</td>\n",
       "      <td id=\"T_da20f_row0_col7\" class=\"data row0 col7\" >group_rank(ts_skewness(vec_avg(nws17_d1_event_text),120),sector)</td>\n",
       "    </tr>\n",
       "    <tr>\n",
       "      <th id=\"T_da20f_level0_row1\" class=\"row_heading level0 row1\" >1</th>\n",
       "      <td id=\"T_da20f_row1_col0\" class=\"data row1 col0\" >9.820000</td>\n",
       "      <td id=\"T_da20f_row1_col1\" class=\"data row1 col1\" >9.820000</td>\n",
       "      <td id=\"T_da20f_row1_col2\" class=\"data row1 col2\" >4.280000</td>\n",
       "      <td id=\"T_da20f_row1_col3\" class=\"data row1 col3\" >4.280000</td>\n",
       "      <td id=\"T_da20f_row1_col4\" class=\"data row1 col4\" ><a href=\"https://platform.worldquantbrain.com/alpha/8zmWRYX\">8zmWRYX</a></td>\n",
       "      <td id=\"T_da20f_row1_col5\" class=\"data row1 col5\" ><a href=\"https://platform.worldquantbrain.com/alpha/27M7WnZ\">27M7WnZ</a></td>\n",
       "      <td id=\"T_da20f_row1_col6\" class=\"data row1 col6\" >ts_skewness(vec_avg(fnd14_td_nve_cns_tda_rpr_tsl),120)</td>\n",
       "      <td id=\"T_da20f_row1_col7\" class=\"data row1 col7\" >group_rank(ts_skewness(vec_avg(fnd14_td_nve_cns_tda_rpr_tsl),120),sector)</td>\n",
       "    </tr>\n",
       "    <tr>\n",
       "      <th id=\"T_da20f_level0_row2\" class=\"row_heading level0 row2\" >2</th>\n",
       "      <td id=\"T_da20f_row2_col0\" class=\"data row2 col0\" >3.420000</td>\n",
       "      <td id=\"T_da20f_row2_col1\" class=\"data row2 col1\" >1.250000</td>\n",
       "      <td id=\"T_da20f_row2_col2\" class=\"data row2 col2\" >1.570000</td>\n",
       "      <td id=\"T_da20f_row2_col3\" class=\"data row2 col3\" >0.870000</td>\n",
       "      <td id=\"T_da20f_row2_col4\" class=\"data row2 col4\" ><a href=\"https://platform.worldquantbrain.com/alpha/wR87RY5\">wR87RY5</a></td>\n",
       "      <td id=\"T_da20f_row2_col5\" class=\"data row2 col5\" ><a href=\"https://platform.worldquantbrain.com/alpha/qA8A3mP\">qA8A3mP</a></td>\n",
       "      <td id=\"T_da20f_row2_col6\" class=\"data row2 col6\" >ts_skewness(vec_avg(fnd14_bus_state),120)</td>\n",
       "      <td id=\"T_da20f_row2_col7\" class=\"data row2 col7\" >group_rank(ts_skewness(vec_avg(fnd14_bus_state),120),sector)</td>\n",
       "    </tr>\n",
       "    <tr>\n",
       "      <th id=\"T_da20f_level0_row3\" class=\"row_heading level0 row3\" >3</th>\n",
       "      <td id=\"T_da20f_row3_col0\" class=\"data row3 col0\" >3.380000</td>\n",
       "      <td id=\"T_da20f_row3_col1\" class=\"data row3 col1\" >1.270000</td>\n",
       "      <td id=\"T_da20f_row3_col2\" class=\"data row3 col2\" >1.560000</td>\n",
       "      <td id=\"T_da20f_row3_col3\" class=\"data row3 col3\" >0.880000</td>\n",
       "      <td id=\"T_da20f_row3_col4\" class=\"data row3 col4\" ><a href=\"https://platform.worldquantbrain.com/alpha/dx2JOPj\">dx2JOPj</a></td>\n",
       "      <td id=\"T_da20f_row3_col5\" class=\"data row3 col5\" ><a href=\"https://platform.worldquantbrain.com/alpha/Ew1wLY0\">Ew1wLY0</a></td>\n",
       "      <td id=\"T_da20f_row3_col6\" class=\"data row3 col6\" >ts_skewness(vec_avg(fnd14_loc_state),120)</td>\n",
       "      <td id=\"T_da20f_row3_col7\" class=\"data row3 col7\" >group_rank(ts_skewness(vec_avg(fnd14_loc_state),120),sector)</td>\n",
       "    </tr>\n",
       "    <tr>\n",
       "      <th id=\"T_da20f_level0_row4\" class=\"row_heading level0 row4\" >4</th>\n",
       "      <td id=\"T_da20f_row4_col0\" class=\"data row4 col0\" >1.150000</td>\n",
       "      <td id=\"T_da20f_row4_col1\" class=\"data row4 col1\" >0.870000</td>\n",
       "      <td id=\"T_da20f_row4_col2\" class=\"data row4 col2\" >1.560000</td>\n",
       "      <td id=\"T_da20f_row4_col3\" class=\"data row4 col3\" >1.340000</td>\n",
       "      <td id=\"T_da20f_row4_col4\" class=\"data row4 col4\" ><a href=\"https://platform.worldquantbrain.com/alpha/OpOjZPb\">OpOjZPb</a></td>\n",
       "      <td id=\"T_da20f_row4_col5\" class=\"data row4 col5\" ><a href=\"https://platform.worldquantbrain.com/alpha/g16VgRQ\">g16VgRQ</a></td>\n",
       "      <td id=\"T_da20f_row4_col6\" class=\"data row4 col6\" >ts_skewness(vec_avg(pv64_cins_dif_rcode),120)</td>\n",
       "      <td id=\"T_da20f_row4_col7\" class=\"data row4 col7\" >group_rank(ts_skewness(vec_avg(pv64_cins_dif_rcode),120),sector)</td>\n",
       "    </tr>\n",
       "    <tr>\n",
       "      <th id=\"T_da20f_level0_row5\" class=\"row_heading level0 row5\" >5</th>\n",
       "      <td id=\"T_da20f_row5_col0\" class=\"data row5 col0\" >3.360000</td>\n",
       "      <td id=\"T_da20f_row5_col1\" class=\"data row5 col1\" >1.170000</td>\n",
       "      <td id=\"T_da20f_row5_col2\" class=\"data row5 col2\" >1.550000</td>\n",
       "      <td id=\"T_da20f_row5_col3\" class=\"data row5 col3\" >0.830000</td>\n",
       "      <td id=\"T_da20f_row5_col4\" class=\"data row5 col4\" ><a href=\"https://platform.worldquantbrain.com/alpha/bLY0LxM\">bLY0LxM</a></td>\n",
       "      <td id=\"T_da20f_row5_col5\" class=\"data row5 col5\" ><a href=\"https://platform.worldquantbrain.com/alpha/17e7P1J\">17e7P1J</a></td>\n",
       "      <td id=\"T_da20f_row5_col6\" class=\"data row5 col6\" >ts_skewness(vec_avg(fnd14_bus_state_name),120)</td>\n",
       "      <td id=\"T_da20f_row5_col7\" class=\"data row5 col7\" >group_rank(ts_skewness(vec_avg(fnd14_bus_state_name),120),sector)</td>\n",
       "    </tr>\n",
       "    <tr>\n",
       "      <th id=\"T_da20f_level0_row6\" class=\"row_heading level0 row6\" >6</th>\n",
       "      <td id=\"T_da20f_row6_col0\" class=\"data row6 col0\" >3.350000</td>\n",
       "      <td id=\"T_da20f_row6_col1\" class=\"data row6 col1\" >1.180000</td>\n",
       "      <td id=\"T_da20f_row6_col2\" class=\"data row6 col2\" >1.550000</td>\n",
       "      <td id=\"T_da20f_row6_col3\" class=\"data row6 col3\" >0.840000</td>\n",
       "      <td id=\"T_da20f_row6_col4\" class=\"data row6 col4\" ><a href=\"https://platform.worldquantbrain.com/alpha/ro1a5w1\">ro1a5w1</a></td>\n",
       "      <td id=\"T_da20f_row6_col5\" class=\"data row6 col5\" ><a href=\"https://platform.worldquantbrain.com/alpha/eOmOvgN\">eOmOvgN</a></td>\n",
       "      <td id=\"T_da20f_row6_col6\" class=\"data row6 col6\" >ts_skewness(vec_avg(fnd14_loc_state_name),120)</td>\n",
       "      <td id=\"T_da20f_row6_col7\" class=\"data row6 col7\" >group_rank(ts_skewness(vec_avg(fnd14_loc_state_name),120),sector)</td>\n",
       "    </tr>\n",
       "    <tr>\n",
       "      <th id=\"T_da20f_level0_row7\" class=\"row_heading level0 row7\" >7</th>\n",
       "      <td id=\"T_da20f_row7_col0\" class=\"data row7 col0\" >1.840000</td>\n",
       "      <td id=\"T_da20f_row7_col1\" class=\"data row7 col1\" >1.510000</td>\n",
       "      <td id=\"T_da20f_row7_col2\" class=\"data row7 col2\" >1.310000</td>\n",
       "      <td id=\"T_da20f_row7_col3\" class=\"data row7 col3\" >1.140000</td>\n",
       "      <td id=\"T_da20f_row7_col4\" class=\"data row7 col4\" ><a href=\"https://platform.worldquantbrain.com/alpha/5wxd0r5\">5wxd0r5</a></td>\n",
       "      <td id=\"T_da20f_row7_col5\" class=\"data row7 col5\" ><a href=\"https://platform.worldquantbrain.com/alpha/9wYOdNx\">9wYOdNx</a></td>\n",
       "      <td id=\"T_da20f_row7_col6\" class=\"data row7 col6\" >ts_skewness(vec_avg(pv64_out_stal_fund_ira_invest),120)</td>\n",
       "      <td id=\"T_da20f_row7_col7\" class=\"data row7 col7\" >group_rank(ts_skewness(vec_avg(pv64_out_stal_fund_ira_invest),120),sector)</td>\n",
       "    </tr>\n",
       "    <tr>\n",
       "      <th id=\"T_da20f_level0_row8\" class=\"row_heading level0 row8\" >8</th>\n",
       "      <td id=\"T_da20f_row8_col0\" class=\"data row8 col0\" >1.560000</td>\n",
       "      <td id=\"T_da20f_row8_col1\" class=\"data row8 col1\" >1.810000</td>\n",
       "      <td id=\"T_da20f_row8_col2\" class=\"data row8 col2\" >1.110000</td>\n",
       "      <td id=\"T_da20f_row8_col3\" class=\"data row8 col3\" >1.180000</td>\n",
       "      <td id=\"T_da20f_row8_col4\" class=\"data row8 col4\" ><a href=\"https://platform.worldquantbrain.com/alpha/oK1jK6b\">oK1jK6b</a></td>\n",
       "      <td id=\"T_da20f_row8_col5\" class=\"data row8 col5\" ><a href=\"https://platform.worldquantbrain.com/alpha/eOmOvLz\">eOmOvLz</a></td>\n",
       "      <td id=\"T_da20f_row8_col6\" class=\"data row8 col6\" >ts_skewness(vec_avg(fnd14_bus_county_name),120)</td>\n",
       "      <td id=\"T_da20f_row8_col7\" class=\"data row8 col7\" >group_rank(ts_skewness(vec_avg(fnd14_bus_county_name),120),sector)</td>\n",
       "    </tr>\n",
       "    <tr>\n",
       "      <th id=\"T_da20f_level0_row9\" class=\"row_heading level0 row9\" >9</th>\n",
       "      <td id=\"T_da20f_row9_col0\" class=\"data row9 col0\" >1.160000</td>\n",
       "      <td id=\"T_da20f_row9_col1\" class=\"data row9 col1\" >1.860000</td>\n",
       "      <td id=\"T_da20f_row9_col2\" class=\"data row9 col2\" >1.050000</td>\n",
       "      <td id=\"T_da20f_row9_col3\" class=\"data row9 col3\" >1.310000</td>\n",
       "      <td id=\"T_da20f_row9_col4\" class=\"data row9 col4\" ><a href=\"https://platform.worldquantbrain.com/alpha/qAK20bO\">qAK20bO</a></td>\n",
       "      <td id=\"T_da20f_row9_col5\" class=\"data row9 col5\" ><a href=\"https://platform.worldquantbrain.com/alpha/wRqRPL2\">wRqRPL2</a></td>\n",
       "      <td id=\"T_da20f_row9_col6\" class=\"data row9 col6\" >ts_skewness(vec_avg(fnd14_mail_city),120)</td>\n",
       "      <td id=\"T_da20f_row9_col7\" class=\"data row9 col7\" >group_rank(ts_skewness(vec_avg(fnd14_mail_city),120),sector)</td>\n",
       "    </tr>\n",
       "    <tr>\n",
       "      <th id=\"T_da20f_level0_row10\" class=\"row_heading level0 row10\" >10</th>\n",
       "      <td id=\"T_da20f_row10_col0\" class=\"data row10 col0\" >0.670000</td>\n",
       "      <td id=\"T_da20f_row10_col1\" class=\"data row10 col1\" >0.450000</td>\n",
       "      <td id=\"T_da20f_row10_col2\" class=\"data row10 col2\" >1.010000</td>\n",
       "      <td id=\"T_da20f_row10_col3\" class=\"data row10 col3\" >0.890000</td>\n",
       "      <td id=\"T_da20f_row10_col4\" class=\"data row10 col4\" ><a href=\"https://platform.worldquantbrain.com/alpha/LpWYqzm\">LpWYqzm</a></td>\n",
       "      <td id=\"T_da20f_row10_col5\" class=\"data row10 col5\" ><a href=\"https://platform.worldquantbrain.com/alpha/Zp6vzbY\">Zp6vzbY</a></td>\n",
       "      <td id=\"T_da20f_row10_col6\" class=\"data row10 col6\" >ts_skewness(vec_avg(pv64_px_stal_px_ask),120)</td>\n",
       "      <td id=\"T_da20f_row10_col7\" class=\"data row10 col7\" >group_rank(ts_skewness(vec_avg(pv64_px_stal_px_ask),120),sector)</td>\n",
       "    </tr>\n",
       "    <tr>\n",
       "      <th id=\"T_da20f_level0_row11\" class=\"row_heading level0 row11\" >11</th>\n",
       "      <td id=\"T_da20f_row11_col0\" class=\"data row11 col0\" >0.450000</td>\n",
       "      <td id=\"T_da20f_row11_col1\" class=\"data row11 col1\" >0.460000</td>\n",
       "      <td id=\"T_da20f_row11_col2\" class=\"data row11 col2\" >1.010000</td>\n",
       "      <td id=\"T_da20f_row11_col3\" class=\"data row11 col3\" >1.030000</td>\n",
       "      <td id=\"T_da20f_row11_col4\" class=\"data row11 col4\" ><a href=\"https://platform.worldquantbrain.com/alpha/k3xw7EK\">k3xw7EK</a></td>\n",
       "      <td id=\"T_da20f_row11_col5\" class=\"data row11 col5\" ><a href=\"https://platform.worldquantbrain.com/alpha/qA8A3g2\">qA8A3g2</a></td>\n",
       "      <td id=\"T_da20f_row11_col6\" class=\"data row11 col6\" >ts_skewness(vec_avg(mws50_ghc_lna),120)</td>\n",
       "      <td id=\"T_da20f_row11_col7\" class=\"data row11 col7\" >group_rank(ts_skewness(vec_avg(mws50_ghc_lna),120),sector)</td>\n",
       "    </tr>\n",
       "    <tr>\n",
       "      <th id=\"T_da20f_level0_row12\" class=\"row_heading level0 row12\" >12</th>\n",
       "      <td id=\"T_da20f_row12_col0\" class=\"data row12 col0\" >1.450000</td>\n",
       "      <td id=\"T_da20f_row12_col1\" class=\"data row12 col1\" >0.620000</td>\n",
       "      <td id=\"T_da20f_row12_col2\" class=\"data row12 col2\" >0.990000</td>\n",
       "      <td id=\"T_da20f_row12_col3\" class=\"data row12 col3\" >0.990000</td>\n",
       "      <td id=\"T_da20f_row12_col4\" class=\"data row12 col4\" ><a href=\"https://platform.worldquantbrain.com/alpha/37MmleN\">37MmleN</a></td>\n",
       "      <td id=\"T_da20f_row12_col5\" class=\"data row12 col5\" ><a href=\"https://platform.worldquantbrain.com/alpha/Yp6pJ9J\">Yp6pJ9J</a></td>\n",
       "      <td id=\"T_da20f_row12_col6\" class=\"data row12 col6\" >ts_skewness(vec_avg(fnd14_latest_tax_fees_sum),120)</td>\n",
       "      <td id=\"T_da20f_row12_col7\" class=\"data row12 col7\" >group_rank(ts_skewness(vec_avg(fnd14_latest_tax_fees_sum),120),sector)</td>\n",
       "    </tr>\n",
       "    <tr>\n",
       "      <th id=\"T_da20f_level0_row13\" class=\"row_heading level0 row13\" >13</th>\n",
       "      <td id=\"T_da20f_row13_col0\" class=\"data row13 col0\" >1.330000</td>\n",
       "      <td id=\"T_da20f_row13_col1\" class=\"data row13 col1\" >1.050000</td>\n",
       "      <td id=\"T_da20f_row13_col2\" class=\"data row13 col2\" >0.990000</td>\n",
       "      <td id=\"T_da20f_row13_col3\" class=\"data row13 col3\" >0.790000</td>\n",
       "      <td id=\"T_da20f_row13_col4\" class=\"data row13 col4\" ><a href=\"https://platform.worldquantbrain.com/alpha/JpVaQmA\">JpVaQmA</a></td>\n",
       "      <td id=\"T_da20f_row13_col5\" class=\"data row13 col5\" ><a href=\"https://platform.worldquantbrain.com/alpha/roYoVno\">roYoVno</a></td>\n",
       "      <td id=\"T_da20f_row13_col6\" class=\"data row13 col6\" >ts_skewness(vec_avg(fnd14_mail_state),120)</td>\n",
       "      <td id=\"T_da20f_row13_col7\" class=\"data row13 col7\" >group_rank(ts_skewness(vec_avg(fnd14_mail_state),120),sector)</td>\n",
       "    </tr>\n",
       "    <tr>\n",
       "      <th id=\"T_da20f_level0_row14\" class=\"row_heading level0 row14\" >14</th>\n",
       "      <td id=\"T_da20f_row14_col0\" class=\"data row14 col0\" >1.090000</td>\n",
       "      <td id=\"T_da20f_row14_col1\" class=\"data row14 col1\" >1.720000</td>\n",
       "      <td id=\"T_da20f_row14_col2\" class=\"data row14 col2\" >0.980000</td>\n",
       "      <td id=\"T_da20f_row14_col3\" class=\"data row14 col3\" >1.230000</td>\n",
       "      <td id=\"T_da20f_row14_col4\" class=\"data row14 col4\" ><a href=\"https://platform.worldquantbrain.com/alpha/z9v79Y8\">z9v79Y8</a></td>\n",
       "      <td id=\"T_da20f_row14_col5\" class=\"data row14 col5\" ><a href=\"https://platform.worldquantbrain.com/alpha/qA8A3p1\">qA8A3p1</a></td>\n",
       "      <td id=\"T_da20f_row14_col6\" class=\"data row14 col6\" >ts_skewness(vec_avg(fnd14_bus_city),120)</td>\n",
       "      <td id=\"T_da20f_row14_col7\" class=\"data row14 col7\" >group_rank(ts_skewness(vec_avg(fnd14_bus_city),120),sector)</td>\n",
       "    </tr>\n",
       "    <tr>\n",
       "      <th id=\"T_da20f_level0_row15\" class=\"row_heading level0 row15\" >15</th>\n",
       "      <td id=\"T_da20f_row15_col0\" class=\"data row15 col0\" >1.300000</td>\n",
       "      <td id=\"T_da20f_row15_col1\" class=\"data row15 col1\" >0.970000</td>\n",
       "      <td id=\"T_da20f_row15_col2\" class=\"data row15 col2\" >0.970000</td>\n",
       "      <td id=\"T_da20f_row15_col3\" class=\"data row15 col3\" >0.750000</td>\n",
       "      <td id=\"T_da20f_row15_col4\" class=\"data row15 col4\" ><a href=\"https://platform.worldquantbrain.com/alpha/GwqjO8J\">GwqjO8J</a></td>\n",
       "      <td id=\"T_da20f_row15_col5\" class=\"data row15 col5\" ><a href=\"https://platform.worldquantbrain.com/alpha/ad6dGr9\">ad6dGr9</a></td>\n",
       "      <td id=\"T_da20f_row15_col6\" class=\"data row15 col6\" >ts_skewness(vec_avg(fnd14_mail_state_name),120)</td>\n",
       "      <td id=\"T_da20f_row15_col7\" class=\"data row15 col7\" >group_rank(ts_skewness(vec_avg(fnd14_mail_state_name),120),sector)</td>\n",
       "    </tr>\n",
       "    <tr>\n",
       "      <th id=\"T_da20f_level0_row16\" class=\"row_heading level0 row16\" >16</th>\n",
       "      <td id=\"T_da20f_row16_col0\" class=\"data row16 col0\" >1.290000</td>\n",
       "      <td id=\"T_da20f_row16_col1\" class=\"data row16 col1\" >0.750000</td>\n",
       "      <td id=\"T_da20f_row16_col2\" class=\"data row16 col2\" >0.920000</td>\n",
       "      <td id=\"T_da20f_row16_col3\" class=\"data row16 col3\" >0.640000</td>\n",
       "      <td id=\"T_da20f_row16_col4\" class=\"data row16 col4\" ><a href=\"https://platform.worldquantbrain.com/alpha/271V5Z8\">271V5Z8</a></td>\n",
       "      <td id=\"T_da20f_row16_col5\" class=\"data row16 col5\" ><a href=\"https://platform.worldquantbrain.com/alpha/dxpxv5X\">dxpxv5X</a></td>\n",
       "      <td id=\"T_da20f_row16_col6\" class=\"data row16 col6\" >ts_skewness(vec_avg(fnd14_ykf_ffa_tda_rpr_tsl),120)</td>\n",
       "      <td id=\"T_da20f_row16_col7\" class=\"data row16 col7\" >group_rank(ts_skewness(vec_avg(fnd14_ykf_ffa_tda_rpr_tsl),120),sector)</td>\n",
       "    </tr>\n",
       "    <tr>\n",
       "      <th id=\"T_da20f_level0_row17\" class=\"row_heading level0 row17\" >17</th>\n",
       "      <td id=\"T_da20f_row17_col0\" class=\"data row17 col0\" >0.540000</td>\n",
       "      <td id=\"T_da20f_row17_col1\" class=\"data row17 col1\" >0.430000</td>\n",
       "      <td id=\"T_da20f_row17_col2\" class=\"data row17 col2\" >0.920000</td>\n",
       "      <td id=\"T_da20f_row17_col3\" class=\"data row17 col3\" >0.870000</td>\n",
       "      <td id=\"T_da20f_row17_col4\" class=\"data row17 col4\" ><a href=\"https://platform.worldquantbrain.com/alpha/Zp6vqz8\">Zp6vqz8</a></td>\n",
       "      <td id=\"T_da20f_row17_col5\" class=\"data row17 col5\" ><a href=\"https://platform.worldquantbrain.com/alpha/QaMpzRK\">QaMpzRK</a></td>\n",
       "      <td id=\"T_da20f_row17_col6\" class=\"data row17 col6\" >ts_skewness(vec_avg(pv64_px_stal_px_eval),120)</td>\n",
       "      <td id=\"T_da20f_row17_col7\" class=\"data row17 col7\" >group_rank(ts_skewness(vec_avg(pv64_px_stal_px_eval),120),sector)</td>\n",
       "    </tr>\n",
       "    <tr>\n",
       "      <th id=\"T_da20f_level0_row18\" class=\"row_heading level0 row18\" >18</th>\n",
       "      <td id=\"T_da20f_row18_col0\" class=\"data row18 col0\" >0.550000</td>\n",
       "      <td id=\"T_da20f_row18_col1\" class=\"data row18 col1\" >0.550000</td>\n",
       "      <td id=\"T_da20f_row18_col2\" class=\"data row18 col2\" >0.880000</td>\n",
       "      <td id=\"T_da20f_row18_col3\" class=\"data row18 col3\" >0.940000</td>\n",
       "      <td id=\"T_da20f_row18_col4\" class=\"data row18 col4\" ><a href=\"https://platform.worldquantbrain.com/alpha/g1YlAkO\">g1YlAkO</a></td>\n",
       "      <td id=\"T_da20f_row18_col5\" class=\"data row18 col5\" ><a href=\"https://platform.worldquantbrain.com/alpha/OpOpg0v\">OpOpg0v</a></td>\n",
       "      <td id=\"T_da20f_row18_col6\" class=\"data row18 col6\" >ts_skewness(vec_avg(mws50_g_ens_similarity_gap),120)</td>\n",
       "      <td id=\"T_da20f_row18_col7\" class=\"data row18 col7\" >group_rank(ts_skewness(vec_avg(mws50_g_ens_similarity_gap),120),sector)</td>\n",
       "    </tr>\n",
       "    <tr>\n",
       "      <th id=\"T_da20f_level0_row19\" class=\"row_heading level0 row19\" >19</th>\n",
       "      <td id=\"T_da20f_row19_col0\" class=\"data row19 col0\" >0.540000</td>\n",
       "      <td id=\"T_da20f_row19_col1\" class=\"data row19 col1\" >0.540000</td>\n",
       "      <td id=\"T_da20f_row19_col2\" class=\"data row19 col2\" >0.880000</td>\n",
       "      <td id=\"T_da20f_row19_col3\" class=\"data row19 col3\" >0.950000</td>\n",
       "      <td id=\"T_da20f_row19_col4\" class=\"data row19 col4\" ><a href=\"https://platform.worldquantbrain.com/alpha/07bVqw6\">07bVqw6</a></td>\n",
       "      <td id=\"T_da20f_row19_col5\" class=\"data row19 col5\" ><a href=\"https://platform.worldquantbrain.com/alpha/WpMp0vG\">WpMp0vG</a></td>\n",
       "      <td id=\"T_da20f_row19_col6\" class=\"data row19 col6\" >ts_skewness(vec_avg(mws50_ens_similarity_gap),120)</td>\n",
       "      <td id=\"T_da20f_row19_col7\" class=\"data row19 col7\" >group_rank(ts_skewness(vec_avg(mws50_ens_similarity_gap),120),sector)</td>\n",
       "    </tr>\n",
       "    <tr>\n",
       "      <th id=\"T_da20f_level0_row20\" class=\"row_heading level0 row20\" >20</th>\n",
       "      <td id=\"T_da20f_row20_col0\" class=\"data row20 col0\" >1.090000</td>\n",
       "      <td id=\"T_da20f_row20_col1\" class=\"data row20 col1\" >1.240000</td>\n",
       "      <td id=\"T_da20f_row20_col2\" class=\"data row20 col2\" >0.880000</td>\n",
       "      <td id=\"T_da20f_row20_col3\" class=\"data row20 col3\" >0.920000</td>\n",
       "      <td id=\"T_da20f_row20_col4\" class=\"data row20 col4\" ><a href=\"https://platform.worldquantbrain.com/alpha/6wn6KgP\">6wn6KgP</a></td>\n",
       "      <td id=\"T_da20f_row20_col5\" class=\"data row20 col5\" ><a href=\"https://platform.worldquantbrain.com/alpha/17e7Pr6\">17e7Pr6</a></td>\n",
       "      <td id=\"T_da20f_row20_col6\" class=\"data row20 col6\" >ts_skewness(vec_avg(fnd14_mail_county_name),120)</td>\n",
       "      <td id=\"T_da20f_row20_col7\" class=\"data row20 col7\" >group_rank(ts_skewness(vec_avg(fnd14_mail_county_name),120),sector)</td>\n",
       "    </tr>\n",
       "    <tr>\n",
       "      <th id=\"T_da20f_level0_row21\" class=\"row_heading level0 row21\" >21</th>\n",
       "      <td id=\"T_da20f_row21_col0\" class=\"data row21 col0\" >1.080000</td>\n",
       "      <td id=\"T_da20f_row21_col1\" class=\"data row21 col1\" >-0.020000</td>\n",
       "      <td id=\"T_da20f_row21_col2\" class=\"data row21 col2\" >0.880000</td>\n",
       "      <td id=\"T_da20f_row21_col3\" class=\"data row21 col3\" >-0.140000</td>\n",
       "      <td id=\"T_da20f_row21_col4\" class=\"data row21 col4\" ><a href=\"https://platform.worldquantbrain.com/alpha/07bZ66r\">07bZ66r</a></td>\n",
       "      <td id=\"T_da20f_row21_col5\" class=\"data row21 col5\" ><a href=\"https://platform.worldquantbrain.com/alpha/k3d3Oz8\">k3d3Oz8</a></td>\n",
       "      <td id=\"T_da20f_row21_col6\" class=\"data row21 col6\" >ts_skewness(vec_avg(nws3_scores_finhypenormscr),120)</td>\n",
       "      <td id=\"T_da20f_row21_col7\" class=\"data row21 col7\" >group_rank(ts_skewness(vec_avg(nws3_scores_finhypenormscr),120),sector)</td>\n",
       "    </tr>\n",
       "    <tr>\n",
       "      <th id=\"T_da20f_level0_row22\" class=\"row_heading level0 row22\" >22</th>\n",
       "      <td id=\"T_da20f_row22_col0\" class=\"data row22 col0\" >0.710000</td>\n",
       "      <td id=\"T_da20f_row22_col1\" class=\"data row22 col1\" >0.470000</td>\n",
       "      <td id=\"T_da20f_row22_col2\" class=\"data row22 col2\" >0.870000</td>\n",
       "      <td id=\"T_da20f_row22_col3\" class=\"data row22 col3\" >0.930000</td>\n",
       "      <td id=\"T_da20f_row22_col4\" class=\"data row22 col4\" ><a href=\"https://platform.worldquantbrain.com/alpha/vL8XJqQ\">vL8XJqQ</a></td>\n",
       "      <td id=\"T_da20f_row22_col5\" class=\"data row22 col5\" ><a href=\"https://platform.worldquantbrain.com/alpha/LpWY2Wv\">LpWY2Wv</a></td>\n",
       "      <td id=\"T_da20f_row22_col6\" class=\"data row22 col6\" >ts_skewness(vec_avg(pv64_px_stal_px_last),120)</td>\n",
       "      <td id=\"T_da20f_row22_col7\" class=\"data row22 col7\" >group_rank(ts_skewness(vec_avg(pv64_px_stal_px_last),120),sector)</td>\n",
       "    </tr>\n",
       "    <tr>\n",
       "      <th id=\"T_da20f_level0_row23\" class=\"row_heading level0 row23\" >23</th>\n",
       "      <td id=\"T_da20f_row23_col0\" class=\"data row23 col0\" >0.500000</td>\n",
       "      <td id=\"T_da20f_row23_col1\" class=\"data row23 col1\" >0.240000</td>\n",
       "      <td id=\"T_da20f_row23_col2\" class=\"data row23 col2\" >0.860000</td>\n",
       "      <td id=\"T_da20f_row23_col3\" class=\"data row23 col3\" >0.600000</td>\n",
       "      <td id=\"T_da20f_row23_col4\" class=\"data row23 col4\" ><a href=\"https://platform.worldquantbrain.com/alpha/m8pWqEW\">m8pWqEW</a></td>\n",
       "      <td id=\"T_da20f_row23_col5\" class=\"data row23 col5\" ><a href=\"https://platform.worldquantbrain.com/alpha/9wYO2vq\">9wYO2vq</a></td>\n",
       "      <td id=\"T_da20f_row23_col6\" class=\"data row23 col6\" >ts_skewness(vec_avg(pv64_rpx_stal_px_ask),120)</td>\n",
       "      <td id=\"T_da20f_row23_col7\" class=\"data row23 col7\" >group_rank(ts_skewness(vec_avg(pv64_rpx_stal_px_ask),120),sector)</td>\n",
       "    </tr>\n",
       "    <tr>\n",
       "      <th id=\"T_da20f_level0_row24\" class=\"row_heading level0 row24\" >24</th>\n",
       "      <td id=\"T_da20f_row24_col0\" class=\"data row24 col0\" >0.650000</td>\n",
       "      <td id=\"T_da20f_row24_col1\" class=\"data row24 col1\" >0.650000</td>\n",
       "      <td id=\"T_da20f_row24_col2\" class=\"data row24 col2\" >0.840000</td>\n",
       "      <td id=\"T_da20f_row24_col3\" class=\"data row24 col3\" >0.840000</td>\n",
       "      <td id=\"T_da20f_row24_col4\" class=\"data row24 col4\" ><a href=\"https://platform.worldquantbrain.com/alpha/XpjZVxX\">XpjZVxX</a></td>\n",
       "      <td id=\"T_da20f_row24_col5\" class=\"data row24 col5\" ><a href=\"https://platform.worldquantbrain.com/alpha/Kb3bZX8\">Kb3bZX8</a></td>\n",
       "      <td id=\"T_da20f_row24_col6\" class=\"data row24 col6\" >ts_skewness(vec_avg(nws17_d1_headline),120)</td>\n",
       "      <td id=\"T_da20f_row24_col7\" class=\"data row24 col7\" >group_rank(ts_skewness(vec_avg(nws17_d1_headline),120),sector)</td>\n",
       "    </tr>\n",
       "    <tr>\n",
       "      <th id=\"T_da20f_level0_row25\" class=\"row_heading level0 row25\" >25</th>\n",
       "      <td id=\"T_da20f_row25_col0\" class=\"data row25 col0\" >0.570000</td>\n",
       "      <td id=\"T_da20f_row25_col1\" class=\"data row25 col1\" >0.760000</td>\n",
       "      <td id=\"T_da20f_row25_col2\" class=\"data row25 col2\" >0.810000</td>\n",
       "      <td id=\"T_da20f_row25_col3\" class=\"data row25 col3\" >1.180000</td>\n",
       "      <td id=\"T_da20f_row25_col4\" class=\"data row25 col4\" ><a href=\"https://platform.worldquantbrain.com/alpha/m8PnZa1\">m8PnZa1</a></td>\n",
       "      <td id=\"T_da20f_row25_col5\" class=\"data row25 col5\" ><a href=\"https://platform.worldquantbrain.com/alpha/Yp6pY2v\">Yp6pY2v</a></td>\n",
       "      <td id=\"T_da20f_row25_col6\" class=\"data row25 col6\" >ts_skewness(vec_avg(ern5_total_days_changed),120)</td>\n",
       "      <td id=\"T_da20f_row25_col7\" class=\"data row25 col7\" >group_rank(ts_skewness(vec_avg(ern5_total_days_changed),120),sector)</td>\n",
       "    </tr>\n",
       "    <tr>\n",
       "      <th id=\"T_da20f_level0_row26\" class=\"row_heading level0 row26\" >26</th>\n",
       "      <td id=\"T_da20f_row26_col0\" class=\"data row26 col0\" >0.790000</td>\n",
       "      <td id=\"T_da20f_row26_col1\" class=\"data row26 col1\" >0.170000</td>\n",
       "      <td id=\"T_da20f_row26_col2\" class=\"data row26 col2\" >0.800000</td>\n",
       "      <td id=\"T_da20f_row26_col3\" class=\"data row26 col3\" >0.460000</td>\n",
       "      <td id=\"T_da20f_row26_col4\" class=\"data row26 col4\" ><a href=\"https://platform.worldquantbrain.com/alpha/9wY3V19\">9wY3V19</a></td>\n",
       "      <td id=\"T_da20f_row26_col5\" class=\"data row26 col5\" ><a href=\"https://platform.worldquantbrain.com/alpha/LpWYrea\">LpWYrea</a></td>\n",
       "      <td id=\"T_da20f_row26_col6\" class=\"data row26 col6\" >ts_skewness(vec_avg(pv64_dif_max_redemp_fee),120)</td>\n",
       "      <td id=\"T_da20f_row26_col7\" class=\"data row26 col7\" >group_rank(ts_skewness(vec_avg(pv64_dif_max_redemp_fee),120),sector)</td>\n",
       "    </tr>\n",
       "    <tr>\n",
       "      <th id=\"T_da20f_level0_row27\" class=\"row_heading level0 row27\" >27</th>\n",
       "      <td id=\"T_da20f_row27_col0\" class=\"data row27 col0\" >0.790000</td>\n",
       "      <td id=\"T_da20f_row27_col1\" class=\"data row27 col1\" >0.170000</td>\n",
       "      <td id=\"T_da20f_row27_col2\" class=\"data row27 col2\" >0.800000</td>\n",
       "      <td id=\"T_da20f_row27_col3\" class=\"data row27 col3\" >0.460000</td>\n",
       "      <td id=\"T_da20f_row27_col4\" class=\"data row27 col4\" ><a href=\"https://platform.worldquantbrain.com/alpha/6w7Qpop\">6w7Qpop</a></td>\n",
       "      <td id=\"T_da20f_row27_col5\" class=\"data row27 col5\" ><a href=\"https://platform.worldquantbrain.com/alpha/XpGAenm\">XpGAenm</a></td>\n",
       "      <td id=\"T_da20f_row27_col6\" class=\"data row27 col6\" >ts_skewness(vec_avg(pv64_dif_fund_early_withdraw_fee),120)</td>\n",
       "      <td id=\"T_da20f_row27_col7\" class=\"data row27 col7\" >group_rank(ts_skewness(vec_avg(pv64_dif_fund_early_withdraw_fee),120),sector)</td>\n",
       "    </tr>\n",
       "    <tr>\n",
       "      <th id=\"T_da20f_level0_row28\" class=\"row_heading level0 row28\" >28</th>\n",
       "      <td id=\"T_da20f_row28_col0\" class=\"data row28 col0\" >1.500000</td>\n",
       "      <td id=\"T_da20f_row28_col1\" class=\"data row28 col1\" >0.390000</td>\n",
       "      <td id=\"T_da20f_row28_col2\" class=\"data row28 col2\" >0.790000</td>\n",
       "      <td id=\"T_da20f_row28_col3\" class=\"data row28 col3\" >0.360000</td>\n",
       "      <td id=\"T_da20f_row28_col4\" class=\"data row28 col4\" ><a href=\"https://platform.worldquantbrain.com/alpha/AwRX3pg\">AwRX3pg</a></td>\n",
       "      <td id=\"T_da20f_row28_col5\" class=\"data row28 col5\" ><a href=\"https://platform.worldquantbrain.com/alpha/bLXLAor\">bLXLAor</a></td>\n",
       "      <td id=\"T_da20f_row28_col6\" class=\"data row28 col6\" >ts_skewness(vec_avg(fnd14_accel_filer_is_shell_company),120)</td>\n",
       "      <td id=\"T_da20f_row28_col7\" class=\"data row28 col7\" >group_rank(ts_skewness(vec_avg(fnd14_accel_filer_is_shell_company),120),sector)</td>\n",
       "    </tr>\n",
       "    <tr>\n",
       "      <th id=\"T_da20f_level0_row29\" class=\"row_heading level0 row29\" >29</th>\n",
       "      <td id=\"T_da20f_row29_col0\" class=\"data row29 col0\" >0.570000</td>\n",
       "      <td id=\"T_da20f_row29_col1\" class=\"data row29 col1\" >0.970000</td>\n",
       "      <td id=\"T_da20f_row29_col2\" class=\"data row29 col2\" >0.780000</td>\n",
       "      <td id=\"T_da20f_row29_col3\" class=\"data row29 col3\" >0.960000</td>\n",
       "      <td id=\"T_da20f_row29_col4\" class=\"data row29 col4\" ><a href=\"https://platform.worldquantbrain.com/alpha/dx2Jx9j\">dx2Jx9j</a></td>\n",
       "      <td id=\"T_da20f_row29_col5\" class=\"data row29 col5\" ><a href=\"https://platform.worldquantbrain.com/alpha/RpMpPda\">RpMpPda</a></td>\n",
       "      <td id=\"T_da20f_row29_col6\" class=\"data row29 col6\" >ts_skewness(vec_avg(fnd14_bus_street1),120)</td>\n",
       "      <td id=\"T_da20f_row29_col7\" class=\"data row29 col7\" >group_rank(ts_skewness(vec_avg(fnd14_bus_street1),120),sector)</td>\n",
       "    </tr>\n",
       "    <tr>\n",
       "      <th id=\"T_da20f_level0_row30\" class=\"row_heading level0 row30\" >30</th>\n",
       "      <td id=\"T_da20f_row30_col0\" class=\"data row30 col0\" >0.680000</td>\n",
       "      <td id=\"T_da20f_row30_col1\" class=\"data row30 col1\" >-0.010000</td>\n",
       "      <td id=\"T_da20f_row30_col2\" class=\"data row30 col2\" >0.770000</td>\n",
       "      <td id=\"T_da20f_row30_col3\" class=\"data row30 col3\" >-0.080000</td>\n",
       "      <td id=\"T_da20f_row30_col4\" class=\"data row30 col4\" ><a href=\"https://platform.worldquantbrain.com/alpha/7wWrzQZ\">7wWrzQZ</a></td>\n",
       "      <td id=\"T_da20f_row30_col5\" class=\"data row30 col5\" ><a href=\"https://platform.worldquantbrain.com/alpha/5wxderN\">5wxderN</a></td>\n",
       "      <td id=\"T_da20f_row30_col6\" class=\"data row30 col6\" >ts_skewness(vec_avg(pv64_dif_fund_asset_alloc_muni),120)</td>\n",
       "      <td id=\"T_da20f_row30_col7\" class=\"data row30 col7\" >group_rank(ts_skewness(vec_avg(pv64_dif_fund_asset_alloc_muni),120),sector)</td>\n",
       "    </tr>\n",
       "    <tr>\n",
       "      <th id=\"T_da20f_level0_row31\" class=\"row_heading level0 row31\" >31</th>\n",
       "      <td id=\"T_da20f_row31_col0\" class=\"data row31 col0\" >1.020000</td>\n",
       "      <td id=\"T_da20f_row31_col1\" class=\"data row31 col1\" >0.040000</td>\n",
       "      <td id=\"T_da20f_row31_col2\" class=\"data row31 col2\" >0.760000</td>\n",
       "      <td id=\"T_da20f_row31_col3\" class=\"data row31 col3\" >0.180000</td>\n",
       "      <td id=\"T_da20f_row31_col4\" class=\"data row31 col4\" ><a href=\"https://platform.worldquantbrain.com/alpha/wR8dKgQ\">wR8dKgQ</a></td>\n",
       "      <td id=\"T_da20f_row31_col5\" class=\"data row31 col5\" ><a href=\"https://platform.worldquantbrain.com/alpha/37w7Jze\">37w7Jze</a></td>\n",
       "      <td id=\"T_da20f_row31_col6\" class=\"data row31 col6\" >ts_skewness(vec_avg(nws48_g_ens_elapsed),120)</td>\n",
       "      <td id=\"T_da20f_row31_col7\" class=\"data row31 col7\" >group_rank(ts_skewness(vec_avg(nws48_g_ens_elapsed),120),sector)</td>\n",
       "    </tr>\n",
       "    <tr>\n",
       "      <th id=\"T_da20f_level0_row32\" class=\"row_heading level0 row32\" >32</th>\n",
       "      <td id=\"T_da20f_row32_col0\" class=\"data row32 col0\" >0.330000</td>\n",
       "      <td id=\"T_da20f_row32_col1\" class=\"data row32 col1\" >0.320000</td>\n",
       "      <td id=\"T_da20f_row32_col2\" class=\"data row32 col2\" >0.760000</td>\n",
       "      <td id=\"T_da20f_row32_col3\" class=\"data row32 col3\" >0.750000</td>\n",
       "      <td id=\"T_da20f_row32_col4\" class=\"data row32 col4\" ><a href=\"https://platform.worldquantbrain.com/alpha/Vpvbb1w\">Vpvbb1w</a></td>\n",
       "      <td id=\"T_da20f_row32_col5\" class=\"data row32 col5\" ><a href=\"https://platform.worldquantbrain.com/alpha/Gwq52J5\">Gwq52J5</a></td>\n",
       "      <td id=\"T_da20f_row32_col6\" class=\"data row32 col6\" >ts_skewness(vec_avg(mws36_relevance),120)</td>\n",
       "      <td id=\"T_da20f_row32_col7\" class=\"data row32 col7\" >group_rank(ts_skewness(vec_avg(mws36_relevance),120),sector)</td>\n",
       "    </tr>\n",
       "    <tr>\n",
       "      <th id=\"T_da20f_level0_row33\" class=\"row_heading level0 row33\" >33</th>\n",
       "      <td id=\"T_da20f_row33_col0\" class=\"data row33 col0\" >0.820000</td>\n",
       "      <td id=\"T_da20f_row33_col1\" class=\"data row33 col1\" >0.790000</td>\n",
       "      <td id=\"T_da20f_row33_col2\" class=\"data row33 col2\" >0.740000</td>\n",
       "      <td id=\"T_da20f_row33_col3\" class=\"data row33 col3\" >0.720000</td>\n",
       "      <td id=\"T_da20f_row33_col4\" class=\"data row33 col4\" ><a href=\"https://platform.worldquantbrain.com/alpha/jZvJ8p5\">jZvJ8p5</a></td>\n",
       "      <td id=\"T_da20f_row33_col5\" class=\"data row33 col5\" ><a href=\"https://platform.worldquantbrain.com/alpha/m8pWQ51\">m8pWQ51</a></td>\n",
       "      <td id=\"T_da20f_row33_col6\" class=\"data row33 col6\" >ts_skewness(vec_avg(pv64_dif_stal_front_load),120)</td>\n",
       "      <td id=\"T_da20f_row33_col7\" class=\"data row33 col7\" >group_rank(ts_skewness(vec_avg(pv64_dif_stal_front_load),120),sector)</td>\n",
       "    </tr>\n",
       "    <tr>\n",
       "      <th id=\"T_da20f_level0_row34\" class=\"row_heading level0 row34\" >34</th>\n",
       "      <td id=\"T_da20f_row34_col0\" class=\"data row34 col0\" >1.060000</td>\n",
       "      <td id=\"T_da20f_row34_col1\" class=\"data row34 col1\" >0.970000</td>\n",
       "      <td id=\"T_da20f_row34_col2\" class=\"data row34 col2\" >0.730000</td>\n",
       "      <td id=\"T_da20f_row34_col3\" class=\"data row34 col3\" >0.650000</td>\n",
       "      <td id=\"T_da20f_row34_col4\" class=\"data row34 col4\" ><a href=\"https://platform.worldquantbrain.com/alpha/6wn6MqK\">6wn6MqK</a></td>\n",
       "      <td id=\"T_da20f_row34_col5\" class=\"data row34 col5\" ><a href=\"https://platform.worldquantbrain.com/alpha/WpMpJlj\">WpMpJlj</a></td>\n",
       "      <td id=\"T_da20f_row34_col6\" class=\"data row34 col6\" >ts_skewness(vec_avg(fnd14_ykf_mrf_rlf_lmt_nn_ncr),120)</td>\n",
       "      <td id=\"T_da20f_row34_col7\" class=\"data row34 col7\" >group_rank(ts_skewness(vec_avg(fnd14_ykf_mrf_rlf_lmt_nn_ncr),120),sector)</td>\n",
       "    </tr>\n",
       "    <tr>\n",
       "      <th id=\"T_da20f_level0_row35\" class=\"row_heading level0 row35\" >35</th>\n",
       "      <td id=\"T_da20f_row35_col0\" class=\"data row35 col0\" >0.500000</td>\n",
       "      <td id=\"T_da20f_row35_col1\" class=\"data row35 col1\" >0.750000</td>\n",
       "      <td id=\"T_da20f_row35_col2\" class=\"data row35 col2\" >0.720000</td>\n",
       "      <td id=\"T_da20f_row35_col3\" class=\"data row35 col3\" >0.820000</td>\n",
       "      <td id=\"T_da20f_row35_col4\" class=\"data row35 col4\" ><a href=\"https://platform.worldquantbrain.com/alpha/6wn6KjO\">6wn6KjO</a></td>\n",
       "      <td id=\"T_da20f_row35_col5\" class=\"data row35 col5\" ><a href=\"https://platform.worldquantbrain.com/alpha/k3d39ak\">k3d39ak</a></td>\n",
       "      <td id=\"T_da20f_row35_col6\" class=\"data row35 col6\" >ts_skewness(vec_avg(fnd14_mail_street1),120)</td>\n",
       "      <td id=\"T_da20f_row35_col7\" class=\"data row35 col7\" >group_rank(ts_skewness(vec_avg(fnd14_mail_street1),120),sector)</td>\n",
       "    </tr>\n",
       "    <tr>\n",
       "      <th id=\"T_da20f_level0_row36\" class=\"row_heading level0 row36\" >36</th>\n",
       "      <td id=\"T_da20f_row36_col0\" class=\"data row36 col0\" >0.400000</td>\n",
       "      <td id=\"T_da20f_row36_col1\" class=\"data row36 col1\" >0.310000</td>\n",
       "      <td id=\"T_da20f_row36_col2\" class=\"data row36 col2\" >0.720000</td>\n",
       "      <td id=\"T_da20f_row36_col3\" class=\"data row36 col3\" >0.690000</td>\n",
       "      <td id=\"T_da20f_row36_col4\" class=\"data row36 col4\" ><a href=\"https://platform.worldquantbrain.com/alpha/QaMpqXK\">QaMpqXK</a></td>\n",
       "      <td id=\"T_da20f_row36_col5\" class=\"data row36 col5\" ><a href=\"https://platform.worldquantbrain.com/alpha/JpqJ2oA\">JpqJ2oA</a></td>\n",
       "      <td id=\"T_da20f_row36_col6\" class=\"data row36 col6\" >ts_skewness(vec_avg(pv64_px_stal_fund_net_asset_val),120)</td>\n",
       "      <td id=\"T_da20f_row36_col7\" class=\"data row36 col7\" >group_rank(ts_skewness(vec_avg(pv64_px_stal_fund_net_asset_val),120),sector)</td>\n",
       "    </tr>\n",
       "    <tr>\n",
       "      <th id=\"T_da20f_level0_row37\" class=\"row_heading level0 row37\" >37</th>\n",
       "      <td id=\"T_da20f_row37_col0\" class=\"data row37 col0\" >0.710000</td>\n",
       "      <td id=\"T_da20f_row37_col1\" class=\"data row37 col1\" >0.120000</td>\n",
       "      <td id=\"T_da20f_row37_col2\" class=\"data row37 col2\" >0.710000</td>\n",
       "      <td id=\"T_da20f_row37_col3\" class=\"data row37 col3\" >0.400000</td>\n",
       "      <td id=\"T_da20f_row37_col4\" class=\"data row37 col4\" ><a href=\"https://platform.worldquantbrain.com/alpha/Xpj3wQz\">Xpj3wQz</a></td>\n",
       "      <td id=\"T_da20f_row37_col5\" class=\"data row37 col5\" ><a href=\"https://platform.worldquantbrain.com/alpha/z9Z9LKO\">z9Z9LKO</a></td>\n",
       "      <td id=\"T_da20f_row37_col6\" class=\"data row37 col6\" >ts_skewness(vec_avg(mws92_djnews_score_m4),120)</td>\n",
       "      <td id=\"T_da20f_row37_col7\" class=\"data row37 col7\" >group_rank(ts_skewness(vec_avg(mws92_djnews_score_m4),120),sector)</td>\n",
       "    </tr>\n",
       "    <tr>\n",
       "      <th id=\"T_da20f_level0_row38\" class=\"row_heading level0 row38\" >38</th>\n",
       "      <td id=\"T_da20f_row38_col0\" class=\"data row38 col0\" >0.840000</td>\n",
       "      <td id=\"T_da20f_row38_col1\" class=\"data row38 col1\" >0.130000</td>\n",
       "      <td id=\"T_da20f_row38_col2\" class=\"data row38 col2\" >0.710000</td>\n",
       "      <td id=\"T_da20f_row38_col3\" class=\"data row38 col3\" >0.440000</td>\n",
       "      <td id=\"T_da20f_row38_col4\" class=\"data row38 col4\" ><a href=\"https://platform.worldquantbrain.com/alpha/qAKakYv\">qAKakYv</a></td>\n",
       "      <td id=\"T_da20f_row38_col5\" class=\"data row38 col5\" ><a href=\"https://platform.worldquantbrain.com/alpha/qA8AV7A\">qA8AV7A</a></td>\n",
       "      <td id=\"T_da20f_row38_col6\" class=\"data row38 col6\" >ts_skewness(vec_avg(mws92_mt_news_score_m2),120)</td>\n",
       "      <td id=\"T_da20f_row38_col7\" class=\"data row38 col7\" >group_rank(ts_skewness(vec_avg(mws92_mt_news_score_m2),120),sector)</td>\n",
       "    </tr>\n",
       "    <tr>\n",
       "      <th id=\"T_da20f_level0_row39\" class=\"row_heading level0 row39\" >39</th>\n",
       "      <td id=\"T_da20f_row39_col0\" class=\"data row39 col0\" >0.650000</td>\n",
       "      <td id=\"T_da20f_row39_col1\" class=\"data row39 col1\" >0.530000</td>\n",
       "      <td id=\"T_da20f_row39_col2\" class=\"data row39 col2\" >0.700000</td>\n",
       "      <td id=\"T_da20f_row39_col3\" class=\"data row39 col3\" >0.630000</td>\n",
       "      <td id=\"T_da20f_row39_col4\" class=\"data row39 col4\" ><a href=\"https://platform.worldquantbrain.com/alpha/p6q2gw6\">p6q2gw6</a></td>\n",
       "      <td id=\"T_da20f_row39_col5\" class=\"data row39 col5\" ><a href=\"https://platform.worldquantbrain.com/alpha/LpWp2V9\">LpWp2V9</a></td>\n",
       "      <td id=\"T_da20f_row39_col6\" class=\"data row39 col6\" >ts_skewness(vec_avg(mws59_event_fiscal_year),120)</td>\n",
       "      <td id=\"T_da20f_row39_col7\" class=\"data row39 col7\" >group_rank(ts_skewness(vec_avg(mws59_event_fiscal_year),120),sector)</td>\n",
       "    </tr>\n",
       "    <tr>\n",
       "      <th id=\"T_da20f_level0_row40\" class=\"row_heading level0 row40\" >40</th>\n",
       "      <td id=\"T_da20f_row40_col0\" class=\"data row40 col0\" >0.530000</td>\n",
       "      <td id=\"T_da20f_row40_col1\" class=\"data row40 col1\" >0.430000</td>\n",
       "      <td id=\"T_da20f_row40_col2\" class=\"data row40 col2\" >0.690000</td>\n",
       "      <td id=\"T_da20f_row40_col3\" class=\"data row40 col3\" >0.870000</td>\n",
       "      <td id=\"T_da20f_row40_col4\" class=\"data row40 col4\" ><a href=\"https://platform.worldquantbrain.com/alpha/9wYOEJo\">9wYOEJo</a></td>\n",
       "      <td id=\"T_da20f_row40_col5\" class=\"data row40 col5\" ><a href=\"https://platform.worldquantbrain.com/alpha/bLX11o6\">bLX11o6</a></td>\n",
       "      <td id=\"T_da20f_row40_col6\" class=\"data row40 col6\" >ts_skewness(vec_avg(pv64_trr_stal_px_last),120)</td>\n",
       "      <td id=\"T_da20f_row40_col7\" class=\"data row40 col7\" >group_rank(ts_skewness(vec_avg(pv64_trr_stal_px_last),120),sector)</td>\n",
       "    </tr>\n",
       "    <tr>\n",
       "      <th id=\"T_da20f_level0_row41\" class=\"row_heading level0 row41\" >41</th>\n",
       "      <td id=\"T_da20f_row41_col0\" class=\"data row41 col0\" >1.080000</td>\n",
       "      <td id=\"T_da20f_row41_col1\" class=\"data row41 col1\" >0.760000</td>\n",
       "      <td id=\"T_da20f_row41_col2\" class=\"data row41 col2\" >0.680000</td>\n",
       "      <td id=\"T_da20f_row41_col3\" class=\"data row41 col3\" >0.640000</td>\n",
       "      <td id=\"T_da20f_row41_col4\" class=\"data row41 col4\" ><a href=\"https://platform.worldquantbrain.com/alpha/07q2nnp\">07q2nnp</a></td>\n",
       "      <td id=\"T_da20f_row41_col5\" class=\"data row41 col5\" ><a href=\"https://platform.worldquantbrain.com/alpha/Aw988gE\">Aw988gE</a></td>\n",
       "      <td id=\"T_da20f_row41_col6\" class=\"data row41 col6\" >ts_skewness(vec_avg(pv64_out_stal_min_subsequent_invest),120)</td>\n",
       "      <td id=\"T_da20f_row41_col7\" class=\"data row41 col7\" >group_rank(ts_skewness(vec_avg(pv64_out_stal_min_subsequent_invest),120),sector)</td>\n",
       "    </tr>\n",
       "    <tr>\n",
       "      <th id=\"T_da20f_level0_row42\" class=\"row_heading level0 row42\" >42</th>\n",
       "      <td id=\"T_da20f_row42_col0\" class=\"data row42 col0\" >0.320000</td>\n",
       "      <td id=\"T_da20f_row42_col1\" class=\"data row42 col1\" >0.060000</td>\n",
       "      <td id=\"T_da20f_row42_col2\" class=\"data row42 col2\" >0.680000</td>\n",
       "      <td id=\"T_da20f_row42_col3\" class=\"data row42 col3\" >0.210000</td>\n",
       "      <td id=\"T_da20f_row42_col4\" class=\"data row42 col4\" ><a href=\"https://platform.worldquantbrain.com/alpha/AwRpOzX\">AwRpOzX</a></td>\n",
       "      <td id=\"T_da20f_row42_col5\" class=\"data row42 col5\" ><a href=\"https://platform.worldquantbrain.com/alpha/xxqxEOb\">xxqxEOb</a></td>\n",
       "      <td id=\"T_da20f_row42_col6\" class=\"data row42 col6\" >ts_skewness(vec_avg(oth100_top5_people_also_watch_ticker_ii),120)</td>\n",
       "      <td id=\"T_da20f_row42_col7\" class=\"data row42 col7\" >group_rank(ts_skewness(vec_avg(oth100_top5_people_also_watch_ticker_ii),120),sector)</td>\n",
       "    </tr>\n",
       "    <tr>\n",
       "      <th id=\"T_da20f_level0_row43\" class=\"row_heading level0 row43\" >43</th>\n",
       "      <td id=\"T_da20f_row43_col0\" class=\"data row43 col0\" >0.300000</td>\n",
       "      <td id=\"T_da20f_row43_col1\" class=\"data row43 col1\" >0.250000</td>\n",
       "      <td id=\"T_da20f_row43_col2\" class=\"data row43 col2\" >0.670000</td>\n",
       "      <td id=\"T_da20f_row43_col3\" class=\"data row43 col3\" >0.590000</td>\n",
       "      <td id=\"T_da20f_row43_col4\" class=\"data row43 col4\" ><a href=\"https://platform.worldquantbrain.com/alpha/OpOjxlv\">OpOjxlv</a></td>\n",
       "      <td id=\"T_da20f_row43_col5\" class=\"data row43 col5\" ><a href=\"https://platform.worldquantbrain.com/alpha/XpGAOel\">XpGAOel</a></td>\n",
       "      <td id=\"T_da20f_row43_col6\" class=\"data row43 col6\" >ts_skewness(vec_avg(pv64_dif_fund_asset_alloc_equity),120)</td>\n",
       "      <td id=\"T_da20f_row43_col7\" class=\"data row43 col7\" >group_rank(ts_skewness(vec_avg(pv64_dif_fund_asset_alloc_equity),120),sector)</td>\n",
       "    </tr>\n",
       "    <tr>\n",
       "      <th id=\"T_da20f_level0_row44\" class=\"row_heading level0 row44\" >44</th>\n",
       "      <td id=\"T_da20f_row44_col0\" class=\"data row44 col0\" >1.090000</td>\n",
       "      <td id=\"T_da20f_row44_col1\" class=\"data row44 col1\" >0.170000</td>\n",
       "      <td id=\"T_da20f_row44_col2\" class=\"data row44 col2\" >0.670000</td>\n",
       "      <td id=\"T_da20f_row44_col3\" class=\"data row44 col3\" >0.280000</td>\n",
       "      <td id=\"T_da20f_row44_col4\" class=\"data row44 col4\" ><a href=\"https://platform.worldquantbrain.com/alpha/xxK7xJJ\">xxK7xJJ</a></td>\n",
       "      <td id=\"T_da20f_row44_col5\" class=\"data row44 col5\" ><a href=\"https://platform.worldquantbrain.com/alpha/wRqRvql\">wRqRvql</a></td>\n",
       "      <td id=\"T_da20f_row44_col6\" class=\"data row44 col6\" >ts_skewness(vec_avg(fnd14_bus_street2),120)</td>\n",
       "      <td id=\"T_da20f_row44_col7\" class=\"data row44 col7\" >group_rank(ts_skewness(vec_avg(fnd14_bus_street2),120),sector)</td>\n",
       "    </tr>\n",
       "    <tr>\n",
       "      <th id=\"T_da20f_level0_row45\" class=\"row_heading level0 row45\" >45</th>\n",
       "      <td id=\"T_da20f_row45_col0\" class=\"data row45 col0\" >0.260000</td>\n",
       "      <td id=\"T_da20f_row45_col1\" class=\"data row45 col1\" >0.200000</td>\n",
       "      <td id=\"T_da20f_row45_col2\" class=\"data row45 col2\" >0.670000</td>\n",
       "      <td id=\"T_da20f_row45_col3\" class=\"data row45 col3\" >0.570000</td>\n",
       "      <td id=\"T_da20f_row45_col4\" class=\"data row45 col4\" ><a href=\"https://platform.worldquantbrain.com/alpha/LpPYYj6\">LpPYYj6</a></td>\n",
       "      <td id=\"T_da20f_row45_col5\" class=\"data row45 col5\" ><a href=\"https://platform.worldquantbrain.com/alpha/Gwq52k0\">Gwq52k0</a></td>\n",
       "      <td id=\"T_da20f_row45_col6\" class=\"data row45 col6\" >ts_skewness(vec_avg(mws36_sentiment_positive_confidence),120)</td>\n",
       "      <td id=\"T_da20f_row45_col7\" class=\"data row45 col7\" >group_rank(ts_skewness(vec_avg(mws36_sentiment_positive_confidence),120),sector)</td>\n",
       "    </tr>\n",
       "    <tr>\n",
       "      <th id=\"T_da20f_level0_row46\" class=\"row_heading level0 row46\" >46</th>\n",
       "      <td id=\"T_da20f_row46_col0\" class=\"data row46 col0\" >0.250000</td>\n",
       "      <td id=\"T_da20f_row46_col1\" class=\"data row46 col1\" >0.310000</td>\n",
       "      <td id=\"T_da20f_row46_col2\" class=\"data row46 col2\" >0.660000</td>\n",
       "      <td id=\"T_da20f_row46_col3\" class=\"data row46 col3\" >0.780000</td>\n",
       "      <td id=\"T_da20f_row46_col4\" class=\"data row46 col4\" ><a href=\"https://platform.worldquantbrain.com/alpha/eOlZZmN\">eOlZZmN</a></td>\n",
       "      <td id=\"T_da20f_row46_col5\" class=\"data row46 col5\" ><a href=\"https://platform.worldquantbrain.com/alpha/EwZPjG1\">EwZPjG1</a></td>\n",
       "      <td id=\"T_da20f_row46_col6\" class=\"data row46 col6\" >ts_skewness(vec_avg(mws36_novelty),120)</td>\n",
       "      <td id=\"T_da20f_row46_col7\" class=\"data row46 col7\" >group_rank(ts_skewness(vec_avg(mws36_novelty),120),sector)</td>\n",
       "    </tr>\n",
       "    <tr>\n",
       "      <th id=\"T_da20f_level0_row47\" class=\"row_heading level0 row47\" >47</th>\n",
       "      <td id=\"T_da20f_row47_col0\" class=\"data row47 col0\" >0.340000</td>\n",
       "      <td id=\"T_da20f_row47_col1\" class=\"data row47 col1\" >0.300000</td>\n",
       "      <td id=\"T_da20f_row47_col2\" class=\"data row47 col2\" >0.650000</td>\n",
       "      <td id=\"T_da20f_row47_col3\" class=\"data row47 col3\" >0.680000</td>\n",
       "      <td id=\"T_da20f_row47_col4\" class=\"data row47 col4\" ><a href=\"https://platform.worldquantbrain.com/alpha/m8pWYqE\">m8pWYqE</a></td>\n",
       "      <td id=\"T_da20f_row47_col5\" class=\"data row47 col5\" ><a href=\"https://platform.worldquantbrain.com/alpha/7wWRRk2\">7wWRRk2</a></td>\n",
       "      <td id=\"T_da20f_row47_col6\" class=\"data row47 col6\" >ts_skewness(vec_avg(pv64_trr_stal_fund_net_asset_val),120)</td>\n",
       "      <td id=\"T_da20f_row47_col7\" class=\"data row47 col7\" >group_rank(ts_skewness(vec_avg(pv64_trr_stal_fund_net_asset_val),120),sector)</td>\n",
       "    </tr>\n",
       "    <tr>\n",
       "      <th id=\"T_da20f_level0_row48\" class=\"row_heading level0 row48\" >48</th>\n",
       "      <td id=\"T_da20f_row48_col0\" class=\"data row48 col0\" >0.710000</td>\n",
       "      <td id=\"T_da20f_row48_col1\" class=\"data row48 col1\" >0.180000</td>\n",
       "      <td id=\"T_da20f_row48_col2\" class=\"data row48 col2\" >0.640000</td>\n",
       "      <td id=\"T_da20f_row48_col3\" class=\"data row48 col3\" >0.250000</td>\n",
       "      <td id=\"T_da20f_row48_col4\" class=\"data row48 col4\" ><a href=\"https://platform.worldquantbrain.com/alpha/adrmnw6\">adrmnw6</a></td>\n",
       "      <td id=\"T_da20f_row48_col5\" class=\"data row48 col5\" ><a href=\"https://platform.worldquantbrain.com/alpha/8zbz26z\">8zbz26z</a></td>\n",
       "      <td id=\"T_da20f_row48_col6\" class=\"data row48 col6\" >ts_skewness(vec_avg(fnd14_curr_auditor_affiliate_fkey),120)</td>\n",
       "      <td id=\"T_da20f_row48_col7\" class=\"data row48 col7\" >group_rank(ts_skewness(vec_avg(fnd14_curr_auditor_affiliate_fkey),120),sector)</td>\n",
       "    </tr>\n",
       "    <tr>\n",
       "      <th id=\"T_da20f_level0_row49\" class=\"row_heading level0 row49\" >49</th>\n",
       "      <td id=\"T_da20f_row49_col0\" class=\"data row49 col0\" >0.640000</td>\n",
       "      <td id=\"T_da20f_row49_col1\" class=\"data row49 col1\" >0.000000</td>\n",
       "      <td id=\"T_da20f_row49_col2\" class=\"data row49 col2\" >0.640000</td>\n",
       "      <td id=\"T_da20f_row49_col3\" class=\"data row49 col3\" >0.010000</td>\n",
       "      <td id=\"T_da20f_row49_col4\" class=\"data row49 col4\" ><a href=\"https://platform.worldquantbrain.com/alpha/Gwq2ME5\">Gwq2ME5</a></td>\n",
       "      <td id=\"T_da20f_row49_col5\" class=\"data row49 col5\" ><a href=\"https://platform.worldquantbrain.com/alpha/17e72mm\">17e72mm</a></td>\n",
       "      <td id=\"T_da20f_row49_col6\" class=\"data row49 col6\" >ts_skewness(vec_avg(oth15_constituent_market_value),120)</td>\n",
       "      <td id=\"T_da20f_row49_col7\" class=\"data row49 col7\" >group_rank(ts_skewness(vec_avg(oth15_constituent_market_value),120),sector)</td>\n",
       "    </tr>\n",
       "    <tr>\n",
       "      <th id=\"T_da20f_level0_row50\" class=\"row_heading level0 row50\" >50</th>\n",
       "      <td id=\"T_da20f_row50_col0\" class=\"data row50 col0\" >0.290000</td>\n",
       "      <td id=\"T_da20f_row50_col1\" class=\"data row50 col1\" >0.280000</td>\n",
       "      <td id=\"T_da20f_row50_col2\" class=\"data row50 col2\" >0.630000</td>\n",
       "      <td id=\"T_da20f_row50_col3\" class=\"data row50 col3\" >0.630000</td>\n",
       "      <td id=\"T_da20f_row50_col4\" class=\"data row50 col4\" ><a href=\"https://platform.worldquantbrain.com/alpha/8zm0Lzv\">8zm0Lzv</a></td>\n",
       "      <td id=\"T_da20f_row50_col5\" class=\"data row50 col5\" ><a href=\"https://platform.worldquantbrain.com/alpha/eOmOW26\">eOmOW26</a></td>\n",
       "      <td id=\"T_da20f_row50_col6\" class=\"data row50 col6\" >ts_skewness(vec_avg(oth7_1_prob_ntr),120)</td>\n",
       "      <td id=\"T_da20f_row50_col7\" class=\"data row50 col7\" >group_rank(ts_skewness(vec_avg(oth7_1_prob_ntr),120),sector)</td>\n",
       "    </tr>\n",
       "    <tr>\n",
       "      <th id=\"T_da20f_level0_row51\" class=\"row_heading level0 row51\" >51</th>\n",
       "      <td id=\"T_da20f_row51_col0\" class=\"data row51 col0\" >0.290000</td>\n",
       "      <td id=\"T_da20f_row51_col1\" class=\"data row51 col1\" >0.180000</td>\n",
       "      <td id=\"T_da20f_row51_col2\" class=\"data row51 col2\" >0.610000</td>\n",
       "      <td id=\"T_da20f_row51_col3\" class=\"data row51 col3\" >0.470000</td>\n",
       "      <td id=\"T_da20f_row51_col4\" class=\"data row51 col4\" ><a href=\"https://platform.worldquantbrain.com/alpha/Yp6o2vo\">Yp6o2vo</a></td>\n",
       "      <td id=\"T_da20f_row51_col5\" class=\"data row51 col5\" ><a href=\"https://platform.worldquantbrain.com/alpha/17eAAAK\">17eAAAK</a></td>\n",
       "      <td id=\"T_da20f_row51_col6\" class=\"data row51 col6\" >ts_skewness(vec_avg(pv64_rpx_stal_fund_net_asset_val),120)</td>\n",
       "      <td id=\"T_da20f_row51_col7\" class=\"data row51 col7\" >group_rank(ts_skewness(vec_avg(pv64_rpx_stal_fund_net_asset_val),120),sector)</td>\n",
       "    </tr>\n",
       "    <tr>\n",
       "      <th id=\"T_da20f_level0_row52\" class=\"row_heading level0 row52\" >52</th>\n",
       "      <td id=\"T_da20f_row52_col0\" class=\"data row52 col0\" >0.220000</td>\n",
       "      <td id=\"T_da20f_row52_col1\" class=\"data row52 col1\" >0.190000</td>\n",
       "      <td id=\"T_da20f_row52_col2\" class=\"data row52 col2\" >0.610000</td>\n",
       "      <td id=\"T_da20f_row52_col3\" class=\"data row52 col3\" >0.570000</td>\n",
       "      <td id=\"T_da20f_row52_col4\" class=\"data row52 col4\" ><a href=\"https://platform.worldquantbrain.com/alpha/LpPvjKn\">LpPvjKn</a></td>\n",
       "      <td id=\"T_da20f_row52_col5\" class=\"data row52 col5\" ><a href=\"https://platform.worldquantbrain.com/alpha/5wxw2Gk\">5wxw2Gk</a></td>\n",
       "      <td id=\"T_da20f_row52_col6\" class=\"data row52 col6\" >ts_skewness(vec_avg(mws50_ssc),120)</td>\n",
       "      <td id=\"T_da20f_row52_col7\" class=\"data row52 col7\" >group_rank(ts_skewness(vec_avg(mws50_ssc),120),sector)</td>\n",
       "    </tr>\n",
       "    <tr>\n",
       "      <th id=\"T_da20f_level0_row53\" class=\"row_heading level0 row53\" >53</th>\n",
       "      <td id=\"T_da20f_row53_col0\" class=\"data row53 col0\" >0.930000</td>\n",
       "      <td id=\"T_da20f_row53_col1\" class=\"data row53 col1\" >0.140000</td>\n",
       "      <td id=\"T_da20f_row53_col2\" class=\"data row53 col2\" >0.610000</td>\n",
       "      <td id=\"T_da20f_row53_col3\" class=\"data row53 col3\" >0.380000</td>\n",
       "      <td id=\"T_da20f_row53_col4\" class=\"data row53 col4\" ><a href=\"https://platform.worldquantbrain.com/alpha/QaMA7LG\">QaMA7LG</a></td>\n",
       "      <td id=\"T_da20f_row53_col5\" class=\"data row53 col5\" ><a href=\"https://platform.worldquantbrain.com/alpha/37wvvmZ\">37wvvmZ</a></td>\n",
       "      <td id=\"T_da20f_row53_col6\" class=\"data row53 col6\" >ts_skewness(vec_avg(pv64_dif_fund_min_invest),120)</td>\n",
       "      <td id=\"T_da20f_row53_col7\" class=\"data row53 col7\" >group_rank(ts_skewness(vec_avg(pv64_dif_fund_min_invest),120),sector)</td>\n",
       "    </tr>\n",
       "    <tr>\n",
       "      <th id=\"T_da20f_level0_row54\" class=\"row_heading level0 row54\" >54</th>\n",
       "      <td id=\"T_da20f_row54_col0\" class=\"data row54 col0\" >0.570000</td>\n",
       "      <td id=\"T_da20f_row54_col1\" class=\"data row54 col1\" >0.190000</td>\n",
       "      <td id=\"T_da20f_row54_col2\" class=\"data row54 col2\" >0.610000</td>\n",
       "      <td id=\"T_da20f_row54_col3\" class=\"data row54 col3\" >0.600000</td>\n",
       "      <td id=\"T_da20f_row54_col4\" class=\"data row54 col4\" ><a href=\"https://platform.worldquantbrain.com/alpha/RpJOZW1\">RpJOZW1</a></td>\n",
       "      <td id=\"T_da20f_row54_col5\" class=\"data row54 col5\" ><a href=\"https://platform.worldquantbrain.com/alpha/Np0p2Ke\">Np0p2Ke</a></td>\n",
       "      <td id=\"T_da20f_row54_col6\" class=\"data row54 col6\" >ts_skewness(vec_avg(mws92_djnews_score_m1),120)</td>\n",
       "      <td id=\"T_da20f_row54_col7\" class=\"data row54 col7\" >group_rank(ts_skewness(vec_avg(mws92_djnews_score_m1),120),sector)</td>\n",
       "    </tr>\n",
       "    <tr>\n",
       "      <th id=\"T_da20f_level0_row55\" class=\"row_heading level0 row55\" >55</th>\n",
       "      <td id=\"T_da20f_row55_col0\" class=\"data row55 col0\" >0.350000</td>\n",
       "      <td id=\"T_da20f_row55_col1\" class=\"data row55 col1\" >0.200000</td>\n",
       "      <td id=\"T_da20f_row55_col2\" class=\"data row55 col2\" >0.590000</td>\n",
       "      <td id=\"T_da20f_row55_col3\" class=\"data row55 col3\" >0.450000</td>\n",
       "      <td id=\"T_da20f_row55_col4\" class=\"data row55 col4\" ><a href=\"https://platform.worldquantbrain.com/alpha/roYMRQd\">roYMRQd</a></td>\n",
       "      <td id=\"T_da20f_row55_col5\" class=\"data row55 col5\" ><a href=\"https://platform.worldquantbrain.com/alpha/VpVbbX8\">VpVbbX8</a></td>\n",
       "      <td id=\"T_da20f_row55_col6\" class=\"data row55 col6\" >ts_skewness(vec_avg(shrt3_bar),120)</td>\n",
       "      <td id=\"T_da20f_row55_col7\" class=\"data row55 col7\" >group_rank(ts_skewness(vec_avg(shrt3_bar),120),sector)</td>\n",
       "    </tr>\n",
       "    <tr>\n",
       "      <th id=\"T_da20f_level0_row56\" class=\"row_heading level0 row56\" >56</th>\n",
       "      <td id=\"T_da20f_row56_col0\" class=\"data row56 col0\" >0.650000</td>\n",
       "      <td id=\"T_da20f_row56_col1\" class=\"data row56 col1\" >0.390000</td>\n",
       "      <td id=\"T_da20f_row56_col2\" class=\"data row56 col2\" >0.590000</td>\n",
       "      <td id=\"T_da20f_row56_col3\" class=\"data row56 col3\" >0.410000</td>\n",
       "      <td id=\"T_da20f_row56_col4\" class=\"data row56 col4\" ><a href=\"https://platform.worldquantbrain.com/alpha/LpPodEe\">LpPodEe</a></td>\n",
       "      <td id=\"T_da20f_row56_col5\" class=\"data row56 col5\" ><a href=\"https://platform.worldquantbrain.com/alpha/bLXLKxK\">bLXLKxK</a></td>\n",
       "      <td id=\"T_da20f_row56_col6\" class=\"data row56 col6\" >ts_skewness(vec_avg(fnd14_flr_ass_drc_off_nm),120)</td>\n",
       "      <td id=\"T_da20f_row56_col7\" class=\"data row56 col7\" >group_rank(ts_skewness(vec_avg(fnd14_flr_ass_drc_off_nm),120),sector)</td>\n",
       "    </tr>\n",
       "    <tr>\n",
       "      <th id=\"T_da20f_level0_row57\" class=\"row_heading level0 row57\" >57</th>\n",
       "      <td id=\"T_da20f_row57_col0\" class=\"data row57 col0\" >0.220000</td>\n",
       "      <td id=\"T_da20f_row57_col1\" class=\"data row57 col1\" >0.200000</td>\n",
       "      <td id=\"T_da20f_row57_col2\" class=\"data row57 col2\" >0.580000</td>\n",
       "      <td id=\"T_da20f_row57_col3\" class=\"data row57 col3\" >0.540000</td>\n",
       "      <td id=\"T_da20f_row57_col4\" class=\"data row57 col4\" ><a href=\"https://platform.worldquantbrain.com/alpha/KbKolPE\">KbKolPE</a></td>\n",
       "      <td id=\"T_da20f_row57_col5\" class=\"data row57 col5\" ><a href=\"https://platform.worldquantbrain.com/alpha/oK7KkWJ\">oK7KkWJ</a></td>\n",
       "      <td id=\"T_da20f_row57_col6\" class=\"data row57 col6\" >ts_skewness(vec_avg(nws48_qcm),120)</td>\n",
       "      <td id=\"T_da20f_row57_col7\" class=\"data row57 col7\" >group_rank(ts_skewness(vec_avg(nws48_qcm),120),sector)</td>\n",
       "    </tr>\n",
       "    <tr>\n",
       "      <th id=\"T_da20f_level0_row58\" class=\"row_heading level0 row58\" >58</th>\n",
       "      <td id=\"T_da20f_row58_col0\" class=\"data row58 col0\" >0.300000</td>\n",
       "      <td id=\"T_da20f_row58_col1\" class=\"data row58 col1\" >0.250000</td>\n",
       "      <td id=\"T_da20f_row58_col2\" class=\"data row58 col2\" >0.580000</td>\n",
       "      <td id=\"T_da20f_row58_col3\" class=\"data row58 col3\" >0.530000</td>\n",
       "      <td id=\"T_da20f_row58_col4\" class=\"data row58 col4\" ><a href=\"https://platform.worldquantbrain.com/alpha/ZpRVggx\">ZpRVggx</a></td>\n",
       "      <td id=\"T_da20f_row58_col5\" class=\"data row58 col5\" ><a href=\"https://platform.worldquantbrain.com/alpha/LpWp2Z2\">LpWp2Z2</a></td>\n",
       "      <td id=\"T_da20f_row58_col6\" class=\"data row58 col6\" >ts_skewness(vec_avg(nws17_d1_relevance),120)</td>\n",
       "      <td id=\"T_da20f_row58_col7\" class=\"data row58 col7\" >group_rank(ts_skewness(vec_avg(nws17_d1_relevance),120),sector)</td>\n",
       "    </tr>\n",
       "    <tr>\n",
       "      <th id=\"T_da20f_level0_row59\" class=\"row_heading level0 row59\" >59</th>\n",
       "      <td id=\"T_da20f_row59_col0\" class=\"data row59 col0\" >0.580000</td>\n",
       "      <td id=\"T_da20f_row59_col1\" class=\"data row59 col1\" >0.340000</td>\n",
       "      <td id=\"T_da20f_row59_col2\" class=\"data row59 col2\" >0.560000</td>\n",
       "      <td id=\"T_da20f_row59_col3\" class=\"data row59 col3\" >0.390000</td>\n",
       "      <td id=\"T_da20f_row59_col4\" class=\"data row59 col4\" ><a href=\"https://platform.worldquantbrain.com/alpha/qAK27z1\">qAK27z1</a></td>\n",
       "      <td id=\"T_da20f_row59_col5\" class=\"data row59 col5\" ><a href=\"https://platform.worldquantbrain.com/alpha/Zp6p1mY\">Zp6p1mY</a></td>\n",
       "      <td id=\"T_da20f_row59_col6\" class=\"data row59 col6\" >ts_skewness(vec_avg(fnd14_ykf_ffa_tda_wnk_tsl),120)</td>\n",
       "      <td id=\"T_da20f_row59_col7\" class=\"data row59 col7\" >group_rank(ts_skewness(vec_avg(fnd14_ykf_ffa_tda_wnk_tsl),120),sector)</td>\n",
       "    </tr>\n",
       "    <tr>\n",
       "      <th id=\"T_da20f_level0_row60\" class=\"row_heading level0 row60\" >60</th>\n",
       "      <td id=\"T_da20f_row60_col0\" class=\"data row60 col0\" >0.380000</td>\n",
       "      <td id=\"T_da20f_row60_col1\" class=\"data row60 col1\" >0.410000</td>\n",
       "      <td id=\"T_da20f_row60_col2\" class=\"data row60 col2\" >0.560000</td>\n",
       "      <td id=\"T_da20f_row60_col3\" class=\"data row60 col3\" >0.590000</td>\n",
       "      <td id=\"T_da20f_row60_col4\" class=\"data row60 col4\" ><a href=\"https://platform.worldquantbrain.com/alpha/NpXd9q7\">NpXd9q7</a></td>\n",
       "      <td id=\"T_da20f_row60_col5\" class=\"data row60 col5\" ><a href=\"https://platform.worldquantbrain.com/alpha/xxqxEpw\">xxqxEpw</a></td>\n",
       "      <td id=\"T_da20f_row60_col6\" class=\"data row60 col6\" >ts_skewness(vec_avg(mws54_futureeventmkt_situation),120)</td>\n",
       "      <td id=\"T_da20f_row60_col7\" class=\"data row60 col7\" >group_rank(ts_skewness(vec_avg(mws54_futureeventmkt_situation),120),sector)</td>\n",
       "    </tr>\n",
       "    <tr>\n",
       "      <th id=\"T_da20f_level0_row61\" class=\"row_heading level0 row61\" >61</th>\n",
       "      <td id=\"T_da20f_row61_col0\" class=\"data row61 col0\" >0.450000</td>\n",
       "      <td id=\"T_da20f_row61_col1\" class=\"data row61 col1\" >-0.170000</td>\n",
       "      <td id=\"T_da20f_row61_col2\" class=\"data row61 col2\" >0.550000</td>\n",
       "      <td id=\"T_da20f_row61_col3\" class=\"data row61 col3\" >-0.400000</td>\n",
       "      <td id=\"T_da20f_row61_col4\" class=\"data row61 col4\" ><a href=\"https://platform.worldquantbrain.com/alpha/z9v7Y68\">z9v7Y68</a></td>\n",
       "      <td id=\"T_da20f_row61_col5\" class=\"data row61 col5\" ><a href=\"https://platform.worldquantbrain.com/alpha/Aw9w5dw\">Aw9w5dw</a></td>\n",
       "      <td id=\"T_da20f_row61_col6\" class=\"data row61 col6\" >ts_skewness(vec_avg(fnd14_latestfy_price_close),120)</td>\n",
       "      <td id=\"T_da20f_row61_col7\" class=\"data row61 col7\" >group_rank(ts_skewness(vec_avg(fnd14_latestfy_price_close),120),sector)</td>\n",
       "    </tr>\n",
       "    <tr>\n",
       "      <th id=\"T_da20f_level0_row62\" class=\"row_heading level0 row62\" >62</th>\n",
       "      <td id=\"T_da20f_row62_col0\" class=\"data row62 col0\" >0.720000</td>\n",
       "      <td id=\"T_da20f_row62_col1\" class=\"data row62 col1\" >0.570000</td>\n",
       "      <td id=\"T_da20f_row62_col2\" class=\"data row62 col2\" >0.550000</td>\n",
       "      <td id=\"T_da20f_row62_col3\" class=\"data row62 col3\" >0.490000</td>\n",
       "      <td id=\"T_da20f_row62_col4\" class=\"data row62 col4\" ><a href=\"https://platform.worldquantbrain.com/alpha/eOlMQXO\">eOlMQXO</a></td>\n",
       "      <td id=\"T_da20f_row62_col5\" class=\"data row62 col5\" ><a href=\"https://platform.worldquantbrain.com/alpha/roYonMJ\">roYonMJ</a></td>\n",
       "      <td id=\"T_da20f_row62_col6\" class=\"data row62 col6\" >ts_skewness(vec_avg(fnd14_pmc_rpr_lms_rlf_cca),120)</td>\n",
       "      <td id=\"T_da20f_row62_col7\" class=\"data row62 col7\" >group_rank(ts_skewness(vec_avg(fnd14_pmc_rpr_lms_rlf_cca),120),sector)</td>\n",
       "    </tr>\n",
       "    <tr>\n",
       "      <th id=\"T_da20f_level0_row63\" class=\"row_heading level0 row63\" >63</th>\n",
       "      <td id=\"T_da20f_row63_col0\" class=\"data row63 col0\" >0.830000</td>\n",
       "      <td id=\"T_da20f_row63_col1\" class=\"data row63 col1\" >0.800000</td>\n",
       "      <td id=\"T_da20f_row63_col2\" class=\"data row63 col2\" >0.550000</td>\n",
       "      <td id=\"T_da20f_row63_col3\" class=\"data row63 col3\" >0.630000</td>\n",
       "      <td id=\"T_da20f_row63_col4\" class=\"data row63 col4\" ><a href=\"https://platform.worldquantbrain.com/alpha/EwZnpY9\">EwZnpY9</a></td>\n",
       "      <td id=\"T_da20f_row63_col5\" class=\"data row63 col5\" ><a href=\"https://platform.worldquantbrain.com/alpha/qA8ApZP\">qA8ApZP</a></td>\n",
       "      <td id=\"T_da20f_row63_col6\" class=\"data row63 col6\" >ts_skewness(vec_avg(fnd14_lts_ann_qrt_ind_1),120)</td>\n",
       "      <td id=\"T_da20f_row63_col7\" class=\"data row63 col7\" >group_rank(ts_skewness(vec_avg(fnd14_lts_ann_qrt_ind_1),120),sector)</td>\n",
       "    </tr>\n",
       "    <tr>\n",
       "      <th id=\"T_da20f_level0_row64\" class=\"row_heading level0 row64\" >64</th>\n",
       "      <td id=\"T_da20f_row64_col0\" class=\"data row64 col0\" >0.470000</td>\n",
       "      <td id=\"T_da20f_row64_col1\" class=\"data row64 col1\" >0.190000</td>\n",
       "      <td id=\"T_da20f_row64_col2\" class=\"data row64 col2\" >0.550000</td>\n",
       "      <td id=\"T_da20f_row64_col3\" class=\"data row64 col3\" >0.610000</td>\n",
       "      <td id=\"T_da20f_row64_col4\" class=\"data row64 col4\" ><a href=\"https://platform.worldquantbrain.com/alpha/17q8VEX\">17q8VEX</a></td>\n",
       "      <td id=\"T_da20f_row64_col5\" class=\"data row64 col5\" ><a href=\"https://platform.worldquantbrain.com/alpha/xxqxoab\">xxqxoab</a></td>\n",
       "      <td id=\"T_da20f_row64_col6\" class=\"data row64 col6\" >ts_skewness(vec_avg(mws92_djnews_score_m2),120)</td>\n",
       "      <td id=\"T_da20f_row64_col7\" class=\"data row64 col7\" >group_rank(ts_skewness(vec_avg(mws92_djnews_score_m2),120),sector)</td>\n",
       "    </tr>\n",
       "    <tr>\n",
       "      <th id=\"T_da20f_level0_row65\" class=\"row_heading level0 row65\" >65</th>\n",
       "      <td id=\"T_da20f_row65_col0\" class=\"data row65 col0\" >0.210000</td>\n",
       "      <td id=\"T_da20f_row65_col1\" class=\"data row65 col1\" >0.130000</td>\n",
       "      <td id=\"T_da20f_row65_col2\" class=\"data row65 col2\" >0.550000</td>\n",
       "      <td id=\"T_da20f_row65_col3\" class=\"data row65 col3\" >0.410000</td>\n",
       "      <td id=\"T_da20f_row65_col4\" class=\"data row65 col4\" ><a href=\"https://platform.worldquantbrain.com/alpha/6wn6WzP\">6wn6WzP</a></td>\n",
       "      <td id=\"T_da20f_row65_col5\" class=\"data row65 col5\" ><a href=\"https://platform.worldquantbrain.com/alpha/WpMpx2P\">WpMpx2P</a></td>\n",
       "      <td id=\"T_da20f_row65_col6\" class=\"data row65 col6\" >ts_skewness(vec_avg(mws38_storyanalytics_type),120)</td>\n",
       "      <td id=\"T_da20f_row65_col7\" class=\"data row65 col7\" >group_rank(ts_skewness(vec_avg(mws38_storyanalytics_type),120),sector)</td>\n",
       "    </tr>\n",
       "    <tr>\n",
       "      <th id=\"T_da20f_level0_row66\" class=\"row_heading level0 row66\" >66</th>\n",
       "      <td id=\"T_da20f_row66_col0\" class=\"data row66 col0\" >0.480000</td>\n",
       "      <td id=\"T_da20f_row66_col1\" class=\"data row66 col1\" >0.140000</td>\n",
       "      <td id=\"T_da20f_row66_col2\" class=\"data row66 col2\" >0.540000</td>\n",
       "      <td id=\"T_da20f_row66_col3\" class=\"data row66 col3\" >0.480000</td>\n",
       "      <td id=\"T_da20f_row66_col4\" class=\"data row66 col4\" ><a href=\"https://platform.worldquantbrain.com/alpha/wR8dO6Y\">wR8dO6Y</a></td>\n",
       "      <td id=\"T_da20f_row66_col5\" class=\"data row66 col5\" ><a href=\"https://platform.worldquantbrain.com/alpha/Kb3bp0N\">Kb3bp0N</a></td>\n",
       "      <td id=\"T_da20f_row66_col6\" class=\"data row66 col6\" >ts_skewness(vec_avg(mws92_tr_trna_eq_score_m2),120)</td>\n",
       "      <td id=\"T_da20f_row66_col7\" class=\"data row66 col7\" >group_rank(ts_skewness(vec_avg(mws92_tr_trna_eq_score_m2),120),sector)</td>\n",
       "    </tr>\n",
       "    <tr>\n",
       "      <th id=\"T_da20f_level0_row67\" class=\"row_heading level0 row67\" >67</th>\n",
       "      <td id=\"T_da20f_row67_col0\" class=\"data row67 col0\" >0.270000</td>\n",
       "      <td id=\"T_da20f_row67_col1\" class=\"data row67 col1\" >0.250000</td>\n",
       "      <td id=\"T_da20f_row67_col2\" class=\"data row67 col2\" >0.530000</td>\n",
       "      <td id=\"T_da20f_row67_col3\" class=\"data row67 col3\" >0.480000</td>\n",
       "      <td id=\"T_da20f_row67_col4\" class=\"data row67 col4\" ><a href=\"https://platform.worldquantbrain.com/alpha/adrmx25\">adrmx25</a></td>\n",
       "      <td id=\"T_da20f_row67_col5\" class=\"data row67 col5\" ><a href=\"https://platform.worldquantbrain.com/alpha/VpVbQEV\">VpVbQEV</a></td>\n",
       "      <td id=\"T_da20f_row67_col6\" class=\"data row67 col6\" >ts_skewness(vec_avg(fnd14_lts_csh_csh_opr_act_qtr_2),120)</td>\n",
       "      <td id=\"T_da20f_row67_col7\" class=\"data row67 col7\" >group_rank(ts_skewness(vec_avg(fnd14_lts_csh_csh_opr_act_qtr_2),120),sector)</td>\n",
       "    </tr>\n",
       "    <tr>\n",
       "      <th id=\"T_da20f_level0_row68\" class=\"row_heading level0 row68\" >68</th>\n",
       "      <td id=\"T_da20f_row68_col0\" class=\"data row68 col0\" >0.260000</td>\n",
       "      <td id=\"T_da20f_row68_col1\" class=\"data row68 col1\" >0.230000</td>\n",
       "      <td id=\"T_da20f_row68_col2\" class=\"data row68 col2\" >0.530000</td>\n",
       "      <td id=\"T_da20f_row68_col3\" class=\"data row68 col3\" >0.500000</td>\n",
       "      <td id=\"T_da20f_row68_col4\" class=\"data row68 col4\" ><a href=\"https://platform.worldquantbrain.com/alpha/RpJOrOo\">RpJOrOo</a></td>\n",
       "      <td id=\"T_da20f_row68_col5\" class=\"data row68 col5\" ><a href=\"https://platform.worldquantbrain.com/alpha/Kb3MA6j\">Kb3MA6j</a></td>\n",
       "      <td id=\"T_da20f_row68_col6\" class=\"data row68 col6\" >ts_skewness(vec_avg(oth78_fiscalquarter),120)</td>\n",
       "      <td id=\"T_da20f_row68_col7\" class=\"data row68 col7\" >group_rank(ts_skewness(vec_avg(oth78_fiscalquarter),120),sector)</td>\n",
       "    </tr>\n",
       "    <tr>\n",
       "      <th id=\"T_da20f_level0_row69\" class=\"row_heading level0 row69\" >69</th>\n",
       "      <td id=\"T_da20f_row69_col0\" class=\"data row69 col0\" >0.650000</td>\n",
       "      <td id=\"T_da20f_row69_col1\" class=\"data row69 col1\" >0.630000</td>\n",
       "      <td id=\"T_da20f_row69_col2\" class=\"data row69 col2\" >0.530000</td>\n",
       "      <td id=\"T_da20f_row69_col3\" class=\"data row69 col3\" >0.530000</td>\n",
       "      <td id=\"T_da20f_row69_col4\" class=\"data row69 col4\" ><a href=\"https://platform.worldquantbrain.com/alpha/wR87EkQ\">wR87EkQ</a></td>\n",
       "      <td id=\"T_da20f_row69_col5\" class=\"data row69 col5\" ><a href=\"https://platform.worldquantbrain.com/alpha/Zp6v83j\">Zp6v83j</a></td>\n",
       "      <td id=\"T_da20f_row69_col6\" class=\"data row69 col6\" >ts_skewness(vec_avg(fnd14_former_name2),120)</td>\n",
       "      <td id=\"T_da20f_row69_col7\" class=\"data row69 col7\" >group_rank(ts_skewness(vec_avg(fnd14_former_name2),120),sector)</td>\n",
       "    </tr>\n",
       "    <tr>\n",
       "      <th id=\"T_da20f_level0_row70\" class=\"row_heading level0 row70\" >70</th>\n",
       "      <td id=\"T_da20f_row70_col0\" class=\"data row70 col0\" >0.340000</td>\n",
       "      <td id=\"T_da20f_row70_col1\" class=\"data row70 col1\" >0.240000</td>\n",
       "      <td id=\"T_da20f_row70_col2\" class=\"data row70 col2\" >0.520000</td>\n",
       "      <td id=\"T_da20f_row70_col3\" class=\"data row70 col3\" >0.420000</td>\n",
       "      <td id=\"T_da20f_row70_col4\" class=\"data row70 col4\" ><a href=\"https://platform.worldquantbrain.com/alpha/dxprQev\">dxprQev</a></td>\n",
       "      <td id=\"T_da20f_row70_col5\" class=\"data row70 col5\" ><a href=\"https://platform.worldquantbrain.com/alpha/PpNmRa7\">PpNmRa7</a></td>\n",
       "      <td id=\"T_da20f_row70_col6\" class=\"data row70 col6\" >ts_skewness(vec_avg(pv64_rpx_stal_px_low),120)</td>\n",
       "      <td id=\"T_da20f_row70_col7\" class=\"data row70 col7\" >group_rank(ts_skewness(vec_avg(pv64_rpx_stal_px_low),120),sector)</td>\n",
       "    </tr>\n",
       "    <tr>\n",
       "      <th id=\"T_da20f_level0_row71\" class=\"row_heading level0 row71\" >71</th>\n",
       "      <td id=\"T_da20f_row71_col0\" class=\"data row71 col0\" >0.260000</td>\n",
       "      <td id=\"T_da20f_row71_col1\" class=\"data row71 col1\" >0.240000</td>\n",
       "      <td id=\"T_da20f_row71_col2\" class=\"data row71 col2\" >0.520000</td>\n",
       "      <td id=\"T_da20f_row71_col3\" class=\"data row71 col3\" >0.510000</td>\n",
       "      <td id=\"T_da20f_row71_col4\" class=\"data row71 col4\" ><a href=\"https://platform.worldquantbrain.com/alpha/vLKERQb\">vLKERQb</a></td>\n",
       "      <td id=\"T_da20f_row71_col5\" class=\"data row71 col5\" ><a href=\"https://platform.worldquantbrain.com/alpha/XpGA3Qz\">XpGA3Qz</a></td>\n",
       "      <td id=\"T_da20f_row71_col6\" class=\"data row71 col6\" >ts_skewness(vec_avg(nws48_relevance),120)</td>\n",
       "      <td id=\"T_da20f_row71_col7\" class=\"data row71 col7\" >group_rank(ts_skewness(vec_avg(nws48_relevance),120),sector)</td>\n",
       "    </tr>\n",
       "    <tr>\n",
       "      <th id=\"T_da20f_level0_row72\" class=\"row_heading level0 row72\" >72</th>\n",
       "      <td id=\"T_da20f_row72_col0\" class=\"data row72 col0\" >0.400000</td>\n",
       "      <td id=\"T_da20f_row72_col1\" class=\"data row72 col1\" >0.380000</td>\n",
       "      <td id=\"T_da20f_row72_col2\" class=\"data row72 col2\" >0.520000</td>\n",
       "      <td id=\"T_da20f_row72_col3\" class=\"data row72 col3\" >0.610000</td>\n",
       "      <td id=\"T_da20f_row72_col4\" class=\"data row72 col4\" ><a href=\"https://platform.worldquantbrain.com/alpha/k3d6nzg\">k3d6nzg</a></td>\n",
       "      <td id=\"T_da20f_row72_col5\" class=\"data row72 col5\" ><a href=\"https://platform.worldquantbrain.com/alpha/z9ZnxrG\">z9ZnxrG</a></td>\n",
       "      <td id=\"T_da20f_row72_col6\" class=\"data row72 col6\" >ts_skewness(vec_avg(pv64_rpx_stal_fund_pct_premium),120)</td>\n",
       "      <td id=\"T_da20f_row72_col7\" class=\"data row72 col7\" >group_rank(ts_skewness(vec_avg(pv64_rpx_stal_fund_pct_premium),120),sector)</td>\n",
       "    </tr>\n",
       "    <tr>\n",
       "      <th id=\"T_da20f_level0_row73\" class=\"row_heading level0 row73\" >73</th>\n",
       "      <td id=\"T_da20f_row73_col0\" class=\"data row73 col0\" >0.440000</td>\n",
       "      <td id=\"T_da20f_row73_col1\" class=\"data row73 col1\" >0.480000</td>\n",
       "      <td id=\"T_da20f_row73_col2\" class=\"data row73 col2\" >0.510000</td>\n",
       "      <td id=\"T_da20f_row73_col3\" class=\"data row73 col3\" >0.540000</td>\n",
       "      <td id=\"T_da20f_row73_col4\" class=\"data row73 col4\" ><a href=\"https://platform.worldquantbrain.com/alpha/Xpj3pwm\">Xpj3pwm</a></td>\n",
       "      <td id=\"T_da20f_row73_col5\" class=\"data row73 col5\" ><a href=\"https://platform.worldquantbrain.com/alpha/vL8XEOb\">vL8XEOb</a></td>\n",
       "      <td id=\"T_da20f_row73_col6\" class=\"data row73 col6\" >ts_skewness(vec_avg(oth78_fullyearflag),120)</td>\n",
       "      <td id=\"T_da20f_row73_col7\" class=\"data row73 col7\" >group_rank(ts_skewness(vec_avg(oth78_fullyearflag),120),sector)</td>\n",
       "    </tr>\n",
       "    <tr>\n",
       "      <th id=\"T_da20f_level0_row74\" class=\"row_heading level0 row74\" >74</th>\n",
       "      <td id=\"T_da20f_row74_col0\" class=\"data row74 col0\" >0.420000</td>\n",
       "      <td id=\"T_da20f_row74_col1\" class=\"data row74 col1\" >0.660000</td>\n",
       "      <td id=\"T_da20f_row74_col2\" class=\"data row74 col2\" >0.510000</td>\n",
       "      <td id=\"T_da20f_row74_col3\" class=\"data row74 col3\" >0.640000</td>\n",
       "      <td id=\"T_da20f_row74_col4\" class=\"data row74 col4\" ><a href=\"https://platform.worldquantbrain.com/alpha/ro1aP9J\">ro1aP9J</a></td>\n",
       "      <td id=\"T_da20f_row74_col5\" class=\"data row74 col5\" ><a href=\"https://platform.worldquantbrain.com/alpha/OpOXLA1\">OpOXLA1</a></td>\n",
       "      <td id=\"T_da20f_row74_col6\" class=\"data row74 col6\" >ts_skewness(vec_avg(fnd14_former_name1),120)</td>\n",
       "      <td id=\"T_da20f_row74_col7\" class=\"data row74 col7\" >group_rank(ts_skewness(vec_avg(fnd14_former_name1),120),sector)</td>\n",
       "    </tr>\n",
       "    <tr>\n",
       "      <th id=\"T_da20f_level0_row75\" class=\"row_heading level0 row75\" >75</th>\n",
       "      <td id=\"T_da20f_row75_col0\" class=\"data row75 col0\" >0.340000</td>\n",
       "      <td id=\"T_da20f_row75_col1\" class=\"data row75 col1\" >0.220000</td>\n",
       "      <td id=\"T_da20f_row75_col2\" class=\"data row75 col2\" >0.510000</td>\n",
       "      <td id=\"T_da20f_row75_col3\" class=\"data row75 col3\" >0.380000</td>\n",
       "      <td id=\"T_da20f_row75_col4\" class=\"data row75 col4\" ><a href=\"https://platform.worldquantbrain.com/alpha/Xpj3pZb\">Xpj3pZb</a></td>\n",
       "      <td id=\"T_da20f_row75_col5\" class=\"data row75 col5\" ><a href=\"https://platform.worldquantbrain.com/alpha/p6me2qo\">p6me2qo</a></td>\n",
       "      <td id=\"T_da20f_row75_col6\" class=\"data row75 col6\" >ts_skewness(vec_avg(oth84_1_wshactualeps),120)</td>\n",
       "      <td id=\"T_da20f_row75_col7\" class=\"data row75 col7\" >group_rank(ts_skewness(vec_avg(oth84_1_wshactualeps),120),sector)</td>\n",
       "    </tr>\n",
       "    <tr>\n",
       "      <th id=\"T_da20f_level0_row76\" class=\"row_heading level0 row76\" >76</th>\n",
       "      <td id=\"T_da20f_row76_col0\" class=\"data row76 col0\" >0.600000</td>\n",
       "      <td id=\"T_da20f_row76_col1\" class=\"data row76 col1\" >0.040000</td>\n",
       "      <td id=\"T_da20f_row76_col2\" class=\"data row76 col2\" >0.500000</td>\n",
       "      <td id=\"T_da20f_row76_col3\" class=\"data row76 col3\" >0.130000</td>\n",
       "      <td id=\"T_da20f_row76_col4\" class=\"data row76 col4\" ><a href=\"https://platform.worldquantbrain.com/alpha/vLK7rY3\">vLK7rY3</a></td>\n",
       "      <td id=\"T_da20f_row76_col5\" class=\"data row76 col5\" ><a href=\"https://platform.worldquantbrain.com/alpha/ad690rO\">ad690rO</a></td>\n",
       "      <td id=\"T_da20f_row76_col6\" class=\"data row76 col6\" >ts_skewness(vec_avg(fnd14_lts_csh_csh_inv_act_qtr_2),120)</td>\n",
       "      <td id=\"T_da20f_row76_col7\" class=\"data row76 col7\" >group_rank(ts_skewness(vec_avg(fnd14_lts_csh_csh_inv_act_qtr_2),120),sector)</td>\n",
       "    </tr>\n",
       "    <tr>\n",
       "      <th id=\"T_da20f_level0_row77\" class=\"row_heading level0 row77\" >77</th>\n",
       "      <td id=\"T_da20f_row77_col0\" class=\"data row77 col0\" >0.480000</td>\n",
       "      <td id=\"T_da20f_row77_col1\" class=\"data row77 col1\" >-0.000000</td>\n",
       "      <td id=\"T_da20f_row77_col2\" class=\"data row77 col2\" >0.490000</td>\n",
       "      <td id=\"T_da20f_row77_col3\" class=\"data row77 col3\" >-0.030000</td>\n",
       "      <td id=\"T_da20f_row77_col4\" class=\"data row77 col4\" ><a href=\"https://platform.worldquantbrain.com/alpha/lVLwwz5\">lVLwwz5</a></td>\n",
       "      <td id=\"T_da20f_row77_col5\" class=\"data row77 col5\" ><a href=\"https://platform.worldquantbrain.com/alpha/LpWYvPM\">LpWYvPM</a></td>\n",
       "      <td id=\"T_da20f_row77_col6\" class=\"data row77 col6\" >ts_skewness(vec_avg(mws38_negative_freq),120)</td>\n",
       "      <td id=\"T_da20f_row77_col7\" class=\"data row77 col7\" >group_rank(ts_skewness(vec_avg(mws38_negative_freq),120),sector)</td>\n",
       "    </tr>\n",
       "    <tr>\n",
       "      <th id=\"T_da20f_level0_row78\" class=\"row_heading level0 row78\" >78</th>\n",
       "      <td id=\"T_da20f_row78_col0\" class=\"data row78 col0\" >0.330000</td>\n",
       "      <td id=\"T_da20f_row78_col1\" class=\"data row78 col1\" >0.180000</td>\n",
       "      <td id=\"T_da20f_row78_col2\" class=\"data row78 col2\" >0.490000</td>\n",
       "      <td id=\"T_da20f_row78_col3\" class=\"data row78 col3\" >0.330000</td>\n",
       "      <td id=\"T_da20f_row78_col4\" class=\"data row78 col4\" ><a href=\"https://platform.worldquantbrain.com/alpha/qAKagGP\">qAKagGP</a></td>\n",
       "      <td id=\"T_da20f_row78_col5\" class=\"data row78 col5\" ><a href=\"https://platform.worldquantbrain.com/alpha/m8pWGj2\">m8pWGj2</a></td>\n",
       "      <td id=\"T_da20f_row78_col6\" class=\"data row78 col6\" >ts_skewness(vec_avg(oth323_pxtls),120)</td>\n",
       "      <td id=\"T_da20f_row78_col7\" class=\"data row78 col7\" >group_rank(ts_skewness(vec_avg(oth323_pxtls),120),sector)</td>\n",
       "    </tr>\n",
       "    <tr>\n",
       "      <th id=\"T_da20f_level0_row79\" class=\"row_heading level0 row79\" >79</th>\n",
       "      <td id=\"T_da20f_row79_col0\" class=\"data row79 col0\" >0.270000</td>\n",
       "      <td id=\"T_da20f_row79_col1\" class=\"data row79 col1\" >0.270000</td>\n",
       "      <td id=\"T_da20f_row79_col2\" class=\"data row79 col2\" >0.480000</td>\n",
       "      <td id=\"T_da20f_row79_col3\" class=\"data row79 col3\" >0.480000</td>\n",
       "      <td id=\"T_da20f_row79_col4\" class=\"data row79 col4\" ><a href=\"https://platform.worldquantbrain.com/alpha/6wnWOVp\">6wnWOVp</a></td>\n",
       "      <td id=\"T_da20f_row79_col5\" class=\"data row79 col5\" ><a href=\"https://platform.worldquantbrain.com/alpha/LpWYv7n\">LpWYv7n</a></td>\n",
       "      <td id=\"T_da20f_row79_col6\" class=\"data row79 col6\" >ts_skewness(vec_avg(mws54_keydevelopments_headline),120)</td>\n",
       "      <td id=\"T_da20f_row79_col7\" class=\"data row79 col7\" >group_rank(ts_skewness(vec_avg(mws54_keydevelopments_headline),120),sector)</td>\n",
       "    </tr>\n",
       "    <tr>\n",
       "      <th id=\"T_da20f_level0_row80\" class=\"row_heading level0 row80\" >80</th>\n",
       "      <td id=\"T_da20f_row80_col0\" class=\"data row80 col0\" >0.280000</td>\n",
       "      <td id=\"T_da20f_row80_col1\" class=\"data row80 col1\" >0.360000</td>\n",
       "      <td id=\"T_da20f_row80_col2\" class=\"data row80 col2\" >0.480000</td>\n",
       "      <td id=\"T_da20f_row80_col3\" class=\"data row80 col3\" >0.730000</td>\n",
       "      <td id=\"T_da20f_row80_col4\" class=\"data row80 col4\" ><a href=\"https://platform.worldquantbrain.com/alpha/VpVbxKM\">VpVbxKM</a></td>\n",
       "      <td id=\"T_da20f_row80_col5\" class=\"data row80 col5\" ><a href=\"https://platform.worldquantbrain.com/alpha/dxprMjK\">dxprMjK</a></td>\n",
       "      <td id=\"T_da20f_row80_col6\" class=\"data row80 col6\" >ts_skewness(vec_avg(shrt3_utilizationpercent_units),120)</td>\n",
       "      <td id=\"T_da20f_row80_col7\" class=\"data row80 col7\" >group_rank(ts_skewness(vec_avg(shrt3_utilizationpercent_units),120),sector)</td>\n",
       "    </tr>\n",
       "    <tr>\n",
       "      <th id=\"T_da20f_level0_row81\" class=\"row_heading level0 row81\" >81</th>\n",
       "      <td id=\"T_da20f_row81_col0\" class=\"data row81 col0\" >0.300000</td>\n",
       "      <td id=\"T_da20f_row81_col1\" class=\"data row81 col1\" >-0.010000</td>\n",
       "      <td id=\"T_da20f_row81_col2\" class=\"data row81 col2\" >0.480000</td>\n",
       "      <td id=\"T_da20f_row81_col3\" class=\"data row81 col3\" >-0.090000</td>\n",
       "      <td id=\"T_da20f_row81_col4\" class=\"data row81 col4\" ><a href=\"https://platform.worldquantbrain.com/alpha/AwRpWpg\">AwRpWpg</a></td>\n",
       "      <td id=\"T_da20f_row81_col5\" class=\"data row81 col5\" ><a href=\"https://platform.worldquantbrain.com/alpha/eOmZY1M\">eOmZY1M</a></td>\n",
       "      <td id=\"T_da20f_row81_col6\" class=\"data row81 col6\" >ts_skewness(vec_avg(mws50_vea),120)</td>\n",
       "      <td id=\"T_da20f_row81_col7\" class=\"data row81 col7\" >group_rank(ts_skewness(vec_avg(mws50_vea),120),sector)</td>\n",
       "    </tr>\n",
       "    <tr>\n",
       "      <th id=\"T_da20f_level0_row82\" class=\"row_heading level0 row82\" >82</th>\n",
       "      <td id=\"T_da20f_row82_col0\" class=\"data row82 col0\" >0.500000</td>\n",
       "      <td id=\"T_da20f_row82_col1\" class=\"data row82 col1\" >0.490000</td>\n",
       "      <td id=\"T_da20f_row82_col2\" class=\"data row82 col2\" >0.460000</td>\n",
       "      <td id=\"T_da20f_row82_col3\" class=\"data row82 col3\" >0.440000</td>\n",
       "      <td id=\"T_da20f_row82_col4\" class=\"data row82 col4\" ><a href=\"https://platform.worldquantbrain.com/alpha/KbKAmK8\">KbKAmK8</a></td>\n",
       "      <td id=\"T_da20f_row82_col5\" class=\"data row82 col5\" ><a href=\"https://platform.worldquantbrain.com/alpha/XpGA3Vm\">XpGA3Vm</a></td>\n",
       "      <td id=\"T_da20f_row82_col6\" class=\"data row82 col6\" >ts_skewness(vec_avg(fnd14_naics_code_description),120)</td>\n",
       "      <td id=\"T_da20f_row82_col7\" class=\"data row82 col7\" >group_rank(ts_skewness(vec_avg(fnd14_naics_code_description),120),sector)</td>\n",
       "    </tr>\n",
       "    <tr>\n",
       "      <th id=\"T_da20f_level0_row83\" class=\"row_heading level0 row83\" >83</th>\n",
       "      <td id=\"T_da20f_row83_col0\" class=\"data row83 col0\" >0.440000</td>\n",
       "      <td id=\"T_da20f_row83_col1\" class=\"data row83 col1\" >-0.170000</td>\n",
       "      <td id=\"T_da20f_row83_col2\" class=\"data row83 col2\" >0.460000</td>\n",
       "      <td id=\"T_da20f_row83_col3\" class=\"data row83 col3\" >-0.450000</td>\n",
       "      <td id=\"T_da20f_row83_col4\" class=\"data row83 col4\" ><a href=\"https://platform.worldquantbrain.com/alpha/OpOjrPJ\">OpOjrPJ</a></td>\n",
       "      <td id=\"T_da20f_row83_col5\" class=\"data row83 col5\" ><a href=\"https://platform.worldquantbrain.com/alpha/GwP52XJ\">GwP52XJ</a></td>\n",
       "      <td id=\"T_da20f_row83_col6\" class=\"data row83 col6\" >ts_skewness(vec_avg(pv64_dif_min_subsequent_invest),120)</td>\n",
       "      <td id=\"T_da20f_row83_col7\" class=\"data row83 col7\" >group_rank(ts_skewness(vec_avg(pv64_dif_min_subsequent_invest),120),sector)</td>\n",
       "    </tr>\n",
       "    <tr>\n",
       "      <th id=\"T_da20f_level0_row84\" class=\"row_heading level0 row84\" >84</th>\n",
       "      <td id=\"T_da20f_row84_col0\" class=\"data row84 col0\" >0.220000</td>\n",
       "      <td id=\"T_da20f_row84_col1\" class=\"data row84 col1\" >-0.040000</td>\n",
       "      <td id=\"T_da20f_row84_col2\" class=\"data row84 col2\" >0.450000</td>\n",
       "      <td id=\"T_da20f_row84_col3\" class=\"data row84 col3\" >-0.210000</td>\n",
       "      <td id=\"T_da20f_row84_col4\" class=\"data row84 col4\" ><a href=\"https://platform.worldquantbrain.com/alpha/Ypj3ElJ\">Ypj3ElJ</a></td>\n",
       "      <td id=\"T_da20f_row84_col5\" class=\"data row84 col5\" ><a href=\"https://platform.worldquantbrain.com/alpha/ad695k6\">ad695k6</a></td>\n",
       "      <td id=\"T_da20f_row84_col6\" class=\"data row84 col6\" >ts_skewness(vec_avg(nws20_d1_ber),120)</td>\n",
       "      <td id=\"T_da20f_row84_col7\" class=\"data row84 col7\" >group_rank(ts_skewness(vec_avg(nws20_d1_ber),120),sector)</td>\n",
       "    </tr>\n",
       "    <tr>\n",
       "      <th id=\"T_da20f_level0_row85\" class=\"row_heading level0 row85\" >85</th>\n",
       "      <td id=\"T_da20f_row85_col0\" class=\"data row85 col0\" >0.430000</td>\n",
       "      <td id=\"T_da20f_row85_col1\" class=\"data row85 col1\" >0.440000</td>\n",
       "      <td id=\"T_da20f_row85_col2\" class=\"data row85 col2\" >0.450000</td>\n",
       "      <td id=\"T_da20f_row85_col3\" class=\"data row85 col3\" >0.460000</td>\n",
       "      <td id=\"T_da20f_row85_col4\" class=\"data row85 col4\" ><a href=\"https://platform.worldquantbrain.com/alpha/QaMp9YW\">QaMp9YW</a></td>\n",
       "      <td id=\"T_da20f_row85_col5\" class=\"data row85 col5\" ><a href=\"https://platform.worldquantbrain.com/alpha/dxprN5g\">dxprN5g</a></td>\n",
       "      <td id=\"T_da20f_row85_col6\" class=\"data row85 col6\" >ts_skewness(vec_avg(pv64_stal_hist_trr_prev_5yr),120)</td>\n",
       "      <td id=\"T_da20f_row85_col7\" class=\"data row85 col7\" >group_rank(ts_skewness(vec_avg(pv64_stal_hist_trr_prev_5yr),120),sector)</td>\n",
       "    </tr>\n",
       "    <tr>\n",
       "      <th id=\"T_da20f_level0_row86\" class=\"row_heading level0 row86\" >86</th>\n",
       "      <td id=\"T_da20f_row86_col0\" class=\"data row86 col0\" >0.310000</td>\n",
       "      <td id=\"T_da20f_row86_col1\" class=\"data row86 col1\" >0.110000</td>\n",
       "      <td id=\"T_da20f_row86_col2\" class=\"data row86 col2\" >0.450000</td>\n",
       "      <td id=\"T_da20f_row86_col3\" class=\"data row86 col3\" >0.430000</td>\n",
       "      <td id=\"T_da20f_row86_col4\" class=\"data row86 col4\" ><a href=\"https://platform.worldquantbrain.com/alpha/LpPvb1a\">LpPvb1a</a></td>\n",
       "      <td id=\"T_da20f_row86_col5\" class=\"data row86 col5\" ><a href=\"https://platform.worldquantbrain.com/alpha/OpOXl0b\">OpOXl0b</a></td>\n",
       "      <td id=\"T_da20f_row86_col6\" class=\"data row86 col6\" >ts_skewness(vec_avg(mws92_inferess_v2_score_m2),120)</td>\n",
       "      <td id=\"T_da20f_row86_col7\" class=\"data row86 col7\" >group_rank(ts_skewness(vec_avg(mws92_inferess_v2_score_m2),120),sector)</td>\n",
       "    </tr>\n",
       "    <tr>\n",
       "      <th id=\"T_da20f_level0_row87\" class=\"row_heading level0 row87\" >87</th>\n",
       "      <td id=\"T_da20f_row87_col0\" class=\"data row87 col0\" >0.350000</td>\n",
       "      <td id=\"T_da20f_row87_col1\" class=\"data row87 col1\" >-0.080000</td>\n",
       "      <td id=\"T_da20f_row87_col2\" class=\"data row87 col2\" >0.440000</td>\n",
       "      <td id=\"T_da20f_row87_col3\" class=\"data row87 col3\" >-0.220000</td>\n",
       "      <td id=\"T_da20f_row87_col4\" class=\"data row87 col4\" ><a href=\"https://platform.worldquantbrain.com/alpha/LpPoGAn\">LpPoGAn</a></td>\n",
       "      <td id=\"T_da20f_row87_col5\" class=\"data row87 col5\" ><a href=\"https://platform.worldquantbrain.com/alpha/qA8JR1Z\">qA8JR1Z</a></td>\n",
       "      <td id=\"T_da20f_row87_col6\" class=\"data row87 col6\" >ts_skewness(vec_avg(fnd14_hiwater_incmst_revenue_fy),120)</td>\n",
       "      <td id=\"T_da20f_row87_col7\" class=\"data row87 col7\" >group_rank(ts_skewness(vec_avg(fnd14_hiwater_incmst_revenue_fy),120),sector)</td>\n",
       "    </tr>\n",
       "    <tr>\n",
       "      <th id=\"T_da20f_level0_row88\" class=\"row_heading level0 row88\" >88</th>\n",
       "      <td id=\"T_da20f_row88_col0\" class=\"data row88 col0\" >0.450000</td>\n",
       "      <td id=\"T_da20f_row88_col1\" class=\"data row88 col1\" >0.430000</td>\n",
       "      <td id=\"T_da20f_row88_col2\" class=\"data row88 col2\" >0.440000</td>\n",
       "      <td id=\"T_da20f_row88_col3\" class=\"data row88 col3\" >0.420000</td>\n",
       "      <td id=\"T_da20f_row88_col4\" class=\"data row88 col4\" ><a href=\"https://platform.worldquantbrain.com/alpha/g1YlEgQ\">g1YlEgQ</a></td>\n",
       "      <td id=\"T_da20f_row88_col5\" class=\"data row88 col5\" ><a href=\"https://platform.worldquantbrain.com/alpha/dxprGXE\">dxprGXE</a></td>\n",
       "      <td id=\"T_da20f_row88_col6\" class=\"data row88 col6\" >ts_skewness(vec_avg(mws54_eventerinfo_calendarmonth),120)</td>\n",
       "      <td id=\"T_da20f_row88_col7\" class=\"data row88 col7\" >group_rank(ts_skewness(vec_avg(mws54_eventerinfo_calendarmonth),120),sector)</td>\n",
       "    </tr>\n",
       "    <tr>\n",
       "      <th id=\"T_da20f_level0_row89\" class=\"row_heading level0 row89\" >89</th>\n",
       "      <td id=\"T_da20f_row89_col0\" class=\"data row89 col0\" >0.610000</td>\n",
       "      <td id=\"T_da20f_row89_col1\" class=\"data row89 col1\" >0.190000</td>\n",
       "      <td id=\"T_da20f_row89_col2\" class=\"data row89 col2\" >0.440000</td>\n",
       "      <td id=\"T_da20f_row89_col3\" class=\"data row89 col3\" >0.410000</td>\n",
       "      <td id=\"T_da20f_row89_col4\" class=\"data row89 col4\" ><a href=\"https://platform.worldquantbrain.com/alpha/adrm1qv\">adrm1qv</a></td>\n",
       "      <td id=\"T_da20f_row89_col5\" class=\"data row89 col5\" ><a href=\"https://platform.worldquantbrain.com/alpha/17eAM9z\">17eAM9z</a></td>\n",
       "      <td id=\"T_da20f_row89_col6\" class=\"data row89 col6\" >ts_skewness(vec_avg(fnd14_hiwater_incmst_net_income_ttm),120)</td>\n",
       "      <td id=\"T_da20f_row89_col7\" class=\"data row89 col7\" >group_rank(ts_skewness(vec_avg(fnd14_hiwater_incmst_net_income_ttm),120),sector)</td>\n",
       "    </tr>\n",
       "    <tr>\n",
       "      <th id=\"T_da20f_level0_row90\" class=\"row_heading level0 row90\" >90</th>\n",
       "      <td id=\"T_da20f_row90_col0\" class=\"data row90 col0\" >0.360000</td>\n",
       "      <td id=\"T_da20f_row90_col1\" class=\"data row90 col1\" >0.510000</td>\n",
       "      <td id=\"T_da20f_row90_col2\" class=\"data row90 col2\" >0.430000</td>\n",
       "      <td id=\"T_da20f_row90_col3\" class=\"data row90 col3\" >0.540000</td>\n",
       "      <td id=\"T_da20f_row90_col4\" class=\"data row90 col4\" ><a href=\"https://platform.worldquantbrain.com/alpha/07q2MGp\">07q2MGp</a></td>\n",
       "      <td id=\"T_da20f_row90_col5\" class=\"data row90 col5\" ><a href=\"https://platform.worldquantbrain.com/alpha/xxqpZjp\">xxqpZjp</a></td>\n",
       "      <td id=\"T_da20f_row90_col6\" class=\"data row90 col6\" >ts_skewness(vec_avg(pv64_stal_hist_trr_prev_4yr),120)</td>\n",
       "      <td id=\"T_da20f_row90_col7\" class=\"data row90 col7\" >group_rank(ts_skewness(vec_avg(pv64_stal_hist_trr_prev_4yr),120),sector)</td>\n",
       "    </tr>\n",
       "    <tr>\n",
       "      <th id=\"T_da20f_level0_row91\" class=\"row_heading level0 row91\" >91</th>\n",
       "      <td id=\"T_da20f_row91_col0\" class=\"data row91 col0\" >0.360000</td>\n",
       "      <td id=\"T_da20f_row91_col1\" class=\"data row91 col1\" >0.460000</td>\n",
       "      <td id=\"T_da20f_row91_col2\" class=\"data row91 col2\" >0.420000</td>\n",
       "      <td id=\"T_da20f_row91_col3\" class=\"data row91 col3\" >0.500000</td>\n",
       "      <td id=\"T_da20f_row91_col4\" class=\"data row91 col4\" ><a href=\"https://platform.worldquantbrain.com/alpha/oK1jo0k\">oK1jo0k</a></td>\n",
       "      <td id=\"T_da20f_row91_col5\" class=\"data row91 col5\" ><a href=\"https://platform.worldquantbrain.com/alpha/roYMx51\">roYMx51</a></td>\n",
       "      <td id=\"T_da20f_row91_col6\" class=\"data row91 col6\" >ts_skewness(vec_avg(fnd14_russell_2000),120)</td>\n",
       "      <td id=\"T_da20f_row91_col7\" class=\"data row91 col7\" >group_rank(ts_skewness(vec_avg(fnd14_russell_2000),120),sector)</td>\n",
       "    </tr>\n",
       "    <tr>\n",
       "      <th id=\"T_da20f_level0_row92\" class=\"row_heading level0 row92\" >92</th>\n",
       "      <td id=\"T_da20f_row92_col0\" class=\"data row92 col0\" >0.220000</td>\n",
       "      <td id=\"T_da20f_row92_col1\" class=\"data row92 col1\" >0.640000</td>\n",
       "      <td id=\"T_da20f_row92_col2\" class=\"data row92 col2\" >0.420000</td>\n",
       "      <td id=\"T_da20f_row92_col3\" class=\"data row92 col3\" >0.920000</td>\n",
       "      <td id=\"T_da20f_row92_col4\" class=\"data row92 col4\" ><a href=\"https://platform.worldquantbrain.com/alpha/ng1GNd8\">ng1GNd8</a></td>\n",
       "      <td id=\"T_da20f_row92_col5\" class=\"data row92 col5\" ><a href=\"https://platform.worldquantbrain.com/alpha/Kb3M1Oj\">Kb3M1Oj</a></td>\n",
       "      <td id=\"T_da20f_row92_col6\" class=\"data row92 col6\" >ts_skewness(vec_avg(fnd14_hiwater_incmst_revenue_ttm),120)</td>\n",
       "      <td id=\"T_da20f_row92_col7\" class=\"data row92 col7\" >group_rank(ts_skewness(vec_avg(fnd14_hiwater_incmst_revenue_ttm),120),sector)</td>\n",
       "    </tr>\n",
       "    <tr>\n",
       "      <th id=\"T_da20f_level0_row93\" class=\"row_heading level0 row93\" >93</th>\n",
       "      <td id=\"T_da20f_row93_col0\" class=\"data row93 col0\" >0.250000</td>\n",
       "      <td id=\"T_da20f_row93_col1\" class=\"data row93 col1\" >0.230000</td>\n",
       "      <td id=\"T_da20f_row93_col2\" class=\"data row93 col2\" >0.420000</td>\n",
       "      <td id=\"T_da20f_row93_col3\" class=\"data row93 col3\" >0.410000</td>\n",
       "      <td id=\"T_da20f_row93_col4\" class=\"data row93 col4\" ><a href=\"https://platform.worldquantbrain.com/alpha/9wYORge\">9wYORge</a></td>\n",
       "      <td id=\"T_da20f_row93_col5\" class=\"data row93 col5\" ><a href=\"https://platform.worldquantbrain.com/alpha/Yp63jKv\">Yp63jKv</a></td>\n",
       "      <td id=\"T_da20f_row93_col6\" class=\"data row93 col6\" >ts_skewness(vec_avg(pv64_rpx_stal_px_open),120)</td>\n",
       "      <td id=\"T_da20f_row93_col7\" class=\"data row93 col7\" >group_rank(ts_skewness(vec_avg(pv64_rpx_stal_px_open),120),sector)</td>\n",
       "    </tr>\n",
       "    <tr>\n",
       "      <th id=\"T_da20f_level0_row94\" class=\"row_heading level0 row94\" >94</th>\n",
       "      <td id=\"T_da20f_row94_col0\" class=\"data row94 col0\" >0.220000</td>\n",
       "      <td id=\"T_da20f_row94_col1\" class=\"data row94 col1\" >-0.060000</td>\n",
       "      <td id=\"T_da20f_row94_col2\" class=\"data row94 col2\" >0.410000</td>\n",
       "      <td id=\"T_da20f_row94_col3\" class=\"data row94 col3\" >-0.260000</td>\n",
       "      <td id=\"T_da20f_row94_col4\" class=\"data row94 col4\" ><a href=\"https://platform.worldquantbrain.com/alpha/xxqoEwl\">xxqoEwl</a></td>\n",
       "      <td id=\"T_da20f_row94_col5\" class=\"data row94 col5\" ><a href=\"https://platform.worldquantbrain.com/alpha/p6mbqrv\">p6mbqrv</a></td>\n",
       "      <td id=\"T_da20f_row94_col6\" class=\"data row94 col6\" >ts_skewness(vec_avg(pv64_fund_class_assets),120)</td>\n",
       "      <td id=\"T_da20f_row94_col7\" class=\"data row94 col7\" >group_rank(ts_skewness(vec_avg(pv64_fund_class_assets),120),sector)</td>\n",
       "    </tr>\n",
       "    <tr>\n",
       "      <th id=\"T_da20f_level0_row95\" class=\"row_heading level0 row95\" >95</th>\n",
       "      <td id=\"T_da20f_row95_col0\" class=\"data row95 col0\" >0.320000</td>\n",
       "      <td id=\"T_da20f_row95_col1\" class=\"data row95 col1\" >0.120000</td>\n",
       "      <td id=\"T_da20f_row95_col2\" class=\"data row95 col2\" >0.410000</td>\n",
       "      <td id=\"T_da20f_row95_col3\" class=\"data row95 col3\" >0.440000</td>\n",
       "      <td id=\"T_da20f_row95_col4\" class=\"data row95 col4\" ><a href=\"https://platform.worldquantbrain.com/alpha/dx2JvgJ\">dx2JvgJ</a></td>\n",
       "      <td id=\"T_da20f_row95_col5\" class=\"data row95 col5\" ><a href=\"https://platform.worldquantbrain.com/alpha/bLX0YZr\">bLX0YZr</a></td>\n",
       "      <td id=\"T_da20f_row95_col6\" class=\"data row95 col6\" >ts_skewness(vec_avg(nws3_scores_finvolatilenormscr),120)</td>\n",
       "      <td id=\"T_da20f_row95_col7\" class=\"data row95 col7\" >group_rank(ts_skewness(vec_avg(nws3_scores_finvolatilenormscr),120),sector)</td>\n",
       "    </tr>\n",
       "    <tr>\n",
       "      <th id=\"T_da20f_level0_row96\" class=\"row_heading level0 row96\" >96</th>\n",
       "      <td id=\"T_da20f_row96_col0\" class=\"data row96 col0\" >0.300000</td>\n",
       "      <td id=\"T_da20f_row96_col1\" class=\"data row96 col1\" >0.330000</td>\n",
       "      <td id=\"T_da20f_row96_col2\" class=\"data row96 col2\" >0.410000</td>\n",
       "      <td id=\"T_da20f_row96_col3\" class=\"data row96 col3\" >0.430000</td>\n",
       "      <td id=\"T_da20f_row96_col4\" class=\"data row96 col4\" ><a href=\"https://platform.worldquantbrain.com/alpha/dxprAJK\">dxprAJK</a></td>\n",
       "      <td id=\"T_da20f_row96_col5\" class=\"data row96 col5\" ><a href=\"https://platform.worldquantbrain.com/alpha/OpOXlJJ\">OpOXlJJ</a></td>\n",
       "      <td id=\"T_da20f_row96_col6\" class=\"data row96 col6\" >ts_skewness(vec_avg(pv64_out_stal_id_bb_parent_co),120)</td>\n",
       "      <td id=\"T_da20f_row96_col7\" class=\"data row96 col7\" >group_rank(ts_skewness(vec_avg(pv64_out_stal_id_bb_parent_co),120),sector)</td>\n",
       "    </tr>\n",
       "    <tr>\n",
       "      <th id=\"T_da20f_level0_row97\" class=\"row_heading level0 row97\" >97</th>\n",
       "      <td id=\"T_da20f_row97_col0\" class=\"data row97 col0\" >0.360000</td>\n",
       "      <td id=\"T_da20f_row97_col1\" class=\"data row97 col1\" >0.070000</td>\n",
       "      <td id=\"T_da20f_row97_col2\" class=\"data row97 col2\" >0.410000</td>\n",
       "      <td id=\"T_da20f_row97_col3\" class=\"data row97 col3\" >0.140000</td>\n",
       "      <td id=\"T_da20f_row97_col4\" class=\"data row97 col4\" ><a href=\"https://platform.worldquantbrain.com/alpha/xxK7bVl\">xxK7bVl</a></td>\n",
       "      <td id=\"T_da20f_row97_col5\" class=\"data row97 col5\" ><a href=\"https://platform.worldquantbrain.com/alpha/8zbxMvX\">8zbxMvX</a></td>\n",
       "      <td id=\"T_da20f_row97_col6\" class=\"data row97 col6\" >ts_skewness(vec_avg(fnd14_mn_ffa_tda_wnk_tsl),120)</td>\n",
       "      <td id=\"T_da20f_row97_col7\" class=\"data row97 col7\" >group_rank(ts_skewness(vec_avg(fnd14_mn_ffa_tda_wnk_tsl),120),sector)</td>\n",
       "    </tr>\n",
       "    <tr>\n",
       "      <th id=\"T_da20f_level0_row98\" class=\"row_heading level0 row98\" >98</th>\n",
       "      <td id=\"T_da20f_row98_col0\" class=\"data row98 col0\" >0.340000</td>\n",
       "      <td id=\"T_da20f_row98_col1\" class=\"data row98 col1\" >0.270000</td>\n",
       "      <td id=\"T_da20f_row98_col2\" class=\"data row98 col2\" >0.400000</td>\n",
       "      <td id=\"T_da20f_row98_col3\" class=\"data row98 col3\" >0.700000</td>\n",
       "      <td id=\"T_da20f_row98_col4\" class=\"data row98 col4\" ><a href=\"https://platform.worldquantbrain.com/alpha/ng155pa\">ng155pa</a></td>\n",
       "      <td id=\"T_da20f_row98_col5\" class=\"data row98 col5\" ><a href=\"https://platform.worldquantbrain.com/alpha/8zmx0AV\">8zmx0AV</a></td>\n",
       "      <td id=\"T_da20f_row98_col6\" class=\"data row98 col6\" >ts_skewness(vec_avg(mws36_novelty_oldest_span),120)</td>\n",
       "      <td id=\"T_da20f_row98_col7\" class=\"data row98 col7\" >group_rank(ts_skewness(vec_avg(mws36_novelty_oldest_span),120),sector)</td>\n",
       "    </tr>\n",
       "    <tr>\n",
       "      <th id=\"T_da20f_level0_row99\" class=\"row_heading level0 row99\" >99</th>\n",
       "      <td id=\"T_da20f_row99_col0\" class=\"data row99 col0\" >0.300000</td>\n",
       "      <td id=\"T_da20f_row99_col1\" class=\"data row99 col1\" >0.080000</td>\n",
       "      <td id=\"T_da20f_row99_col2\" class=\"data row99 col2\" >0.390000</td>\n",
       "      <td id=\"T_da20f_row99_col3\" class=\"data row99 col3\" >0.320000</td>\n",
       "      <td id=\"T_da20f_row99_col4\" class=\"data row99 col4\" ><a href=\"https://platform.worldquantbrain.com/alpha/p6q2oYx\">p6q2oYx</a></td>\n",
       "      <td id=\"T_da20f_row99_col5\" class=\"data row99 col5\" ><a href=\"https://platform.worldquantbrain.com/alpha/9wY5zG1\">9wY5zG1</a></td>\n",
       "      <td id=\"T_da20f_row99_col6\" class=\"data row99 col6\" >ts_skewness(vec_avg(mws92_newsquantified_score_m4),120)</td>\n",
       "      <td id=\"T_da20f_row99_col7\" class=\"data row99 col7\" >group_rank(ts_skewness(vec_avg(mws92_newsquantified_score_m4),120),sector)</td>\n",
       "    </tr>\n",
       "    <tr>\n",
       "      <th id=\"T_da20f_level0_row100\" class=\"row_heading level0 row100\" >100</th>\n",
       "      <td id=\"T_da20f_row100_col0\" class=\"data row100 col0\" >0.250000</td>\n",
       "      <td id=\"T_da20f_row100_col1\" class=\"data row100 col1\" >0.490000</td>\n",
       "      <td id=\"T_da20f_row100_col2\" class=\"data row100 col2\" >0.370000</td>\n",
       "      <td id=\"T_da20f_row100_col3\" class=\"data row100 col3\" >0.530000</td>\n",
       "      <td id=\"T_da20f_row100_col4\" class=\"data row100 col4\" ><a href=\"https://platform.worldquantbrain.com/alpha/07bZ7Rv\">07bZ7Rv</a></td>\n",
       "      <td id=\"T_da20f_row100_col5\" class=\"data row100 col5\" ><a href=\"https://platform.worldquantbrain.com/alpha/Ew1nZm0\">Ew1nZm0</a></td>\n",
       "      <td id=\"T_da20f_row100_col6\" class=\"data row100 col6\" >ts_skewness(vec_avg(fnd14_bus_phone),120)</td>\n",
       "      <td id=\"T_da20f_row100_col7\" class=\"data row100 col7\" >group_rank(ts_skewness(vec_avg(fnd14_bus_phone),120),sector)</td>\n",
       "    </tr>\n",
       "    <tr>\n",
       "      <th id=\"T_da20f_level0_row101\" class=\"row_heading level0 row101\" >101</th>\n",
       "      <td id=\"T_da20f_row101_col0\" class=\"data row101 col0\" >0.260000</td>\n",
       "      <td id=\"T_da20f_row101_col1\" class=\"data row101 col1\" >-0.220000</td>\n",
       "      <td id=\"T_da20f_row101_col2\" class=\"data row101 col2\" >0.370000</td>\n",
       "      <td id=\"T_da20f_row101_col3\" class=\"data row101 col3\" >-0.580000</td>\n",
       "      <td id=\"T_da20f_row101_col4\" class=\"data row101 col4\" ><a href=\"https://platform.worldquantbrain.com/alpha/QaMpJrp\">QaMpJrp</a></td>\n",
       "      <td id=\"T_da20f_row101_col5\" class=\"data row101 col5\" ><a href=\"https://platform.worldquantbrain.com/alpha/LpWoP86\">LpWoP86</a></td>\n",
       "      <td id=\"T_da20f_row101_col6\" class=\"data row101 col6\" >ts_skewness(vec_avg(pv64_out_stal_fund_asset_alloc_muni),120)</td>\n",
       "      <td id=\"T_da20f_row101_col7\" class=\"data row101 col7\" >group_rank(ts_skewness(vec_avg(pv64_out_stal_fund_asset_alloc_muni),120),sector)</td>\n",
       "    </tr>\n",
       "    <tr>\n",
       "      <th id=\"T_da20f_level0_row102\" class=\"row_heading level0 row102\" >102</th>\n",
       "      <td id=\"T_da20f_row102_col0\" class=\"data row102 col0\" >0.320000</td>\n",
       "      <td id=\"T_da20f_row102_col1\" class=\"data row102 col1\" >-0.000000</td>\n",
       "      <td id=\"T_da20f_row102_col2\" class=\"data row102 col2\" >0.370000</td>\n",
       "      <td id=\"T_da20f_row102_col3\" class=\"data row102 col3\" >-0.040000</td>\n",
       "      <td id=\"T_da20f_row102_col4\" class=\"data row102 col4\" ><a href=\"https://platform.worldquantbrain.com/alpha/bLY0JJK\">bLY0JJK</a></td>\n",
       "      <td id=\"T_da20f_row102_col5\" class=\"data row102 col5\" ><a href=\"https://platform.worldquantbrain.com/alpha/6w76nGK\">6w76nGK</a></td>\n",
       "      <td id=\"T_da20f_row102_col6\" class=\"data row102 col6\" >ts_skewness(vec_avg(nws17_d1_qep),120)</td>\n",
       "      <td id=\"T_da20f_row102_col7\" class=\"data row102 col7\" >group_rank(ts_skewness(vec_avg(nws17_d1_qep),120),sector)</td>\n",
       "    </tr>\n",
       "    <tr>\n",
       "      <th id=\"T_da20f_level0_row103\" class=\"row_heading level0 row103\" >103</th>\n",
       "      <td id=\"T_da20f_row103_col0\" class=\"data row103 col0\" >0.230000</td>\n",
       "      <td id=\"T_da20f_row103_col1\" class=\"data row103 col1\" >0.230000</td>\n",
       "      <td id=\"T_da20f_row103_col2\" class=\"data row103 col2\" >0.370000</td>\n",
       "      <td id=\"T_da20f_row103_col3\" class=\"data row103 col3\" >0.530000</td>\n",
       "      <td id=\"T_da20f_row103_col4\" class=\"data row103 col4\" ><a href=\"https://platform.worldquantbrain.com/alpha/37wvbYN\">37wvbYN</a></td>\n",
       "      <td id=\"T_da20f_row103_col5\" class=\"data row103 col5\" ><a href=\"https://platform.worldquantbrain.com/alpha/07qZbGG\">07qZbGG</a></td>\n",
       "      <td id=\"T_da20f_row103_col6\" class=\"data row103 col6\" >ts_skewness(vec_avg(pv64_out_stal_fund_asset_alloc_pfd),120)</td>\n",
       "      <td id=\"T_da20f_row103_col7\" class=\"data row103 col7\" >group_rank(ts_skewness(vec_avg(pv64_out_stal_fund_asset_alloc_pfd),120),sector)</td>\n",
       "    </tr>\n",
       "    <tr>\n",
       "      <th id=\"T_da20f_level0_row104\" class=\"row_heading level0 row104\" >104</th>\n",
       "      <td id=\"T_da20f_row104_col0\" class=\"data row104 col0\" >0.280000</td>\n",
       "      <td id=\"T_da20f_row104_col1\" class=\"data row104 col1\" >0.690000</td>\n",
       "      <td id=\"T_da20f_row104_col2\" class=\"data row104 col2\" >0.360000</td>\n",
       "      <td id=\"T_da20f_row104_col3\" class=\"data row104 col3\" >1.340000</td>\n",
       "      <td id=\"T_da20f_row104_col4\" class=\"data row104 col4\" ><a href=\"https://platform.worldquantbrain.com/alpha/37MKYOe\">37MKYOe</a></td>\n",
       "      <td id=\"T_da20f_row104_col5\" class=\"data row104 col5\" ><a href=\"https://platform.worldquantbrain.com/alpha/Yp63jlJ\">Yp63jlJ</a></td>\n",
       "      <td id=\"T_da20f_row104_col6\" class=\"data row104 col6\" >ts_skewness(vec_avg(mws92_mt_news_score_m4),120)</td>\n",
       "      <td id=\"T_da20f_row104_col7\" class=\"data row104 col7\" >group_rank(ts_skewness(vec_avg(mws92_mt_news_score_m4),120),sector)</td>\n",
       "    </tr>\n",
       "    <tr>\n",
       "      <th id=\"T_da20f_level0_row105\" class=\"row_heading level0 row105\" >105</th>\n",
       "      <td id=\"T_da20f_row105_col0\" class=\"data row105 col0\" >0.290000</td>\n",
       "      <td id=\"T_da20f_row105_col1\" class=\"data row105 col1\" >-0.010000</td>\n",
       "      <td id=\"T_da20f_row105_col2\" class=\"data row105 col2\" >0.360000</td>\n",
       "      <td id=\"T_da20f_row105_col3\" class=\"data row105 col3\" >-0.050000</td>\n",
       "      <td id=\"T_da20f_row105_col4\" class=\"data row105 col4\" ><a href=\"https://platform.worldquantbrain.com/alpha/RpJxVpe\">RpJxVpe</a></td>\n",
       "      <td id=\"T_da20f_row105_col5\" class=\"data row105 col5\" ><a href=\"https://platform.worldquantbrain.com/alpha/Yp63jvl\">Yp63jvl</a></td>\n",
       "      <td id=\"T_da20f_row105_col6\" class=\"data row105 col6\" >ts_skewness(vec_avg(fnd14_latestqu_incmst_net_income_ttm),120)</td>\n",
       "      <td id=\"T_da20f_row105_col7\" class=\"data row105 col7\" >group_rank(ts_skewness(vec_avg(fnd14_latestqu_incmst_net_income_ttm),120),sector)</td>\n",
       "    </tr>\n",
       "    <tr>\n",
       "      <th id=\"T_da20f_level0_row106\" class=\"row_heading level0 row106\" >106</th>\n",
       "      <td id=\"T_da20f_row106_col0\" class=\"data row106 col0\" >0.250000</td>\n",
       "      <td id=\"T_da20f_row106_col1\" class=\"data row106 col1\" >0.000000</td>\n",
       "      <td id=\"T_da20f_row106_col2\" class=\"data row106 col2\" >0.360000</td>\n",
       "      <td id=\"T_da20f_row106_col3\" class=\"data row106 col3\" >0.030000</td>\n",
       "      <td id=\"T_da20f_row106_col4\" class=\"data row106 col4\" ><a href=\"https://platform.worldquantbrain.com/alpha/VpvQZZY\">VpvQZZY</a></td>\n",
       "      <td id=\"T_da20f_row106_col5\" class=\"data row106 col5\" ><a href=\"https://platform.worldquantbrain.com/alpha/qA82KjK\">qA82KjK</a></td>\n",
       "      <td id=\"T_da20f_row106_col6\" class=\"data row106 col6\" >ts_skewness(vec_avg(nws17_d1_reporting_end_time_utc),120)</td>\n",
       "      <td id=\"T_da20f_row106_col7\" class=\"data row106 col7\" >group_rank(ts_skewness(vec_avg(nws17_d1_reporting_end_time_utc),120),sector)</td>\n",
       "    </tr>\n",
       "    <tr>\n",
       "      <th id=\"T_da20f_level0_row107\" class=\"row_heading level0 row107\" >107</th>\n",
       "      <td id=\"T_da20f_row107_col0\" class=\"data row107 col0\" >0.300000</td>\n",
       "      <td id=\"T_da20f_row107_col1\" class=\"data row107 col1\" >0.070000</td>\n",
       "      <td id=\"T_da20f_row107_col2\" class=\"data row107 col2\" >0.360000</td>\n",
       "      <td id=\"T_da20f_row107_col3\" class=\"data row107 col3\" >0.290000</td>\n",
       "      <td id=\"T_da20f_row107_col4\" class=\"data row107 col4\" ><a href=\"https://platform.worldquantbrain.com/alpha/p6qeemb\">p6qeemb</a></td>\n",
       "      <td id=\"T_da20f_row107_col5\" class=\"data row107 col5\" ><a href=\"https://platform.worldquantbrain.com/alpha/m8PWG26\">m8PWG26</a></td>\n",
       "      <td id=\"T_da20f_row107_col6\" class=\"data row107 col6\" >ts_skewness(vec_avg(mws36_sentiment_phrase_positive),120)</td>\n",
       "      <td id=\"T_da20f_row107_col7\" class=\"data row107 col7\" >group_rank(ts_skewness(vec_avg(mws36_sentiment_phrase_positive),120),sector)</td>\n",
       "    </tr>\n",
       "    <tr>\n",
       "      <th id=\"T_da20f_level0_row108\" class=\"row_heading level0 row108\" >108</th>\n",
       "      <td id=\"T_da20f_row108_col0\" class=\"data row108 col0\" >0.250000</td>\n",
       "      <td id=\"T_da20f_row108_col1\" class=\"data row108 col1\" >-0.130000</td>\n",
       "      <td id=\"T_da20f_row108_col2\" class=\"data row108 col2\" >0.350000</td>\n",
       "      <td id=\"T_da20f_row108_col3\" class=\"data row108 col3\" >-0.420000</td>\n",
       "      <td id=\"T_da20f_row108_col4\" class=\"data row108 col4\" ><a href=\"https://platform.worldquantbrain.com/alpha/oK1jRwv\">oK1jRwv</a></td>\n",
       "      <td id=\"T_da20f_row108_col5\" class=\"data row108 col5\" ><a href=\"https://platform.worldquantbrain.com/alpha/dxpJkXE\">dxpJkXE</a></td>\n",
       "      <td id=\"T_da20f_row108_col6\" class=\"data row108 col6\" >ts_skewness(vec_avg(nws17_d1_bee),120)</td>\n",
       "      <td id=\"T_da20f_row108_col7\" class=\"data row108 col7\" >group_rank(ts_skewness(vec_avg(nws17_d1_bee),120),sector)</td>\n",
       "    </tr>\n",
       "    <tr>\n",
       "      <th id=\"T_da20f_level0_row109\" class=\"row_heading level0 row109\" >109</th>\n",
       "      <td id=\"T_da20f_row109_col0\" class=\"data row109 col0\" >0.230000</td>\n",
       "      <td id=\"T_da20f_row109_col1\" class=\"data row109 col1\" >0.020000</td>\n",
       "      <td id=\"T_da20f_row109_col2\" class=\"data row109 col2\" >0.350000</td>\n",
       "      <td id=\"T_da20f_row109_col3\" class=\"data row109 col3\" >0.120000</td>\n",
       "      <td id=\"T_da20f_row109_col4\" class=\"data row109 col4\" ><a href=\"https://platform.worldquantbrain.com/alpha/oK1b3vn\">oK1b3vn</a></td>\n",
       "      <td id=\"T_da20f_row109_col5\" class=\"data row109 col5\" ><a href=\"https://platform.worldquantbrain.com/alpha/17e3k9z\">17e3k9z</a></td>\n",
       "      <td id=\"T_da20f_row109_col6\" class=\"data row109 col6\" >ts_skewness(vec_avg(oth15_total_shares_held),120)</td>\n",
       "      <td id=\"T_da20f_row109_col7\" class=\"data row109 col7\" >group_rank(ts_skewness(vec_avg(oth15_total_shares_held),120),sector)</td>\n",
       "    </tr>\n",
       "    <tr>\n",
       "      <th id=\"T_da20f_level0_row110\" class=\"row_heading level0 row110\" >110</th>\n",
       "      <td id=\"T_da20f_row110_col0\" class=\"data row110 col0\" >0.220000</td>\n",
       "      <td id=\"T_da20f_row110_col1\" class=\"data row110 col1\" >-0.400000</td>\n",
       "      <td id=\"T_da20f_row110_col2\" class=\"data row110 col2\" >0.350000</td>\n",
       "      <td id=\"T_da20f_row110_col3\" class=\"data row110 col3\" >-0.830000</td>\n",
       "      <td id=\"T_da20f_row110_col4\" class=\"data row110 col4\" ><a href=\"https://platform.worldquantbrain.com/alpha/8zbxb1m\">8zbxb1m</a></td>\n",
       "      <td id=\"T_da20f_row110_col5\" class=\"data row110 col5\" ><a href=\"https://platform.worldquantbrain.com/alpha/Aw9XjWl\">Aw9XjWl</a></td>\n",
       "      <td id=\"T_da20f_row110_col6\" class=\"data row110 col6\" >ts_skewness(vec_avg(pv64_out_stal_fund_asset_alloc_equity),120)</td>\n",
       "      <td id=\"T_da20f_row110_col7\" class=\"data row110 col7\" >group_rank(ts_skewness(vec_avg(pv64_out_stal_fund_asset_alloc_equity),120),sector)</td>\n",
       "    </tr>\n",
       "    <tr>\n",
       "      <th id=\"T_da20f_level0_row111\" class=\"row_heading level0 row111\" >111</th>\n",
       "      <td id=\"T_da20f_row111_col0\" class=\"data row111 col0\" >0.410000</td>\n",
       "      <td id=\"T_da20f_row111_col1\" class=\"data row111 col1\" >0.120000</td>\n",
       "      <td id=\"T_da20f_row111_col2\" class=\"data row111 col2\" >0.340000</td>\n",
       "      <td id=\"T_da20f_row111_col3\" class=\"data row111 col3\" >0.220000</td>\n",
       "      <td id=\"T_da20f_row111_col4\" class=\"data row111 col4\" ><a href=\"https://platform.worldquantbrain.com/alpha/adrmxbx\">adrmxbx</a></td>\n",
       "      <td id=\"T_da20f_row111_col5\" class=\"data row111 col5\" ><a href=\"https://platform.worldquantbrain.com/alpha/jZvk2lo\">jZvk2lo</a></td>\n",
       "      <td id=\"T_da20f_row111_col6\" class=\"data row111 col6\" >ts_skewness(vec_avg(fnd14_mail_street2),120)</td>\n",
       "      <td id=\"T_da20f_row111_col7\" class=\"data row111 col7\" >group_rank(ts_skewness(vec_avg(fnd14_mail_street2),120),sector)</td>\n",
       "    </tr>\n",
       "    <tr>\n",
       "      <th id=\"T_da20f_level0_row112\" class=\"row_heading level0 row112\" >112</th>\n",
       "      <td id=\"T_da20f_row112_col0\" class=\"data row112 col0\" >0.270000</td>\n",
       "      <td id=\"T_da20f_row112_col1\" class=\"data row112 col1\" >-0.090000</td>\n",
       "      <td id=\"T_da20f_row112_col2\" class=\"data row112 col2\" >0.330000</td>\n",
       "      <td id=\"T_da20f_row112_col3\" class=\"data row112 col3\" >-0.250000</td>\n",
       "      <td id=\"T_da20f_row112_col4\" class=\"data row112 col4\" ><a href=\"https://platform.worldquantbrain.com/alpha/wR87ja5\">wR87ja5</a></td>\n",
       "      <td id=\"T_da20f_row112_col5\" class=\"data row112 col5\" ><a href=\"https://platform.worldquantbrain.com/alpha/qA82MkV\">qA82MkV</a></td>\n",
       "      <td id=\"T_da20f_row112_col6\" class=\"data row112 col6\" >ts_skewness(vec_avg(fnd14_latest_other_fees_sum),120)</td>\n",
       "      <td id=\"T_da20f_row112_col7\" class=\"data row112 col7\" >group_rank(ts_skewness(vec_avg(fnd14_latest_other_fees_sum),120),sector)</td>\n",
       "    </tr>\n",
       "    <tr>\n",
       "      <th id=\"T_da20f_level0_row113\" class=\"row_heading level0 row113\" >113</th>\n",
       "      <td id=\"T_da20f_row113_col0\" class=\"data row113 col0\" >0.330000</td>\n",
       "      <td id=\"T_da20f_row113_col1\" class=\"data row113 col1\" >0.390000</td>\n",
       "      <td id=\"T_da20f_row113_col2\" class=\"data row113 col2\" >0.330000</td>\n",
       "      <td id=\"T_da20f_row113_col3\" class=\"data row113 col3\" >0.370000</td>\n",
       "      <td id=\"T_da20f_row113_col4\" class=\"data row113 col4\" ><a href=\"https://platform.worldquantbrain.com/alpha/PpJLx6J\">PpJLx6J</a></td>\n",
       "      <td id=\"T_da20f_row113_col5\" class=\"data row113 col5\" ><a href=\"https://platform.worldquantbrain.com/alpha/Aw9X1Yd\">Aw9X1Yd</a></td>\n",
       "      <td id=\"T_da20f_row113_col6\" class=\"data row113 col6\" >ts_skewness(vec_avg(nws17_d1_country_code),120)</td>\n",
       "      <td id=\"T_da20f_row113_col7\" class=\"data row113 col7\" >group_rank(ts_skewness(vec_avg(nws17_d1_country_code),120),sector)</td>\n",
       "    </tr>\n",
       "    <tr>\n",
       "      <th id=\"T_da20f_level0_row114\" class=\"row_heading level0 row114\" >114</th>\n",
       "      <td id=\"T_da20f_row114_col0\" class=\"data row114 col0\" >0.240000</td>\n",
       "      <td id=\"T_da20f_row114_col1\" class=\"data row114 col1\" >0.200000</td>\n",
       "      <td id=\"T_da20f_row114_col2\" class=\"data row114 col2\" >0.320000</td>\n",
       "      <td id=\"T_da20f_row114_col3\" class=\"data row114 col3\" >0.570000</td>\n",
       "      <td id=\"T_da20f_row114_col4\" class=\"data row114 col4\" ><a href=\"https://platform.worldquantbrain.com/alpha/Qa1xMGr\">Qa1xMGr</a></td>\n",
       "      <td id=\"T_da20f_row114_col5\" class=\"data row114 col5\" ><a href=\"https://platform.worldquantbrain.com/alpha/xxq7Aep\">xxq7Aep</a></td>\n",
       "      <td id=\"T_da20f_row114_col6\" class=\"data row114 col6\" >ts_skewness(vec_avg(mws50_g_ens_elapsed),120)</td>\n",
       "      <td id=\"T_da20f_row114_col7\" class=\"data row114 col7\" >group_rank(ts_skewness(vec_avg(mws50_g_ens_elapsed),120),sector)</td>\n",
       "    </tr>\n",
       "    <tr>\n",
       "      <th id=\"T_da20f_level0_row115\" class=\"row_heading level0 row115\" >115</th>\n",
       "      <td id=\"T_da20f_row115_col0\" class=\"data row115 col0\" >0.220000</td>\n",
       "      <td id=\"T_da20f_row115_col1\" class=\"data row115 col1\" >0.220000</td>\n",
       "      <td id=\"T_da20f_row115_col2\" class=\"data row115 col2\" >0.320000</td>\n",
       "      <td id=\"T_da20f_row115_col3\" class=\"data row115 col3\" >0.320000</td>\n",
       "      <td id=\"T_da20f_row115_col4\" class=\"data row115 col4\" ><a href=\"https://platform.worldquantbrain.com/alpha/KbKAz9g\">KbKAz9g</a></td>\n",
       "      <td id=\"T_da20f_row115_col5\" class=\"data row115 col5\" ><a href=\"https://platform.worldquantbrain.com/alpha/8zbW8no\">8zbW8no</a></td>\n",
       "      <td id=\"T_da20f_row115_col6\" class=\"data row115 col6\" >ts_skewness(vec_avg(nws20_d1_headline),120)</td>\n",
       "      <td id=\"T_da20f_row115_col7\" class=\"data row115 col7\" >group_rank(ts_skewness(vec_avg(nws20_d1_headline),120),sector)</td>\n",
       "    </tr>\n",
       "    <tr>\n",
       "      <th id=\"T_da20f_level0_row116\" class=\"row_heading level0 row116\" >116</th>\n",
       "      <td id=\"T_da20f_row116_col0\" class=\"data row116 col0\" >0.240000</td>\n",
       "      <td id=\"T_da20f_row116_col1\" class=\"data row116 col1\" >0.180000</td>\n",
       "      <td id=\"T_da20f_row116_col2\" class=\"data row116 col2\" >0.310000</td>\n",
       "      <td id=\"T_da20f_row116_col3\" class=\"data row116 col3\" >0.510000</td>\n",
       "      <td id=\"T_da20f_row116_col4\" class=\"data row116 col4\" ><a href=\"https://platform.worldquantbrain.com/alpha/07bVbG6\">07bVbG6</a></td>\n",
       "      <td id=\"T_da20f_row116_col5\" class=\"data row116 col5\" ><a href=\"https://platform.worldquantbrain.com/alpha/WpMrj9k\">WpMrj9k</a></td>\n",
       "      <td id=\"T_da20f_row116_col6\" class=\"data row116 col6\" >ts_skewness(vec_avg(mws46_storyid_g_ens_elapsed),120)</td>\n",
       "      <td id=\"T_da20f_row116_col7\" class=\"data row116 col7\" >group_rank(ts_skewness(vec_avg(mws46_storyid_g_ens_elapsed),120),sector)</td>\n",
       "    </tr>\n",
       "    <tr>\n",
       "      <th id=\"T_da20f_level0_row117\" class=\"row_heading level0 row117\" >117</th>\n",
       "      <td id=\"T_da20f_row117_col0\" class=\"data row117 col0\" >0.220000</td>\n",
       "      <td id=\"T_da20f_row117_col1\" class=\"data row117 col1\" >0.330000</td>\n",
       "      <td id=\"T_da20f_row117_col2\" class=\"data row117 col2\" >0.310000</td>\n",
       "      <td id=\"T_da20f_row117_col3\" class=\"data row117 col3\" >0.580000</td>\n",
       "      <td id=\"T_da20f_row117_col4\" class=\"data row117 col4\" ><a href=\"https://platform.worldquantbrain.com/alpha/Yp6O8MM\">Yp6O8MM</a></td>\n",
       "      <td id=\"T_da20f_row117_col5\" class=\"data row117 col5\" ><a href=\"https://platform.worldquantbrain.com/alpha/8zbW5RW\">8zbW5RW</a></td>\n",
       "      <td id=\"T_da20f_row117_col6\" class=\"data row117 col6\" >ts_skewness(vec_avg(pv64_dif_stal_fund_mgr_stated_fee),120)</td>\n",
       "      <td id=\"T_da20f_row117_col7\" class=\"data row117 col7\" >group_rank(ts_skewness(vec_avg(pv64_dif_stal_fund_mgr_stated_fee),120),sector)</td>\n",
       "    </tr>\n",
       "    <tr>\n",
       "      <th id=\"T_da20f_level0_row118\" class=\"row_heading level0 row118\" >118</th>\n",
       "      <td id=\"T_da20f_row118_col0\" class=\"data row118 col0\" >0.330000</td>\n",
       "      <td id=\"T_da20f_row118_col1\" class=\"data row118 col1\" >0.330000</td>\n",
       "      <td id=\"T_da20f_row118_col2\" class=\"data row118 col2\" >0.300000</td>\n",
       "      <td id=\"T_da20f_row118_col3\" class=\"data row118 col3\" >0.300000</td>\n",
       "      <td id=\"T_da20f_row118_col4\" class=\"data row118 col4\" ><a href=\"https://platform.worldquantbrain.com/alpha/LpPvW12\">LpPvW12</a></td>\n",
       "      <td id=\"T_da20f_row118_col5\" class=\"data row118 col5\" ><a href=\"https://platform.worldquantbrain.com/alpha/JpqaM8E\">JpqaM8E</a></td>\n",
       "      <td id=\"T_da20f_row118_col6\" class=\"data row118 col6\" >ts_skewness(vec_avg(mws50_evaluation_method),120)</td>\n",
       "      <td id=\"T_da20f_row118_col7\" class=\"data row118 col7\" >group_rank(ts_skewness(vec_avg(mws50_evaluation_method),120),sector)</td>\n",
       "    </tr>\n",
       "    <tr>\n",
       "      <th id=\"T_da20f_level0_row119\" class=\"row_heading level0 row119\" >119</th>\n",
       "      <td id=\"T_da20f_row119_col0\" class=\"data row119 col0\" >0.220000</td>\n",
       "      <td id=\"T_da20f_row119_col1\" class=\"data row119 col1\" >0.180000</td>\n",
       "      <td id=\"T_da20f_row119_col2\" class=\"data row119 col2\" >0.300000</td>\n",
       "      <td id=\"T_da20f_row119_col3\" class=\"data row119 col3\" >0.460000</td>\n",
       "      <td id=\"T_da20f_row119_col4\" class=\"data row119 col4\" ><a href=\"https://platform.worldquantbrain.com/alpha/k3xpwmz\">k3xpwmz</a></td>\n",
       "      <td id=\"T_da20f_row119_col5\" class=\"data row119 col5\" ><a href=\"https://platform.worldquantbrain.com/alpha/XpGZmaX\">XpGZmaX</a></td>\n",
       "      <td id=\"T_da20f_row119_col6\" class=\"data row119 col6\" >ts_skewness(vec_avg(mws38_tc_negative_freq),120)</td>\n",
       "      <td id=\"T_da20f_row119_col7\" class=\"data row119 col7\" >group_rank(ts_skewness(vec_avg(mws38_tc_negative_freq),120),sector)</td>\n",
       "    </tr>\n",
       "    <tr>\n",
       "      <th id=\"T_da20f_level0_row120\" class=\"row_heading level0 row120\" >120</th>\n",
       "      <td id=\"T_da20f_row120_col0\" class=\"data row120 col0\" >0.210000</td>\n",
       "      <td id=\"T_da20f_row120_col1\" class=\"data row120 col1\" >0.270000</td>\n",
       "      <td id=\"T_da20f_row120_col2\" class=\"data row120 col2\" >0.290000</td>\n",
       "      <td id=\"T_da20f_row120_col3\" class=\"data row120 col3\" >0.680000</td>\n",
       "      <td id=\"T_da20f_row120_col4\" class=\"data row120 col4\" ><a href=\"https://platform.worldquantbrain.com/alpha/m8PWW39\">m8PWW39</a></td>\n",
       "      <td id=\"T_da20f_row120_col5\" class=\"data row120 col5\" ><a href=\"https://platform.worldquantbrain.com/alpha/LpPYvEe\">LpPYvEe</a></td>\n",
       "      <td id=\"T_da20f_row120_col6\" class=\"data row120 col6\" >ts_skewness(vec_avg(mws36_novelty_newest_span),120)</td>\n",
       "      <td id=\"T_da20f_row120_col7\" class=\"data row120 col7\" >group_rank(ts_skewness(vec_avg(mws36_novelty_newest_span),120),sector)</td>\n",
       "    </tr>\n",
       "    <tr>\n",
       "      <th id=\"T_da20f_level0_row121\" class=\"row_heading level0 row121\" >121</th>\n",
       "      <td id=\"T_da20f_row121_col0\" class=\"data row121 col0\" >0.270000</td>\n",
       "      <td id=\"T_da20f_row121_col1\" class=\"data row121 col1\" >0.150000</td>\n",
       "      <td id=\"T_da20f_row121_col2\" class=\"data row121 col2\" >0.290000</td>\n",
       "      <td id=\"T_da20f_row121_col3\" class=\"data row121 col3\" >0.190000</td>\n",
       "      <td id=\"T_da20f_row121_col4\" class=\"data row121 col4\" ><a href=\"https://platform.worldquantbrain.com/alpha/RpJxmbo\">RpJxmbo</a></td>\n",
       "      <td id=\"T_da20f_row121_col5\" class=\"data row121 col5\" ><a href=\"https://platform.worldquantbrain.com/alpha/jZvk2oQ\">jZvk2oQ</a></td>\n",
       "      <td id=\"T_da20f_row121_col6\" class=\"data row121 col6\" >ts_skewness(vec_avg(fnd14_inc_state_region),120)</td>\n",
       "      <td id=\"T_da20f_row121_col7\" class=\"data row121 col7\" >group_rank(ts_skewness(vec_avg(fnd14_inc_state_region),120),sector)</td>\n",
       "    </tr>\n",
       "    <tr>\n",
       "      <th id=\"T_da20f_level0_row122\" class=\"row_heading level0 row122\" >122</th>\n",
       "      <td id=\"T_da20f_row122_col0\" class=\"data row122 col0\" >0.210000</td>\n",
       "      <td id=\"T_da20f_row122_col1\" class=\"data row122 col1\" >-0.040000</td>\n",
       "      <td id=\"T_da20f_row122_col2\" class=\"data row122 col2\" >0.210000</td>\n",
       "      <td id=\"T_da20f_row122_col3\" class=\"data row122 col3\" >-0.080000</td>\n",
       "      <td id=\"T_da20f_row122_col4\" class=\"data row122 col4\" ><a href=\"https://platform.worldquantbrain.com/alpha/p6qbKdj\">p6qbKdj</a></td>\n",
       "      <td id=\"T_da20f_row122_col5\" class=\"data row122 col5\" ><a href=\"https://platform.worldquantbrain.com/alpha/qA82MOv\">qA82MOv</a></td>\n",
       "      <td id=\"T_da20f_row122_col6\" class=\"data row122 col6\" >ts_skewness(vec_avg(fnd14_egc_is_emerging_company),120)</td>\n",
       "      <td id=\"T_da20f_row122_col7\" class=\"data row122 col7\" >group_rank(ts_skewness(vec_avg(fnd14_egc_is_emerging_company),120),sector)</td>\n",
       "    </tr>\n",
       "  </tbody>\n",
       "</table>\n"
      ],
      "text/plain": [
       "<pandas.io.formats.style.Styler at 0x7fa6e3a49760>"
      ]
     },
     "execution_count": 20,
     "metadata": {},
     "output_type": "execute_result"
    }
   ],
   "source": [
    "## We will join before and after dataframes by field\n",
    "\n",
    "top_factors['field'] = top_factors['expression'].apply(lambda st: st[st.find(\"(vec_avg(\")+1:st.find(\",\")]).copy()\n",
    "result_st2['field'] = result_st2['expression'].apply(lambda st: st[st.find(\"(vec_avg(\")+1:st.find(\",\")]).copy()\n",
    "\n",
    "#merging results before and after improvement\n",
    "\n",
    "compare_results = pd.merge(top_factors, result_st2, on='field', suffixes=('_before', '_after'))\n",
    "\n",
    "#selecting column list returned by merging the two alpha results\n",
    "\n",
    "col_list = ['fitness_before', 'fitness_after','sharpe_before', 'sharpe_after', 'alpha_id_before', 'alpha_id_after',\n",
    "                 'expression_before', 'expression_after']\n",
    "\n",
    "compare_results[col_list]\\\n",
    "    .style.format({'alpha_id_before': hf.make_clickable_alpha_id, 'alpha_id_after': hf.make_clickable_alpha_id})"
   ]
  },
  {
   "cell_type": "markdown",
   "metadata": {},
   "source": [
    "### Check merged alpha performance\n",
    "\n",
    "run the following code to do a before and after comparison of your merged pool post alpha submission"
   ]
  },
  {
   "cell_type": "code",
   "execution_count": null,
   "metadata": {},
   "outputs": [],
   "source": [
    "performance_comparison = ace.performance_comparison(s, result_st2['alpha_id'][0])"
   ]
  },
  {
   "cell_type": "markdown",
   "metadata": {},
   "source": [
    "#### Step 4. 提交和监控"
   ]
  },
  {
   "cell_type": "code",
   "execution_count": null,
   "metadata": {},
   "outputs": [
    {
     "name": "stdout",
     "output_type": "stream",
     "text": [
      "Failed alphas:['Ew1wLY0' 'g16VgRQ' '17e7P1J' 'lVdV9RO' '27M7WnZ' 'qA8A3mP' 'Yp6pJ9J'\n",
      " 'roYoVno' 'qA8A3p1' 'eOmOvgN' '9wYOdNx' 'eOmOvLz' 'wRqRPL2' 'Zp6vzbY'\n",
      " 'qA8A3g2' 'OpOpg0v' 'WpMp0vG' '17e7Pr6' 'ad6dGr9' 'dxpxv5X' 'QaMpzRK'\n",
      " 'Kb3bZX8' 'Yp6pY2v' 'LpWYrea' 'XpGAenm' 'bLXLAor' 'RpMpPda' '5wxderN'\n",
      " '37w7Jze' 'Gwq52J5' 'm8pWQ51' 'WpMpJlj' 'k3d39ak' 'k3d3Oz8' 'LpWY2Wv'\n",
      " '9wYO2vq' 'JpqJ2oA' 'z9Z9LKO' 'qA8AV7A' 'xxqxEOb' 'XpGAOel' 'wRqRvql'\n",
      " '8zbz26z' '17e72mm' 'eOmOW26' 'Gwq52k0' 'EwZPjG1' '7wWRRk2' 'LpWp2V9'\n",
      " 'bLX11o6' 'Aw988gE' 'Np0p2Ke' 'VpVbbX8' 'bLXLKxK' 'xxqxEpw' 'Aw9w5dw'\n",
      " 'roYonMJ' 'oK7KkWJ' 'LpWp2Z2' 'Zp6p1mY' '17eAAAK' '5wxw2Gk' '37wvvmZ'\n",
      " 'qA8ApZP' 'xxqxoab' 'WpMpx2P' 'Kb3bp0N' 'VpVbQEV' 'Kb3MA6j' 'p6me2qo'\n",
      " 'ad690rO' 'LpWYvPM' 'Zp6v83j' 'PpNmRa7' 'XpGA3Qz' 'm8pWGj2' 'LpWYv7n'\n",
      " 'dxprMjK' 'z9ZnxrG' 'vL8XEOb' 'OpOXLA1' 'eOmZY1M' 'XpGA3Vm' 'GwP52XJ'\n",
      " 'qA8JR1Z' 'dxprGXE' '17eAM9z' 'xxqpZjp' 'roYMx51' 'Kb3M1Oj' 'ad695k6'\n",
      " 'dxprN5g' 'OpOXl0b' 'OpOXlJJ' '8zbxMvX' '8zmx0AV' 'Yp63jKv' 'p6mbqrv'\n",
      " 'bLX0YZr' 'Yp63jvl' 'qA82KjK' 'm8PWG26' '9wY5zG1' 'Ew1nZm0' 'LpWoP86'\n",
      " '6w76nGK' '07qZbGG' 'Yp63jlJ' 'jZvk2lo' 'qA82MkV' 'Aw9X1Yd' 'xxq7Aep'\n",
      " '8zbW8no' 'WpMrj9k' 'LpPYvEe' 'jZvk2oQ' 'qA82MOv' 'dxpJkXE' '17e3k9z'\n",
      " 'Aw9XjWl' '8zbW5RW' 'JpqaM8E' 'XpGZmaX']\n",
      "Passed alphas:[]\n"
     ]
    }
   ],
   "source": [
    "#to take a look at the combined result of all new alphas\n",
    "\n",
    "is_tests_df = hf.concat_is_tests(new_result)\n",
    "#making a list of failed alphas\n",
    "failed_alphas = is_tests_df.query('result==\"FAIL\"')['alpha_id'].unique()\n",
    "\n",
    "#making a list of passed alphas\n",
    "passed_alphas = list(set(is_tests_df['alpha_id']).difference(failed_alphas))\n",
    "\n",
    "print(f'Failed alphas:{failed_alphas}\\nPassed alphas:{passed_alphas}')\n",
    "\n",
    "for alpha_id in passed_alphas:\n",
    "    submit_result = submit_alpha(s, alpha_id)\n",
    "    print(f'Alpha {alpha_id} submitted: {submit_result}')\n"
   ]
  },
  {
   "cell_type": "markdown",
   "metadata": {},
   "source": []
  }
 ],
 "metadata": {
  "kernelspec": {
   "display_name": "Python 3",
   "language": "python",
   "name": "python3"
  },
  "language_info": {
   "codemirror_mode": {
    "name": "ipython",
    "version": 3
   },
   "file_extension": ".py",
   "mimetype": "text/x-python",
   "name": "python",
   "nbconvert_exporter": "python",
   "pygments_lexer": "ipython3",
   "version": "3.9.5"
  }
 },
 "nbformat": 4,
 "nbformat_minor": 2
}
