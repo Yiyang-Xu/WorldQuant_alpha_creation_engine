{
 "cells": [
  {
   "cell_type": "code",
   "execution_count": 1,
   "metadata": {},
   "outputs": [],
   "source": [
    "import ace_lib as ace\n",
    "import helpful_functions as hf\n",
    "import pandas as pd\n",
    "import glob\n",
    "import requests\n",
    "import plotly.express as px\n",
    "import os\n",
    "import pandas as pd\n",
    "from multiprocessing import Pool\n",
    "import json"
   ]
  },
  {
   "cell_type": "markdown",
   "metadata": {},
   "source": [
    "### Start session\n",
    "Enter credentials once - they will be saved to local folder and loaded each time"
   ]
  },
  {
   "cell_type": "code",
   "execution_count": 2,
   "metadata": {},
   "outputs": [
    {
     "name": "stdout",
     "output_type": "stream",
     "text": [
      "Complete biometrics authentication and press any key to continue: \n",
      "https://api.worldquantbrain.com/authentication/persona?inquiry=inq_1eFEU5n54Wy8guRwP6vu6XwtdPN9\n",
      "\n"
     ]
    }
   ],
   "source": [
    "s = ace.start_session()"
   ]
  },
  {
   "cell_type": "markdown",
   "metadata": {},
   "source": [
    "### Create list of alpha expressions\n",
    "#### Step 1. Download datsets"
   ]
  },
  {
   "cell_type": "code",
   "execution_count": 3,
   "metadata": {},
   "outputs": [],
   "source": [
    "# 设置不同的directory放不同的运行结果\n",
    "def create_directory(directory):\n",
    "    if not os.path.exists(directory):\n",
    "        os.makedirs(directory)\n",
    "\n",
    "def get_directory(region, factor_expression):\n",
    "    directory = f'progress/{region}/{factor_expression}'\n",
    "    create_directory(directory)\n",
    "    return directory\n",
    "\n",
    "def get_progress_file(region, factor_expression):\n",
    "    directory = get_directory(region, factor_expression)\n",
    "    return os.path.join(directory, 'progress.json')\n",
    "\n",
    "def get_result_file(region, factor_expression, dataset_id):\n",
    "    directory = get_directory(region, factor_expression)\n",
    "    return os.path.join(directory, f'results_{dataset_id}.csv')\n"
   ]
  },
  {
   "cell_type": "code",
   "execution_count": 4,
   "metadata": {},
   "outputs": [],
   "source": [
    "# 保存和加载字典的函数\n",
    "def save_progress(progress, filename):\n",
    "    with open(filename, 'w') as f:\n",
    "        json.dump(progress, f)\n",
    "\n",
    "def load_progress(filename):\n",
    "    if os.path.exists(filename):\n",
    "        try:\n",
    "            with open(filename, 'r') as f:\n",
    "                return json.load(f)\n",
    "        except json.JSONDecodeError:\n",
    "            print(f\"Error reading {filename}. File might be corrupted. Recreating an empty progress file.\")\n",
    "            return {}\n",
    "    return {}"
   ]
  },
  {
   "cell_type": "code",
   "execution_count": 5,
   "metadata": {},
   "outputs": [
    {
     "name": "stdout",
     "output_type": "stream",
     "text": [
      "83\n",
      "47\n"
     ]
    }
   ],
   "source": [
    "datasets_df = hf.get_datasets(s) # by default we load all datasets USA TOP3000 delay 1\n",
    "# datasets_df.tail() # DataFrame.head() shows first 5 rows of the dataframe \n",
    "print(len(datasets_df))\n",
    "\n",
    "\n",
    "# 筛选潜在数据集\n",
    "potential_datasets_df = datasets_df[\n",
    "    (datasets_df[\"delay\"] == 1) &\n",
    "    (datasets_df[\"coverage\"] > 0.7) & (datasets_df[\"coverage\"] <= 1) &\n",
    "    (datasets_df[\"fieldCount\"] > 0) & (datasets_df[\"fieldCount\"] < 3000) &\n",
    "    (datasets_df[\"region\"] == 'GLB') &\n",
    "    (datasets_df[\"universe\"] == 'MINVOL1M')\n",
    "    # (datasets_df[\"userCount\"] > 0) & (datasets_df[\"userCount\"] < 100) &\n",
    "    # (datasets_df[\"valueScore\"] > 1) & (datasets_df[\"valueScore\"] < 10)\n",
    "]\n",
    "\n",
    "region = 'GLB'  # 可以根据需要更改区域\n",
    "factor_expression = 'ts_zscore({},12)'  # 可以根据需要更改因子表达式\n",
    "\n",
    "print(len(potential_datasets_df))"
   ]
  },
  {
   "cell_type": "markdown",
   "metadata": {},
   "source": [
    "#### Step 2. 对每个潜在数据集挖掘因子"
   ]
  },
  {
   "cell_type": "code",
   "execution_count": 6,
   "metadata": {},
   "outputs": [],
   "source": [
    "# 模拟因子的函数\n",
    "def simulate_factors(dataset_id, progress, region, factor_expression):\n",
    "    try:\n",
    "        result_file = get_result_file(region, factor_expression, dataset_id)\n",
    "        if os.path.exists(result_file):\n",
    "            print(f'Results for dataset {dataset_id} already exist. Loading existing results...')\n",
    "            result_df = pd.read_csv(result_file)\n",
    "        else:\n",
    "            result_df = pd.DataFrame()\n",
    "        \n",
    "        datafields_df = hf.get_datafields(s, dataset_id=dataset_id)\n",
    "        \n",
    "        expression_list = [factor_expression.format(x) for x in datafields_df.id.values.tolist()]\n",
    "        \n",
    "        print(f'Processing {dataset_id}, Length: {len(expression_list)}:')\n",
    "        field_progress = progress.get(str(dataset_id), {}).get(\"expressions\", [])\n",
    "        \n",
    "        batch_size = 20  # 每次模拟的alpha数量\n",
    "        for i in range(0, len(expression_list), batch_size):\n",
    "            batch = expression_list[i:i + batch_size]\n",
    "            batch_to_simulate = [expr for expr in batch if expr not in field_progress]\n",
    "            \n",
    "            if not batch_to_simulate:\n",
    "                continue\n",
    "            \n",
    "            try:\n",
    "                alphas = [ace.generate_alpha(expr, region=region, universe=\"MINVOL1M\") for expr in batch_to_simulate]\n",
    "                \n",
    "                result = ace.simulate_alpha_list_multi(s, alphas)\n",
    "                \n",
    "                result_st2 = hf.prettify_result(result, clickable_alpha_id=False)\n",
    "                result_df = pd.concat([result_df, result_st2], ignore_index=True)\n",
    "                \n",
    "                result_df.to_csv(result_file, index=False)\n",
    "                \n",
    "                field_progress.extend(batch_to_simulate)\n",
    "                progress[str(dataset_id)] = {\"status\": \"in_progress\", \"expressions\": field_progress}\n",
    "                save_progress(progress, get_progress_file(region, factor_expression))\n",
    "                \n",
    "            except Exception as e:\n",
    "                print(f'Error processing batch {batch_to_simulate}: {e}')\n",
    "        \n",
    "        progress[str(dataset_id)][\"status\"] = \"completed\"\n",
    "        save_progress(progress, get_progress_file(region, factor_expression))\n",
    "        print(f'Results for dataset {dataset_id} processed successfully.')\n",
    "        \n",
    "    except Exception as e:\n",
    "        print(f'Error processing dataset {dataset_id}: {e}')\n",
    "        progress[str(dataset_id)] = {\"status\": \"error\", \"expressions\": field_progress}\n",
    "        save_progress(progress, get_progress_file(region, factor_expression))"
   ]
  },
  {
   "cell_type": "code",
   "execution_count": 7,
   "metadata": {},
   "outputs": [
    {
     "data": {
      "text/html": [
       "<div>\n",
       "<style scoped>\n",
       "    .dataframe tbody tr th:only-of-type {\n",
       "        vertical-align: middle;\n",
       "    }\n",
       "\n",
       "    .dataframe tbody tr th {\n",
       "        vertical-align: top;\n",
       "    }\n",
       "\n",
       "    .dataframe thead th {\n",
       "        text-align: right;\n",
       "    }\n",
       "</style>\n",
       "<table border=\"1\" class=\"dataframe\">\n",
       "  <thead>\n",
       "    <tr style=\"text-align: right;\">\n",
       "      <th></th>\n",
       "      <th>id</th>\n",
       "      <th>name</th>\n",
       "      <th>description</th>\n",
       "      <th>category</th>\n",
       "      <th>subcategory</th>\n",
       "      <th>region</th>\n",
       "      <th>delay</th>\n",
       "      <th>universe</th>\n",
       "      <th>coverage</th>\n",
       "      <th>turnover</th>\n",
       "      <th>valueScore</th>\n",
       "      <th>userCount</th>\n",
       "      <th>alphaCount</th>\n",
       "      <th>fieldCount</th>\n",
       "      <th>themes</th>\n",
       "      <th>researchPapers</th>\n",
       "    </tr>\n",
       "  </thead>\n",
       "  <tbody>\n",
       "    <tr>\n",
       "      <th>0</th>\n",
       "      <td>analyst11</td>\n",
       "      <td>ESG scores</td>\n",
       "      <td>Environmental Social Governance scores that ex...</td>\n",
       "      <td>analyst</td>\n",
       "      <td>analyst-esg</td>\n",
       "      <td>GLB</td>\n",
       "      <td>1</td>\n",
       "      <td>MINVOL1M</td>\n",
       "      <td>0.7917</td>\n",
       "      <td>None</td>\n",
       "      <td>3.0</td>\n",
       "      <td>52</td>\n",
       "      <td>220</td>\n",
       "      <td>197</td>\n",
       "      <td>[]</td>\n",
       "      <td>[{'title': 'Research Paper 19: ESG Preference,...</td>\n",
       "    </tr>\n",
       "    <tr>\n",
       "      <th>2</th>\n",
       "      <td>analyst15</td>\n",
       "      <td>Earnings forecasts</td>\n",
       "      <td>This dataset provides bottom-up forecast data ...</td>\n",
       "      <td>analyst</td>\n",
       "      <td>analyst-analyst-estimates</td>\n",
       "      <td>GLB</td>\n",
       "      <td>1</td>\n",
       "      <td>MINVOL1M</td>\n",
       "      <td>0.9929</td>\n",
       "      <td>None</td>\n",
       "      <td>2.0</td>\n",
       "      <td>128</td>\n",
       "      <td>1231</td>\n",
       "      <td>288</td>\n",
       "      <td>[]</td>\n",
       "      <td>[]</td>\n",
       "    </tr>\n",
       "    <tr>\n",
       "      <th>3</th>\n",
       "      <td>analyst16</td>\n",
       "      <td>Real Time Estimates</td>\n",
       "      <td>This dataset provides real-time access to the ...</td>\n",
       "      <td>analyst</td>\n",
       "      <td>analyst-crowdsourced-estimates</td>\n",
       "      <td>GLB</td>\n",
       "      <td>1</td>\n",
       "      <td>MINVOL1M</td>\n",
       "      <td>0.9013</td>\n",
       "      <td>None</td>\n",
       "      <td>2.0</td>\n",
       "      <td>93</td>\n",
       "      <td>461</td>\n",
       "      <td>42</td>\n",
       "      <td>[]</td>\n",
       "      <td>[]</td>\n",
       "    </tr>\n",
       "    <tr>\n",
       "      <th>5</th>\n",
       "      <td>analyst39</td>\n",
       "      <td>Analyst estimates &amp; financial ratios</td>\n",
       "      <td>This dataset provides a lot of information on ...</td>\n",
       "      <td>analyst</td>\n",
       "      <td>analyst-esg</td>\n",
       "      <td>GLB</td>\n",
       "      <td>1</td>\n",
       "      <td>MINVOL1M</td>\n",
       "      <td>1.0000</td>\n",
       "      <td>None</td>\n",
       "      <td>3.0</td>\n",
       "      <td>41</td>\n",
       "      <td>80</td>\n",
       "      <td>5</td>\n",
       "      <td>[]</td>\n",
       "      <td>[]</td>\n",
       "    </tr>\n",
       "    <tr>\n",
       "      <th>6</th>\n",
       "      <td>analyst4</td>\n",
       "      <td>Analyst Estimate Data for Equity</td>\n",
       "      <td>This dataset provides details and aggregations...</td>\n",
       "      <td>analyst</td>\n",
       "      <td>analyst-analyst-estimates</td>\n",
       "      <td>GLB</td>\n",
       "      <td>1</td>\n",
       "      <td>MINVOL1M</td>\n",
       "      <td>0.7976</td>\n",
       "      <td>None</td>\n",
       "      <td>3.0</td>\n",
       "      <td>29</td>\n",
       "      <td>75</td>\n",
       "      <td>18</td>\n",
       "      <td>[]</td>\n",
       "      <td>[{'title': 'Research Paper 46: Time-Series and...</td>\n",
       "    </tr>\n",
       "    <tr>\n",
       "      <th>8</th>\n",
       "      <td>analyst44</td>\n",
       "      <td>Broker Estimates</td>\n",
       "      <td>This dataset integrates the detail estimates f...</td>\n",
       "      <td>analyst</td>\n",
       "      <td>analyst-crowdsourced-estimates</td>\n",
       "      <td>GLB</td>\n",
       "      <td>1</td>\n",
       "      <td>MINVOL1M</td>\n",
       "      <td>0.8173</td>\n",
       "      <td>None</td>\n",
       "      <td>4.0</td>\n",
       "      <td>37</td>\n",
       "      <td>107</td>\n",
       "      <td>115</td>\n",
       "      <td>[]</td>\n",
       "      <td>[]</td>\n",
       "    </tr>\n",
       "    <tr>\n",
       "      <th>9</th>\n",
       "      <td>analyst46</td>\n",
       "      <td>Analyst Investment insight Data</td>\n",
       "      <td>The dataset incorporates the investment insigh...</td>\n",
       "      <td>analyst</td>\n",
       "      <td>analyst-crowdsourced-estimates</td>\n",
       "      <td>GLB</td>\n",
       "      <td>1</td>\n",
       "      <td>MINVOL1M</td>\n",
       "      <td>0.7703</td>\n",
       "      <td>None</td>\n",
       "      <td>3.0</td>\n",
       "      <td>34</td>\n",
       "      <td>61</td>\n",
       "      <td>5</td>\n",
       "      <td>[]</td>\n",
       "      <td>[{'title': 'Research Paper 68: An Augmented q-...</td>\n",
       "    </tr>\n",
       "    <tr>\n",
       "      <th>10</th>\n",
       "      <td>analyst47</td>\n",
       "      <td>Alternative Analyst Investment Insight Data</td>\n",
       "      <td>The dataset incorporates the investment insigh...</td>\n",
       "      <td>analyst</td>\n",
       "      <td>analyst-crowdsourced-estimates</td>\n",
       "      <td>GLB</td>\n",
       "      <td>1</td>\n",
       "      <td>MINVOL1M</td>\n",
       "      <td>0.8409</td>\n",
       "      <td>None</td>\n",
       "      <td>2.0</td>\n",
       "      <td>50</td>\n",
       "      <td>149</td>\n",
       "      <td>5</td>\n",
       "      <td>[]</td>\n",
       "      <td>[]</td>\n",
       "    </tr>\n",
       "    <tr>\n",
       "      <th>11</th>\n",
       "      <td>analyst48</td>\n",
       "      <td>Dividend estimation data</td>\n",
       "      <td>Dividend estimation/history on general equity ...</td>\n",
       "      <td>analyst</td>\n",
       "      <td>analyst-analyst-estimates</td>\n",
       "      <td>GLB</td>\n",
       "      <td>1</td>\n",
       "      <td>MINVOL1M</td>\n",
       "      <td>0.8096</td>\n",
       "      <td>None</td>\n",
       "      <td>3.0</td>\n",
       "      <td>43</td>\n",
       "      <td>77</td>\n",
       "      <td>38</td>\n",
       "      <td>[]</td>\n",
       "      <td>[]</td>\n",
       "    </tr>\n",
       "    <tr>\n",
       "      <th>12</th>\n",
       "      <td>analyst69</td>\n",
       "      <td>Fundamental Analyst Estimates</td>\n",
       "      <td>This dataset is a type of analyst dataset that...</td>\n",
       "      <td>analyst</td>\n",
       "      <td>analyst-analyst-estimates</td>\n",
       "      <td>GLB</td>\n",
       "      <td>1</td>\n",
       "      <td>MINVOL1M</td>\n",
       "      <td>0.9369</td>\n",
       "      <td>None</td>\n",
       "      <td>2.0</td>\n",
       "      <td>177</td>\n",
       "      <td>1135</td>\n",
       "      <td>324</td>\n",
       "      <td>[]</td>\n",
       "      <td>[]</td>\n",
       "    </tr>\n",
       "    <tr>\n",
       "      <th>13</th>\n",
       "      <td>analyst9</td>\n",
       "      <td>Analyst Estimate Daily Data</td>\n",
       "      <td>estimation from analyst</td>\n",
       "      <td>analyst</td>\n",
       "      <td>analyst-analyst-estimates</td>\n",
       "      <td>GLB</td>\n",
       "      <td>1</td>\n",
       "      <td>MINVOL1M</td>\n",
       "      <td>0.8834</td>\n",
       "      <td>None</td>\n",
       "      <td>4.0</td>\n",
       "      <td>25</td>\n",
       "      <td>60</td>\n",
       "      <td>69</td>\n",
       "      <td>[]</td>\n",
       "      <td>[{'title': 'Research Paper 33: Using Abnormal ...</td>\n",
       "    </tr>\n",
       "    <tr>\n",
       "      <th>14</th>\n",
       "      <td>earnings3</td>\n",
       "      <td>Earnings Date Data</td>\n",
       "      <td>financial report announce date information</td>\n",
       "      <td>earnings</td>\n",
       "      <td>earnings-earnings-estimates</td>\n",
       "      <td>GLB</td>\n",
       "      <td>1</td>\n",
       "      <td>MINVOL1M</td>\n",
       "      <td>0.9864</td>\n",
       "      <td>None</td>\n",
       "      <td>2.0</td>\n",
       "      <td>51</td>\n",
       "      <td>182</td>\n",
       "      <td>4</td>\n",
       "      <td>[]</td>\n",
       "      <td>[]</td>\n",
       "    </tr>\n",
       "    <tr>\n",
       "      <th>18</th>\n",
       "      <td>fundamental17</td>\n",
       "      <td>Direct Fundamental Data</td>\n",
       "      <td>This dataset contains information about variou...</td>\n",
       "      <td>fundamental</td>\n",
       "      <td>fundamental-fundamental-data</td>\n",
       "      <td>GLB</td>\n",
       "      <td>1</td>\n",
       "      <td>MINVOL1M</td>\n",
       "      <td>0.7816</td>\n",
       "      <td>None</td>\n",
       "      <td>2.0</td>\n",
       "      <td>184</td>\n",
       "      <td>970</td>\n",
       "      <td>733</td>\n",
       "      <td>[]</td>\n",
       "      <td>[{'title': 'Research Paper 06: The Unintended ...</td>\n",
       "    </tr>\n",
       "    <tr>\n",
       "      <th>22</th>\n",
       "      <td>fundamental28</td>\n",
       "      <td>Global Fundamental Data</td>\n",
       "      <td>This is a global fundamental dataset providing...</td>\n",
       "      <td>fundamental</td>\n",
       "      <td>fundamental-fundamental-data</td>\n",
       "      <td>GLB</td>\n",
       "      <td>1</td>\n",
       "      <td>MINVOL1M</td>\n",
       "      <td>0.7785</td>\n",
       "      <td>None</td>\n",
       "      <td>2.0</td>\n",
       "      <td>161</td>\n",
       "      <td>1218</td>\n",
       "      <td>929</td>\n",
       "      <td>[]</td>\n",
       "      <td>[]</td>\n",
       "    </tr>\n",
       "    <tr>\n",
       "      <th>24</th>\n",
       "      <td>fundamental44</td>\n",
       "      <td>Accounting Quality Models</td>\n",
       "      <td>Machine learning based scores which contains i...</td>\n",
       "      <td>fundamental</td>\n",
       "      <td>fundamental-fundamental-models</td>\n",
       "      <td>GLB</td>\n",
       "      <td>1</td>\n",
       "      <td>MINVOL1M</td>\n",
       "      <td>0.8863</td>\n",
       "      <td>None</td>\n",
       "      <td>3.0</td>\n",
       "      <td>51</td>\n",
       "      <td>177</td>\n",
       "      <td>12</td>\n",
       "      <td>[]</td>\n",
       "      <td>[]</td>\n",
       "    </tr>\n",
       "    <tr>\n",
       "      <th>29</th>\n",
       "      <td>macro10</td>\n",
       "      <td>Macroeconomic Research data</td>\n",
       "      <td>The dataset includes historical time series da...</td>\n",
       "      <td>macro</td>\n",
       "      <td>macro-macroeconomic-activities</td>\n",
       "      <td>GLB</td>\n",
       "      <td>1</td>\n",
       "      <td>MINVOL1M</td>\n",
       "      <td>1.0000</td>\n",
       "      <td>None</td>\n",
       "      <td>2.0</td>\n",
       "      <td>27</td>\n",
       "      <td>200</td>\n",
       "      <td>1</td>\n",
       "      <td>[]</td>\n",
       "      <td>[]</td>\n",
       "    </tr>\n",
       "    <tr>\n",
       "      <th>31</th>\n",
       "      <td>model106</td>\n",
       "      <td>Analysts rating model</td>\n",
       "      <td>The dataset provides ratings and evaluations r...</td>\n",
       "      <td>model</td>\n",
       "      <td>model-estimates-models</td>\n",
       "      <td>GLB</td>\n",
       "      <td>1</td>\n",
       "      <td>MINVOL1M</td>\n",
       "      <td>0.7525</td>\n",
       "      <td>None</td>\n",
       "      <td>2.0</td>\n",
       "      <td>53</td>\n",
       "      <td>311</td>\n",
       "      <td>14</td>\n",
       "      <td>[]</td>\n",
       "      <td>[{'title': 'Research Paper 03: Currency and St...</td>\n",
       "    </tr>\n",
       "    <tr>\n",
       "      <th>32</th>\n",
       "      <td>model109</td>\n",
       "      <td>Fundamentals and Technical Indicators Model</td>\n",
       "      <td>Alpha model. Normal distributed cross-sectiona...</td>\n",
       "      <td>model</td>\n",
       "      <td>model-valuation-models</td>\n",
       "      <td>GLB</td>\n",
       "      <td>1</td>\n",
       "      <td>MINVOL1M</td>\n",
       "      <td>0.9140</td>\n",
       "      <td>None</td>\n",
       "      <td>2.0</td>\n",
       "      <td>218</td>\n",
       "      <td>2382</td>\n",
       "      <td>271</td>\n",
       "      <td>[]</td>\n",
       "      <td>[{'title': 'Research Paper 30: Downside Beta a...</td>\n",
       "    </tr>\n",
       "    <tr>\n",
       "      <th>33</th>\n",
       "      <td>model110</td>\n",
       "      <td>Big data and machine learning based model</td>\n",
       "      <td>Machine learning based scores which are catchi...</td>\n",
       "      <td>model</td>\n",
       "      <td>model-mlai-models</td>\n",
       "      <td>GLB</td>\n",
       "      <td>1</td>\n",
       "      <td>MINVOL1M</td>\n",
       "      <td>0.9298</td>\n",
       "      <td>None</td>\n",
       "      <td>1.0</td>\n",
       "      <td>292</td>\n",
       "      <td>4603</td>\n",
       "      <td>8</td>\n",
       "      <td>[]</td>\n",
       "      <td>[]</td>\n",
       "    </tr>\n",
       "    <tr>\n",
       "      <th>39</th>\n",
       "      <td>model26</td>\n",
       "      <td>Analyst Revisions</td>\n",
       "      <td>This dataset provides model scores based on an...</td>\n",
       "      <td>model</td>\n",
       "      <td>model-revisions-models</td>\n",
       "      <td>GLB</td>\n",
       "      <td>1</td>\n",
       "      <td>MINVOL1M</td>\n",
       "      <td>0.8454</td>\n",
       "      <td>None</td>\n",
       "      <td>1.0</td>\n",
       "      <td>313</td>\n",
       "      <td>4797</td>\n",
       "      <td>124</td>\n",
       "      <td>[]</td>\n",
       "      <td>[]</td>\n",
       "    </tr>\n",
       "    <tr>\n",
       "      <th>40</th>\n",
       "      <td>model29</td>\n",
       "      <td>EBITDA Estimate Model</td>\n",
       "      <td>A company's earnings before interest, taxes, d...</td>\n",
       "      <td>model</td>\n",
       "      <td>model-estimates-models</td>\n",
       "      <td>GLB</td>\n",
       "      <td>1</td>\n",
       "      <td>MINVOL1M</td>\n",
       "      <td>0.7369</td>\n",
       "      <td>None</td>\n",
       "      <td>2.0</td>\n",
       "      <td>120</td>\n",
       "      <td>842</td>\n",
       "      <td>14</td>\n",
       "      <td>[]</td>\n",
       "      <td>[]</td>\n",
       "    </tr>\n",
       "    <tr>\n",
       "      <th>41</th>\n",
       "      <td>model30</td>\n",
       "      <td>EPS Estimate Model</td>\n",
       "      <td>Earnings per shareÃƒâ€šÃ‚Â (EPS) is a figure d...</td>\n",
       "      <td>model</td>\n",
       "      <td>model-estimates-models</td>\n",
       "      <td>GLB</td>\n",
       "      <td>1</td>\n",
       "      <td>MINVOL1M</td>\n",
       "      <td>0.8187</td>\n",
       "      <td>None</td>\n",
       "      <td>1.0</td>\n",
       "      <td>203</td>\n",
       "      <td>1177</td>\n",
       "      <td>14</td>\n",
       "      <td>[]</td>\n",
       "      <td>[{'title': 'Research Paper 27: Earnings Uncert...</td>\n",
       "    </tr>\n",
       "    <tr>\n",
       "      <th>42</th>\n",
       "      <td>model32</td>\n",
       "      <td>Price Momentum Model</td>\n",
       "      <td>This dataset provides multiple aspects of stoc...</td>\n",
       "      <td>model</td>\n",
       "      <td>model-nlp-models</td>\n",
       "      <td>GLB</td>\n",
       "      <td>1</td>\n",
       "      <td>MINVOL1M</td>\n",
       "      <td>0.9746</td>\n",
       "      <td>None</td>\n",
       "      <td>1.0</td>\n",
       "      <td>67</td>\n",
       "      <td>169</td>\n",
       "      <td>6</td>\n",
       "      <td>[]</td>\n",
       "      <td>[]</td>\n",
       "    </tr>\n",
       "    <tr>\n",
       "      <th>43</th>\n",
       "      <td>model33</td>\n",
       "      <td>Revenue Estimate Model</td>\n",
       "      <td>Revenue is the money generated from normal bus...</td>\n",
       "      <td>model</td>\n",
       "      <td>model-estimates-models</td>\n",
       "      <td>GLB</td>\n",
       "      <td>1</td>\n",
       "      <td>MINVOL1M</td>\n",
       "      <td>0.8255</td>\n",
       "      <td>None</td>\n",
       "      <td>1.0</td>\n",
       "      <td>179</td>\n",
       "      <td>647</td>\n",
       "      <td>14</td>\n",
       "      <td>[]</td>\n",
       "      <td>[]</td>\n",
       "    </tr>\n",
       "    <tr>\n",
       "      <th>44</th>\n",
       "      <td>model38</td>\n",
       "      <td>Growth Valuation Model</td>\n",
       "      <td>This dataset is a stock ranking model that sor...</td>\n",
       "      <td>model</td>\n",
       "      <td>model-valuation-models</td>\n",
       "      <td>GLB</td>\n",
       "      <td>1</td>\n",
       "      <td>MINVOL1M</td>\n",
       "      <td>0.8963</td>\n",
       "      <td>None</td>\n",
       "      <td>1.0</td>\n",
       "      <td>247</td>\n",
       "      <td>2258</td>\n",
       "      <td>57</td>\n",
       "      <td>[]</td>\n",
       "      <td>[]</td>\n",
       "    </tr>\n",
       "    <tr>\n",
       "      <th>46</th>\n",
       "      <td>model53</td>\n",
       "      <td>Creditworthiness Risk Measure Model</td>\n",
       "      <td>This dataset provides risk measures for public...</td>\n",
       "      <td>model</td>\n",
       "      <td>model-risk-based-models</td>\n",
       "      <td>GLB</td>\n",
       "      <td>1</td>\n",
       "      <td>MINVOL1M</td>\n",
       "      <td>0.9371</td>\n",
       "      <td>None</td>\n",
       "      <td>2.0</td>\n",
       "      <td>37</td>\n",
       "      <td>150</td>\n",
       "      <td>10</td>\n",
       "      <td>[]</td>\n",
       "      <td>[]</td>\n",
       "    </tr>\n",
       "    <tr>\n",
       "      <th>47</th>\n",
       "      <td>model56</td>\n",
       "      <td>Stock Reports Plus</td>\n",
       "      <td>This dataset provides stock rating based on re...</td>\n",
       "      <td>model</td>\n",
       "      <td>model-valuation-models</td>\n",
       "      <td>GLB</td>\n",
       "      <td>1</td>\n",
       "      <td>MINVOL1M</td>\n",
       "      <td>0.7322</td>\n",
       "      <td>None</td>\n",
       "      <td>2.0</td>\n",
       "      <td>48</td>\n",
       "      <td>125</td>\n",
       "      <td>10</td>\n",
       "      <td>[]</td>\n",
       "      <td>[{'title': 'Research Paper 33: Using Abnormal ...</td>\n",
       "    </tr>\n",
       "    <tr>\n",
       "      <th>48</th>\n",
       "      <td>model77</td>\n",
       "      <td>Analysts' Factor Model</td>\n",
       "      <td>Factor model dataset based on anaysts' evaluation</td>\n",
       "      <td>model</td>\n",
       "      <td>model-technical-models</td>\n",
       "      <td>GLB</td>\n",
       "      <td>1</td>\n",
       "      <td>MINVOL1M</td>\n",
       "      <td>0.8450</td>\n",
       "      <td>None</td>\n",
       "      <td>2.0</td>\n",
       "      <td>283</td>\n",
       "      <td>4050</td>\n",
       "      <td>536</td>\n",
       "      <td>[]</td>\n",
       "      <td>[{'title': 'Research Paper 16: First Impressio...</td>\n",
       "    </tr>\n",
       "    <tr>\n",
       "      <th>49</th>\n",
       "      <td>news20</td>\n",
       "      <td>Web Sources News Sentiment Data</td>\n",
       "      <td>This dataset provides real-time structured sen...</td>\n",
       "      <td>news</td>\n",
       "      <td>news-news-sentiment</td>\n",
       "      <td>GLB</td>\n",
       "      <td>1</td>\n",
       "      <td>MINVOL1M</td>\n",
       "      <td>0.8631</td>\n",
       "      <td>None</td>\n",
       "      <td>3.0</td>\n",
       "      <td>20</td>\n",
       "      <td>202</td>\n",
       "      <td>24</td>\n",
       "      <td>[]</td>\n",
       "      <td>[]</td>\n",
       "    </tr>\n",
       "    <tr>\n",
       "      <th>53</th>\n",
       "      <td>news54</td>\n",
       "      <td>Newa analystic data</td>\n",
       "      <td>This dataset provides access to events &amp; news ...</td>\n",
       "      <td>news</td>\n",
       "      <td>news-news-sentiment</td>\n",
       "      <td>GLB</td>\n",
       "      <td>1</td>\n",
       "      <td>MINVOL1M</td>\n",
       "      <td>0.7416</td>\n",
       "      <td>None</td>\n",
       "      <td>4.0</td>\n",
       "      <td>3</td>\n",
       "      <td>3</td>\n",
       "      <td>5</td>\n",
       "      <td>[]</td>\n",
       "      <td>[]</td>\n",
       "    </tr>\n",
       "    <tr>\n",
       "      <th>54</th>\n",
       "      <td>news66</td>\n",
       "      <td>Webpage View Statistics</td>\n",
       "      <td>The dataset is a collection of view statistics...</td>\n",
       "      <td>news</td>\n",
       "      <td>news-news-sentiment</td>\n",
       "      <td>GLB</td>\n",
       "      <td>1</td>\n",
       "      <td>MINVOL1M</td>\n",
       "      <td>0.7449</td>\n",
       "      <td>None</td>\n",
       "      <td>4.0</td>\n",
       "      <td>3</td>\n",
       "      <td>6</td>\n",
       "      <td>2</td>\n",
       "      <td>[]</td>\n",
       "      <td>[]</td>\n",
       "    </tr>\n",
       "    <tr>\n",
       "      <th>55</th>\n",
       "      <td>news76</td>\n",
       "      <td>Textual News Feed Data</td>\n",
       "      <td>The dataset is composed of different subscript...</td>\n",
       "      <td>news</td>\n",
       "      <td>news-news</td>\n",
       "      <td>GLB</td>\n",
       "      <td>1</td>\n",
       "      <td>MINVOL1M</td>\n",
       "      <td>1.0000</td>\n",
       "      <td>None</td>\n",
       "      <td>4.0</td>\n",
       "      <td>1</td>\n",
       "      <td>6</td>\n",
       "      <td>1</td>\n",
       "      <td>[]</td>\n",
       "      <td>[]</td>\n",
       "    </tr>\n",
       "    <tr>\n",
       "      <th>58</th>\n",
       "      <td>other176</td>\n",
       "      <td>Nonlinear adaptive model</td>\n",
       "      <td>Global stock selection model completely driven...</td>\n",
       "      <td>other</td>\n",
       "      <td>other-aiml-data</td>\n",
       "      <td>GLB</td>\n",
       "      <td>1</td>\n",
       "      <td>MINVOL1M</td>\n",
       "      <td>0.9400</td>\n",
       "      <td>None</td>\n",
       "      <td>2.0</td>\n",
       "      <td>339</td>\n",
       "      <td>7818</td>\n",
       "      <td>20</td>\n",
       "      <td>[]</td>\n",
       "      <td>[]</td>\n",
       "    </tr>\n",
       "    <tr>\n",
       "      <th>61</th>\n",
       "      <td>other432</td>\n",
       "      <td>DNN prediction of fundamentals</td>\n",
       "      <td>Market implied values of commonly used fundame...</td>\n",
       "      <td>other</td>\n",
       "      <td>other-aiml-data</td>\n",
       "      <td>GLB</td>\n",
       "      <td>1</td>\n",
       "      <td>MINVOL1M</td>\n",
       "      <td>0.7698</td>\n",
       "      <td>None</td>\n",
       "      <td>3.0</td>\n",
       "      <td>51</td>\n",
       "      <td>284</td>\n",
       "      <td>345</td>\n",
       "      <td>[]</td>\n",
       "      <td>[]</td>\n",
       "    </tr>\n",
       "    <tr>\n",
       "      <th>63</th>\n",
       "      <td>other455</td>\n",
       "      <td>Relationship enhanced with AI/ML</td>\n",
       "      <td>Grouping data. Generated using deep learning m...</td>\n",
       "      <td>other</td>\n",
       "      <td>other-aiml-data</td>\n",
       "      <td>GLB</td>\n",
       "      <td>1</td>\n",
       "      <td>MINVOL1M</td>\n",
       "      <td>0.8127</td>\n",
       "      <td>None</td>\n",
       "      <td>4.0</td>\n",
       "      <td>103</td>\n",
       "      <td>1021</td>\n",
       "      <td>1500</td>\n",
       "      <td>[]</td>\n",
       "      <td>[]</td>\n",
       "    </tr>\n",
       "    <tr>\n",
       "      <th>64</th>\n",
       "      <td>other460</td>\n",
       "      <td>Predictive data using Deep Learning models</td>\n",
       "      <td>Time series data prediction using deep learnin...</td>\n",
       "      <td>other</td>\n",
       "      <td>other-aiml-data</td>\n",
       "      <td>GLB</td>\n",
       "      <td>1</td>\n",
       "      <td>MINVOL1M</td>\n",
       "      <td>1.0000</td>\n",
       "      <td>None</td>\n",
       "      <td>3.0</td>\n",
       "      <td>245</td>\n",
       "      <td>3868</td>\n",
       "      <td>1171</td>\n",
       "      <td>[]</td>\n",
       "      <td>[]</td>\n",
       "    </tr>\n",
       "    <tr>\n",
       "      <th>66</th>\n",
       "      <td>other54</td>\n",
       "      <td>Quantitative Stock Selection Data</td>\n",
       "      <td>An quantitative stock selection model which ca...</td>\n",
       "      <td>other</td>\n",
       "      <td>other-aiml-data</td>\n",
       "      <td>GLB</td>\n",
       "      <td>1</td>\n",
       "      <td>MINVOL1M</td>\n",
       "      <td>0.9739</td>\n",
       "      <td>None</td>\n",
       "      <td>3.0</td>\n",
       "      <td>50</td>\n",
       "      <td>131</td>\n",
       "      <td>4</td>\n",
       "      <td>[]</td>\n",
       "      <td>[{'title': 'Research Paper 06: The Unintended ...</td>\n",
       "    </tr>\n",
       "    <tr>\n",
       "      <th>69</th>\n",
       "      <td>pv1</td>\n",
       "      <td>Price Volume Data for Equity</td>\n",
       "      <td>A dataset containing price, volume, close, ope...</td>\n",
       "      <td>pv</td>\n",
       "      <td>pv-price-volume</td>\n",
       "      <td>GLB</td>\n",
       "      <td>1</td>\n",
       "      <td>MINVOL1M</td>\n",
       "      <td>1.0000</td>\n",
       "      <td>None</td>\n",
       "      <td>1.0</td>\n",
       "      <td>683</td>\n",
       "      <td>34367</td>\n",
       "      <td>18</td>\n",
       "      <td>[]</td>\n",
       "      <td>[{'title': 'Research Paper 03: Cross-Firm Info...</td>\n",
       "    </tr>\n",
       "    <tr>\n",
       "      <th>70</th>\n",
       "      <td>pv13</td>\n",
       "      <td>Relationship Data for Equity</td>\n",
       "      <td>The dataset outputs various classifications an...</td>\n",
       "      <td>pv</td>\n",
       "      <td>pv-relationship</td>\n",
       "      <td>GLB</td>\n",
       "      <td>1</td>\n",
       "      <td>MINVOL1M</td>\n",
       "      <td>0.9152</td>\n",
       "      <td>None</td>\n",
       "      <td>2.0</td>\n",
       "      <td>72</td>\n",
       "      <td>905</td>\n",
       "      <td>29</td>\n",
       "      <td>[]</td>\n",
       "      <td>[]</td>\n",
       "    </tr>\n",
       "    <tr>\n",
       "      <th>72</th>\n",
       "      <td>pv29</td>\n",
       "      <td>Derived Industry Classification</td>\n",
       "      <td>This is a statistical grouping data. The prefi...</td>\n",
       "      <td>pv</td>\n",
       "      <td>pv-price-volume</td>\n",
       "      <td>GLB</td>\n",
       "      <td>1</td>\n",
       "      <td>MINVOL1M</td>\n",
       "      <td>1.0000</td>\n",
       "      <td>None</td>\n",
       "      <td>2.0</td>\n",
       "      <td>10</td>\n",
       "      <td>48</td>\n",
       "      <td>5</td>\n",
       "      <td>[]</td>\n",
       "      <td>[]</td>\n",
       "    </tr>\n",
       "    <tr>\n",
       "      <th>73</th>\n",
       "      <td>pv30</td>\n",
       "      <td>Alternate Industry Classification</td>\n",
       "      <td>This is a statistical grouping data. The prefi...</td>\n",
       "      <td>pv</td>\n",
       "      <td>pv-price-volume</td>\n",
       "      <td>GLB</td>\n",
       "      <td>1</td>\n",
       "      <td>MINVOL1M</td>\n",
       "      <td>1.0000</td>\n",
       "      <td>None</td>\n",
       "      <td>4.0</td>\n",
       "      <td>4</td>\n",
       "      <td>9</td>\n",
       "      <td>20</td>\n",
       "      <td>[]</td>\n",
       "      <td>[]</td>\n",
       "    </tr>\n",
       "    <tr>\n",
       "      <th>74</th>\n",
       "      <td>pv53</td>\n",
       "      <td>Index Market Data</td>\n",
       "      <td>The dataset includes global Index market data</td>\n",
       "      <td>pv</td>\n",
       "      <td>pv-price-volume</td>\n",
       "      <td>GLB</td>\n",
       "      <td>1</td>\n",
       "      <td>MINVOL1M</td>\n",
       "      <td>1.0000</td>\n",
       "      <td>None</td>\n",
       "      <td>2.0</td>\n",
       "      <td>46</td>\n",
       "      <td>223</td>\n",
       "      <td>9</td>\n",
       "      <td>[]</td>\n",
       "      <td>[]</td>\n",
       "    </tr>\n",
       "    <tr>\n",
       "      <th>75</th>\n",
       "      <td>pv96</td>\n",
       "      <td>Corporate Action Dataset</td>\n",
       "      <td>This dataset looks at corporate events that ca...</td>\n",
       "      <td>pv</td>\n",
       "      <td>pv-price-volume</td>\n",
       "      <td>GLB</td>\n",
       "      <td>1</td>\n",
       "      <td>MINVOL1M</td>\n",
       "      <td>0.8715</td>\n",
       "      <td>None</td>\n",
       "      <td>2.0</td>\n",
       "      <td>60</td>\n",
       "      <td>246</td>\n",
       "      <td>21</td>\n",
       "      <td>[]</td>\n",
       "      <td>[]</td>\n",
       "    </tr>\n",
       "    <tr>\n",
       "      <th>76</th>\n",
       "      <td>risk60</td>\n",
       "      <td>Securities Lending Insight Data</td>\n",
       "      <td>The dataset provides list of metrics, covering...</td>\n",
       "      <td>risk</td>\n",
       "      <td>risk-risk-models</td>\n",
       "      <td>GLB</td>\n",
       "      <td>1</td>\n",
       "      <td>MINVOL1M</td>\n",
       "      <td>0.9911</td>\n",
       "      <td>None</td>\n",
       "      <td>3.0</td>\n",
       "      <td>27</td>\n",
       "      <td>144</td>\n",
       "      <td>4</td>\n",
       "      <td>[]</td>\n",
       "      <td>[]</td>\n",
       "    </tr>\n",
       "    <tr>\n",
       "      <th>78</th>\n",
       "      <td>shortinterest6</td>\n",
       "      <td>SmartHoldings Model</td>\n",
       "      <td>This dataset is a global stock selection model...</td>\n",
       "      <td>shortinterest</td>\n",
       "      <td>shortinterest-short-sale-models</td>\n",
       "      <td>GLB</td>\n",
       "      <td>1</td>\n",
       "      <td>MINVOL1M</td>\n",
       "      <td>0.9711</td>\n",
       "      <td>None</td>\n",
       "      <td>2.0</td>\n",
       "      <td>79</td>\n",
       "      <td>295</td>\n",
       "      <td>11</td>\n",
       "      <td>[]</td>\n",
       "      <td>[]</td>\n",
       "    </tr>\n",
       "    <tr>\n",
       "      <th>79</th>\n",
       "      <td>shortinterest7</td>\n",
       "      <td>Short Selling Model</td>\n",
       "      <td>The dataset combines features obtained from sh...</td>\n",
       "      <td>shortinterest</td>\n",
       "      <td>shortinterest-short-sale-models</td>\n",
       "      <td>GLB</td>\n",
       "      <td>1</td>\n",
       "      <td>MINVOL1M</td>\n",
       "      <td>1.0000</td>\n",
       "      <td>None</td>\n",
       "      <td>2.0</td>\n",
       "      <td>53</td>\n",
       "      <td>271</td>\n",
       "      <td>16</td>\n",
       "      <td>[]</td>\n",
       "      <td>[{'title': 'Research Paper 04: Strategic Rebal...</td>\n",
       "    </tr>\n",
       "    <tr>\n",
       "      <th>82</th>\n",
       "      <td>univ1</td>\n",
       "      <td>Universe Dataset</td>\n",
       "      <td>No dataset description</td>\n",
       "      <td>pv</td>\n",
       "      <td>pv-price-volume</td>\n",
       "      <td>GLB</td>\n",
       "      <td>1</td>\n",
       "      <td>MINVOL1M</td>\n",
       "      <td>1.0000</td>\n",
       "      <td>None</td>\n",
       "      <td>4.0</td>\n",
       "      <td>1</td>\n",
       "      <td>3</td>\n",
       "      <td>2</td>\n",
       "      <td>[]</td>\n",
       "      <td>[]</td>\n",
       "    </tr>\n",
       "  </tbody>\n",
       "</table>\n",
       "</div>"
      ],
      "text/plain": [
       "                id                                         name  \\\n",
       "0        analyst11                                   ESG scores   \n",
       "2        analyst15                           Earnings forecasts   \n",
       "3        analyst16                          Real Time Estimates   \n",
       "5        analyst39         Analyst estimates & financial ratios   \n",
       "6         analyst4             Analyst Estimate Data for Equity   \n",
       "8        analyst44                             Broker Estimates   \n",
       "9        analyst46              Analyst Investment insight Data   \n",
       "10       analyst47  Alternative Analyst Investment Insight Data   \n",
       "11       analyst48                     Dividend estimation data   \n",
       "12       analyst69                Fundamental Analyst Estimates   \n",
       "13        analyst9                  Analyst Estimate Daily Data   \n",
       "14       earnings3                           Earnings Date Data   \n",
       "18   fundamental17                      Direct Fundamental Data   \n",
       "22   fundamental28                      Global Fundamental Data   \n",
       "24   fundamental44                    Accounting Quality Models   \n",
       "29         macro10                  Macroeconomic Research data   \n",
       "31        model106                        Analysts rating model   \n",
       "32        model109  Fundamentals and Technical Indicators Model   \n",
       "33        model110    Big data and machine learning based model   \n",
       "39         model26                            Analyst Revisions   \n",
       "40         model29                        EBITDA Estimate Model   \n",
       "41         model30                           EPS Estimate Model   \n",
       "42         model32                         Price Momentum Model   \n",
       "43         model33                       Revenue Estimate Model   \n",
       "44         model38                       Growth Valuation Model   \n",
       "46         model53          Creditworthiness Risk Measure Model   \n",
       "47         model56                           Stock Reports Plus   \n",
       "48         model77                       Analysts' Factor Model   \n",
       "49          news20              Web Sources News Sentiment Data   \n",
       "53          news54                          Newa analystic data   \n",
       "54          news66                      Webpage View Statistics   \n",
       "55          news76                       Textual News Feed Data   \n",
       "58        other176                     Nonlinear adaptive model   \n",
       "61        other432               DNN prediction of fundamentals   \n",
       "63        other455             Relationship enhanced with AI/ML   \n",
       "64        other460   Predictive data using Deep Learning models   \n",
       "66         other54            Quantitative Stock Selection Data   \n",
       "69             pv1                 Price Volume Data for Equity   \n",
       "70            pv13                 Relationship Data for Equity   \n",
       "72            pv29              Derived Industry Classification   \n",
       "73            pv30            Alternate Industry Classification   \n",
       "74            pv53                            Index Market Data   \n",
       "75            pv96                     Corporate Action Dataset   \n",
       "76          risk60              Securities Lending Insight Data   \n",
       "78  shortinterest6                          SmartHoldings Model   \n",
       "79  shortinterest7                          Short Selling Model   \n",
       "82           univ1                             Universe Dataset   \n",
       "\n",
       "                                          description       category  \\\n",
       "0   Environmental Social Governance scores that ex...        analyst   \n",
       "2   This dataset provides bottom-up forecast data ...        analyst   \n",
       "3   This dataset provides real-time access to the ...        analyst   \n",
       "5   This dataset provides a lot of information on ...        analyst   \n",
       "6   This dataset provides details and aggregations...        analyst   \n",
       "8   This dataset integrates the detail estimates f...        analyst   \n",
       "9   The dataset incorporates the investment insigh...        analyst   \n",
       "10  The dataset incorporates the investment insigh...        analyst   \n",
       "11  Dividend estimation/history on general equity ...        analyst   \n",
       "12  This dataset is a type of analyst dataset that...        analyst   \n",
       "13                            estimation from analyst        analyst   \n",
       "14         financial report announce date information       earnings   \n",
       "18  This dataset contains information about variou...    fundamental   \n",
       "22  This is a global fundamental dataset providing...    fundamental   \n",
       "24  Machine learning based scores which contains i...    fundamental   \n",
       "29  The dataset includes historical time series da...          macro   \n",
       "31  The dataset provides ratings and evaluations r...          model   \n",
       "32  Alpha model. Normal distributed cross-sectiona...          model   \n",
       "33  Machine learning based scores which are catchi...          model   \n",
       "39  This dataset provides model scores based on an...          model   \n",
       "40  A company's earnings before interest, taxes, d...          model   \n",
       "41  Earnings per shareÃƒâ€šÃ‚Â (EPS) is a figure d...          model   \n",
       "42  This dataset provides multiple aspects of stoc...          model   \n",
       "43  Revenue is the money generated from normal bus...          model   \n",
       "44  This dataset is a stock ranking model that sor...          model   \n",
       "46  This dataset provides risk measures for public...          model   \n",
       "47  This dataset provides stock rating based on re...          model   \n",
       "48  Factor model dataset based on anaysts' evaluation          model   \n",
       "49  This dataset provides real-time structured sen...           news   \n",
       "53  This dataset provides access to events & news ...           news   \n",
       "54  The dataset is a collection of view statistics...           news   \n",
       "55  The dataset is composed of different subscript...           news   \n",
       "58  Global stock selection model completely driven...          other   \n",
       "61  Market implied values of commonly used fundame...          other   \n",
       "63  Grouping data. Generated using deep learning m...          other   \n",
       "64  Time series data prediction using deep learnin...          other   \n",
       "66  An quantitative stock selection model which ca...          other   \n",
       "69  A dataset containing price, volume, close, ope...             pv   \n",
       "70  The dataset outputs various classifications an...             pv   \n",
       "72  This is a statistical grouping data. The prefi...             pv   \n",
       "73  This is a statistical grouping data. The prefi...             pv   \n",
       "74      The dataset includes global Index market data             pv   \n",
       "75  This dataset looks at corporate events that ca...             pv   \n",
       "76  The dataset provides list of metrics, covering...           risk   \n",
       "78  This dataset is a global stock selection model...  shortinterest   \n",
       "79  The dataset combines features obtained from sh...  shortinterest   \n",
       "82                             No dataset description             pv   \n",
       "\n",
       "                        subcategory region  delay  universe  coverage  \\\n",
       "0                       analyst-esg    GLB      1  MINVOL1M    0.7917   \n",
       "2         analyst-analyst-estimates    GLB      1  MINVOL1M    0.9929   \n",
       "3    analyst-crowdsourced-estimates    GLB      1  MINVOL1M    0.9013   \n",
       "5                       analyst-esg    GLB      1  MINVOL1M    1.0000   \n",
       "6         analyst-analyst-estimates    GLB      1  MINVOL1M    0.7976   \n",
       "8    analyst-crowdsourced-estimates    GLB      1  MINVOL1M    0.8173   \n",
       "9    analyst-crowdsourced-estimates    GLB      1  MINVOL1M    0.7703   \n",
       "10   analyst-crowdsourced-estimates    GLB      1  MINVOL1M    0.8409   \n",
       "11        analyst-analyst-estimates    GLB      1  MINVOL1M    0.8096   \n",
       "12        analyst-analyst-estimates    GLB      1  MINVOL1M    0.9369   \n",
       "13        analyst-analyst-estimates    GLB      1  MINVOL1M    0.8834   \n",
       "14      earnings-earnings-estimates    GLB      1  MINVOL1M    0.9864   \n",
       "18     fundamental-fundamental-data    GLB      1  MINVOL1M    0.7816   \n",
       "22     fundamental-fundamental-data    GLB      1  MINVOL1M    0.7785   \n",
       "24   fundamental-fundamental-models    GLB      1  MINVOL1M    0.8863   \n",
       "29   macro-macroeconomic-activities    GLB      1  MINVOL1M    1.0000   \n",
       "31           model-estimates-models    GLB      1  MINVOL1M    0.7525   \n",
       "32           model-valuation-models    GLB      1  MINVOL1M    0.9140   \n",
       "33                model-mlai-models    GLB      1  MINVOL1M    0.9298   \n",
       "39           model-revisions-models    GLB      1  MINVOL1M    0.8454   \n",
       "40           model-estimates-models    GLB      1  MINVOL1M    0.7369   \n",
       "41           model-estimates-models    GLB      1  MINVOL1M    0.8187   \n",
       "42                 model-nlp-models    GLB      1  MINVOL1M    0.9746   \n",
       "43           model-estimates-models    GLB      1  MINVOL1M    0.8255   \n",
       "44           model-valuation-models    GLB      1  MINVOL1M    0.8963   \n",
       "46          model-risk-based-models    GLB      1  MINVOL1M    0.9371   \n",
       "47           model-valuation-models    GLB      1  MINVOL1M    0.7322   \n",
       "48           model-technical-models    GLB      1  MINVOL1M    0.8450   \n",
       "49              news-news-sentiment    GLB      1  MINVOL1M    0.8631   \n",
       "53              news-news-sentiment    GLB      1  MINVOL1M    0.7416   \n",
       "54              news-news-sentiment    GLB      1  MINVOL1M    0.7449   \n",
       "55                        news-news    GLB      1  MINVOL1M    1.0000   \n",
       "58                  other-aiml-data    GLB      1  MINVOL1M    0.9400   \n",
       "61                  other-aiml-data    GLB      1  MINVOL1M    0.7698   \n",
       "63                  other-aiml-data    GLB      1  MINVOL1M    0.8127   \n",
       "64                  other-aiml-data    GLB      1  MINVOL1M    1.0000   \n",
       "66                  other-aiml-data    GLB      1  MINVOL1M    0.9739   \n",
       "69                  pv-price-volume    GLB      1  MINVOL1M    1.0000   \n",
       "70                  pv-relationship    GLB      1  MINVOL1M    0.9152   \n",
       "72                  pv-price-volume    GLB      1  MINVOL1M    1.0000   \n",
       "73                  pv-price-volume    GLB      1  MINVOL1M    1.0000   \n",
       "74                  pv-price-volume    GLB      1  MINVOL1M    1.0000   \n",
       "75                  pv-price-volume    GLB      1  MINVOL1M    0.8715   \n",
       "76                 risk-risk-models    GLB      1  MINVOL1M    0.9911   \n",
       "78  shortinterest-short-sale-models    GLB      1  MINVOL1M    0.9711   \n",
       "79  shortinterest-short-sale-models    GLB      1  MINVOL1M    1.0000   \n",
       "82                  pv-price-volume    GLB      1  MINVOL1M    1.0000   \n",
       "\n",
       "   turnover  valueScore  userCount  alphaCount  fieldCount themes  \\\n",
       "0      None         3.0         52         220         197     []   \n",
       "2      None         2.0        128        1231         288     []   \n",
       "3      None         2.0         93         461          42     []   \n",
       "5      None         3.0         41          80           5     []   \n",
       "6      None         3.0         29          75          18     []   \n",
       "8      None         4.0         37         107         115     []   \n",
       "9      None         3.0         34          61           5     []   \n",
       "10     None         2.0         50         149           5     []   \n",
       "11     None         3.0         43          77          38     []   \n",
       "12     None         2.0        177        1135         324     []   \n",
       "13     None         4.0         25          60          69     []   \n",
       "14     None         2.0         51         182           4     []   \n",
       "18     None         2.0        184         970         733     []   \n",
       "22     None         2.0        161        1218         929     []   \n",
       "24     None         3.0         51         177          12     []   \n",
       "29     None         2.0         27         200           1     []   \n",
       "31     None         2.0         53         311          14     []   \n",
       "32     None         2.0        218        2382         271     []   \n",
       "33     None         1.0        292        4603           8     []   \n",
       "39     None         1.0        313        4797         124     []   \n",
       "40     None         2.0        120         842          14     []   \n",
       "41     None         1.0        203        1177          14     []   \n",
       "42     None         1.0         67         169           6     []   \n",
       "43     None         1.0        179         647          14     []   \n",
       "44     None         1.0        247        2258          57     []   \n",
       "46     None         2.0         37         150          10     []   \n",
       "47     None         2.0         48         125          10     []   \n",
       "48     None         2.0        283        4050         536     []   \n",
       "49     None         3.0         20         202          24     []   \n",
       "53     None         4.0          3           3           5     []   \n",
       "54     None         4.0          3           6           2     []   \n",
       "55     None         4.0          1           6           1     []   \n",
       "58     None         2.0        339        7818          20     []   \n",
       "61     None         3.0         51         284         345     []   \n",
       "63     None         4.0        103        1021        1500     []   \n",
       "64     None         3.0        245        3868        1171     []   \n",
       "66     None         3.0         50         131           4     []   \n",
       "69     None         1.0        683       34367          18     []   \n",
       "70     None         2.0         72         905          29     []   \n",
       "72     None         2.0         10          48           5     []   \n",
       "73     None         4.0          4           9          20     []   \n",
       "74     None         2.0         46         223           9     []   \n",
       "75     None         2.0         60         246          21     []   \n",
       "76     None         3.0         27         144           4     []   \n",
       "78     None         2.0         79         295          11     []   \n",
       "79     None         2.0         53         271          16     []   \n",
       "82     None         4.0          1           3           2     []   \n",
       "\n",
       "                                       researchPapers  \n",
       "0   [{'title': 'Research Paper 19: ESG Preference,...  \n",
       "2                                                  []  \n",
       "3                                                  []  \n",
       "5                                                  []  \n",
       "6   [{'title': 'Research Paper 46: Time-Series and...  \n",
       "8                                                  []  \n",
       "9   [{'title': 'Research Paper 68: An Augmented q-...  \n",
       "10                                                 []  \n",
       "11                                                 []  \n",
       "12                                                 []  \n",
       "13  [{'title': 'Research Paper 33: Using Abnormal ...  \n",
       "14                                                 []  \n",
       "18  [{'title': 'Research Paper 06: The Unintended ...  \n",
       "22                                                 []  \n",
       "24                                                 []  \n",
       "29                                                 []  \n",
       "31  [{'title': 'Research Paper 03: Currency and St...  \n",
       "32  [{'title': 'Research Paper 30: Downside Beta a...  \n",
       "33                                                 []  \n",
       "39                                                 []  \n",
       "40                                                 []  \n",
       "41  [{'title': 'Research Paper 27: Earnings Uncert...  \n",
       "42                                                 []  \n",
       "43                                                 []  \n",
       "44                                                 []  \n",
       "46                                                 []  \n",
       "47  [{'title': 'Research Paper 33: Using Abnormal ...  \n",
       "48  [{'title': 'Research Paper 16: First Impressio...  \n",
       "49                                                 []  \n",
       "53                                                 []  \n",
       "54                                                 []  \n",
       "55                                                 []  \n",
       "58                                                 []  \n",
       "61                                                 []  \n",
       "63                                                 []  \n",
       "64                                                 []  \n",
       "66  [{'title': 'Research Paper 06: The Unintended ...  \n",
       "69  [{'title': 'Research Paper 03: Cross-Firm Info...  \n",
       "70                                                 []  \n",
       "72                                                 []  \n",
       "73                                                 []  \n",
       "74                                                 []  \n",
       "75                                                 []  \n",
       "76                                                 []  \n",
       "78                                                 []  \n",
       "79  [{'title': 'Research Paper 04: Strategic Rebal...  \n",
       "82                                                 []  "
      ]
     },
     "execution_count": 7,
     "metadata": {},
     "output_type": "execute_result"
    }
   ],
   "source": [
    "potential_datasets_df"
   ]
  },
  {
   "cell_type": "code",
   "execution_count": 8,
   "metadata": {},
   "outputs": [
    {
     "name": "stdout",
     "output_type": "stream",
     "text": [
      "Results for dataset fundamental7 already exist. Loading existing results...\n",
      "Processing fundamental7, Length: 105:\n"
     ]
    },
    {
     "name": "stderr",
     "output_type": "stream",
     "text": [
      "100%|██████████| 7/7 [11:31<00:00, 98.83s/it] \n",
      "100%|██████████| 7/7 [11:20<00:00, 97.19s/it] \n",
      "100%|██████████| 7/7 [11:03<00:00, 94.85s/it] \n"
     ]
    },
    {
     "name": "stdout",
     "output_type": "stream",
     "text": [
      "Warning, list of alphas too short, single concurrent simulations will be used instead of multisimulations\n"
     ]
    },
    {
     "name": "stderr",
     "output_type": "stream",
     "text": [
      "100%|██████████| 5/5 [04:14<00:00, 50.81s/it] \n"
     ]
    },
    {
     "name": "stdout",
     "output_type": "stream",
     "text": [
      "Results for dataset fundamental7 processed successfully.\n",
      "Processing fundamental72, Length: 524:\n"
     ]
    },
    {
     "name": "stderr",
     "output_type": "stream",
     "text": [
      " 14%|█▍        | 1/7 [01:01<06:07, 61.22s/it]"
     ]
    },
    {
     "name": "stdout",
     "output_type": "stream",
     "text": [
      "An error occurred\n"
     ]
    },
    {
     "name": "stderr",
     "output_type": "stream",
     "text": [
      " 29%|██▊       | 2/7 [01:03<02:13, 26.76s/it]"
     ]
    },
    {
     "name": "stdout",
     "output_type": "stream",
     "text": [
      "An error occurred\n"
     ]
    },
    {
     "name": "stderr",
     "output_type": "stream",
     "text": [
      " 43%|████▎     | 3/7 [01:19<01:27, 21.78s/it]"
     ]
    },
    {
     "name": "stdout",
     "output_type": "stream",
     "text": [
      "An error occurred\n"
     ]
    },
    {
     "name": "stderr",
     "output_type": "stream",
     "text": [
      " 57%|█████▋    | 4/7 [01:57<01:23, 27.92s/it]"
     ]
    },
    {
     "name": "stdout",
     "output_type": "stream",
     "text": [
      "An error occurred\n"
     ]
    },
    {
     "name": "stderr",
     "output_type": "stream",
     "text": [
      " 71%|███████▏  | 5/7 [02:18<00:51, 25.70s/it]"
     ]
    },
    {
     "name": "stdout",
     "output_type": "stream",
     "text": [
      "An error occurred\n"
     ]
    },
    {
     "name": "stderr",
     "output_type": "stream",
     "text": [
      " 86%|████████▌ | 6/7 [02:55<00:29, 29.37s/it]"
     ]
    },
    {
     "name": "stdout",
     "output_type": "stream",
     "text": [
      "An error occurred\n"
     ]
    },
    {
     "name": "stderr",
     "output_type": "stream",
     "text": [
      "100%|██████████| 7/7 [03:00<00:00, 25.84s/it]\n"
     ]
    },
    {
     "name": "stdout",
     "output_type": "stream",
     "text": [
      "An error occurred\n",
      "Error processing batch ['ts_zscore(fnd72_1_bs_gross_fix_asset,12)', 'ts_zscore(fnd72_1_bs_net_fix_asset,12)', 'ts_zscore(fnd72_bs_a_eqy_fund_crncy,12)', 'ts_zscore(fnd72_bs_a_fiscal_year_period,12)', 'ts_zscore(fnd72_bs_gross_fix_asset,12)', 'ts_zscore(fnd72_bs_net_fix_asset,12)', 'ts_zscore(fnd72_bs_q_eqy_fund_crncy,12)', 'ts_zscore(fnd72_bs_q_fiscal_year_period,12)', 'ts_zscore(fnd72_cf_a_eqy_fund_crncy,12)', 'ts_zscore(fnd72_cf_a_fiscal_year_period,12)', 'ts_zscore(fnd72_cf_disp_fix_asset,12)', 'ts_zscore(fnd72_cf_q_eqy_fund_crncy,12)', 'ts_zscore(fnd72_cf_q_fiscal_year_period,12)', 'ts_zscore(fnd72_is_a_eqy_fund_crncy,12)', 'ts_zscore(fnd72_is_a_fiscal_year_period,12)', 'ts_zscore(fnd72_is_q_eqy_fund_crncy,12)', 'ts_zscore(fnd72_is_q_fiscal_year_period,12)', 'ts_zscore(fnd72_pit_or_bs_a_announcement_dt,12)', 'ts_zscore(fnd72_pit_or_bs_a_bs_accrual,12)', 'ts_zscore(fnd72_pit_or_bs_a_bs_accrued_income_taxes,12)']: No objects to concatenate\n"
     ]
    },
    {
     "name": "stderr",
     "output_type": "stream",
     "text": [
      " 14%|█▍        | 1/7 [01:04<06:25, 64.32s/it]"
     ]
    },
    {
     "name": "stdout",
     "output_type": "stream",
     "text": [
      "An error occurred\n"
     ]
    },
    {
     "name": "stderr",
     "output_type": "stream",
     "text": [
      " 29%|██▊       | 2/7 [01:06<02:18, 27.77s/it]"
     ]
    },
    {
     "name": "stdout",
     "output_type": "stream",
     "text": [
      "An error occurred\n"
     ]
    },
    {
     "name": "stderr",
     "output_type": "stream",
     "text": [
      " 43%|████▎     | 3/7 [01:09<01:05, 16.29s/it]"
     ]
    },
    {
     "name": "stdout",
     "output_type": "stream",
     "text": [
      "An error occurred\n"
     ]
    },
    {
     "name": "stderr",
     "output_type": "stream",
     "text": [
      " 57%|█████▋    | 4/7 [02:20<01:54, 38.10s/it]"
     ]
    },
    {
     "name": "stdout",
     "output_type": "stream",
     "text": [
      "An error occurred\n"
     ]
    },
    {
     "name": "stderr",
     "output_type": "stream",
     "text": [
      " 71%|███████▏  | 5/7 [03:03<01:19, 39.68s/it]"
     ]
    },
    {
     "name": "stdout",
     "output_type": "stream",
     "text": [
      "An error occurred\n"
     ]
    },
    {
     "name": "stderr",
     "output_type": "stream",
     "text": [
      " 86%|████████▌ | 6/7 [03:05<00:26, 26.93s/it]"
     ]
    },
    {
     "name": "stdout",
     "output_type": "stream",
     "text": [
      "An error occurred\n"
     ]
    },
    {
     "name": "stderr",
     "output_type": "stream",
     "text": [
      "100%|██████████| 7/7 [04:14<00:00, 36.41s/it]\n"
     ]
    },
    {
     "name": "stdout",
     "output_type": "stream",
     "text": [
      "An error occurred\n",
      "Error processing batch ['ts_zscore(fnd72_pit_or_bs_a_bs_acct_note_rcv,12)', 'ts_zscore(fnd72_pit_or_bs_a_bs_acct_payable,12)', 'ts_zscore(fnd72_pit_or_bs_a_bs_accts_rec_excl_notes_rec,12)', 'ts_zscore(fnd72_pit_or_bs_a_bs_accum_depr,12)', 'ts_zscore(fnd72_pit_or_bs_a_bs_add_paid_in_cap,12)', 'ts_zscore(fnd72_pit_or_bs_a_bs_allow_doubtful_acc_rec,12)', 'ts_zscore(fnd72_pit_or_bs_a_bs_amt_of_tsy_stock,12)', 'ts_zscore(fnd72_pit_or_bs_a_bs_capital_reserve,12)', 'ts_zscore(fnd72_pit_or_bs_a_bs_cash_near_cash_item,12)', 'ts_zscore(fnd72_pit_or_bs_a_bs_common_stock,12)', 'ts_zscore(fnd72_pit_or_bs_a_bs_cur_asset_report,12)', 'ts_zscore(fnd72_pit_or_bs_a_bs_cur_liab,12)', 'ts_zscore(fnd72_pit_or_bs_a_bs_curr_rental_expense,12)', 'ts_zscore(fnd72_pit_or_bs_a_bs_def_tax_liab,12)', 'ts_zscore(fnd72_pit_or_bs_a_bs_disclosed_intangibles,12)', 'ts_zscore(fnd72_pit_or_bs_a_bs_future_min_oper_lease_oblig,12)', 'ts_zscore(fnd72_pit_or_bs_a_bs_goodwill,12)', 'ts_zscore(fnd72_pit_or_bs_a_bs_inventories,12)', 'ts_zscore(fnd72_pit_or_bs_a_bs_invest_in_assoc_co,12)', 'ts_zscore(fnd72_pit_or_bs_a_bs_lt_borrow,12)']: No objects to concatenate\n"
     ]
    },
    {
     "name": "stderr",
     "output_type": "stream",
     "text": [
      " 14%|█▍        | 1/7 [00:56<05:40, 56.67s/it]"
     ]
    },
    {
     "name": "stdout",
     "output_type": "stream",
     "text": [
      "An error occurred\n"
     ]
    },
    {
     "name": "stderr",
     "output_type": "stream",
     "text": [
      " 29%|██▊       | 2/7 [01:07<02:29, 29.94s/it]"
     ]
    },
    {
     "name": "stdout",
     "output_type": "stream",
     "text": [
      "An error occurred\n"
     ]
    },
    {
     "name": "stderr",
     "output_type": "stream",
     "text": [
      " 43%|████▎     | 3/7 [01:11<01:12, 18.02s/it]"
     ]
    },
    {
     "name": "stdout",
     "output_type": "stream",
     "text": [
      "An error occurred\n"
     ]
    },
    {
     "name": "stderr",
     "output_type": "stream",
     "text": [
      " 57%|█████▋    | 4/7 [02:08<01:39, 33.32s/it]"
     ]
    },
    {
     "name": "stdout",
     "output_type": "stream",
     "text": [
      "An error occurred\n"
     ]
    },
    {
     "name": "stderr",
     "output_type": "stream",
     "text": [
      " 71%|███████▏  | 5/7 [02:15<00:47, 23.88s/it]"
     ]
    },
    {
     "name": "stdout",
     "output_type": "stream",
     "text": [
      "An error occurred\n"
     ]
    },
    {
     "name": "stderr",
     "output_type": "stream",
     "text": [
      " 86%|████████▌ | 6/7 [02:17<00:16, 16.36s/it]"
     ]
    },
    {
     "name": "stdout",
     "output_type": "stream",
     "text": [
      "An error occurred\n"
     ]
    },
    {
     "name": "stderr",
     "output_type": "stream",
     "text": [
      "100%|██████████| 7/7 [03:12<00:00, 27.53s/it]\n"
     ]
    },
    {
     "name": "stdout",
     "output_type": "stream",
     "text": [
      "An error occurred\n",
      "Error processing batch ['ts_zscore(fnd72_pit_or_bs_a_bs_lt_invest,12)', 'ts_zscore(fnd72_pit_or_bs_a_bs_mkt_sec_other_st_invest,12)', 'ts_zscore(fnd72_pit_or_bs_a_bs_non_depr_decomm_fund,12)', 'ts_zscore(fnd72_pit_or_bs_a_bs_num_of_shareholders,12)', 'ts_zscore(fnd72_pit_or_bs_a_bs_options_granted,12)', 'ts_zscore(fnd72_pit_or_bs_a_bs_options_outstanding,12)', 'ts_zscore(fnd72_pit_or_bs_a_bs_other_asset_def_chng_other,12)', 'ts_zscore(fnd72_pit_or_bs_a_bs_other_cur_asset,12)', 'ts_zscore(fnd72_pit_or_bs_a_bs_other_cur_asset_less_prepay,12)', 'ts_zscore(fnd72_pit_or_bs_a_bs_other_cur_liab,12)', 'ts_zscore(fnd72_pit_or_bs_a_bs_other_lt_liabilities,12)', 'ts_zscore(fnd72_pit_or_bs_a_bs_other_st_liab,12)', 'ts_zscore(fnd72_pit_or_bs_a_bs_par_val,12)', 'ts_zscore(fnd72_pit_or_bs_a_bs_pension_rsrv,12)', 'ts_zscore(fnd72_pit_or_bs_a_bs_percent_of_foreign_ownership,12)', 'ts_zscore(fnd72_pit_or_bs_a_bs_pure_retained_earnings,12)', 'ts_zscore(fnd72_pit_or_bs_a_bs_rental_exp_beyond_year_5,12)', 'ts_zscore(fnd72_pit_or_bs_a_bs_rental_exp_year_1,12)', 'ts_zscore(fnd72_pit_or_bs_a_bs_rental_exp_year_2,12)', 'ts_zscore(fnd72_pit_or_bs_a_bs_rental_exp_year_3,12)']: No objects to concatenate\n"
     ]
    },
    {
     "name": "stderr",
     "output_type": "stream",
     "text": [
      " 14%|█▍        | 1/7 [00:56<05:37, 56.27s/it]"
     ]
    },
    {
     "name": "stdout",
     "output_type": "stream",
     "text": [
      "An error occurred\n"
     ]
    },
    {
     "name": "stderr",
     "output_type": "stream",
     "text": [
      " 29%|██▊       | 2/7 [00:58<02:02, 24.56s/it]"
     ]
    },
    {
     "name": "stdout",
     "output_type": "stream",
     "text": [
      "An error occurred\n"
     ]
    },
    {
     "name": "stderr",
     "output_type": "stream",
     "text": [
      " 43%|████▎     | 3/7 [01:00<00:57, 14.39s/it]"
     ]
    },
    {
     "name": "stdout",
     "output_type": "stream",
     "text": [
      "An error occurred\n"
     ]
    },
    {
     "name": "stderr",
     "output_type": "stream",
     "text": [
      " 57%|█████▋    | 4/7 [02:10<01:48, 36.18s/it]"
     ]
    },
    {
     "name": "stdout",
     "output_type": "stream",
     "text": [
      "An error occurred\n"
     ]
    },
    {
     "name": "stderr",
     "output_type": "stream",
     "text": [
      " 71%|███████▏  | 5/7 [02:18<00:51, 25.88s/it]"
     ]
    },
    {
     "name": "stdout",
     "output_type": "stream",
     "text": [
      "An error occurred\n"
     ]
    },
    {
     "name": "stderr",
     "output_type": "stream",
     "text": [
      " 86%|████████▌ | 6/7 [02:19<00:17, 17.44s/it]"
     ]
    },
    {
     "name": "stdout",
     "output_type": "stream",
     "text": [
      "An error occurred\n"
     ]
    },
    {
     "name": "stderr",
     "output_type": "stream",
     "text": [
      "100%|██████████| 7/7 [03:51<00:00, 33.03s/it]\n"
     ]
    },
    {
     "name": "stdout",
     "output_type": "stream",
     "text": [
      "An error occurred\n",
      "Error processing batch ['ts_zscore(fnd72_pit_or_bs_a_bs_rental_exp_year_4,12)', 'ts_zscore(fnd72_pit_or_bs_a_bs_rental_exp_year_5,12)', 'ts_zscore(fnd72_pit_or_bs_a_bs_retain_earn,12)', 'ts_zscore(fnd72_pit_or_bs_a_bs_sh_cap_and_apic,12)', 'ts_zscore(fnd72_pit_or_bs_a_bs_sh_out,12)', 'ts_zscore(fnd72_pit_or_bs_a_bs_st_borrow,12)', 'ts_zscore(fnd72_pit_or_bs_a_bs_st_debt,12)', 'ts_zscore(fnd72_pit_or_bs_a_bs_st_portion_of_lt_debt,12)', 'ts_zscore(fnd72_pit_or_bs_a_bs_tot_asset,12)', 'ts_zscore(fnd72_pit_or_bs_a_bs_tot_eqy,12)', 'ts_zscore(fnd72_pit_or_bs_a_bs_tot_liab_eqy,12)', 'ts_zscore(fnd72_pit_or_bs_a_bs_total_avail_line_of_credit,12)', 'ts_zscore(fnd72_pit_or_bs_a_bs_total_capital_leases,12)', 'ts_zscore(fnd72_pit_or_bs_a_bs_total_line_of_credit,12)', 'ts_zscore(fnd72_pit_or_bs_a_contingent_liabilities,12)', 'ts_zscore(fnd72_pit_or_bs_a_fundamental_entry_dt,12)', 'ts_zscore(fnd72_pit_or_bs_a_hs_yst_fo_mun_sb,12)', 'ts_zscore(fnd72_pit_or_bs_a_invtry_finished_goods,12)', 'ts_zscore(fnd72_pit_or_bs_a_invtry_in_progress,12)', 'ts_zscore(fnd72_pit_or_bs_a_invtry_raw_materials,12)']: No objects to concatenate\n"
     ]
    },
    {
     "name": "stderr",
     "output_type": "stream",
     "text": [
      " 14%|█▍        | 1/7 [01:01<06:08, 61.35s/it]"
     ]
    },
    {
     "name": "stdout",
     "output_type": "stream",
     "text": [
      "An error occurred\n"
     ]
    },
    {
     "name": "stderr",
     "output_type": "stream",
     "text": [
      " 29%|██▊       | 2/7 [01:03<02:13, 26.63s/it]"
     ]
    },
    {
     "name": "stdout",
     "output_type": "stream",
     "text": [
      "An error occurred\n"
     ]
    },
    {
     "name": "stderr",
     "output_type": "stream",
     "text": [
      " 43%|████▎     | 3/7 [01:07<01:04, 16.03s/it]"
     ]
    },
    {
     "name": "stdout",
     "output_type": "stream",
     "text": [
      "An error occurred\n"
     ]
    },
    {
     "name": "stderr",
     "output_type": "stream",
     "text": [
      " 57%|█████▋    | 4/7 [02:18<01:53, 37.78s/it]"
     ]
    },
    {
     "name": "stdout",
     "output_type": "stream",
     "text": [
      "An error occurred\n"
     ]
    },
    {
     "name": "stderr",
     "output_type": "stream",
     "text": [
      " 86%|████████▌ | 6/7 [02:21<00:16, 16.74s/it]"
     ]
    },
    {
     "name": "stdout",
     "output_type": "stream",
     "text": [
      "An error occurred\n",
      "An error occurred\n"
     ]
    },
    {
     "name": "stderr",
     "output_type": "stream",
     "text": [
      "100%|██████████| 7/7 [03:32<00:00, 30.37s/it]\n"
     ]
    },
    {
     "name": "stdout",
     "output_type": "stream",
     "text": [
      "An error occurred\n",
      "Error processing batch ['ts_zscore(fnd72_pit_or_bs_a_latest_period_end_dt_full_record,12)', 'ts_zscore(fnd72_pit_or_bs_a_lt_capital_lease_obligations,12)', 'ts_zscore(fnd72_pit_or_bs_a_minority_noncontrolling_interest,12)', 'ts_zscore(fnd72_pit_or_bs_a_st_capital_lease_obligations,12)', 'ts_zscore(fnd72_pit_or_bs_q_announcement_dt,12)', 'ts_zscore(fnd72_pit_or_bs_q_bs_accrual,12)', 'ts_zscore(fnd72_pit_or_bs_q_bs_accrued_income_taxes,12)', 'ts_zscore(fnd72_pit_or_bs_q_bs_acct_note_rcv,12)', 'ts_zscore(fnd72_pit_or_bs_q_bs_acct_payable,12)', 'ts_zscore(fnd72_pit_or_bs_q_bs_accts_rec_excl_notes_rec,12)', 'ts_zscore(fnd72_pit_or_bs_q_bs_accum_depr,12)', 'ts_zscore(fnd72_pit_or_bs_q_bs_add_paid_in_cap,12)', 'ts_zscore(fnd72_pit_or_bs_q_bs_allow_doubtful_acc_rec,12)', 'ts_zscore(fnd72_pit_or_bs_q_bs_amt_of_tsy_stock,12)', 'ts_zscore(fnd72_pit_or_bs_q_bs_capital_reserve,12)', 'ts_zscore(fnd72_pit_or_bs_q_bs_cash_near_cash_item,12)', 'ts_zscore(fnd72_pit_or_bs_q_bs_common_stock,12)', 'ts_zscore(fnd72_pit_or_bs_q_bs_cur_asset_report,12)', 'ts_zscore(fnd72_pit_or_bs_q_bs_cur_liab,12)', 'ts_zscore(fnd72_pit_or_bs_q_bs_def_tax_liab,12)']: No objects to concatenate\n"
     ]
    },
    {
     "name": "stderr",
     "output_type": "stream",
     "text": [
      " 14%|█▍        | 1/7 [01:09<06:56, 69.49s/it]"
     ]
    },
    {
     "name": "stdout",
     "output_type": "stream",
     "text": [
      "An error occurred\n"
     ]
    },
    {
     "name": "stderr",
     "output_type": "stream",
     "text": [
      " 29%|██▊       | 2/7 [01:16<02:44, 32.95s/it]"
     ]
    },
    {
     "name": "stdout",
     "output_type": "stream",
     "text": [
      "An error occurred\n"
     ]
    },
    {
     "name": "stderr",
     "output_type": "stream",
     "text": [
      " 43%|████▎     | 3/7 [01:17<01:12, 18.13s/it]"
     ]
    },
    {
     "name": "stdout",
     "output_type": "stream",
     "text": [
      "An error occurred\n"
     ]
    },
    {
     "name": "stderr",
     "output_type": "stream",
     "text": [
      " 71%|███████▏  | 5/7 [02:26<00:48, 24.44s/it]"
     ]
    },
    {
     "name": "stdout",
     "output_type": "stream",
     "text": [
      "An error occurred\n",
      "An error occurred\n"
     ]
    },
    {
     "name": "stderr",
     "output_type": "stream",
     "text": [
      " 86%|████████▌ | 6/7 [02:28<00:16, 16.92s/it]"
     ]
    },
    {
     "name": "stdout",
     "output_type": "stream",
     "text": [
      "An error occurred\n"
     ]
    },
    {
     "name": "stderr",
     "output_type": "stream",
     "text": [
      "100%|██████████| 7/7 [03:24<00:00, 29.26s/it]\n"
     ]
    },
    {
     "name": "stdout",
     "output_type": "stream",
     "text": [
      "An error occurred\n",
      "Error processing batch ['ts_zscore(fnd72_pit_or_bs_q_bs_disclosed_intangibles,12)', 'ts_zscore(fnd72_pit_or_bs_q_bs_future_min_oper_lease_oblig,12)', 'ts_zscore(fnd72_pit_or_bs_q_bs_goodwill,12)', 'ts_zscore(fnd72_pit_or_bs_q_bs_inventories,12)', 'ts_zscore(fnd72_pit_or_bs_q_bs_invest_in_assoc_co,12)', 'ts_zscore(fnd72_pit_or_bs_q_bs_lt_borrow,12)', 'ts_zscore(fnd72_pit_or_bs_q_bs_lt_invest,12)', 'ts_zscore(fnd72_pit_or_bs_q_bs_mkt_sec_other_st_invest,12)', 'ts_zscore(fnd72_pit_or_bs_q_bs_non_depr_decomm_fund,12)', 'ts_zscore(fnd72_pit_or_bs_q_bs_options_outstanding,12)', 'ts_zscore(fnd72_pit_or_bs_q_bs_other_asset_def_chng_other,12)', 'ts_zscore(fnd72_pit_or_bs_q_bs_other_cur_asset,12)', 'ts_zscore(fnd72_pit_or_bs_q_bs_other_cur_asset_less_prepay,12)', 'ts_zscore(fnd72_pit_or_bs_q_bs_other_cur_liab,12)', 'ts_zscore(fnd72_pit_or_bs_q_bs_other_lt_liabilities,12)', 'ts_zscore(fnd72_pit_or_bs_q_bs_other_st_liab,12)', 'ts_zscore(fnd72_pit_or_bs_q_bs_par_val,12)', 'ts_zscore(fnd72_pit_or_bs_q_bs_pension_rsrv,12)', 'ts_zscore(fnd72_pit_or_bs_q_bs_pure_retained_earnings,12)', 'ts_zscore(fnd72_pit_or_bs_q_bs_rental_exp_beyond_year_5,12)']: No objects to concatenate\n"
     ]
    },
    {
     "name": "stderr",
     "output_type": "stream",
     "text": [
      " 14%|█▍        | 1/7 [01:00<06:02, 60.41s/it]"
     ]
    },
    {
     "name": "stdout",
     "output_type": "stream",
     "text": [
      "An error occurred\n"
     ]
    },
    {
     "name": "stderr",
     "output_type": "stream",
     "text": [
      " 29%|██▊       | 2/7 [01:09<02:29, 29.97s/it]"
     ]
    },
    {
     "name": "stdout",
     "output_type": "stream",
     "text": [
      "An error occurred\n"
     ]
    },
    {
     "name": "stderr",
     "output_type": "stream",
     "text": [
      " 43%|████▎     | 3/7 [01:09<01:06, 16.60s/it]"
     ]
    },
    {
     "name": "stdout",
     "output_type": "stream",
     "text": [
      "An error occurred\n"
     ]
    },
    {
     "name": "stderr",
     "output_type": "stream",
     "text": [
      " 57%|█████▋    | 4/7 [02:14<01:47, 35.71s/it]"
     ]
    },
    {
     "name": "stdout",
     "output_type": "stream",
     "text": [
      "An error occurred\n"
     ]
    },
    {
     "name": "stderr",
     "output_type": "stream",
     "text": [
      " 71%|███████▏  | 5/7 [02:18<00:48, 24.08s/it]"
     ]
    },
    {
     "name": "stdout",
     "output_type": "stream",
     "text": [
      "An error occurred\n"
     ]
    },
    {
     "name": "stderr",
     "output_type": "stream",
     "text": [
      " 86%|████████▌ | 6/7 [02:23<00:17, 17.83s/it]"
     ]
    },
    {
     "name": "stdout",
     "output_type": "stream",
     "text": [
      "An error occurred\n"
     ]
    },
    {
     "name": "stderr",
     "output_type": "stream",
     "text": [
      "100%|██████████| 7/7 [03:34<00:00, 30.63s/it]\n"
     ]
    },
    {
     "name": "stdout",
     "output_type": "stream",
     "text": [
      "An error occurred\n",
      "Error processing batch ['ts_zscore(fnd72_pit_or_bs_q_bs_rental_exp_year_1,12)', 'ts_zscore(fnd72_pit_or_bs_q_bs_rental_exp_year_2,12)', 'ts_zscore(fnd72_pit_or_bs_q_bs_rental_exp_year_3,12)', 'ts_zscore(fnd72_pit_or_bs_q_bs_rental_exp_year_4,12)', 'ts_zscore(fnd72_pit_or_bs_q_bs_rental_exp_year_5,12)', 'ts_zscore(fnd72_pit_or_bs_q_bs_retain_earn,12)', 'ts_zscore(fnd72_pit_or_bs_q_bs_sh_cap_and_apic,12)', 'ts_zscore(fnd72_pit_or_bs_q_bs_sh_out,12)', 'ts_zscore(fnd72_pit_or_bs_q_bs_st_borrow,12)', 'ts_zscore(fnd72_pit_or_bs_q_bs_st_debt,12)', 'ts_zscore(fnd72_pit_or_bs_q_bs_st_portion_of_lt_debt,12)', 'ts_zscore(fnd72_pit_or_bs_q_bs_tot_asset,12)', 'ts_zscore(fnd72_pit_or_bs_q_bs_tot_eqy,12)', 'ts_zscore(fnd72_pit_or_bs_q_bs_tot_liab_eqy,12)', 'ts_zscore(fnd72_pit_or_bs_q_bs_total_avail_line_of_credit,12)', 'ts_zscore(fnd72_pit_or_bs_q_bs_total_capital_leases,12)', 'ts_zscore(fnd72_pit_or_bs_q_bs_total_line_of_credit,12)', 'ts_zscore(fnd72_pit_or_bs_q_contingent_liabilities,12)', 'ts_zscore(fnd72_pit_or_bs_q_fundamental_entry_dt,12)', 'ts_zscore(fnd72_pit_or_bs_q_hs_yst_fo_mun_sb,12)']: No objects to concatenate\n"
     ]
    },
    {
     "name": "stderr",
     "output_type": "stream",
     "text": [
      " 14%|█▍        | 1/7 [00:53<05:22, 53.78s/it]"
     ]
    },
    {
     "name": "stdout",
     "output_type": "stream",
     "text": [
      "An error occurred\n"
     ]
    },
    {
     "name": "stderr",
     "output_type": "stream",
     "text": [
      " 29%|██▊       | 2/7 [00:55<01:56, 23.34s/it]"
     ]
    },
    {
     "name": "stdout",
     "output_type": "stream",
     "text": [
      "An error occurred\n"
     ]
    },
    {
     "name": "stderr",
     "output_type": "stream",
     "text": [
      " 43%|████▎     | 3/7 [00:56<00:51, 12.96s/it]"
     ]
    },
    {
     "name": "stdout",
     "output_type": "stream",
     "text": [
      "An error occurred\n"
     ]
    },
    {
     "name": "stderr",
     "output_type": "stream",
     "text": [
      " 57%|█████▋    | 4/7 [01:55<01:33, 31.13s/it]"
     ]
    },
    {
     "name": "stdout",
     "output_type": "stream",
     "text": [
      "An error occurred\n"
     ]
    },
    {
     "name": "stderr",
     "output_type": "stream",
     "text": [
      " 71%|███████▏  | 5/7 [01:57<00:41, 20.79s/it]"
     ]
    },
    {
     "name": "stdout",
     "output_type": "stream",
     "text": [
      "An error occurred\n"
     ]
    },
    {
     "name": "stderr",
     "output_type": "stream",
     "text": [
      " 86%|████████▌ | 6/7 [02:05<00:16, 16.33s/it]"
     ]
    },
    {
     "name": "stdout",
     "output_type": "stream",
     "text": [
      "An error occurred\n"
     ]
    },
    {
     "name": "stderr",
     "output_type": "stream",
     "text": [
      "100%|██████████| 7/7 [03:12<00:00, 27.49s/it]\n"
     ]
    },
    {
     "name": "stdout",
     "output_type": "stream",
     "text": [
      "An error occurred\n",
      "Error processing batch ['ts_zscore(fnd72_pit_or_bs_q_invtry_finished_goods,12)', 'ts_zscore(fnd72_pit_or_bs_q_invtry_in_progress,12)', 'ts_zscore(fnd72_pit_or_bs_q_invtry_raw_materials,12)', 'ts_zscore(fnd72_pit_or_bs_q_latest_period_end_dt_full_record,12)', 'ts_zscore(fnd72_pit_or_bs_q_lt_capital_lease_obligations,12)', 'ts_zscore(fnd72_pit_or_bs_q_minority_noncontrolling_interest,12)', 'ts_zscore(fnd72_pit_or_cf_a_announcement_dt,12)', 'ts_zscore(fnd72_pit_or_cf_a_cf_acct_rcv_unbilled_rev,12)', 'ts_zscore(fnd72_pit_or_cf_a_cf_act_cash_paid_for_int_debt,12)', 'ts_zscore(fnd72_pit_or_cf_a_cf_cap_expend_prpty_add,12)', 'ts_zscore(fnd72_pit_or_cf_a_cf_cash_from_fnc_act,12)', 'ts_zscore(fnd72_pit_or_cf_a_cf_cash_from_inv_act,12)', 'ts_zscore(fnd72_pit_or_cf_a_cf_cash_from_oper,12)', 'ts_zscore(fnd72_pit_or_cf_a_cf_cash_paid_for_tax,12)', 'ts_zscore(fnd72_pit_or_cf_a_cf_change_in_inventories,12)', 'ts_zscore(fnd72_pit_or_cf_a_cf_chng_non_cash_work_cap,12)', 'ts_zscore(fnd72_pit_or_cf_a_cf_decr_cap_stock,12)', 'ts_zscore(fnd72_pit_or_cf_a_cf_decr_invest,12)', 'ts_zscore(fnd72_pit_or_cf_a_cf_def_inc_tax,12)', 'ts_zscore(fnd72_pit_or_cf_a_cf_def_of_fund,12)']: No objects to concatenate\n"
     ]
    },
    {
     "name": "stderr",
     "output_type": "stream",
     "text": [
      " 14%|█▍        | 1/7 [01:11<07:10, 71.68s/it]"
     ]
    },
    {
     "name": "stdout",
     "output_type": "stream",
     "text": [
      "An error occurred\n"
     ]
    },
    {
     "name": "stderr",
     "output_type": "stream",
     "text": [
      " 43%|████▎     | 3/7 [01:15<01:08, 17.20s/it]"
     ]
    },
    {
     "name": "stdout",
     "output_type": "stream",
     "text": [
      "An error occurred\n",
      "An error occurred\n"
     ]
    },
    {
     "name": "stderr",
     "output_type": "stream",
     "text": [
      " 57%|█████▋    | 4/7 [02:10<01:36, 32.09s/it]"
     ]
    },
    {
     "name": "stdout",
     "output_type": "stream",
     "text": [
      "An error occurred\n"
     ]
    },
    {
     "name": "stderr",
     "output_type": "stream",
     "text": [
      " 86%|████████▌ | 6/7 [02:13<00:14, 14.44s/it]"
     ]
    },
    {
     "name": "stdout",
     "output_type": "stream",
     "text": [
      "An error occurred\n",
      "An error occurred\n"
     ]
    },
    {
     "name": "stderr",
     "output_type": "stream",
     "text": [
      "100%|██████████| 7/7 [03:24<00:00, 29.22s/it]\n"
     ]
    },
    {
     "name": "stdout",
     "output_type": "stream",
     "text": [
      "An error occurred\n",
      "Error processing batch ['ts_zscore(fnd72_pit_or_cf_a_cf_depr_amort,12)', 'ts_zscore(fnd72_pit_or_cf_a_cf_form_of_statement,12)', 'ts_zscore(fnd72_pit_or_cf_a_cf_incr_cap_stock,12)', 'ts_zscore(fnd72_pit_or_cf_a_cf_incr_invest,12)', 'ts_zscore(fnd72_pit_or_cf_a_cf_incr_lt_borrow,12)', 'ts_zscore(fnd72_pit_or_cf_a_cf_incr_st_borrow,12)', 'ts_zscore(fnd72_pit_or_cf_a_cf_issue_com_stock,12)', 'ts_zscore(fnd72_pit_or_cf_a_cf_net_cash_paid_for_aquis,12)', 'ts_zscore(fnd72_pit_or_cf_a_cf_net_chg_st_invest,12)', 'ts_zscore(fnd72_pit_or_cf_a_cf_net_chng_cash,12)', 'ts_zscore(fnd72_pit_or_cf_a_cf_net_inc,12)', 'ts_zscore(fnd72_pit_or_cf_a_cf_other_fnc_act,12)', 'ts_zscore(fnd72_pit_or_cf_a_cf_other_inv_act,12)', 'ts_zscore(fnd72_pit_or_cf_a_cf_other_non_cash_adj_less,12)', 'ts_zscore(fnd72_pit_or_cf_a_cf_other_non_cash_adjust,12)', 'ts_zscore(fnd72_pit_or_cf_a_cf_reimb_lt_borrow,12)', 'ts_zscore(fnd72_pit_or_cf_a_fundamental_entry_dt,12)', 'ts_zscore(fnd72_pit_or_cf_a_latest_period_end_dt_full_record,12)', 'ts_zscore(fnd72_pit_or_cf_q_announcement_dt,12)', 'ts_zscore(fnd72_pit_or_cf_q_cf_acct_rcv_unbilled_rev,12)']: No objects to concatenate\n"
     ]
    },
    {
     "name": "stderr",
     "output_type": "stream",
     "text": [
      " 14%|█▍        | 1/7 [01:07<06:44, 67.43s/it]"
     ]
    },
    {
     "name": "stdout",
     "output_type": "stream",
     "text": [
      "An error occurred\n"
     ]
    },
    {
     "name": "stderr",
     "output_type": "stream",
     "text": [
      " 29%|██▊       | 2/7 [01:11<02:31, 30.37s/it]"
     ]
    },
    {
     "name": "stdout",
     "output_type": "stream",
     "text": [
      "An error occurred\n"
     ]
    },
    {
     "name": "stderr",
     "output_type": "stream",
     "text": [
      " 43%|████▎     | 3/7 [01:12<01:06, 16.70s/it]"
     ]
    },
    {
     "name": "stdout",
     "output_type": "stream",
     "text": [
      "An error occurred\n"
     ]
    },
    {
     "name": "stderr",
     "output_type": "stream",
     "text": [
      " 57%|█████▋    | 4/7 [02:06<01:33, 31.31s/it]"
     ]
    },
    {
     "name": "stdout",
     "output_type": "stream",
     "text": [
      "An error occurred\n"
     ]
    },
    {
     "name": "stderr",
     "output_type": "stream",
     "text": [
      " 71%|███████▏  | 5/7 [02:15<00:47, 23.61s/it]"
     ]
    },
    {
     "name": "stdout",
     "output_type": "stream",
     "text": [
      "An error occurred\n"
     ]
    },
    {
     "name": "stderr",
     "output_type": "stream",
     "text": [
      " 86%|████████▌ | 6/7 [02:19<00:16, 16.68s/it]"
     ]
    },
    {
     "name": "stdout",
     "output_type": "stream",
     "text": [
      "An error occurred\n"
     ]
    },
    {
     "name": "stderr",
     "output_type": "stream",
     "text": [
      "100%|██████████| 7/7 [02:59<00:00, 25.66s/it]\n"
     ]
    },
    {
     "name": "stdout",
     "output_type": "stream",
     "text": [
      "An error occurred\n",
      "Error processing batch ['ts_zscore(fnd72_pit_or_cf_q_cf_act_cash_paid_for_int_debt,12)', 'ts_zscore(fnd72_pit_or_cf_q_cf_cap_expend_prpty_add,12)', 'ts_zscore(fnd72_pit_or_cf_q_cf_cash_from_fnc_act,12)', 'ts_zscore(fnd72_pit_or_cf_q_cf_cash_from_inv_act,12)', 'ts_zscore(fnd72_pit_or_cf_q_cf_cash_from_oper,12)', 'ts_zscore(fnd72_pit_or_cf_q_cf_cash_paid_for_tax,12)', 'ts_zscore(fnd72_pit_or_cf_q_cf_change_in_inventories,12)', 'ts_zscore(fnd72_pit_or_cf_q_cf_chng_non_cash_work_cap,12)', 'ts_zscore(fnd72_pit_or_cf_q_cf_decr_cap_stock,12)', 'ts_zscore(fnd72_pit_or_cf_q_cf_decr_invest,12)', 'ts_zscore(fnd72_pit_or_cf_q_cf_def_inc_tax,12)', 'ts_zscore(fnd72_pit_or_cf_q_cf_def_of_fund,12)', 'ts_zscore(fnd72_pit_or_cf_q_cf_depr_amort,12)', 'ts_zscore(fnd72_pit_or_cf_q_cf_form_of_statement,12)', 'ts_zscore(fnd72_pit_or_cf_q_cf_incr_cap_stock,12)', 'ts_zscore(fnd72_pit_or_cf_q_cf_incr_invest,12)', 'ts_zscore(fnd72_pit_or_cf_q_cf_incr_lt_borrow,12)', 'ts_zscore(fnd72_pit_or_cf_q_cf_incr_st_borrow,12)', 'ts_zscore(fnd72_pit_or_cf_q_cf_issue_com_stock,12)', 'ts_zscore(fnd72_pit_or_cf_q_cf_net_cash_paid_for_aquis,12)']: No objects to concatenate\n"
     ]
    },
    {
     "name": "stderr",
     "output_type": "stream",
     "text": [
      " 14%|█▍        | 1/7 [01:24<08:28, 84.80s/it]"
     ]
    },
    {
     "name": "stdout",
     "output_type": "stream",
     "text": [
      "An error occurred\n"
     ]
    },
    {
     "name": "stderr",
     "output_type": "stream",
     "text": [
      " 43%|████▎     | 3/7 [01:25<01:17, 19.27s/it]"
     ]
    },
    {
     "name": "stdout",
     "output_type": "stream",
     "text": [
      "An error occurred\n",
      "An error occurred\n"
     ]
    },
    {
     "name": "stderr",
     "output_type": "stream",
     "text": [
      " 57%|█████▋    | 4/7 [02:34<01:56, 38.69s/it]"
     ]
    },
    {
     "name": "stdout",
     "output_type": "stream",
     "text": [
      "An error occurred\n"
     ]
    },
    {
     "name": "stderr",
     "output_type": "stream",
     "text": [
      " 71%|███████▏  | 5/7 [02:51<01:02, 31.09s/it]"
     ]
    },
    {
     "name": "stdout",
     "output_type": "stream",
     "text": [
      "An error occurred\n"
     ]
    },
    {
     "name": "stderr",
     "output_type": "stream",
     "text": [
      " 86%|████████▌ | 6/7 [02:53<00:21, 21.10s/it]"
     ]
    },
    {
     "name": "stdout",
     "output_type": "stream",
     "text": [
      "An error occurred\n"
     ]
    },
    {
     "name": "stderr",
     "output_type": "stream",
     "text": [
      "100%|██████████| 7/7 [03:38<00:00, 31.23s/it]\n"
     ]
    },
    {
     "name": "stdout",
     "output_type": "stream",
     "text": [
      "An error occurred\n",
      "Error processing batch ['ts_zscore(fnd72_pit_or_cf_q_cf_net_chng_cash,12)', 'ts_zscore(fnd72_pit_or_cf_q_cf_net_inc,12)', 'ts_zscore(fnd72_pit_or_cf_q_cf_other_fnc_act,12)', 'ts_zscore(fnd72_pit_or_cf_q_cf_other_inv_act,12)', 'ts_zscore(fnd72_pit_or_cf_q_cf_other_non_cash_adj_less,12)', 'ts_zscore(fnd72_pit_or_cf_q_cf_other_non_cash_adjust,12)', 'ts_zscore(fnd72_pit_or_cf_q_cf_reimb_lt_borrow,12)', 'ts_zscore(fnd72_pit_or_cf_q_fundamental_entry_dt,12)', 'ts_zscore(fnd72_pit_or_cf_q_latest_period_end_dt_full_record,12)', 'ts_zscore(fnd72_pit_or_is_a_announcement_dt,12)', 'ts_zscore(fnd72_pit_or_is_a_cni_tni_si,12)', 'ts_zscore(fnd72_pit_or_is_a_earn_for_common,12)', 'ts_zscore(fnd72_pit_or_is_a_ebit,12)', 'ts_zscore(fnd72_pit_or_is_a_ebitda,12)', 'ts_zscore(fnd72_pit_or_is_a_ebitdar,12)', 'ts_zscore(fnd72_pit_or_is_a_eff_int_rate,12)', 'ts_zscore(fnd72_pit_or_is_a_fundamental_entry_dt,12)', 'ts_zscore(fnd72_pit_or_is_a_inc_bef_xo_less_min_int_pref_dvd,12)', 'ts_zscore(fnd72_pit_or_is_a_is_abnormal_item,12)', 'ts_zscore(fnd72_pit_or_is_a_is_act_ret_loss_pension_plan_ast,12)']: No objects to concatenate\n"
     ]
    },
    {
     "name": "stderr",
     "output_type": "stream",
     "text": [
      " 14%|█▍        | 1/7 [01:09<06:55, 69.20s/it]"
     ]
    },
    {
     "name": "stdout",
     "output_type": "stream",
     "text": [
      "An error occurred\n"
     ]
    },
    {
     "name": "stderr",
     "output_type": "stream",
     "text": [
      " 29%|██▊       | 2/7 [01:09<02:24, 28.81s/it]"
     ]
    },
    {
     "name": "stdout",
     "output_type": "stream",
     "text": [
      "An error occurred\n"
     ]
    },
    {
     "name": "stderr",
     "output_type": "stream",
     "text": [
      " 43%|████▎     | 3/7 [01:19<01:20, 20.22s/it]"
     ]
    },
    {
     "name": "stdout",
     "output_type": "stream",
     "text": [
      "An error occurred\n"
     ]
    },
    {
     "name": "stderr",
     "output_type": "stream",
     "text": [
      " 57%|█████▋    | 4/7 [02:18<01:46, 35.62s/it]"
     ]
    },
    {
     "name": "stdout",
     "output_type": "stream",
     "text": [
      "An error occurred\n"
     ]
    },
    {
     "name": "stderr",
     "output_type": "stream",
     "text": [
      " 71%|███████▏  | 5/7 [02:23<00:48, 24.37s/it]"
     ]
    },
    {
     "name": "stdout",
     "output_type": "stream",
     "text": [
      "An error occurred\n"
     ]
    },
    {
     "name": "stderr",
     "output_type": "stream",
     "text": [
      " 86%|████████▌ | 6/7 [02:33<00:19, 19.67s/it]"
     ]
    },
    {
     "name": "stdout",
     "output_type": "stream",
     "text": [
      "An error occurred\n"
     ]
    },
    {
     "name": "stderr",
     "output_type": "stream",
     "text": [
      "100%|██████████| 7/7 [03:23<00:00, 29.08s/it]\n"
     ]
    },
    {
     "name": "stdout",
     "output_type": "stream",
     "text": [
      "An error occurred\n",
      "Error processing batch ['ts_zscore(fnd72_pit_or_is_a_is_adjusted_eps_as_reported,12)', 'ts_zscore(fnd72_pit_or_is_a_is_avg_num_sh_for_eps,12)', 'ts_zscore(fnd72_pit_or_is_a_is_basic_eps_cont_ops,12)', 'ts_zscore(fnd72_pit_or_is_a_is_benefits_paid_pension,12)', 'ts_zscore(fnd72_pit_or_is_a_is_cogs_to_fe_and_pp_and_g,12)', 'ts_zscore(fnd72_pit_or_is_a_is_comprehensive_income,12)', 'ts_zscore(fnd72_pit_or_is_a_is_comprehensive_income_per_shr,12)', 'ts_zscore(fnd72_pit_or_is_a_is_dil_eps_cont_ops,12)', 'ts_zscore(fnd72_pit_or_is_a_is_diluted_eps,12)', 'ts_zscore(fnd72_pit_or_is_a_is_disc_rate_pension_plan_liabs,12)', 'ts_zscore(fnd72_pit_or_is_a_is_div_per_shr,12)', 'ts_zscore(fnd72_pit_or_is_a_is_earn_bef_xo_items_per_sh,12)', 'ts_zscore(fnd72_pit_or_is_a_is_employer_contrib_pension,12)', 'ts_zscore(fnd72_pit_or_is_a_is_eqy_earn_from_invest_assoc,12)', 'ts_zscore(fnd72_pit_or_is_a_is_expected_return_pension,12)', 'ts_zscore(fnd72_pit_or_is_a_is_expected_return_plan_assets,12)', 'ts_zscore(fnd72_pit_or_is_a_is_expense_stock_based_comp,12)', 'ts_zscore(fnd72_pit_or_is_a_is_fair_value_plan_assets,12)', 'ts_zscore(fnd72_pit_or_is_a_is_foreign_crncy_trans_adj,12)', 'ts_zscore(fnd72_pit_or_is_a_is_foreign_exch_loss,12)']: No objects to concatenate\n"
     ]
    },
    {
     "name": "stderr",
     "output_type": "stream",
     "text": [
      " 14%|█▍        | 1/7 [01:03<06:23, 63.84s/it]"
     ]
    },
    {
     "name": "stdout",
     "output_type": "stream",
     "text": [
      "An error occurred\n"
     ]
    },
    {
     "name": "stderr",
     "output_type": "stream",
     "text": [
      " 29%|██▊       | 2/7 [01:04<02:13, 26.63s/it]"
     ]
    },
    {
     "name": "stdout",
     "output_type": "stream",
     "text": [
      "An error occurred\n"
     ]
    },
    {
     "name": "stderr",
     "output_type": "stream",
     "text": [
      " 43%|████▎     | 3/7 [01:07<01:03, 15.79s/it]"
     ]
    },
    {
     "name": "stdout",
     "output_type": "stream",
     "text": [
      "An error occurred\n"
     ]
    },
    {
     "name": "stderr",
     "output_type": "stream",
     "text": [
      " 57%|█████▋    | 4/7 [02:12<01:46, 35.41s/it]"
     ]
    },
    {
     "name": "stdout",
     "output_type": "stream",
     "text": [
      "An error occurred\n"
     ]
    },
    {
     "name": "stderr",
     "output_type": "stream",
     "text": [
      " 71%|███████▏  | 5/7 [02:13<00:45, 22.90s/it]"
     ]
    },
    {
     "name": "stdout",
     "output_type": "stream",
     "text": [
      "An error occurred\n"
     ]
    },
    {
     "name": "stderr",
     "output_type": "stream",
     "text": [
      " 86%|████████▌ | 6/7 [02:16<00:16, 16.29s/it]"
     ]
    },
    {
     "name": "stdout",
     "output_type": "stream",
     "text": [
      "An error occurred\n"
     ]
    },
    {
     "name": "stderr",
     "output_type": "stream",
     "text": [
      "100%|██████████| 7/7 [03:11<00:00, 27.34s/it]\n"
     ]
    },
    {
     "name": "stdout",
     "output_type": "stream",
     "text": [
      "An error occurred\n",
      "Error processing batch ['ts_zscore(fnd72_pit_or_is_a_is_inc_bef_xo_item,12)', 'ts_zscore(fnd72_pit_or_is_a_is_inc_tax_exp,12)', 'ts_zscore(fnd72_pit_or_is_a_is_int_expense,12)', 'ts_zscore(fnd72_pit_or_is_a_is_interest_cost_pension,12)', 'ts_zscore(fnd72_pit_or_is_a_is_interest_inc,12)', 'ts_zscore(fnd72_pit_or_is_a_is_invest_income,12)', 'ts_zscore(fnd72_pit_or_is_a_is_min_pension_liab_adj,12)', 'ts_zscore(fnd72_pit_or_is_a_is_net_inc_avail_com_shrhldrs,12)', 'ts_zscore(fnd72_pit_or_is_a_is_net_interest_expense,12)', 'ts_zscore(fnd72_pit_or_is_a_is_net_non_oper_loss,12)', 'ts_zscore(fnd72_pit_or_is_a_is_oper_inc,12)', 'ts_zscore(fnd72_pit_or_is_a_is_other_adj_comp_inc,12)', 'ts_zscore(fnd72_pit_or_is_a_is_over_underfund_pension_exp,12)', 'ts_zscore(fnd72_pit_or_is_a_is_pension_category_debt,12)', 'ts_zscore(fnd72_pit_or_is_a_is_pension_category_equities,12)', 'ts_zscore(fnd72_pit_or_is_a_is_pension_category_other,12)', 'ts_zscore(fnd72_pit_or_is_a_is_pension_expense_income,12)', 'ts_zscore(fnd72_pit_or_is_a_is_personnel_exp,12)', 'ts_zscore(fnd72_pit_or_is_a_is_projected_benefit_obligation,12)', 'ts_zscore(fnd72_pit_or_is_a_is_rate_of_comp_increase_pension,12)']: No objects to concatenate\n"
     ]
    },
    {
     "name": "stderr",
     "output_type": "stream",
     "text": [
      " 14%|█▍        | 1/7 [00:58<05:52, 58.74s/it]"
     ]
    },
    {
     "name": "stdout",
     "output_type": "stream",
     "text": [
      "An error occurred\n"
     ]
    },
    {
     "name": "stderr",
     "output_type": "stream",
     "text": [
      " 29%|██▊       | 2/7 [00:59<02:04, 24.86s/it]"
     ]
    },
    {
     "name": "stdout",
     "output_type": "stream",
     "text": [
      "An error occurred\n"
     ]
    },
    {
     "name": "stderr",
     "output_type": "stream",
     "text": [
      " 43%|████▎     | 3/7 [01:02<00:58, 14.52s/it]"
     ]
    },
    {
     "name": "stdout",
     "output_type": "stream",
     "text": [
      "An error occurred\n"
     ]
    },
    {
     "name": "stderr",
     "output_type": "stream",
     "text": [
      " 57%|█████▋    | 4/7 [02:02<01:38, 32.67s/it]"
     ]
    },
    {
     "name": "stdout",
     "output_type": "stream",
     "text": [
      "An error occurred\n"
     ]
    },
    {
     "name": "stderr",
     "output_type": "stream",
     "text": [
      " 71%|███████▏  | 5/7 [02:06<00:44, 22.44s/it]"
     ]
    },
    {
     "name": "stdout",
     "output_type": "stream",
     "text": [
      "An error occurred\n"
     ]
    },
    {
     "name": "stderr",
     "output_type": "stream",
     "text": [
      " 86%|████████▌ | 6/7 [02:11<00:16, 16.31s/it]"
     ]
    },
    {
     "name": "stdout",
     "output_type": "stream",
     "text": [
      "An error occurred\n"
     ]
    },
    {
     "name": "stderr",
     "output_type": "stream",
     "text": [
      "100%|██████████| 7/7 [02:53<00:00, 24.74s/it]\n"
     ]
    },
    {
     "name": "stdout",
     "output_type": "stream",
     "text": [
      "An error occurred\n",
      "Error processing batch ['ts_zscore(fnd72_pit_or_is_a_is_rd_expend,12)', 'ts_zscore(fnd72_pit_or_is_a_is_service_cost,12)', 'ts_zscore(fnd72_pit_or_is_a_is_sga_other_op_depr_op_maint,12)', 'ts_zscore(fnd72_pit_or_is_a_is_sh_for_diluted_eps,12)', 'ts_zscore(fnd72_pit_or_is_a_is_tax_eff_on_abnormal_item,12)', 'ts_zscore(fnd72_pit_or_is_a_is_tot_cash_com_dvd,12)', 'ts_zscore(fnd72_pit_or_is_a_is_trading_acct_prof,12)', 'ts_zscore(fnd72_pit_or_is_a_is_unrealized_gain_loss_comp_inc,12)', 'ts_zscore(fnd72_pit_or_is_a_is_xo_loss_bef_tax_eff,12)', 'ts_zscore(fnd72_pit_or_is_a_latest_period_end_dt_full_record,12)', 'ts_zscore(fnd72_pit_or_is_a_min_noncontrol_interest_credits,12)', 'ts_zscore(fnd72_pit_or_is_a_net_income,12)', 'ts_zscore(fnd72_pit_or_is_a_net_income_bef_mi,12)', 'ts_zscore(fnd72_pit_or_is_a_net_non_oper_loss,12)', 'ts_zscore(fnd72_pit_or_is_a_ox_feb_spe_lid_si,12)', 'ts_zscore(fnd72_pit_or_is_a_pretax_inc,12)', 'ts_zscore(fnd72_pit_or_is_a_pxe_rped_si,12)', 'ts_zscore(fnd72_pit_or_is_a_sales_rev_turn,12)', 'ts_zscore(fnd72_pit_or_is_a_spe_si,12)', 'ts_zscore(fnd72_pit_or_is_a_tot_int_exp,12)']: No objects to concatenate\n"
     ]
    },
    {
     "name": "stderr",
     "output_type": "stream",
     "text": [
      " 14%|█▍        | 1/7 [01:07<06:44, 67.43s/it]"
     ]
    },
    {
     "name": "stdout",
     "output_type": "stream",
     "text": [
      "An error occurred\n"
     ]
    },
    {
     "name": "stderr",
     "output_type": "stream",
     "text": [
      " 29%|██▊       | 2/7 [01:09<02:24, 28.97s/it]"
     ]
    },
    {
     "name": "stdout",
     "output_type": "stream",
     "text": [
      "An error occurred\n"
     ]
    },
    {
     "name": "stderr",
     "output_type": "stream",
     "text": [
      " 43%|████▎     | 3/7 [01:11<01:06, 16.69s/it]"
     ]
    },
    {
     "name": "stdout",
     "output_type": "stream",
     "text": [
      "An error occurred\n"
     ]
    },
    {
     "name": "stderr",
     "output_type": "stream",
     "text": [
      " 57%|█████▋    | 4/7 [02:29<02:02, 40.83s/it]"
     ]
    },
    {
     "name": "stdout",
     "output_type": "stream",
     "text": [
      "An error occurred\n"
     ]
    },
    {
     "name": "stderr",
     "output_type": "stream",
     "text": [
      " 71%|███████▏  | 5/7 [02:31<00:53, 26.98s/it]"
     ]
    },
    {
     "name": "stdout",
     "output_type": "stream",
     "text": [
      "An error occurred\n"
     ]
    },
    {
     "name": "stderr",
     "output_type": "stream",
     "text": [
      " 86%|████████▌ | 6/7 [02:47<00:23, 23.08s/it]"
     ]
    },
    {
     "name": "stdout",
     "output_type": "stream",
     "text": [
      "An error occurred\n"
     ]
    },
    {
     "name": "stderr",
     "output_type": "stream",
     "text": [
      "100%|██████████| 7/7 [03:25<00:00, 29.37s/it]\n"
     ]
    },
    {
     "name": "stdout",
     "output_type": "stream",
     "text": [
      "An error occurred\n",
      "Error processing batch ['ts_zscore(fnd72_pit_or_is_a_xo_gl_net_of_tax,12)', 'ts_zscore(fnd72_pit_or_is_q_announcement_dt,12)', 'ts_zscore(fnd72_pit_or_is_q_cni_tni_si,12)', 'ts_zscore(fnd72_pit_or_is_q_earn_for_common,12)', 'ts_zscore(fnd72_pit_or_is_q_ebit,12)', 'ts_zscore(fnd72_pit_or_is_q_ebitda,12)', 'ts_zscore(fnd72_pit_or_is_q_eff_int_rate,12)', 'ts_zscore(fnd72_pit_or_is_q_fundamental_entry_dt,12)', 'ts_zscore(fnd72_pit_or_is_q_inc_bef_xo_less_min_int_pref_dvd,12)', 'ts_zscore(fnd72_pit_or_is_q_is_abnormal_item,12)', 'ts_zscore(fnd72_pit_or_is_q_is_avg_num_sh_for_eps,12)', 'ts_zscore(fnd72_pit_or_is_q_is_basic_eps_cont_ops,12)', 'ts_zscore(fnd72_pit_or_is_q_is_cogs_to_fe_and_pp_and_g,12)', 'ts_zscore(fnd72_pit_or_is_q_is_comprehensive_income,12)', 'ts_zscore(fnd72_pit_or_is_q_is_comprehensive_income_per_shr,12)', 'ts_zscore(fnd72_pit_or_is_q_is_dil_eps_cont_ops,12)', 'ts_zscore(fnd72_pit_or_is_q_is_diluted_eps,12)', 'ts_zscore(fnd72_pit_or_is_q_is_div_per_shr,12)', 'ts_zscore(fnd72_pit_or_is_q_is_earn_bef_xo_items_per_sh,12)', 'ts_zscore(fnd72_pit_or_is_q_is_eqy_earn_from_invest_assoc,12)']: No objects to concatenate\n"
     ]
    },
    {
     "name": "stderr",
     "output_type": "stream",
     "text": [
      " 14%|█▍        | 1/7 [01:12<07:13, 72.29s/it]"
     ]
    },
    {
     "name": "stdout",
     "output_type": "stream",
     "text": [
      "An error occurred\n"
     ]
    },
    {
     "name": "stderr",
     "output_type": "stream",
     "text": [
      " 29%|██▊       | 2/7 [01:14<02:35, 31.07s/it]"
     ]
    },
    {
     "name": "stdout",
     "output_type": "stream",
     "text": [
      "An error occurred\n"
     ]
    },
    {
     "name": "stderr",
     "output_type": "stream",
     "text": [
      " 43%|████▎     | 3/7 [01:14<01:08, 17.07s/it]"
     ]
    },
    {
     "name": "stdout",
     "output_type": "stream",
     "text": [
      "An error occurred\n"
     ]
    },
    {
     "name": "stderr",
     "output_type": "stream",
     "text": [
      " 57%|█████▋    | 4/7 [02:13<01:40, 33.49s/it]"
     ]
    },
    {
     "name": "stdout",
     "output_type": "stream",
     "text": [
      "An error occurred\n",
      "An error occurred\n"
     ]
    },
    {
     "name": "stderr",
     "output_type": "stream",
     "text": [
      " 86%|████████▌ | 6/7 [02:18<00:16, 16.99s/it]"
     ]
    },
    {
     "name": "stdout",
     "output_type": "stream",
     "text": [
      "An error occurred\n"
     ]
    },
    {
     "name": "stderr",
     "output_type": "stream",
     "text": [
      "100%|██████████| 7/7 [03:01<00:00, 25.91s/it]\n"
     ]
    },
    {
     "name": "stdout",
     "output_type": "stream",
     "text": [
      "An error occurred\n",
      "Error processing batch ['ts_zscore(fnd72_pit_or_is_q_is_expense_stock_based_comp,12)', 'ts_zscore(fnd72_pit_or_is_q_is_fair_value_plan_assets,12)', 'ts_zscore(fnd72_pit_or_is_q_is_foreign_crncy_trans_adj,12)', 'ts_zscore(fnd72_pit_or_is_q_is_foreign_exch_loss,12)', 'ts_zscore(fnd72_pit_or_is_q_is_inc_bef_xo_item,12)', 'ts_zscore(fnd72_pit_or_is_q_is_inc_tax_exp,12)', 'ts_zscore(fnd72_pit_or_is_q_is_int_expense,12)', 'ts_zscore(fnd72_pit_or_is_q_is_interest_inc,12)', 'ts_zscore(fnd72_pit_or_is_q_is_invest_income,12)', 'ts_zscore(fnd72_pit_or_is_q_is_min_pension_liab_adj,12)', 'ts_zscore(fnd72_pit_or_is_q_is_net_inc_avail_com_shrhldrs,12)', 'ts_zscore(fnd72_pit_or_is_q_is_net_interest_expense,12)', 'ts_zscore(fnd72_pit_or_is_q_is_net_non_oper_loss,12)', 'ts_zscore(fnd72_pit_or_is_q_is_oper_inc,12)', 'ts_zscore(fnd72_pit_or_is_q_is_other_adj_comp_inc,12)', 'ts_zscore(fnd72_pit_or_is_q_is_over_underfund_pension_exp,12)', 'ts_zscore(fnd72_pit_or_is_q_is_projected_benefit_obligation,12)', 'ts_zscore(fnd72_pit_or_is_q_is_rd_expend,12)', 'ts_zscore(fnd72_pit_or_is_q_is_sga_other_op_depr_op_maint,12)', 'ts_zscore(fnd72_pit_or_is_q_is_sh_for_diluted_eps,12)']: No objects to concatenate\n"
     ]
    },
    {
     "name": "stderr",
     "output_type": "stream",
     "text": [
      " 14%|█▍        | 1/7 [02:11<13:06, 131.03s/it]"
     ]
    },
    {
     "name": "stdout",
     "output_type": "stream",
     "text": [
      "An error occurred\n",
      "An error occurred\n"
     ]
    },
    {
     "name": "stderr",
     "output_type": "stream",
     "text": [
      " 43%|████▎     | 3/7 [02:15<02:22, 35.73s/it] "
     ]
    },
    {
     "name": "stdout",
     "output_type": "stream",
     "text": [
      "An error occurred\n"
     ]
    },
    {
     "name": "stderr",
     "output_type": "stream",
     "text": [
      " 57%|█████▋    | 4/7 [03:12<02:08, 42.88s/it]"
     ]
    },
    {
     "name": "stdout",
     "output_type": "stream",
     "text": [
      "An error occurred\n"
     ]
    },
    {
     "name": "stderr",
     "output_type": "stream",
     "text": [
      " 71%|███████▏  | 5/7 [03:12<00:57, 28.89s/it]"
     ]
    },
    {
     "name": "stdout",
     "output_type": "stream",
     "text": [
      "An error occurred\n"
     ]
    },
    {
     "name": "stderr",
     "output_type": "stream",
     "text": [
      "100%|██████████| 7/7 [06:07<00:00, 52.56s/it]\n",
      "100%|██████████| 7/7 [10:39<00:00, 91.32s/it] \n",
      "100%|██████████| 7/7 [10:21<00:00, 88.74s/it] \n",
      "/Users/michaelxu/My_Document/Michael/金融/量化/WorldQuant/alpha_creation_engine-main/helpful_functions.py:31: FutureWarning: The behavior of DataFrame concatenation with empty or all-NA entries is deprecated. In a future version, this will no longer exclude empty or all-NA columns when determining the result dtypes. To retain the old behavior, exclude the relevant entries before the concat operation.\n",
      "  is_stats_df = pd.concat(list_of_is_stats).reset_index(drop=True)\n",
      "100%|██████████| 7/7 [11:14<00:00, 96.39s/it] \n",
      "/Users/michaelxu/My_Document/Michael/金融/量化/WorldQuant/alpha_creation_engine-main/helpful_functions.py:31: FutureWarning: The behavior of DataFrame concatenation with empty or all-NA entries is deprecated. In a future version, this will no longer exclude empty or all-NA columns when determining the result dtypes. To retain the old behavior, exclude the relevant entries before the concat operation.\n",
      "  is_stats_df = pd.concat(list_of_is_stats).reset_index(drop=True)\n",
      "100%|██████████| 7/7 [10:55<00:00, 93.59s/it] \n",
      "100%|██████████| 7/7 [10:55<00:00, 93.68s/it] \n",
      "100%|██████████| 7/7 [10:58<00:00, 94.05s/it] \n",
      "/Users/michaelxu/My_Document/Michael/金融/量化/WorldQuant/alpha_creation_engine-main/helpful_functions.py:31: FutureWarning: The behavior of DataFrame concatenation with empty or all-NA entries is deprecated. In a future version, this will no longer exclude empty or all-NA columns when determining the result dtypes. To retain the old behavior, exclude the relevant entries before the concat operation.\n",
      "  is_stats_df = pd.concat(list_of_is_stats).reset_index(drop=True)\n",
      "100%|██████████| 7/7 [09:22<00:00, 80.37s/it] \n",
      "/Users/michaelxu/My_Document/Michael/金融/量化/WorldQuant/alpha_creation_engine-main/helpful_functions.py:31: FutureWarning: The behavior of DataFrame concatenation with empty or all-NA entries is deprecated. In a future version, this will no longer exclude empty or all-NA columns when determining the result dtypes. To retain the old behavior, exclude the relevant entries before the concat operation.\n",
      "  is_stats_df = pd.concat(list_of_is_stats).reset_index(drop=True)\n",
      "100%|██████████| 7/7 [10:45<00:00, 92.29s/it] \n",
      "/Users/michaelxu/My_Document/Michael/金融/量化/WorldQuant/alpha_creation_engine-main/helpful_functions.py:31: FutureWarning: The behavior of DataFrame concatenation with empty or all-NA entries is deprecated. In a future version, this will no longer exclude empty or all-NA columns when determining the result dtypes. To retain the old behavior, exclude the relevant entries before the concat operation.\n",
      "  is_stats_df = pd.concat(list_of_is_stats).reset_index(drop=True)\n",
      "100%|██████████| 7/7 [10:48<00:00, 92.71s/it] \n",
      "/Users/michaelxu/My_Document/Michael/金融/量化/WorldQuant/alpha_creation_engine-main/helpful_functions.py:31: FutureWarning: The behavior of DataFrame concatenation with empty or all-NA entries is deprecated. In a future version, this will no longer exclude empty or all-NA columns when determining the result dtypes. To retain the old behavior, exclude the relevant entries before the concat operation.\n",
      "  is_stats_df = pd.concat(list_of_is_stats).reset_index(drop=True)\n"
     ]
    },
    {
     "name": "stdout",
     "output_type": "stream",
     "text": [
      "Warning, list of alphas too short, single concurrent simulations will be used instead of multisimulations\n"
     ]
    },
    {
     "name": "stderr",
     "output_type": "stream",
     "text": [
      "100%|██████████| 4/4 [03:28<00:00, 52.08s/it]\n"
     ]
    },
    {
     "name": "stdout",
     "output_type": "stream",
     "text": [
      "Results for dataset fundamental72 processed successfully.\n",
      "Processing macro27, Length: 23:\n"
     ]
    },
    {
     "name": "stderr",
     "output_type": "stream",
     "text": [
      " 14%|█▍        | 1/7 [00:58<05:52, 58.82s/it]"
     ]
    },
    {
     "name": "stdout",
     "output_type": "stream",
     "text": [
      "An error occurred\n"
     ]
    },
    {
     "name": "stderr",
     "output_type": "stream",
     "text": [
      " 29%|██▊       | 2/7 [01:03<02:16, 27.21s/it]"
     ]
    },
    {
     "name": "stdout",
     "output_type": "stream",
     "text": [
      "An error occurred\n"
     ]
    },
    {
     "name": "stderr",
     "output_type": "stream",
     "text": [
      " 43%|████▎     | 3/7 [01:09<01:09, 17.27s/it]"
     ]
    },
    {
     "name": "stdout",
     "output_type": "stream",
     "text": [
      "An error occurred\n"
     ]
    },
    {
     "name": "stderr",
     "output_type": "stream",
     "text": [
      " 57%|█████▋    | 4/7 [01:57<01:27, 29.29s/it]"
     ]
    },
    {
     "name": "stdout",
     "output_type": "stream",
     "text": [
      "An error occurred\n"
     ]
    },
    {
     "name": "stderr",
     "output_type": "stream",
     "text": [
      " 71%|███████▏  | 5/7 [02:15<00:50, 25.41s/it]"
     ]
    },
    {
     "name": "stdout",
     "output_type": "stream",
     "text": [
      "An error occurred\n"
     ]
    },
    {
     "name": "stderr",
     "output_type": "stream",
     "text": [
      " 86%|████████▌ | 6/7 [02:26<00:20, 20.47s/it]"
     ]
    },
    {
     "name": "stdout",
     "output_type": "stream",
     "text": [
      "An error occurred\n"
     ]
    },
    {
     "name": "stderr",
     "output_type": "stream",
     "text": [
      "100%|██████████| 7/7 [02:58<00:00, 25.46s/it]\n"
     ]
    },
    {
     "name": "stdout",
     "output_type": "stream",
     "text": [
      "An error occurred\n",
      "Error processing batch ['ts_zscore(mcr27_bigdrpbrksflag,12)', 'ts_zscore(mcr27_bucket_daily_ajnet,12)', 'ts_zscore(mcr27_bucket_daily_jobsactive,12)', 'ts_zscore(mcr27_bucket_daily_jobsactive_n,12)', 'ts_zscore(mcr27_bucket_daily_jobscreated,12)', 'ts_zscore(mcr27_bucket_daily_jobsremoved,12)', 'ts_zscore(mcr27_company_ajnet,12)', 'ts_zscore(mcr27_company_jobsactive,12)', 'ts_zscore(mcr27_company_jobsactive_n,12)', 'ts_zscore(mcr27_company_jobscreated,12)', 'ts_zscore(mcr27_company_jobsremoved,12)', 'ts_zscore(mcr27_companyidmap,12)', 'ts_zscore(mcr27_daily_jc_sdioc,12)', 'ts_zscore(mcr27_daily_jr_sdioc,12)', 'ts_zscore(mcr27_daily_postlength,12)', 'ts_zscore(mcr27_daily_sdioc,12)', 'ts_zscore(mcr27_normalizedflag,12)', 'ts_zscore(mcr27_postlength2,12)', 'ts_zscore(mcr27_verified_ds1,12)', 'ts_zscore(mcr27_verified_ds2,12)']: No objects to concatenate\n",
      "Warning, list of alphas too short, single concurrent simulations will be used instead of multisimulations\n"
     ]
    },
    {
     "name": "stderr",
     "output_type": "stream",
     "text": [
      "100%|██████████| 3/3 [00:54<00:00, 18.04s/it]\n"
     ]
    },
    {
     "name": "stdout",
     "output_type": "stream",
     "text": [
      "Error processing batch ['ts_zscore(mcr27_verified_ds3,12)', 'ts_zscore(mcr27_verified_ds4,12)', 'ts_zscore(mcr27_verified_ipo,12)']: No objects to concatenate\n",
      "Error processing dataset macro27: 'macro27'\n",
      "Processing model139, Length: 2:\n",
      "Warning, list of alphas too short, single concurrent simulations will be used instead of multisimulations\n"
     ]
    },
    {
     "name": "stderr",
     "output_type": "stream",
     "text": [
      "100%|██████████| 2/2 [01:04<00:00, 32.00s/it]\n"
     ]
    },
    {
     "name": "stdout",
     "output_type": "stream",
     "text": [
      "Error processing batch ['ts_zscore(mdl139_mktcap,12)', 'ts_zscore(mdl139_score,12)']: No objects to concatenate\n",
      "Error processing dataset model139: 'model139'\n",
      "Processing model16, Length: 8:\n",
      "Warning, list of alphas too short, single concurrent simulations will be used instead of multisimulations\n"
     ]
    },
    {
     "name": "stderr",
     "output_type": "stream",
     "text": [
      "100%|██████████| 8/8 [05:58<00:00, 44.86s/it] \n"
     ]
    },
    {
     "name": "stdout",
     "output_type": "stream",
     "text": [
      "Results for dataset model16 processed successfully.\n",
      "Processing model162, Length: 4:\n",
      "Warning, list of alphas too short, single concurrent simulations will be used instead of multisimulations\n"
     ]
    },
    {
     "name": "stderr",
     "output_type": "stream",
     "text": [
      "100%|██████████| 4/4 [03:28<00:00, 52.15s/it] \n"
     ]
    },
    {
     "name": "stdout",
     "output_type": "stream",
     "text": [
      "Results for dataset model162 processed successfully.\n",
      "Processing model176, Length: 36:\n"
     ]
    },
    {
     "name": "stderr",
     "output_type": "stream",
     "text": [
      " 14%|█▍        | 1/7 [00:45<04:31, 45.19s/it]"
     ]
    },
    {
     "name": "stdout",
     "output_type": "stream",
     "text": [
      "An error occurred\n"
     ]
    },
    {
     "name": "stderr",
     "output_type": "stream",
     "text": [
      " 29%|██▊       | 2/7 [00:50<01:48, 21.71s/it]"
     ]
    },
    {
     "name": "stdout",
     "output_type": "stream",
     "text": [
      "An error occurred\n"
     ]
    },
    {
     "name": "stderr",
     "output_type": "stream",
     "text": [
      " 43%|████▎     | 3/7 [00:51<00:48, 12.10s/it]"
     ]
    },
    {
     "name": "stdout",
     "output_type": "stream",
     "text": [
      "An error occurred\n"
     ]
    },
    {
     "name": "stderr",
     "output_type": "stream",
     "text": [
      " 57%|█████▋    | 4/7 [01:38<01:18, 26.02s/it]"
     ]
    },
    {
     "name": "stdout",
     "output_type": "stream",
     "text": [
      "An error occurred\n"
     ]
    },
    {
     "name": "stderr",
     "output_type": "stream",
     "text": [
      " 71%|███████▏  | 5/7 [01:44<00:37, 18.70s/it]"
     ]
    },
    {
     "name": "stdout",
     "output_type": "stream",
     "text": [
      "An error occurred\n"
     ]
    },
    {
     "name": "stderr",
     "output_type": "stream",
     "text": [
      " 86%|████████▌ | 6/7 [01:44<00:12, 12.59s/it]"
     ]
    },
    {
     "name": "stdout",
     "output_type": "stream",
     "text": [
      "An error occurred\n"
     ]
    },
    {
     "name": "stderr",
     "output_type": "stream",
     "text": [
      "100%|██████████| 7/7 [02:34<00:00, 22.05s/it]\n"
     ]
    },
    {
     "name": "stdout",
     "output_type": "stream",
     "text": [
      "An error occurred\n",
      "Error processing batch ['ts_zscore(mdl176_accountability,12)', 'ts_zscore(mdl176_board_diversity,12)', 'ts_zscore(mdl176_carbon_reductions,12)', 'ts_zscore(mdl176_ceo_comp_to_employee_comp,12)', 'ts_zscore(mdl176_community_development_investment,12)', 'ts_zscore(mdl176_compliance_and_regulation,12)', 'ts_zscore(mdl176_decision_making,12)', 'ts_zscore(mdl176_earth,12)', 'ts_zscore(mdl176_employee_access_to_stock_options,12)', 'ts_zscore(mdl176_employee_pay,12)', 'ts_zscore(mdl176_employee_retention,12)', 'ts_zscore(mdl176_employee_satisfaction,12)', 'ts_zscore(mdl176_energy_efficiency,12)', 'ts_zscore(mdl176_equality,12)', 'ts_zscore(mdl176_financials,12)', 'ts_zscore(mdl176_ghg_emissions,12)', 'ts_zscore(mdl176_health,12)', 'ts_zscore(mdl176_hip_reporting,12)', 'ts_zscore(mdl176_independence,12)', 'ts_zscore(mdl176_indm5,12)']: No objects to concatenate\n"
     ]
    },
    {
     "name": "stderr",
     "output_type": "stream",
     "text": [
      " 17%|█▋        | 1/6 [00:50<04:14, 50.95s/it]"
     ]
    },
    {
     "name": "stdout",
     "output_type": "stream",
     "text": [
      "An error occurred\n",
      "An error occurred\n"
     ]
    },
    {
     "name": "stderr",
     "output_type": "stream",
     "text": [
      " 50%|█████     | 3/6 [00:53<00:42, 14.21s/it]"
     ]
    },
    {
     "name": "stdout",
     "output_type": "stream",
     "text": [
      "An error occurred\n"
     ]
    },
    {
     "name": "stderr",
     "output_type": "stream",
     "text": [
      "100%|██████████| 6/6 [01:57<00:00, 19.56s/it]"
     ]
    },
    {
     "name": "stdout",
     "output_type": "stream",
     "text": [
      "An error occurred\n",
      "An error occurred\n",
      "Error processing batch ['ts_zscore(mdl176_job_safety,12)', 'ts_zscore(mdl176_management_practices,12)', 'ts_zscore(mdl176_metrics,12)', 'ts_zscore(mdl176_population_served,12)', 'ts_zscore(mdl176_renewable_power_usage,12)', 'ts_zscore(mdl176_reportyear,12)', 'ts_zscore(mdl176_score,12)', 'ts_zscore(mdl176_supplier_sourcing,12)', 'ts_zscore(mdl176_third_party_certifications,12)', 'ts_zscore(mdl176_trust,12)', 'ts_zscore(mdl176_vision,12)', 'ts_zscore(mdl176_waste_production,12)', 'ts_zscore(mdl176_water_usage,12)', 'ts_zscore(mdl176_wealth,12)', 'ts_zscore(mdl176_women_employees,12)', 'ts_zscore(mdl176_women_managers,12)']: No objects to concatenate\n",
      "Error processing dataset model176: 'model176'\n"
     ]
    },
    {
     "name": "stderr",
     "output_type": "stream",
     "text": [
      "\n"
     ]
    },
    {
     "name": "stdout",
     "output_type": "stream",
     "text": [
      "Processing model211, Length: 96:\n"
     ]
    },
    {
     "name": "stderr",
     "output_type": "stream",
     "text": [
      " 57%|█████▋    | 4/7 [08:29<06:15, 125.24s/it]"
     ]
    },
    {
     "name": "stdout",
     "output_type": "stream",
     "text": [
      "Complete biometrics authentication and press any key to continue: \n",
      "https://api.worldquantbrain.com/authentication/persona?inquiry=inq_o3WdY4EojQXsNBJuVBWpf5bGag8E\n",
      "\n"
     ]
    }
   ],
   "source": [
    "# 加载进度字典\n",
    "progress_file = get_progress_file(region, factor_expression)\n",
    "progress = load_progress(progress_file)\n",
    "\n",
    "\n",
    "# 过滤掉已完成的数据集，并保留在进度文件中标记为\"completed\"的数据集\n",
    "dataset_ids = [\n",
    "    dataset_id for dataset_id in datasets_df.id.values.tolist() \n",
    "    if str(dataset_id) not in progress or (isinstance(progress[str(dataset_id)], dict) and progress[str(dataset_id)].get(\"status\") == \"in_progress\")\n",
    "]\n",
    "batch_size = 15  # 每批处理的数据集数量\n",
    "batches = [dataset_ids[i:i + batch_size] for i in range(0, len(dataset_ids), batch_size)]\n",
    "\n",
    "\n",
    "def run_simulation():\n",
    "    for batch in batches:\n",
    "        for dataset_id in batch:\n",
    "            simulate_factors(dataset_id, progress, region, factor_expression)\n",
    "\n",
    "run_simulation()\n",
    " "
   ]
  },
  {
   "cell_type": "markdown",
   "metadata": {},
   "source": [
    "#### Step 3. 合并和分析结果"
   ]
  },
  {
   "cell_type": "code",
   "execution_count": null,
   "metadata": {},
   "outputs": [],
   "source": [
    "import glob\n",
    "\n",
    "def analyze_results(region, factor_expression):\n",
    "    directory = get_directory(region, factor_expression)\n",
    "    all_results = pd.concat([pd.read_csv(f) for f in glob.glob(os.path.join(directory, 'results_*.csv'))])\n",
    "\n",
    "    top_factors = all_results.sort_values(by='sharpe_ratio', ascending=False).head(10)\n",
    "    print(top_factors)\n",
    "    \n",
    "    return top_factors\n",
    "\n",
    "top_factors = analyze_results(region, factor_expression)\n",
    "\n",
    "# 读取所有结果文件\n",
    "all_results = pd.concat([pd.read_csv(f) for f in glob.glob('GLB_results_*.csv')])\n",
    "\n",
    "# 进一步分析合并后的结果\n",
    "# 例如筛选出表现最好的因子\n",
    "top_factors = all_results.sort_values(by='sharpe', ascending=False)\n",
    "top_factors\n"
   ]
  },
  {
   "cell_type": "markdown",
   "metadata": {},
   "source": [
    "### Change the expression - what would you do to improve alpha's results?\n",
    "<br>Use your own logic to improve the alphas.</br>\n",
    "<br>Here we will apply **group_rank** to overcome poor weight distribution.</br>"
   ]
  },
  {
   "cell_type": "code",
   "execution_count": null,
   "metadata": {},
   "outputs": [],
   "source": [
    "prospect_alphas = top_factors.loc[lambda x: x.fitness>0.2]['expression'].values\n",
    "prospect_alphas\n",
    "new_expression_list = ['group_rank(' + a + ',sector)' for a in prospect_alphas]\n",
    "new_expression_list"
   ]
  },
  {
   "cell_type": "code",
   "execution_count": null,
   "metadata": {},
   "outputs": [],
   "source": [
    "#generating new simulation data for new expressions\n",
    "\n",
    "new_alpha_list = [ace.generate_alpha(x, region= \"USA\", universe = \"TOP3000\",) for x in new_expression_list]\n",
    "\n",
    "new_result = ace.simulate_alpha_list_multi(s, new_alpha_list)"
   ]
  },
  {
   "cell_type": "code",
   "execution_count": null,
   "metadata": {},
   "outputs": [],
   "source": [
    "result_st2 = hf.prettify_result(new_result, clickable_alpha_id=False)\n",
    "result_st2"
   ]
  },
  {
   "cell_type": "code",
   "execution_count": null,
   "metadata": {},
   "outputs": [],
   "source": [
    "## We will join before and after dataframes by field\n",
    "\n",
    "top_factors['field'] = top_factors['expression'].apply(lambda st: st[st.find(\"(vec_avg(\")+1:st.find(\",\")]).copy()\n",
    "result_st2['field'] = result_st2['expression'].apply(lambda st: st[st.find(\"(vec_avg(\")+1:st.find(\",\")]).copy()\n",
    "\n",
    "#merging results before and after improvement\n",
    "\n",
    "compare_results = pd.merge(top_factors, result_st2, on='field', suffixes=('_before', '_after'))\n",
    "\n",
    "#selecting column list returned by merging the two alpha results\n",
    "\n",
    "col_list = ['fitness_before', 'fitness_after','sharpe_before', 'sharpe_after', 'alpha_id_before', 'alpha_id_after',\n",
    "                 'expression_before', 'expression_after']\n",
    "\n",
    "compare_results[col_list]\\\n",
    "    .style.format({'alpha_id_before': hf.make_clickable_alpha_id, 'alpha_id_after': hf.make_clickable_alpha_id})"
   ]
  },
  {
   "cell_type": "markdown",
   "metadata": {},
   "source": [
    "### Check merged alpha performance\n",
    "\n",
    "run the following code to do a before and after comparison of your merged pool post alpha submission"
   ]
  },
  {
   "cell_type": "code",
   "execution_count": null,
   "metadata": {},
   "outputs": [],
   "source": [
    "performance_comparison = ace.performance_comparison(s, result_st2['alpha_id'][0])"
   ]
  },
  {
   "cell_type": "markdown",
   "metadata": {},
   "source": [
    "#### Step 4. 提交和监控"
   ]
  },
  {
   "cell_type": "code",
   "execution_count": null,
   "metadata": {},
   "outputs": [],
   "source": [
    "#to take a look at the combined result of all new alphas\n",
    "\n",
    "is_tests_df = hf.concat_is_tests(new_result)\n",
    "#making a list of failed alphas\n",
    "failed_alphas = is_tests_df.query('result==\"FAIL\"')['alpha_id'].unique()\n",
    "\n",
    "#making a list of passed alphas\n",
    "passed_alphas = list(set(is_tests_df['alpha_id']).difference(failed_alphas))\n",
    "\n",
    "print(f'Failed alphas:{failed_alphas}\\nPassed alphas:{passed_alphas}')\n",
    "\n",
    "for alpha_id in passed_alphas:\n",
    "    submit_result = submit_alpha(s, alpha_id)\n",
    "    print(f'Alpha {alpha_id} submitted: {submit_result}')\n"
   ]
  },
  {
   "cell_type": "markdown",
   "metadata": {},
   "source": []
  }
 ],
 "metadata": {
  "kernelspec": {
   "display_name": "Python 3",
   "language": "python",
   "name": "python3"
  },
  "language_info": {
   "codemirror_mode": {
    "name": "ipython",
    "version": 3
   },
   "file_extension": ".py",
   "mimetype": "text/x-python",
   "name": "python",
   "nbconvert_exporter": "python",
   "pygments_lexer": "ipython3",
   "version": "3.9.5"
  }
 },
 "nbformat": 4,
 "nbformat_minor": 2
}
